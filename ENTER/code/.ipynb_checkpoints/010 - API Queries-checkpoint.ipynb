{
 "cells": [
  {
   "cell_type": "markdown",
   "id": "892990a3",
   "metadata": {},
   "source": [
    "# API Queries (Real-Time)"
   ]
  },
  {
   "cell_type": "markdown",
   "id": "21d56ef4",
   "metadata": {},
   "source": [
    "<br>"
   ]
  },
  {
   "cell_type": "markdown",
   "id": "ccb06faf",
   "metadata": {},
   "source": [
    "## 1) Links"
   ]
  },
  {
   "cell_type": "markdown",
   "id": "208f55e0",
   "metadata": {},
   "source": [
    "* https://sagecontinuum.github.io/sage-docs/docs/tutorials/accessing-data - main api directory directions\n",
    "* https://realpython.com/python-requests/ - explains python requests really well"
   ]
  },
  {
   "cell_type": "markdown",
   "id": "85c7fd63",
   "metadata": {},
   "source": [
    "<br>"
   ]
  },
  {
   "cell_type": "markdown",
   "id": "a2658c2e",
   "metadata": {},
   "source": [
    "## 2) Queries"
   ]
  },
  {
   "cell_type": "markdown",
   "id": "556c37c3",
   "metadata": {},
   "source": [
    "### - Query 1 -"
   ]
  },
  {
   "cell_type": "markdown",
   "id": "912d5783",
   "metadata": {},
   "source": [
    "``` \n",
    "As example, translate this curl to python requests form:\n",
    "    \n",
    "curl -H 'Content-Type: application/json' https://data.sagecontinuum.org/api/v1/query -d '\n",
    "{\n",
    "    \"start\": \"-10s\",\n",
    "    \"filter\": {\n",
    "        \"sensor\": \"bme680\"\n",
    "    }\n",
    "}\n",
    "'\n",
    "```"
   ]
  },
  {
   "cell_type": "markdown",
   "id": "2b5bbb6f",
   "metadata": {},
   "source": [
    "This example shows how to retrieve data the latest data from a specific sensor (you can adjust the start field if you do not get any recent data)"
   ]
  },
  {
   "cell_type": "markdown",
   "id": "3120ab1e",
   "metadata": {},
   "source": [
    "Query responses are provided as newline separated JSON records"
   ]
  },
  {
   "cell_type": "code",
   "execution_count": 1,
   "id": "da5ee83e",
   "metadata": {},
   "outputs": [],
   "source": [
    "\n",
    "import requests\n",
    "import json\n",
    "\n",
    "\n",
    "headers = {\n",
    "    'Content-Type': 'application/json',\n",
    "}\n",
    "\n",
    "data = ' { \"start\": \"-10s\", \"filter\": { \"sensor\": \"bme680\" } } '\n",
    "\n",
    "response = requests.post('https://data.sagecontinuum.org/api/v1/query', headers=headers, data=data)\n"
   ]
  },
  {
   "cell_type": "code",
   "execution_count": 2,
   "id": "e9bb2c4a",
   "metadata": {},
   "outputs": [
    {
     "name": "stdout",
     "output_type": "stream",
     "text": [
      "The original string : {\"Nikhil\" : 1, \"Akshat\" : 2, \"Akash\" : 3}\n",
      "The converted dictionary : {'Nikhil': 1, 'Akshat': 2, 'Akash': 3}\n"
     ]
    }
   ],
   "source": [
    "\n",
    "# you will need something like this if you want to process and json encoding not working ! \n",
    "\n",
    "# Python3 code to demonstrate\n",
    "# convert dictionary string to dictionary\n",
    "# using json.loads()\n",
    "import json\n",
    "  \n",
    "# initializing string \n",
    "test_string = '{\"Nikhil\" : 1, \"Akshat\" : 2, \"Akash\" : 3}' \n",
    "  \n",
    "# printing original string \n",
    "print(\"The original string : \" + str(test_string))\n",
    "  \n",
    "# using json.loads()\n",
    "# convert dictionary string to dictionary\n",
    "res = json.loads(test_string)\n",
    "  \n",
    "# print result\n",
    "print(\"The converted dictionary : \" + str(res))\n"
   ]
  },
  {
   "cell_type": "code",
   "execution_count": 3,
   "id": "1b4fc4cb",
   "metadata": {},
   "outputs": [],
   "source": [
    "\n",
    "# dir(response)\n",
    "\n",
    "#  'apparent_encoding',\n",
    "#  'close',\n",
    "#  'connection',\n",
    "#  'content',\n",
    "#  'cookies',\n",
    "#  'elapsed',\n",
    "#  'encoding',\n",
    "#  'headers',\n",
    "#  'history',\n",
    "#  'is_permanent_redirect',\n",
    "#  'is_redirect',\n",
    "#  'iter_content',\n",
    "#  'iter_lines',\n",
    "#  'json',\n",
    "#  'links',\n",
    "#  'next',\n",
    "#  'ok',\n",
    "#  'raise_for_status',\n",
    "#  'raw',\n",
    "#  'reason',\n",
    "#  'request',\n",
    "#  'status_code',\n",
    "#  'text',\n",
    "#  'url'\n"
   ]
  },
  {
   "cell_type": "code",
   "execution_count": 4,
   "id": "4403b0d0",
   "metadata": {},
   "outputs": [
    {
     "data": {
      "text/plain": [
       "'https://data.sagecontinuum.org/api/v1/query'"
      ]
     },
     "execution_count": 4,
     "metadata": {},
     "output_type": "execute_result"
    }
   ],
   "source": [
    "response.url"
   ]
  },
  {
   "cell_type": "code",
   "execution_count": 5,
   "id": "fae72912",
   "metadata": {},
   "outputs": [
    {
     "data": {
      "text/plain": [
       "{'Access-Control-Allow-Origin': '*', 'Content-Disposition': 'attachment; filename=\"sage-download-20210917170247.ndjson\"', 'Content-Encoding': 'gzip', 'Content-Type': 'text/plain; charset=utf-8', 'Date': 'Fri, 17 Sep 2021 17:02:47 GMT', 'Vary': 'Accept-Encoding', 'Content-Length': '249'}"
      ]
     },
     "execution_count": 5,
     "metadata": {},
     "output_type": "execute_result"
    }
   ],
   "source": [
    "response.headers"
   ]
  },
  {
   "cell_type": "code",
   "execution_count": 6,
   "id": "67a94476",
   "metadata": {},
   "outputs": [
    {
     "data": {
      "text/plain": [
       "b'{\"timestamp\":\"2021-09-17T17:02:44.389653205Z\",\"name\":\"iio.in_humidityrelative_input\",\"value\":27.047,\"meta\":{\"node\":\"000048b02d15bdcd\",\"plugin\":\"plugin-metsense:0.1.1\",\"sensor\":\"bme680\",\"vsn\":\"W029\"}}\\n{\"timestamp\":\"2021-09-17T17:02:44.386826236Z\",\"name\":\"iio.in_pressure_input\",\"value\":861.54,\"meta\":{\"node\":\"000048b02d15bdcd\",\"plugin\":\"plugin-metsense:0.1.1\",\"sensor\":\"bme680\",\"vsn\":\"W029\"}}\\n{\"timestamp\":\"2021-09-17T17:02:44.382260181Z\",\"name\":\"iio.in_resistance_input\",\"value\":115358,\"meta\":{\"node\":\"000048b02d15bdcd\",\"plugin\":\"plugin-metsense:0.1.1\",\"sensor\":\"bme680\",\"vsn\":\"W029\"}}\\n{\"timestamp\":\"2021-09-17T17:02:44.384289166Z\",\"name\":\"iio.in_temp_input\",\"value\":28680,\"meta\":{\"node\":\"000048b02d15bdcd\",\"plugin\":\"plugin-metsense:0.1.1\",\"sensor\":\"bme680\",\"vsn\":\"W029\"}}\\n'"
      ]
     },
     "execution_count": 6,
     "metadata": {},
     "output_type": "execute_result"
    }
   ],
   "source": [
    "response.content"
   ]
  },
  {
   "cell_type": "code",
   "execution_count": 7,
   "id": "d8706a4e",
   "metadata": {
    "scrolled": false
   },
   "outputs": [
    {
     "data": {
      "text/plain": [
       "'{\"timestamp\":\"2021-09-17T17:02:44.389653205Z\",\"name\":\"iio.in_humidityrelative_input\",\"value\":27.047,\"meta\":{\"node\":\"000048b02d15bdcd\",\"plugin\":\"plugin-metsense:0.1.1\",\"sensor\":\"bme680\",\"vsn\":\"W029\"}}\\n{\"timestamp\":\"2021-09-17T17:02:44.386826236Z\",\"name\":\"iio.in_pressure_input\",\"value\":861.54,\"meta\":{\"node\":\"000048b02d15bdcd\",\"plugin\":\"plugin-metsense:0.1.1\",\"sensor\":\"bme680\",\"vsn\":\"W029\"}}\\n{\"timestamp\":\"2021-09-17T17:02:44.382260181Z\",\"name\":\"iio.in_resistance_input\",\"value\":115358,\"meta\":{\"node\":\"000048b02d15bdcd\",\"plugin\":\"plugin-metsense:0.1.1\",\"sensor\":\"bme680\",\"vsn\":\"W029\"}}\\n{\"timestamp\":\"2021-09-17T17:02:44.384289166Z\",\"name\":\"iio.in_temp_input\",\"value\":28680,\"meta\":{\"node\":\"000048b02d15bdcd\",\"plugin\":\"plugin-metsense:0.1.1\",\"sensor\":\"bme680\",\"vsn\":\"W029\"}}\\n'"
      ]
     },
     "execution_count": 7,
     "metadata": {},
     "output_type": "execute_result"
    }
   ],
   "source": [
    "response.text"
   ]
  },
  {
   "cell_type": "code",
   "execution_count": 8,
   "id": "b56bf0e2",
   "metadata": {},
   "outputs": [
    {
     "name": "stdout",
     "output_type": "stream",
     "text": [
      "<class 'bytes'>\n",
      "<class 'bytes'>\n",
      "<class 'bytes'>\n",
      "<class 'bytes'>\n"
     ]
    }
   ],
   "source": [
    "\n",
    "for line in response.iter_lines():\n",
    "    if line: print(type(line))\n",
    "        "
   ]
  },
  {
   "cell_type": "code",
   "execution_count": 9,
   "id": "e9109ddc",
   "metadata": {},
   "outputs": [
    {
     "name": "stdout",
     "output_type": "stream",
     "text": [
      "b'{\"timestamp\":\"2021-09-17T17:02:44.389653205Z\",\"name\":\"iio.in_humidityrelative_input\",\"value\":27.047,\"meta\":{\"node\":\"000048b02d15bdcd\",\"plugin\":\"plugin-metsense:0.1.1\",\"sensor\":\"bme680\",\"vsn\":\"W029\"}}'\n",
      "b'{\"timestamp\":\"2021-09-17T17:02:44.386826236Z\",\"name\":\"iio.in_pressure_input\",\"value\":861.54,\"meta\":{\"node\":\"000048b02d15bdcd\",\"plugin\":\"plugin-metsense:0.1.1\",\"sensor\":\"bme680\",\"vsn\":\"W029\"}}'\n",
      "b'{\"timestamp\":\"2021-09-17T17:02:44.382260181Z\",\"name\":\"iio.in_resistance_input\",\"value\":115358,\"meta\":{\"node\":\"000048b02d15bdcd\",\"plugin\":\"plugin-metsense:0.1.1\",\"sensor\":\"bme680\",\"vsn\":\"W029\"}}'\n",
      "b'{\"timestamp\":\"2021-09-17T17:02:44.384289166Z\",\"name\":\"iio.in_temp_input\",\"value\":28680,\"meta\":{\"node\":\"000048b02d15bdcd\",\"plugin\":\"plugin-metsense:0.1.1\",\"sensor\":\"bme680\",\"vsn\":\"W029\"}}'\n"
     ]
    }
   ],
   "source": [
    "\n",
    "for line in response.iter_lines():\n",
    "    if line: print (line)\n",
    "        "
   ]
  },
  {
   "cell_type": "code",
   "execution_count": 10,
   "id": "b40eb95b",
   "metadata": {},
   "outputs": [
    {
     "name": "stdout",
     "output_type": "stream",
     "text": [
      "{\"timestamp\":\"2021-09-17T17:02:44.389653205Z\",\"name\":\"iio.in_humidityrelative_input\",\"value\":27.047,\"meta\":{\"node\":\"000048b02d15bdcd\",\"plugin\":\"plugin-metsense:0.1.1\",\"sensor\":\"bme680\",\"vsn\":\"W029\"}}\n",
      "{\"timestamp\":\"2021-09-17T17:02:44.386826236Z\",\"name\":\"iio.in_pressure_input\",\"value\":861.54,\"meta\":{\"node\":\"000048b02d15bdcd\",\"plugin\":\"plugin-metsense:0.1.1\",\"sensor\":\"bme680\",\"vsn\":\"W029\"}}\n",
      "{\"timestamp\":\"2021-09-17T17:02:44.382260181Z\",\"name\":\"iio.in_resistance_input\",\"value\":115358,\"meta\":{\"node\":\"000048b02d15bdcd\",\"plugin\":\"plugin-metsense:0.1.1\",\"sensor\":\"bme680\",\"vsn\":\"W029\"}}\n",
      "{\"timestamp\":\"2021-09-17T17:02:44.384289166Z\",\"name\":\"iio.in_temp_input\",\"value\":28680,\"meta\":{\"node\":\"000048b02d15bdcd\",\"plugin\":\"plugin-metsense:0.1.1\",\"sensor\":\"bme680\",\"vsn\":\"W029\"}}\n"
     ]
    }
   ],
   "source": [
    "            \n",
    "encoding = 'utf-8'\n",
    "for line in response.iter_lines():\n",
    "    if line: print (line.decode(encoding))        \n"
   ]
  },
  {
   "cell_type": "code",
   "execution_count": 11,
   "id": "231d7037",
   "metadata": {},
   "outputs": [
    {
     "name": "stdout",
     "output_type": "stream",
     "text": [
      "{\"timestamp\":\"2021-09-17T17:02:44.389653205Z\",\"name\":\"iio.in_humidityrelative_input\",\"value\":27.047,\"meta\":{\"node\":\"000048b02d15bdcd\",\"plugin\":\"plugin-metsense:0.1.1\",\"sensor\":\"bme680\",\"vsn\":\"W029\"}}\n",
      "{\"timestamp\":\"2021-09-17T17:02:44.386826236Z\",\"name\":\"iio.in_pressure_input\",\"value\":861.54,\"meta\":{\"node\":\"000048b02d15bdcd\",\"plugin\":\"plugin-metsense:0.1.1\",\"sensor\":\"bme680\",\"vsn\":\"W029\"}}\n",
      "{\"timestamp\":\"2021-09-17T17:02:44.382260181Z\",\"name\":\"iio.in_resistance_input\",\"value\":115358,\"meta\":{\"node\":\"000048b02d15bdcd\",\"plugin\":\"plugin-metsense:0.1.1\",\"sensor\":\"bme680\",\"vsn\":\"W029\"}}\n",
      "{\"timestamp\":\"2021-09-17T17:02:44.384289166Z\",\"name\":\"iio.in_temp_input\",\"value\":28680,\"meta\":{\"node\":\"000048b02d15bdcd\",\"plugin\":\"plugin-metsense:0.1.1\",\"sensor\":\"bme680\",\"vsn\":\"W029\"}}\n"
     ]
    }
   ],
   "source": [
    "\n",
    "encoding = 'utf-8'\n",
    "for line in response.iter_lines():\n",
    "    if line: \n",
    "        line = line.decode(encoding)\n",
    "        # print(type(line))\n",
    "        print(line)\n",
    "        "
   ]
  },
  {
   "cell_type": "code",
   "execution_count": 12,
   "id": "cf14e249",
   "metadata": {},
   "outputs": [
    {
     "name": "stdout",
     "output_type": "stream",
     "text": [
      "{\"timestamp\":\"2021-09-17T17:02:44.389653205Z\",\"name\":\"iio.in_humidityrelative_input\",\"value\":27.047,\"meta\":{\"node\":\"000048b02d15bdcd\",\"plugin\":\"plugin-metsense:0.1.1\",\"sensor\":\"bme680\",\"vsn\":\"W029\"}}\n",
      "<class 'dict'>\n",
      "{\"timestamp\":\"2021-09-17T17:02:44.386826236Z\",\"name\":\"iio.in_pressure_input\",\"value\":861.54,\"meta\":{\"node\":\"000048b02d15bdcd\",\"plugin\":\"plugin-metsense:0.1.1\",\"sensor\":\"bme680\",\"vsn\":\"W029\"}}\n",
      "<class 'dict'>\n",
      "{\"timestamp\":\"2021-09-17T17:02:44.382260181Z\",\"name\":\"iio.in_resistance_input\",\"value\":115358,\"meta\":{\"node\":\"000048b02d15bdcd\",\"plugin\":\"plugin-metsense:0.1.1\",\"sensor\":\"bme680\",\"vsn\":\"W029\"}}\n",
      "<class 'dict'>\n",
      "{\"timestamp\":\"2021-09-17T17:02:44.384289166Z\",\"name\":\"iio.in_temp_input\",\"value\":28680,\"meta\":{\"node\":\"000048b02d15bdcd\",\"plugin\":\"plugin-metsense:0.1.1\",\"sensor\":\"bme680\",\"vsn\":\"W029\"}}\n",
      "<class 'dict'>\n"
     ]
    }
   ],
   "source": [
    "\n",
    "encoding = 'utf-8'\n",
    "for line in response.iter_lines():\n",
    "    if line: \n",
    "        line = line.decode(encoding)\n",
    "        # print(type(line))\n",
    "        print(line)\n",
    "        # using json.loads()\n",
    "        # convert dictionary string to dictionary\n",
    "        line = json.loads(line)\n",
    "        print(type(line))\n",
    "        "
   ]
  },
  {
   "cell_type": "code",
   "execution_count": 13,
   "id": "0474fbf8",
   "metadata": {},
   "outputs": [
    {
     "name": "stdout",
     "output_type": "stream",
     "text": [
      "dict_keys(['timestamp', 'name', 'value', 'meta'])\n",
      "dict_keys(['timestamp', 'name', 'value', 'meta'])\n",
      "dict_keys(['timestamp', 'name', 'value', 'meta'])\n",
      "dict_keys(['timestamp', 'name', 'value', 'meta'])\n"
     ]
    }
   ],
   "source": [
    "\n",
    "encoding = 'utf-8'\n",
    "for line in response.iter_lines():\n",
    "    if line:    \n",
    "        line = line.decode(encoding)\n",
    "        \n",
    "        # using json.loads()\n",
    "        # convert dictionary string to dictionary\n",
    "        line = json.loads(line)\n",
    "        print(line.keys())\n",
    "        "
   ]
  },
  {
   "cell_type": "code",
   "execution_count": 14,
   "id": "cd4de736",
   "metadata": {},
   "outputs": [
    {
     "name": "stdout",
     "output_type": "stream",
     "text": [
      "2021-09-17T17:02:44.389653205Z\n",
      "2021-09-17T17:02:44.386826236Z\n",
      "2021-09-17T17:02:44.382260181Z\n",
      "2021-09-17T17:02:44.384289166Z\n"
     ]
    }
   ],
   "source": [
    "\n",
    "encoding = 'utf-8'\n",
    "for line in response.iter_lines():\n",
    "    if line:    \n",
    "        line = line.decode(encoding)\n",
    "        \n",
    "        # using json.loads()\n",
    "        # convert dictionary string to dictionary\n",
    "        line = json.loads(line)\n",
    "        print(line['timestamp'])\n",
    "        "
   ]
  },
  {
   "cell_type": "code",
   "execution_count": 15,
   "id": "f17cbff2",
   "metadata": {},
   "outputs": [
    {
     "name": "stdout",
     "output_type": "stream",
     "text": [
      "2021-09-17T17:02:44.389653205Z   27.047\n",
      "2021-09-17T17:02:44.386826236Z   861.54\n",
      "2021-09-17T17:02:44.382260181Z   115358\n",
      "2021-09-17T17:02:44.384289166Z   28680\n"
     ]
    }
   ],
   "source": [
    "\n",
    "encoding = 'utf-8'\n",
    "for line in response.iter_lines():\n",
    "    if line:    \n",
    "        line = line.decode(encoding)\n",
    "        \n",
    "        # using json.loads()\n",
    "        # convert dictionary string to dictionary\n",
    "        line = json.loads(line)\n",
    "        print(line['timestamp'], \" \",  line['value'])\n",
    "        "
   ]
  },
  {
   "cell_type": "code",
   "execution_count": 16,
   "id": "b8637fed",
   "metadata": {},
   "outputs": [
    {
     "data": {
      "text/plain": [
       "<generator object Response.iter_lines at 0x0000025849A8A740>"
      ]
     },
     "execution_count": 16,
     "metadata": {},
     "output_type": "execute_result"
    }
   ],
   "source": [
    "response.iter_lines()"
   ]
  },
  {
   "cell_type": "markdown",
   "id": "3aa02f6c",
   "metadata": {},
   "source": [
    "<br><br>"
   ]
  },
  {
   "cell_type": "markdown",
   "id": "a2f2694d",
   "metadata": {},
   "source": [
    "### - Query 2 -"
   ]
  },
  {
   "cell_type": "markdown",
   "id": "fea7d209",
   "metadata": {},
   "source": [
    "``` \n",
    "import requests\n",
    "\n",
    "headers = {\n",
    "    'Content-Type': 'application/json',\n",
    "}\n",
    "\n",
    "data = '{ \"start\": \"2021-09-10T12:51:36.246454082Z\", \"end\":\"2021-09-10T13:51:36.246454082Z\", \"filter\": { \"name\":\"upload\", \"plugin\":\"imagesampler-left:0.2.3\" } }'\n",
    "\n",
    "response = requests.post('https://data.sagecontinuum.org/api/v1/query', headers=headers, data=data)\n",
    "\n",
    "```"
   ]
  },
  {
   "cell_type": "code",
   "execution_count": 17,
   "id": "46584511",
   "metadata": {},
   "outputs": [],
   "source": [
    "\n",
    "import requests\n",
    "\n",
    "headers = {\n",
    "    'Content-Type': 'application/json',\n",
    "}\n",
    "\n",
    "data = '{ \"start\": \"2021-09-10T12:51:36.246454082Z\", \"end\":\"2021-09-10T13:51:36.246454082Z\", \"filter\": { \"name\":\"upload\", \"plugin\":\"imagesampler-left:0.2.3\" } }'\n",
    "\n",
    "response = requests.post('https://data.sagecontinuum.org/api/v1/query', headers=headers, data=data)\n"
   ]
  },
  {
   "cell_type": "code",
   "execution_count": 18,
   "id": "0b8307f2",
   "metadata": {},
   "outputs": [
    {
     "name": "stdout",
     "output_type": "stream",
     "text": [
      "{\"timestamp\":\"2021-09-10T13:19:27.237651354Z\",\"name\":\"upload\",\"value\":\"https://storage.sagecontinuum.org/api/v1/data/sage/sage-imagesampler-left-0.2.3/000048b02d05a0a4/1631279967237651354-2021-09-10T13:19:26+0000.jpg\",\"meta\":{\"job\":\"sage\",\"node\":\"000048b02d05a0a4\",\"plugin\":\"imagesampler-left:0.2.3\",\"task\":\"imagesampler-left:0.2.3\"}}\n",
      "{\"timestamp\":\"2021-09-10T13:50:32.29028603Z\",\"name\":\"upload\",\"value\":\"https://storage.sagecontinuum.org/api/v1/data/sage/sage-imagesampler-left-0.2.3/000048b02d15bc3d/1631281832290286030-2021-09-10T13:50:32+0000.jpg\",\"meta\":{\"job\":\"sage\",\"node\":\"000048b02d15bc3d\",\"plugin\":\"imagesampler-left:0.2.3\",\"task\":\"imagesampler-left:0.2.3\"}}\n",
      "{\"timestamp\":\"2021-09-10T12:52:59.782262376Z\",\"name\":\"upload\",\"value\":\"https://storage.sagecontinuum.org/api/v1/data/sage/sage-imagesampler-left-0.2.3/000048b02d15bdc2/1631278379782262376-2021-09-10T12:52:59+0000.jpg\",\"meta\":{\"job\":\"sage\",\"node\":\"000048b02d15bdc2\",\"plugin\":\"imagesampler-left:0.2.3\",\"task\":\"imagesampler-left:0.2.3\"}}\n",
      "{\"timestamp\":\"2021-09-10T13:49:49.084350086Z\",\"name\":\"upload\",\"value\":\"https://storage.sagecontinuum.org/api/v1/data/sage/sage-imagesampler-left-0.2.3/000048b02d15bdd2/1631281789084350086-2021-09-10T13:49:48+0000.jpg\",\"meta\":{\"job\":\"sage\",\"node\":\"000048b02d15bdd2\",\"plugin\":\"imagesampler-left:0.2.3\",\"task\":\"imagesampler-left:0.2.3\"}}\n"
     ]
    }
   ],
   "source": [
    "\n",
    "encoding = 'utf-8'\n",
    "for line in response.iter_lines():\n",
    "    if line:    \n",
    "        line = line.decode(encoding)\n",
    "        print(line)\n",
    "        \n",
    "        # using json.loads()\n",
    "        # convert dictionary string to dictionary\n",
    "        #line = json.loads(line)\n",
    "        #print(line['timestamp'], \" \",  line['value'])\n",
    "        "
   ]
  },
  {
   "cell_type": "markdown",
   "id": "f6c8f6a7",
   "metadata": {},
   "source": [
    "<br><br>"
   ]
  },
  {
   "cell_type": "markdown",
   "id": "fcfa827d",
   "metadata": {},
   "source": [
    "# Addendum (This approach no longer works, SAGE replaced):"
   ]
  },
  {
   "cell_type": "code",
   "execution_count": 19,
   "id": "5599a22e",
   "metadata": {},
   "outputs": [],
   "source": [
    "\n",
    "# import requests\n",
    "# r = requests.get('https://api.arrayofthings.org/api/nodes?size=&format=&project=')\n",
    "# print (r.text)\n"
   ]
  },
  {
   "cell_type": "code",
   "execution_count": 20,
   "id": "a30132f9",
   "metadata": {},
   "outputs": [],
   "source": [
    "\n",
    "# requests.get('https://api.arrayofthings.org/api/nodes?size=&format=&project=')\n"
   ]
  },
  {
   "cell_type": "code",
   "execution_count": 21,
   "id": "99777582",
   "metadata": {},
   "outputs": [
    {
     "data": {
      "text/plain": [
       "<Response [200]>"
      ]
     },
     "execution_count": 21,
     "metadata": {},
     "output_type": "execute_result"
    }
   ],
   "source": [
    "\n",
    "response # requests.get('https://api.arrayofthings.org/api/nodes?order=&page=&format=&location=&project=&size=5')\n"
   ]
  },
  {
   "cell_type": "code",
   "execution_count": 22,
   "id": "f5bb0fda",
   "metadata": {},
   "outputs": [],
   "source": [
    "\n",
    "# response.status_code\n"
   ]
  },
  {
   "cell_type": "code",
   "execution_count": 23,
   "id": "018e679b",
   "metadata": {},
   "outputs": [],
   "source": [
    "\n",
    "# response.content\n"
   ]
  },
  {
   "cell_type": "markdown",
   "id": "76dc4df6",
   "metadata": {},
   "source": [
    "<br><br>"
   ]
  },
  {
   "cell_type": "markdown",
   "id": "7c0ef8b0",
   "metadata": {},
   "source": [
    "<br><br>"
   ]
  }
 ],
 "metadata": {
  "kernelspec": {
   "display_name": "Python 3 (ipykernel)",
   "language": "python",
   "name": "python3"
  },
  "language_info": {
   "codemirror_mode": {
    "name": "ipython",
    "version": 3
   },
   "file_extension": ".py",
   "mimetype": "text/x-python",
   "name": "python",
   "nbconvert_exporter": "python",
   "pygments_lexer": "ipython3",
   "version": "3.8.8"
  }
 },
 "nbformat": 4,
 "nbformat_minor": 5
}
