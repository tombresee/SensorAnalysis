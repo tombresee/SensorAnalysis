{
 "cells": [
  {
   "cell_type": "markdown",
   "id": "892990a3",
   "metadata": {},
   "source": [
    "# API Queries (Real-Time)"
   ]
  },
  {
   "cell_type": "markdown",
   "id": "21d56ef4",
   "metadata": {},
   "source": [
    "<br>"
   ]
  },
  {
   "cell_type": "markdown",
   "id": "ccb06faf",
   "metadata": {},
   "source": [
    "## 1) Links"
   ]
  },
  {
   "cell_type": "markdown",
   "id": "208f55e0",
   "metadata": {},
   "source": [
    "* https://sagecontinuum.github.io/sage-docs/docs/tutorials/accessing-data - main api directory directions\n",
    "* https://realpython.com/python-requests/ - explains python requests really well"
   ]
  },
  {
   "cell_type": "markdown",
   "id": "85c7fd63",
   "metadata": {},
   "source": [
    "<br>"
   ]
  },
  {
   "cell_type": "markdown",
   "id": "a2658c2e",
   "metadata": {},
   "source": [
    "## 2) Queries"
   ]
  },
  {
   "cell_type": "markdown",
   "id": "556c37c3",
   "metadata": {},
   "source": [
    "### - Query 1 -"
   ]
  },
  {
   "cell_type": "markdown",
   "id": "912d5783",
   "metadata": {},
   "source": [
    "``` \n",
    "As example, translate this curl to python requests form:\n",
    "    \n",
    "curl -H 'Content-Type: application/json' https://data.sagecontinuum.org/api/v1/query -d '\n",
    "{\n",
    "    \"start\": \"-10s\",\n",
    "    \"filter\": {\n",
    "        \"sensor\": \"bme680\"\n",
    "    }\n",
    "}\n",
    "'\n",
    "```"
   ]
  },
  {
   "cell_type": "markdown",
   "id": "2b5bbb6f",
   "metadata": {},
   "source": [
    "This example shows how to retrieve data the latest data from a specific sensor (you can adjust the start field if you do not get any recent data)"
   ]
  },
  {
   "cell_type": "markdown",
   "id": "3120ab1e",
   "metadata": {},
   "source": [
    "Query responses are provided as newline separated JSON records"
   ]
  },
  {
   "cell_type": "code",
   "execution_count": 1,
   "id": "da5ee83e",
   "metadata": {},
   "outputs": [
    {
     "data": {
      "text/html": [
       "<style>.container { width:100% !important; }</style>"
      ],
      "text/plain": [
       "<IPython.core.display.HTML object>"
      ]
     },
     "metadata": {},
     "output_type": "display_data"
    }
   ],
   "source": [
    "\n",
    "import requests\n",
    "import json\n",
    "\n",
    "from IPython.core.display import display, HTML\n",
    "display(HTML(\"<style>.container { width:100% !important; }</style>\"))\n",
    "\n",
    "\n",
    "headers = {\n",
    "    'Content-Type': 'application/json',\n",
    "}\n",
    "\n",
    "data = ' { \"start\": \"-10s\", \"filter\": { \"sensor\": \"bme680\" } } '\n",
    "\n",
    "response = requests.post('https://data.sagecontinuum.org/api/v1/query', headers=headers, data=data)\n"
   ]
  },
  {
   "cell_type": "code",
   "execution_count": 2,
   "id": "e9bb2c4a",
   "metadata": {},
   "outputs": [
    {
     "name": "stdout",
     "output_type": "stream",
     "text": [
      "The original string : {\"Nikhil\" : 1, \"Akshat\" : 2, \"Akash\" : 3}\n",
      "The converted dictionary : {'Nikhil': 1, 'Akshat': 2, 'Akash': 3}\n"
     ]
    }
   ],
   "source": [
    "\n",
    "# you will need something like this if you want to process and json encoding not working ! \n",
    "\n",
    "# Python3 code to demonstrate\n",
    "# convert dictionary string to dictionary\n",
    "# using json.loads()\n",
    "import json\n",
    "  \n",
    "# initializing string \n",
    "test_string = '{\"Nikhil\" : 1, \"Akshat\" : 2, \"Akash\" : 3}' \n",
    "  \n",
    "# printing original string \n",
    "print(\"The original string : \" + str(test_string))\n",
    "  \n",
    "# using json.loads()\n",
    "# convert dictionary string to dictionary\n",
    "res = json.loads(test_string)\n",
    "  \n",
    "# print result\n",
    "print(\"The converted dictionary : \" + str(res))\n"
   ]
  },
  {
   "cell_type": "code",
   "execution_count": 3,
   "id": "1b4fc4cb",
   "metadata": {},
   "outputs": [],
   "source": [
    "\n",
    "# dir(response)\n",
    "\n",
    "#  'apparent_encoding',\n",
    "#  'close',\n",
    "#  'connection',\n",
    "#  'content',\n",
    "#  'cookies',\n",
    "#  'elapsed',\n",
    "#  'encoding',\n",
    "#  'headers',\n",
    "#  'history',\n",
    "#  'is_permanent_redirect',\n",
    "#  'is_redirect',\n",
    "#  'iter_content',\n",
    "#  'iter_lines',\n",
    "#  'json',\n",
    "#  'links',\n",
    "#  'next',\n",
    "#  'ok',\n",
    "#  'raise_for_status',\n",
    "#  'raw',\n",
    "#  'reason',\n",
    "#  'request',\n",
    "#  'status_code',\n",
    "#  'text',\n",
    "#  'url'\n"
   ]
  },
  {
   "cell_type": "code",
   "execution_count": 4,
   "id": "4403b0d0",
   "metadata": {},
   "outputs": [
    {
     "data": {
      "text/plain": [
       "'https://data.sagecontinuum.org/api/v1/query'"
      ]
     },
     "execution_count": 4,
     "metadata": {},
     "output_type": "execute_result"
    }
   ],
   "source": [
    "response.url"
   ]
  },
  {
   "cell_type": "code",
   "execution_count": 5,
   "id": "fae72912",
   "metadata": {},
   "outputs": [
    {
     "data": {
      "text/plain": [
       "{'Access-Control-Allow-Origin': '*', 'Content-Disposition': 'attachment; filename=\"sage-download-20210917173411.ndjson\"', 'Content-Encoding': 'gzip', 'Content-Type': 'text/plain; charset=utf-8', 'Date': 'Fri, 17 Sep 2021 17:34:11 GMT', 'Vary': 'Accept-Encoding', 'Content-Length': '1108'}"
      ]
     },
     "execution_count": 5,
     "metadata": {},
     "output_type": "execute_result"
    }
   ],
   "source": [
    "response.headers"
   ]
  },
  {
   "cell_type": "code",
   "execution_count": 6,
   "id": "67a94476",
   "metadata": {},
   "outputs": [
    {
     "data": {
      "text/plain": [
       "b'{\"timestamp\":\"2021-09-17T17:34:06.258840972Z\",\"name\":\"env.pressure\",\"value\":99571,\"meta\":{\"host\":\"0000dca632a2fa54.ws-rpi\",\"node\":\"000048b02d15bc87\",\"plugin\":\"plugin-iio:0.3.0\",\"sensor\":\"bme680\",\"vsn\":\"W019\"}}\\n{\"timestamp\":\"2021-09-17T17:34:07.849992498Z\",\"name\":\"env.pressure\",\"value\":99362,\"meta\":{\"node\":\"000048b02d05a1c2\",\"plugin\":\"plugin-iio:0.2.0\",\"sensor\":\"bme680\",\"vsn\":\"W02C\"}}\\n{\"timestamp\":\"2021-09-17T17:34:05.414017487Z\",\"name\":\"env.pressure\",\"value\":99280,\"meta\":{\"node\":\"000048b02d05a1c6\",\"plugin\":\"plugin-iio:0.2.0\",\"sensor\":\"bme680\",\"vsn\":\"W027\"}}\\n{\"timestamp\":\"2021-09-17T17:34:01.89018198Z\",\"name\":\"env.pressure\",\"value\":99298,\"meta\":{\"node\":\"000048b02d05a1c7\",\"plugin\":\"plugin-iio:0.2.0\",\"sensor\":\"bme680\",\"vsn\":\"W026\"}}\\n{\"timestamp\":\"2021-09-17T17:34:03.433823486Z\",\"name\":\"env.pressure\",\"value\":98417,\"meta\":{\"node\":\"000048b02d15bc72\",\"plugin\":\"plugin-iio:0.2.0\",\"sensor\":\"bme680\",\"vsn\":\"W018\"}}\\n{\"timestamp\":\"2021-09-17T17:34:03.793284037Z\",\"name\":\"env.pressure\",\"value\":98826,\"meta\":{\"node\":\"000048b02d15bc7d\",\"plugin\":\"plugin-iio:0.2.0\",\"sensor\":\"bme680\",\"vsn\":\"W028\"}}\\n{\"timestamp\":\"2021-09-17T17:34:07.695628892Z\",\"name\":\"env.pressure\",\"value\":99395,\"meta\":{\"node\":\"000048b02d15c319\",\"plugin\":\"plugin-iio:0.2.0\",\"sensor\":\"bme680\",\"vsn\":\"W015\"}}\\n{\"timestamp\":\"2021-09-17T17:34:05.480995238Z\",\"name\":\"env.pressure\",\"value\":99392,\"meta\":{\"node\":\"000048b02d15c31f\",\"plugin\":\"plugin-iio:0.2.0\",\"sensor\":\"bme680\",\"vsn\":\"W01C\"}}\\n{\"timestamp\":\"2021-09-17T17:34:05.211528222Z\",\"name\":\"env.pressure\",\"value\":98380,\"meta\":{\"node\":\"000048b02d15c328\",\"plugin\":\"plugin-iio:0.2.0\",\"sensor\":\"bme680\",\"vsn\":\"W016\"}}\\n{\"timestamp\":\"2021-09-17T17:34:06.25166782Z\",\"name\":\"env.relative_humidity\",\"value\":37.074,\"meta\":{\"host\":\"0000dca632a2fa54.ws-rpi\",\"node\":\"000048b02d15bc87\",\"plugin\":\"plugin-iio:0.3.0\",\"sensor\":\"bme680\",\"vsn\":\"W019\"}}\\n{\"timestamp\":\"2021-09-17T17:34:07.844189793Z\",\"name\":\"env.relative_humidity\",\"value\":35.43,\"meta\":{\"node\":\"000048b02d05a1c2\",\"plugin\":\"plugin-iio:0.2.0\",\"sensor\":\"bme680\",\"vsn\":\"W02C\"}}\\n{\"timestamp\":\"2021-09-17T17:34:05.425565987Z\",\"name\":\"env.relative_humidity\",\"value\":55.015,\"meta\":{\"node\":\"000048b02d05a1c6\",\"plugin\":\"plugin-iio:0.2.0\",\"sensor\":\"bme680\",\"vsn\":\"W027\"}}\\n{\"timestamp\":\"2021-09-17T17:34:01.892676758Z\",\"name\":\"env.relative_humidity\",\"value\":45.862,\"meta\":{\"node\":\"000048b02d05a1c7\",\"plugin\":\"plugin-iio:0.2.0\",\"sensor\":\"bme680\",\"vsn\":\"W026\"}}\\n{\"timestamp\":\"2021-09-17T17:34:03.427909703Z\",\"name\":\"env.relative_humidity\",\"value\":33.541,\"meta\":{\"node\":\"000048b02d15bc72\",\"plugin\":\"plugin-iio:0.2.0\",\"sensor\":\"bme680\",\"vsn\":\"W018\"}}\\n{\"timestamp\":\"2021-09-17T17:34:03.787232234Z\",\"name\":\"env.relative_humidity\",\"value\":36.464,\"meta\":{\"node\":\"000048b02d15bc7d\",\"plugin\":\"plugin-iio:0.2.0\",\"sensor\":\"bme680\",\"vsn\":\"W028\"}}\\n{\"timestamp\":\"2021-09-17T17:34:07.700492983Z\",\"name\":\"env.relative_humidity\",\"value\":35.901,\"meta\":{\"node\":\"000048b02d15c319\",\"plugin\":\"plugin-iio:0.2.0\",\"sensor\":\"bme680\",\"vsn\":\"W015\"}}\\n{\"timestamp\":\"2021-09-17T17:34:05.475814607Z\",\"name\":\"env.relative_humidity\",\"value\":36.227,\"meta\":{\"node\":\"000048b02d15c31f\",\"plugin\":\"plugin-iio:0.2.0\",\"sensor\":\"bme680\",\"vsn\":\"W01C\"}}\\n{\"timestamp\":\"2021-09-17T17:34:05.22041136Z\",\"name\":\"env.relative_humidity\",\"value\":41.714,\"meta\":{\"node\":\"000048b02d15c328\",\"plugin\":\"plugin-iio:0.2.0\",\"sensor\":\"bme680\",\"vsn\":\"W016\"}}\\n{\"timestamp\":\"2021-09-17T17:34:06.255821398Z\",\"name\":\"env.temperature\",\"value\":21.29,\"meta\":{\"host\":\"0000dca632a2fa54.ws-rpi\",\"node\":\"000048b02d15bc87\",\"plugin\":\"plugin-iio:0.3.0\",\"sensor\":\"bme680\",\"vsn\":\"W019\"}}\\n{\"timestamp\":\"2021-09-17T17:34:07.83985145Z\",\"name\":\"env.temperature\",\"value\":33.95,\"meta\":{\"node\":\"000048b02d05a1c2\",\"plugin\":\"plugin-iio:0.2.0\",\"sensor\":\"bme680\",\"vsn\":\"W02C\"}}\\n{\"timestamp\":\"2021-09-17T17:34:05.407887046Z\",\"name\":\"env.temperature\",\"value\":23.57,\"meta\":{\"node\":\"000048b02d05a1c6\",\"plugin\":\"plugin-iio:0.2.0\",\"sensor\":\"bme680\",\"vsn\":\"W027\"}}\\n{\"timestamp\":\"2021-09-17T17:34:01.89431316Z\",\"name\":\"env.temperature\",\"value\":25.91,\"meta\":{\"node\":\"000048b02d05a1c7\",\"plugin\":\"plugin-iio:0.2.0\",\"sensor\":\"bme680\",\"vsn\":\"W026\"}}\\n{\"timestamp\":\"2021-09-17T17:34:03.425906399Z\",\"name\":\"env.temperature\",\"value\":31.35,\"meta\":{\"node\":\"000048b02d15bc72\",\"plugin\":\"plugin-iio:0.2.0\",\"sensor\":\"bme680\",\"vsn\":\"W018\"}}\\n{\"timestamp\":\"2021-09-17T17:34:03.789641423Z\",\"name\":\"env.temperature\",\"value\":33.02,\"meta\":{\"node\":\"000048b02d15bc7d\",\"plugin\":\"plugin-iio:0.2.0\",\"sensor\":\"bme680\",\"vsn\":\"W028\"}}\\n{\"timestamp\":\"2021-09-17T17:34:07.69764012Z\",\"name\":\"env.temperature\",\"value\":33.26,\"meta\":{\"node\":\"000048b02d15c319\",\"plugin\":\"plugin-iio:0.2.0\",\"sensor\":\"bme680\",\"vsn\":\"W015\"}}\\n{\"timestamp\":\"2021-09-17T17:34:05.477426238Z\",\"name\":\"env.temperature\",\"value\":33.38,\"meta\":{\"node\":\"000048b02d15c31f\",\"plugin\":\"plugin-iio:0.2.0\",\"sensor\":\"bme680\",\"vsn\":\"W01C\"}}\\n{\"timestamp\":\"2021-09-17T17:34:05.217976644Z\",\"name\":\"env.temperature\",\"value\":35.46,\"meta\":{\"node\":\"000048b02d15c328\",\"plugin\":\"plugin-iio:0.2.0\",\"sensor\":\"bme680\",\"vsn\":\"W016\"}}\\n{\"timestamp\":\"2021-09-17T17:34:06.251410231Z\",\"name\":\"iio.in_humidityrelative_input\",\"value\":37.074,\"meta\":{\"host\":\"0000dca632a2fa54.ws-rpi\",\"node\":\"000048b02d15bc87\",\"plugin\":\"plugin-iio:0.3.0\",\"sensor\":\"bme680\",\"vsn\":\"W019\"}}\\n{\"timestamp\":\"2021-09-17T17:34:07.844073388Z\",\"name\":\"iio.in_humidityrelative_input\",\"value\":35.43,\"meta\":{\"node\":\"000048b02d05a1c2\",\"plugin\":\"plugin-iio:0.2.0\",\"sensor\":\"bme680\",\"vsn\":\"W02C\"}}\\n{\"timestamp\":\"2021-09-17T17:34:05.42480051Z\",\"name\":\"iio.in_humidityrelative_input\",\"value\":55.015,\"meta\":{\"node\":\"000048b02d05a1c6\",\"plugin\":\"plugin-iio:0.2.0\",\"sensor\":\"bme680\",\"vsn\":\"W027\"}}\\n{\"timestamp\":\"2021-09-17T17:34:01.892606111Z\",\"name\":\"iio.in_humidityrelative_input\",\"value\":45.862,\"meta\":{\"node\":\"000048b02d05a1c7\",\"plugin\":\"plugin-iio:0.2.0\",\"sensor\":\"bme680\",\"vsn\":\"W026\"}}\\n{\"timestamp\":\"2021-09-17T17:34:03.427820593Z\",\"name\":\"iio.in_humidityrelative_input\",\"value\":33.541,\"meta\":{\"node\":\"000048b02d15bc72\",\"plugin\":\"plugin-iio:0.2.0\",\"sensor\":\"bme680\",\"vsn\":\"W018\"}}\\n{\"timestamp\":\"2021-09-17T17:34:03.787119532Z\",\"name\":\"iio.in_humidityrelative_input\",\"value\":36.464,\"meta\":{\"node\":\"000048b02d15bc7d\",\"plugin\":\"plugin-iio:0.2.0\",\"sensor\":\"bme680\",\"vsn\":\"W028\"}}\\n{\"timestamp\":\"2021-09-17T17:34:07.700318616Z\",\"name\":\"iio.in_humidityrelative_input\",\"value\":35.901,\"meta\":{\"node\":\"000048b02d15c319\",\"plugin\":\"plugin-iio:0.2.0\",\"sensor\":\"bme680\",\"vsn\":\"W015\"}}\\n{\"timestamp\":\"2021-09-17T17:34:05.475715274Z\",\"name\":\"iio.in_humidityrelative_input\",\"value\":36.227,\"meta\":{\"node\":\"000048b02d15c31f\",\"plugin\":\"plugin-iio:0.2.0\",\"sensor\":\"bme680\",\"vsn\":\"W01C\"}}\\n{\"timestamp\":\"2021-09-17T17:34:05.220303232Z\",\"name\":\"iio.in_humidityrelative_input\",\"value\":41.714,\"meta\":{\"node\":\"000048b02d15c328\",\"plugin\":\"plugin-iio:0.2.0\",\"sensor\":\"bme680\",\"vsn\":\"W016\"}}\\n{\"timestamp\":\"2021-09-17T17:34:06.258715473Z\",\"name\":\"iio.in_pressure_input\",\"value\":995.71,\"meta\":{\"host\":\"0000dca632a2fa54.ws-rpi\",\"node\":\"000048b02d15bc87\",\"plugin\":\"plugin-iio:0.3.0\",\"sensor\":\"bme680\",\"vsn\":\"W019\"}}\\n{\"timestamp\":\"2021-09-17T17:34:07.849895592Z\",\"name\":\"iio.in_pressure_input\",\"value\":993.62,\"meta\":{\"node\":\"000048b02d05a1c2\",\"plugin\":\"plugin-iio:0.2.0\",\"sensor\":\"bme680\",\"vsn\":\"W02C\"}}\\n{\"timestamp\":\"2021-09-17T17:34:05.412851365Z\",\"name\":\"iio.in_pressure_input\",\"value\":992.8,\"meta\":{\"node\":\"000048b02d05a1c6\",\"plugin\":\"plugin-iio:0.2.0\",\"sensor\":\"bme680\",\"vsn\":\"W027\"}}\\n{\"timestamp\":\"2021-09-17T17:34:01.890105574Z\",\"name\":\"iio.in_pressure_input\",\"value\":992.98,\"meta\":{\"node\":\"000048b02d05a1c7\",\"plugin\":\"plugin-iio:0.2.0\",\"sensor\":\"bme680\",\"vsn\":\"W026\"}}\\n{\"timestamp\":\"2021-09-17T17:34:03.433734098Z\",\"name\":\"iio.in_pressure_input\",\"value\":984.17,\"meta\":{\"node\":\"000048b02d15bc72\",\"plugin\":\"plugin-iio:0.2.0\",\"sensor\":\"bme680\",\"vsn\":\"W018\"}}\\n{\"timestamp\":\"2021-09-17T17:34:03.793175558Z\",\"name\":\"iio.in_pressure_input\",\"value\":988.26,\"meta\":{\"node\":\"000048b02d15bc7d\",\"plugin\":\"plugin-iio:0.2.0\",\"sensor\":\"bme680\",\"vsn\":\"W028\"}}\\n{\"timestamp\":\"2021-09-17T17:34:07.695509117Z\",\"name\":\"iio.in_pressure_input\",\"value\":993.95,\"meta\":{\"node\":\"000048b02d15c319\",\"plugin\":\"plugin-iio:0.2.0\",\"sensor\":\"bme680\",\"vsn\":\"W015\"}}\\n{\"timestamp\":\"2021-09-17T17:34:05.480905591Z\",\"name\":\"iio.in_pressure_input\",\"value\":993.92,\"meta\":{\"node\":\"000048b02d15c31f\",\"plugin\":\"plugin-iio:0.2.0\",\"sensor\":\"bme680\",\"vsn\":\"W01C\"}}\\n{\"timestamp\":\"2021-09-17T17:34:05.211426242Z\",\"name\":\"iio.in_pressure_input\",\"value\":983.8,\"meta\":{\"node\":\"000048b02d15c328\",\"plugin\":\"plugin-iio:0.2.0\",\"sensor\":\"bme680\",\"vsn\":\"W016\"}}\\n{\"timestamp\":\"2021-09-17T17:34:06.264990914Z\",\"name\":\"iio.in_resistance_input\",\"value\":273299,\"meta\":{\"host\":\"0000dca632a2fa54.ws-rpi\",\"node\":\"000048b02d15bc87\",\"plugin\":\"plugin-iio:0.3.0\",\"sensor\":\"bme680\",\"vsn\":\"W019\"}}\\n{\"timestamp\":\"2021-09-17T17:34:07.847711985Z\",\"name\":\"iio.in_resistance_input\",\"value\":920962,\"meta\":{\"node\":\"000048b02d05a1c2\",\"plugin\":\"plugin-iio:0.2.0\",\"sensor\":\"bme680\",\"vsn\":\"W02C\"}}\\n{\"timestamp\":\"2021-09-17T17:34:05.418938604Z\",\"name\":\"iio.in_resistance_input\",\"value\":277974,\"meta\":{\"node\":\"000048b02d05a1c6\",\"plugin\":\"plugin-iio:0.2.0\",\"sensor\":\"bme680\",\"vsn\":\"W027\"}}\\n{\"timestamp\":\"2021-09-17T17:34:01.897433299Z\",\"name\":\"iio.in_resistance_input\",\"value\":566453,\"meta\":{\"node\":\"000048b02d05a1c7\",\"plugin\":\"plugin-iio:0.2.0\",\"sensor\":\"bme680\",\"vsn\":\"W026\"}}\\n{\"timestamp\":\"2021-09-17T17:34:03.431711035Z\",\"name\":\"iio.in_resistance_input\",\"value\":149601,\"meta\":{\"node\":\"000048b02d15bc72\",\"plugin\":\"plugin-iio:0.2.0\",\"sensor\":\"bme680\",\"vsn\":\"W018\"}}\\n{\"timestamp\":\"2021-09-17T17:34:03.784932378Z\",\"name\":\"iio.in_resistance_input\",\"value\":549877,\"meta\":{\"node\":\"000048b02d15bc7d\",\"plugin\":\"plugin-iio:0.2.0\",\"sensor\":\"bme680\",\"vsn\":\"W028\"}}\\n{\"timestamp\":\"2021-09-17T17:34:07.693364835Z\",\"name\":\"iio.in_resistance_input\",\"value\":471167,\"meta\":{\"node\":\"000048b02d15c319\",\"plugin\":\"plugin-iio:0.2.0\",\"sensor\":\"bme680\",\"vsn\":\"W015\"}}\\n{\"timestamp\":\"2021-09-17T17:34:05.484138372Z\",\"name\":\"iio.in_resistance_input\",\"value\":274408,\"meta\":{\"node\":\"000048b02d15c31f\",\"plugin\":\"plugin-iio:0.2.0\",\"sensor\":\"bme680\",\"vsn\":\"W01C\"}}\\n{\"timestamp\":\"2021-09-17T17:34:05.215573298Z\",\"name\":\"iio.in_resistance_input\",\"value\":310381,\"meta\":{\"node\":\"000048b02d15c328\",\"plugin\":\"plugin-iio:0.2.0\",\"sensor\":\"bme680\",\"vsn\":\"W016\"}}\\n{\"timestamp\":\"2021-09-17T17:34:06.255686881Z\",\"name\":\"iio.in_temp_input\",\"value\":21290,\"meta\":{\"host\":\"0000dca632a2fa54.ws-rpi\",\"node\":\"000048b02d15bc87\",\"plugin\":\"plugin-iio:0.3.0\",\"sensor\":\"bme680\",\"vsn\":\"W019\"}}\\n{\"timestamp\":\"2021-09-17T17:34:07.839741026Z\",\"name\":\"iio.in_temp_input\",\"value\":33950,\"meta\":{\"node\":\"000048b02d05a1c2\",\"plugin\":\"plugin-iio:0.2.0\",\"sensor\":\"bme680\",\"vsn\":\"W02C\"}}\\n{\"timestamp\":\"2021-09-17T17:34:05.406403129Z\",\"name\":\"iio.in_temp_input\",\"value\":23570,\"meta\":{\"node\":\"000048b02d05a1c6\",\"plugin\":\"plugin-iio:0.2.0\",\"sensor\":\"bme680\",\"vsn\":\"W027\"}}\\n{\"timestamp\":\"2021-09-17T17:34:01.894234198Z\",\"name\":\"iio.in_temp_input\",\"value\":25910,\"meta\":{\"node\":\"000048b02d05a1c7\",\"plugin\":\"plugin-iio:0.2.0\",\"sensor\":\"bme680\",\"vsn\":\"W026\"}}\\n{\"timestamp\":\"2021-09-17T17:34:03.425830363Z\",\"name\":\"iio.in_temp_input\",\"value\":31350,\"meta\":{\"node\":\"000048b02d15bc72\",\"plugin\":\"plugin-iio:0.2.0\",\"sensor\":\"bme680\",\"vsn\":\"W018\"}}\\n{\"timestamp\":\"2021-09-17T17:34:03.789543498Z\",\"name\":\"iio.in_temp_input\",\"value\":33020,\"meta\":{\"node\":\"000048b02d15bc7d\",\"plugin\":\"plugin-iio:0.2.0\",\"sensor\":\"bme680\",\"vsn\":\"W028\"}}\\n{\"timestamp\":\"2021-09-17T17:34:07.6975189Z\",\"name\":\"iio.in_temp_input\",\"value\":33260,\"meta\":{\"node\":\"000048b02d15c319\",\"plugin\":\"plugin-iio:0.2.0\",\"sensor\":\"bme680\",\"vsn\":\"W015\"}}\\n{\"timestamp\":\"2021-09-17T17:34:05.477312536Z\",\"name\":\"iio.in_temp_input\",\"value\":33380,\"meta\":{\"node\":\"000048b02d15c31f\",\"plugin\":\"plugin-iio:0.2.0\",\"sensor\":\"bme680\",\"vsn\":\"W01C\"}}\\n{\"timestamp\":\"2021-09-17T17:34:05.217874072Z\",\"name\":\"iio.in_temp_input\",\"value\":35460,\"meta\":{\"node\":\"000048b02d15c328\",\"plugin\":\"plugin-iio:0.2.0\",\"sensor\":\"bme680\",\"vsn\":\"W016\"}}\\n'"
      ]
     },
     "execution_count": 6,
     "metadata": {},
     "output_type": "execute_result"
    }
   ],
   "source": [
    "response.content"
   ]
  },
  {
   "cell_type": "code",
   "execution_count": 7,
   "id": "d8706a4e",
   "metadata": {
    "scrolled": false
   },
   "outputs": [
    {
     "data": {
      "text/plain": [
       "'{\"timestamp\":\"2021-09-17T17:34:06.258840972Z\",\"name\":\"env.pressure\",\"value\":99571,\"meta\":{\"host\":\"0000dca632a2fa54.ws-rpi\",\"node\":\"000048b02d15bc87\",\"plugin\":\"plugin-iio:0.3.0\",\"sensor\":\"bme680\",\"vsn\":\"W019\"}}\\n{\"timestamp\":\"2021-09-17T17:34:07.849992498Z\",\"name\":\"env.pressure\",\"value\":99362,\"meta\":{\"node\":\"000048b02d05a1c2\",\"plugin\":\"plugin-iio:0.2.0\",\"sensor\":\"bme680\",\"vsn\":\"W02C\"}}\\n{\"timestamp\":\"2021-09-17T17:34:05.414017487Z\",\"name\":\"env.pressure\",\"value\":99280,\"meta\":{\"node\":\"000048b02d05a1c6\",\"plugin\":\"plugin-iio:0.2.0\",\"sensor\":\"bme680\",\"vsn\":\"W027\"}}\\n{\"timestamp\":\"2021-09-17T17:34:01.89018198Z\",\"name\":\"env.pressure\",\"value\":99298,\"meta\":{\"node\":\"000048b02d05a1c7\",\"plugin\":\"plugin-iio:0.2.0\",\"sensor\":\"bme680\",\"vsn\":\"W026\"}}\\n{\"timestamp\":\"2021-09-17T17:34:03.433823486Z\",\"name\":\"env.pressure\",\"value\":98417,\"meta\":{\"node\":\"000048b02d15bc72\",\"plugin\":\"plugin-iio:0.2.0\",\"sensor\":\"bme680\",\"vsn\":\"W018\"}}\\n{\"timestamp\":\"2021-09-17T17:34:03.793284037Z\",\"name\":\"env.pressure\",\"value\":98826,\"meta\":{\"node\":\"000048b02d15bc7d\",\"plugin\":\"plugin-iio:0.2.0\",\"sensor\":\"bme680\",\"vsn\":\"W028\"}}\\n{\"timestamp\":\"2021-09-17T17:34:07.695628892Z\",\"name\":\"env.pressure\",\"value\":99395,\"meta\":{\"node\":\"000048b02d15c319\",\"plugin\":\"plugin-iio:0.2.0\",\"sensor\":\"bme680\",\"vsn\":\"W015\"}}\\n{\"timestamp\":\"2021-09-17T17:34:05.480995238Z\",\"name\":\"env.pressure\",\"value\":99392,\"meta\":{\"node\":\"000048b02d15c31f\",\"plugin\":\"plugin-iio:0.2.0\",\"sensor\":\"bme680\",\"vsn\":\"W01C\"}}\\n{\"timestamp\":\"2021-09-17T17:34:05.211528222Z\",\"name\":\"env.pressure\",\"value\":98380,\"meta\":{\"node\":\"000048b02d15c328\",\"plugin\":\"plugin-iio:0.2.0\",\"sensor\":\"bme680\",\"vsn\":\"W016\"}}\\n{\"timestamp\":\"2021-09-17T17:34:06.25166782Z\",\"name\":\"env.relative_humidity\",\"value\":37.074,\"meta\":{\"host\":\"0000dca632a2fa54.ws-rpi\",\"node\":\"000048b02d15bc87\",\"plugin\":\"plugin-iio:0.3.0\",\"sensor\":\"bme680\",\"vsn\":\"W019\"}}\\n{\"timestamp\":\"2021-09-17T17:34:07.844189793Z\",\"name\":\"env.relative_humidity\",\"value\":35.43,\"meta\":{\"node\":\"000048b02d05a1c2\",\"plugin\":\"plugin-iio:0.2.0\",\"sensor\":\"bme680\",\"vsn\":\"W02C\"}}\\n{\"timestamp\":\"2021-09-17T17:34:05.425565987Z\",\"name\":\"env.relative_humidity\",\"value\":55.015,\"meta\":{\"node\":\"000048b02d05a1c6\",\"plugin\":\"plugin-iio:0.2.0\",\"sensor\":\"bme680\",\"vsn\":\"W027\"}}\\n{\"timestamp\":\"2021-09-17T17:34:01.892676758Z\",\"name\":\"env.relative_humidity\",\"value\":45.862,\"meta\":{\"node\":\"000048b02d05a1c7\",\"plugin\":\"plugin-iio:0.2.0\",\"sensor\":\"bme680\",\"vsn\":\"W026\"}}\\n{\"timestamp\":\"2021-09-17T17:34:03.427909703Z\",\"name\":\"env.relative_humidity\",\"value\":33.541,\"meta\":{\"node\":\"000048b02d15bc72\",\"plugin\":\"plugin-iio:0.2.0\",\"sensor\":\"bme680\",\"vsn\":\"W018\"}}\\n{\"timestamp\":\"2021-09-17T17:34:03.787232234Z\",\"name\":\"env.relative_humidity\",\"value\":36.464,\"meta\":{\"node\":\"000048b02d15bc7d\",\"plugin\":\"plugin-iio:0.2.0\",\"sensor\":\"bme680\",\"vsn\":\"W028\"}}\\n{\"timestamp\":\"2021-09-17T17:34:07.700492983Z\",\"name\":\"env.relative_humidity\",\"value\":35.901,\"meta\":{\"node\":\"000048b02d15c319\",\"plugin\":\"plugin-iio:0.2.0\",\"sensor\":\"bme680\",\"vsn\":\"W015\"}}\\n{\"timestamp\":\"2021-09-17T17:34:05.475814607Z\",\"name\":\"env.relative_humidity\",\"value\":36.227,\"meta\":{\"node\":\"000048b02d15c31f\",\"plugin\":\"plugin-iio:0.2.0\",\"sensor\":\"bme680\",\"vsn\":\"W01C\"}}\\n{\"timestamp\":\"2021-09-17T17:34:05.22041136Z\",\"name\":\"env.relative_humidity\",\"value\":41.714,\"meta\":{\"node\":\"000048b02d15c328\",\"plugin\":\"plugin-iio:0.2.0\",\"sensor\":\"bme680\",\"vsn\":\"W016\"}}\\n{\"timestamp\":\"2021-09-17T17:34:06.255821398Z\",\"name\":\"env.temperature\",\"value\":21.29,\"meta\":{\"host\":\"0000dca632a2fa54.ws-rpi\",\"node\":\"000048b02d15bc87\",\"plugin\":\"plugin-iio:0.3.0\",\"sensor\":\"bme680\",\"vsn\":\"W019\"}}\\n{\"timestamp\":\"2021-09-17T17:34:07.83985145Z\",\"name\":\"env.temperature\",\"value\":33.95,\"meta\":{\"node\":\"000048b02d05a1c2\",\"plugin\":\"plugin-iio:0.2.0\",\"sensor\":\"bme680\",\"vsn\":\"W02C\"}}\\n{\"timestamp\":\"2021-09-17T17:34:05.407887046Z\",\"name\":\"env.temperature\",\"value\":23.57,\"meta\":{\"node\":\"000048b02d05a1c6\",\"plugin\":\"plugin-iio:0.2.0\",\"sensor\":\"bme680\",\"vsn\":\"W027\"}}\\n{\"timestamp\":\"2021-09-17T17:34:01.89431316Z\",\"name\":\"env.temperature\",\"value\":25.91,\"meta\":{\"node\":\"000048b02d05a1c7\",\"plugin\":\"plugin-iio:0.2.0\",\"sensor\":\"bme680\",\"vsn\":\"W026\"}}\\n{\"timestamp\":\"2021-09-17T17:34:03.425906399Z\",\"name\":\"env.temperature\",\"value\":31.35,\"meta\":{\"node\":\"000048b02d15bc72\",\"plugin\":\"plugin-iio:0.2.0\",\"sensor\":\"bme680\",\"vsn\":\"W018\"}}\\n{\"timestamp\":\"2021-09-17T17:34:03.789641423Z\",\"name\":\"env.temperature\",\"value\":33.02,\"meta\":{\"node\":\"000048b02d15bc7d\",\"plugin\":\"plugin-iio:0.2.0\",\"sensor\":\"bme680\",\"vsn\":\"W028\"}}\\n{\"timestamp\":\"2021-09-17T17:34:07.69764012Z\",\"name\":\"env.temperature\",\"value\":33.26,\"meta\":{\"node\":\"000048b02d15c319\",\"plugin\":\"plugin-iio:0.2.0\",\"sensor\":\"bme680\",\"vsn\":\"W015\"}}\\n{\"timestamp\":\"2021-09-17T17:34:05.477426238Z\",\"name\":\"env.temperature\",\"value\":33.38,\"meta\":{\"node\":\"000048b02d15c31f\",\"plugin\":\"plugin-iio:0.2.0\",\"sensor\":\"bme680\",\"vsn\":\"W01C\"}}\\n{\"timestamp\":\"2021-09-17T17:34:05.217976644Z\",\"name\":\"env.temperature\",\"value\":35.46,\"meta\":{\"node\":\"000048b02d15c328\",\"plugin\":\"plugin-iio:0.2.0\",\"sensor\":\"bme680\",\"vsn\":\"W016\"}}\\n{\"timestamp\":\"2021-09-17T17:34:06.251410231Z\",\"name\":\"iio.in_humidityrelative_input\",\"value\":37.074,\"meta\":{\"host\":\"0000dca632a2fa54.ws-rpi\",\"node\":\"000048b02d15bc87\",\"plugin\":\"plugin-iio:0.3.0\",\"sensor\":\"bme680\",\"vsn\":\"W019\"}}\\n{\"timestamp\":\"2021-09-17T17:34:07.844073388Z\",\"name\":\"iio.in_humidityrelative_input\",\"value\":35.43,\"meta\":{\"node\":\"000048b02d05a1c2\",\"plugin\":\"plugin-iio:0.2.0\",\"sensor\":\"bme680\",\"vsn\":\"W02C\"}}\\n{\"timestamp\":\"2021-09-17T17:34:05.42480051Z\",\"name\":\"iio.in_humidityrelative_input\",\"value\":55.015,\"meta\":{\"node\":\"000048b02d05a1c6\",\"plugin\":\"plugin-iio:0.2.0\",\"sensor\":\"bme680\",\"vsn\":\"W027\"}}\\n{\"timestamp\":\"2021-09-17T17:34:01.892606111Z\",\"name\":\"iio.in_humidityrelative_input\",\"value\":45.862,\"meta\":{\"node\":\"000048b02d05a1c7\",\"plugin\":\"plugin-iio:0.2.0\",\"sensor\":\"bme680\",\"vsn\":\"W026\"}}\\n{\"timestamp\":\"2021-09-17T17:34:03.427820593Z\",\"name\":\"iio.in_humidityrelative_input\",\"value\":33.541,\"meta\":{\"node\":\"000048b02d15bc72\",\"plugin\":\"plugin-iio:0.2.0\",\"sensor\":\"bme680\",\"vsn\":\"W018\"}}\\n{\"timestamp\":\"2021-09-17T17:34:03.787119532Z\",\"name\":\"iio.in_humidityrelative_input\",\"value\":36.464,\"meta\":{\"node\":\"000048b02d15bc7d\",\"plugin\":\"plugin-iio:0.2.0\",\"sensor\":\"bme680\",\"vsn\":\"W028\"}}\\n{\"timestamp\":\"2021-09-17T17:34:07.700318616Z\",\"name\":\"iio.in_humidityrelative_input\",\"value\":35.901,\"meta\":{\"node\":\"000048b02d15c319\",\"plugin\":\"plugin-iio:0.2.0\",\"sensor\":\"bme680\",\"vsn\":\"W015\"}}\\n{\"timestamp\":\"2021-09-17T17:34:05.475715274Z\",\"name\":\"iio.in_humidityrelative_input\",\"value\":36.227,\"meta\":{\"node\":\"000048b02d15c31f\",\"plugin\":\"plugin-iio:0.2.0\",\"sensor\":\"bme680\",\"vsn\":\"W01C\"}}\\n{\"timestamp\":\"2021-09-17T17:34:05.220303232Z\",\"name\":\"iio.in_humidityrelative_input\",\"value\":41.714,\"meta\":{\"node\":\"000048b02d15c328\",\"plugin\":\"plugin-iio:0.2.0\",\"sensor\":\"bme680\",\"vsn\":\"W016\"}}\\n{\"timestamp\":\"2021-09-17T17:34:06.258715473Z\",\"name\":\"iio.in_pressure_input\",\"value\":995.71,\"meta\":{\"host\":\"0000dca632a2fa54.ws-rpi\",\"node\":\"000048b02d15bc87\",\"plugin\":\"plugin-iio:0.3.0\",\"sensor\":\"bme680\",\"vsn\":\"W019\"}}\\n{\"timestamp\":\"2021-09-17T17:34:07.849895592Z\",\"name\":\"iio.in_pressure_input\",\"value\":993.62,\"meta\":{\"node\":\"000048b02d05a1c2\",\"plugin\":\"plugin-iio:0.2.0\",\"sensor\":\"bme680\",\"vsn\":\"W02C\"}}\\n{\"timestamp\":\"2021-09-17T17:34:05.412851365Z\",\"name\":\"iio.in_pressure_input\",\"value\":992.8,\"meta\":{\"node\":\"000048b02d05a1c6\",\"plugin\":\"plugin-iio:0.2.0\",\"sensor\":\"bme680\",\"vsn\":\"W027\"}}\\n{\"timestamp\":\"2021-09-17T17:34:01.890105574Z\",\"name\":\"iio.in_pressure_input\",\"value\":992.98,\"meta\":{\"node\":\"000048b02d05a1c7\",\"plugin\":\"plugin-iio:0.2.0\",\"sensor\":\"bme680\",\"vsn\":\"W026\"}}\\n{\"timestamp\":\"2021-09-17T17:34:03.433734098Z\",\"name\":\"iio.in_pressure_input\",\"value\":984.17,\"meta\":{\"node\":\"000048b02d15bc72\",\"plugin\":\"plugin-iio:0.2.0\",\"sensor\":\"bme680\",\"vsn\":\"W018\"}}\\n{\"timestamp\":\"2021-09-17T17:34:03.793175558Z\",\"name\":\"iio.in_pressure_input\",\"value\":988.26,\"meta\":{\"node\":\"000048b02d15bc7d\",\"plugin\":\"plugin-iio:0.2.0\",\"sensor\":\"bme680\",\"vsn\":\"W028\"}}\\n{\"timestamp\":\"2021-09-17T17:34:07.695509117Z\",\"name\":\"iio.in_pressure_input\",\"value\":993.95,\"meta\":{\"node\":\"000048b02d15c319\",\"plugin\":\"plugin-iio:0.2.0\",\"sensor\":\"bme680\",\"vsn\":\"W015\"}}\\n{\"timestamp\":\"2021-09-17T17:34:05.480905591Z\",\"name\":\"iio.in_pressure_input\",\"value\":993.92,\"meta\":{\"node\":\"000048b02d15c31f\",\"plugin\":\"plugin-iio:0.2.0\",\"sensor\":\"bme680\",\"vsn\":\"W01C\"}}\\n{\"timestamp\":\"2021-09-17T17:34:05.211426242Z\",\"name\":\"iio.in_pressure_input\",\"value\":983.8,\"meta\":{\"node\":\"000048b02d15c328\",\"plugin\":\"plugin-iio:0.2.0\",\"sensor\":\"bme680\",\"vsn\":\"W016\"}}\\n{\"timestamp\":\"2021-09-17T17:34:06.264990914Z\",\"name\":\"iio.in_resistance_input\",\"value\":273299,\"meta\":{\"host\":\"0000dca632a2fa54.ws-rpi\",\"node\":\"000048b02d15bc87\",\"plugin\":\"plugin-iio:0.3.0\",\"sensor\":\"bme680\",\"vsn\":\"W019\"}}\\n{\"timestamp\":\"2021-09-17T17:34:07.847711985Z\",\"name\":\"iio.in_resistance_input\",\"value\":920962,\"meta\":{\"node\":\"000048b02d05a1c2\",\"plugin\":\"plugin-iio:0.2.0\",\"sensor\":\"bme680\",\"vsn\":\"W02C\"}}\\n{\"timestamp\":\"2021-09-17T17:34:05.418938604Z\",\"name\":\"iio.in_resistance_input\",\"value\":277974,\"meta\":{\"node\":\"000048b02d05a1c6\",\"plugin\":\"plugin-iio:0.2.0\",\"sensor\":\"bme680\",\"vsn\":\"W027\"}}\\n{\"timestamp\":\"2021-09-17T17:34:01.897433299Z\",\"name\":\"iio.in_resistance_input\",\"value\":566453,\"meta\":{\"node\":\"000048b02d05a1c7\",\"plugin\":\"plugin-iio:0.2.0\",\"sensor\":\"bme680\",\"vsn\":\"W026\"}}\\n{\"timestamp\":\"2021-09-17T17:34:03.431711035Z\",\"name\":\"iio.in_resistance_input\",\"value\":149601,\"meta\":{\"node\":\"000048b02d15bc72\",\"plugin\":\"plugin-iio:0.2.0\",\"sensor\":\"bme680\",\"vsn\":\"W018\"}}\\n{\"timestamp\":\"2021-09-17T17:34:03.784932378Z\",\"name\":\"iio.in_resistance_input\",\"value\":549877,\"meta\":{\"node\":\"000048b02d15bc7d\",\"plugin\":\"plugin-iio:0.2.0\",\"sensor\":\"bme680\",\"vsn\":\"W028\"}}\\n{\"timestamp\":\"2021-09-17T17:34:07.693364835Z\",\"name\":\"iio.in_resistance_input\",\"value\":471167,\"meta\":{\"node\":\"000048b02d15c319\",\"plugin\":\"plugin-iio:0.2.0\",\"sensor\":\"bme680\",\"vsn\":\"W015\"}}\\n{\"timestamp\":\"2021-09-17T17:34:05.484138372Z\",\"name\":\"iio.in_resistance_input\",\"value\":274408,\"meta\":{\"node\":\"000048b02d15c31f\",\"plugin\":\"plugin-iio:0.2.0\",\"sensor\":\"bme680\",\"vsn\":\"W01C\"}}\\n{\"timestamp\":\"2021-09-17T17:34:05.215573298Z\",\"name\":\"iio.in_resistance_input\",\"value\":310381,\"meta\":{\"node\":\"000048b02d15c328\",\"plugin\":\"plugin-iio:0.2.0\",\"sensor\":\"bme680\",\"vsn\":\"W016\"}}\\n{\"timestamp\":\"2021-09-17T17:34:06.255686881Z\",\"name\":\"iio.in_temp_input\",\"value\":21290,\"meta\":{\"host\":\"0000dca632a2fa54.ws-rpi\",\"node\":\"000048b02d15bc87\",\"plugin\":\"plugin-iio:0.3.0\",\"sensor\":\"bme680\",\"vsn\":\"W019\"}}\\n{\"timestamp\":\"2021-09-17T17:34:07.839741026Z\",\"name\":\"iio.in_temp_input\",\"value\":33950,\"meta\":{\"node\":\"000048b02d05a1c2\",\"plugin\":\"plugin-iio:0.2.0\",\"sensor\":\"bme680\",\"vsn\":\"W02C\"}}\\n{\"timestamp\":\"2021-09-17T17:34:05.406403129Z\",\"name\":\"iio.in_temp_input\",\"value\":23570,\"meta\":{\"node\":\"000048b02d05a1c6\",\"plugin\":\"plugin-iio:0.2.0\",\"sensor\":\"bme680\",\"vsn\":\"W027\"}}\\n{\"timestamp\":\"2021-09-17T17:34:01.894234198Z\",\"name\":\"iio.in_temp_input\",\"value\":25910,\"meta\":{\"node\":\"000048b02d05a1c7\",\"plugin\":\"plugin-iio:0.2.0\",\"sensor\":\"bme680\",\"vsn\":\"W026\"}}\\n{\"timestamp\":\"2021-09-17T17:34:03.425830363Z\",\"name\":\"iio.in_temp_input\",\"value\":31350,\"meta\":{\"node\":\"000048b02d15bc72\",\"plugin\":\"plugin-iio:0.2.0\",\"sensor\":\"bme680\",\"vsn\":\"W018\"}}\\n{\"timestamp\":\"2021-09-17T17:34:03.789543498Z\",\"name\":\"iio.in_temp_input\",\"value\":33020,\"meta\":{\"node\":\"000048b02d15bc7d\",\"plugin\":\"plugin-iio:0.2.0\",\"sensor\":\"bme680\",\"vsn\":\"W028\"}}\\n{\"timestamp\":\"2021-09-17T17:34:07.6975189Z\",\"name\":\"iio.in_temp_input\",\"value\":33260,\"meta\":{\"node\":\"000048b02d15c319\",\"plugin\":\"plugin-iio:0.2.0\",\"sensor\":\"bme680\",\"vsn\":\"W015\"}}\\n{\"timestamp\":\"2021-09-17T17:34:05.477312536Z\",\"name\":\"iio.in_temp_input\",\"value\":33380,\"meta\":{\"node\":\"000048b02d15c31f\",\"plugin\":\"plugin-iio:0.2.0\",\"sensor\":\"bme680\",\"vsn\":\"W01C\"}}\\n{\"timestamp\":\"2021-09-17T17:34:05.217874072Z\",\"name\":\"iio.in_temp_input\",\"value\":35460,\"meta\":{\"node\":\"000048b02d15c328\",\"plugin\":\"plugin-iio:0.2.0\",\"sensor\":\"bme680\",\"vsn\":\"W016\"}}\\n'"
      ]
     },
     "execution_count": 7,
     "metadata": {},
     "output_type": "execute_result"
    }
   ],
   "source": [
    "response.text"
   ]
  },
  {
   "cell_type": "code",
   "execution_count": 8,
   "id": "b56bf0e2",
   "metadata": {},
   "outputs": [
    {
     "name": "stdout",
     "output_type": "stream",
     "text": [
      "<class 'bytes'>\n",
      "<class 'bytes'>\n",
      "<class 'bytes'>\n",
      "<class 'bytes'>\n",
      "<class 'bytes'>\n",
      "<class 'bytes'>\n",
      "<class 'bytes'>\n",
      "<class 'bytes'>\n",
      "<class 'bytes'>\n",
      "<class 'bytes'>\n",
      "<class 'bytes'>\n",
      "<class 'bytes'>\n",
      "<class 'bytes'>\n",
      "<class 'bytes'>\n",
      "<class 'bytes'>\n",
      "<class 'bytes'>\n",
      "<class 'bytes'>\n",
      "<class 'bytes'>\n",
      "<class 'bytes'>\n",
      "<class 'bytes'>\n",
      "<class 'bytes'>\n",
      "<class 'bytes'>\n",
      "<class 'bytes'>\n",
      "<class 'bytes'>\n",
      "<class 'bytes'>\n",
      "<class 'bytes'>\n",
      "<class 'bytes'>\n",
      "<class 'bytes'>\n",
      "<class 'bytes'>\n",
      "<class 'bytes'>\n",
      "<class 'bytes'>\n",
      "<class 'bytes'>\n",
      "<class 'bytes'>\n",
      "<class 'bytes'>\n",
      "<class 'bytes'>\n",
      "<class 'bytes'>\n",
      "<class 'bytes'>\n",
      "<class 'bytes'>\n",
      "<class 'bytes'>\n",
      "<class 'bytes'>\n",
      "<class 'bytes'>\n",
      "<class 'bytes'>\n",
      "<class 'bytes'>\n",
      "<class 'bytes'>\n",
      "<class 'bytes'>\n",
      "<class 'bytes'>\n",
      "<class 'bytes'>\n",
      "<class 'bytes'>\n",
      "<class 'bytes'>\n",
      "<class 'bytes'>\n",
      "<class 'bytes'>\n",
      "<class 'bytes'>\n",
      "<class 'bytes'>\n",
      "<class 'bytes'>\n",
      "<class 'bytes'>\n",
      "<class 'bytes'>\n",
      "<class 'bytes'>\n",
      "<class 'bytes'>\n",
      "<class 'bytes'>\n",
      "<class 'bytes'>\n",
      "<class 'bytes'>\n",
      "<class 'bytes'>\n",
      "<class 'bytes'>\n"
     ]
    }
   ],
   "source": [
    "\n",
    "for line in response.iter_lines():\n",
    "    if line: print(type(line))\n",
    "        "
   ]
  },
  {
   "cell_type": "code",
   "execution_count": 9,
   "id": "e9109ddc",
   "metadata": {},
   "outputs": [
    {
     "name": "stdout",
     "output_type": "stream",
     "text": [
      "b'{\"timestamp\":\"2021-09-17T17:34:06.258840972Z\",\"name\":\"env.pressure\",\"value\":99571,\"meta\":{\"host\":\"0000dca632a2fa54.ws-rpi\",\"node\":\"000048b02d15bc87\",\"plugin\":\"plugin-iio:0.3.0\",\"sensor\":\"bme680\",\"vsn\":\"W019\"}}'\n",
      "b'{\"timestamp\":\"2021-09-17T17:34:07.849992498Z\",\"name\":\"env.pressure\",\"value\":99362,\"meta\":{\"node\":\"000048b02d05a1c2\",\"plugin\":\"plugin-iio:0.2.0\",\"sensor\":\"bme680\",\"vsn\":\"W02C\"}}'\n",
      "b'{\"timestamp\":\"2021-09-17T17:34:05.414017487Z\",\"name\":\"env.pressure\",\"value\":99280,\"meta\":{\"node\":\"000048b02d05a1c6\",\"plugin\":\"plugin-iio:0.2.0\",\"sensor\":\"bme680\",\"vsn\":\"W027\"}}'\n",
      "b'{\"timestamp\":\"2021-09-17T17:34:01.89018198Z\",\"name\":\"env.pressure\",\"value\":99298,\"meta\":{\"node\":\"000048b02d05a1c7\",\"plugin\":\"plugin-iio:0.2.0\",\"sensor\":\"bme680\",\"vsn\":\"W026\"}}'\n",
      "b'{\"timestamp\":\"2021-09-17T17:34:03.433823486Z\",\"name\":\"env.pressure\",\"value\":98417,\"meta\":{\"node\":\"000048b02d15bc72\",\"plugin\":\"plugin-iio:0.2.0\",\"sensor\":\"bme680\",\"vsn\":\"W018\"}}'\n",
      "b'{\"timestamp\":\"2021-09-17T17:34:03.793284037Z\",\"name\":\"env.pressure\",\"value\":98826,\"meta\":{\"node\":\"000048b02d15bc7d\",\"plugin\":\"plugin-iio:0.2.0\",\"sensor\":\"bme680\",\"vsn\":\"W028\"}}'\n",
      "b'{\"timestamp\":\"2021-09-17T17:34:07.695628892Z\",\"name\":\"env.pressure\",\"value\":99395,\"meta\":{\"node\":\"000048b02d15c319\",\"plugin\":\"plugin-iio:0.2.0\",\"sensor\":\"bme680\",\"vsn\":\"W015\"}}'\n",
      "b'{\"timestamp\":\"2021-09-17T17:34:05.480995238Z\",\"name\":\"env.pressure\",\"value\":99392,\"meta\":{\"node\":\"000048b02d15c31f\",\"plugin\":\"plugin-iio:0.2.0\",\"sensor\":\"bme680\",\"vsn\":\"W01C\"}}'\n",
      "b'{\"timestamp\":\"2021-09-17T17:34:05.211528222Z\",\"name\":\"env.pressure\",\"value\":98380,\"meta\":{\"node\":\"000048b02d15c328\",\"plugin\":\"plugin-iio:0.2.0\",\"sensor\":\"bme680\",\"vsn\":\"W016\"}}'\n",
      "b'{\"timestamp\":\"2021-09-17T17:34:06.25166782Z\",\"name\":\"env.relative_humidity\",\"value\":37.074,\"meta\":{\"host\":\"0000dca632a2fa54.ws-rpi\",\"node\":\"000048b02d15bc87\",\"plugin\":\"plugin-iio:0.3.0\",\"sensor\":\"bme680\",\"vsn\":\"W019\"}}'\n",
      "b'{\"timestamp\":\"2021-09-17T17:34:07.844189793Z\",\"name\":\"env.relative_humidity\",\"value\":35.43,\"meta\":{\"node\":\"000048b02d05a1c2\",\"plugin\":\"plugin-iio:0.2.0\",\"sensor\":\"bme680\",\"vsn\":\"W02C\"}}'\n",
      "b'{\"timestamp\":\"2021-09-17T17:34:05.425565987Z\",\"name\":\"env.relative_humidity\",\"value\":55.015,\"meta\":{\"node\":\"000048b02d05a1c6\",\"plugin\":\"plugin-iio:0.2.0\",\"sensor\":\"bme680\",\"vsn\":\"W027\"}}'\n",
      "b'{\"timestamp\":\"2021-09-17T17:34:01.892676758Z\",\"name\":\"env.relative_humidity\",\"value\":45.862,\"meta\":{\"node\":\"000048b02d05a1c7\",\"plugin\":\"plugin-iio:0.2.0\",\"sensor\":\"bme680\",\"vsn\":\"W026\"}}'\n",
      "b'{\"timestamp\":\"2021-09-17T17:34:03.427909703Z\",\"name\":\"env.relative_humidity\",\"value\":33.541,\"meta\":{\"node\":\"000048b02d15bc72\",\"plugin\":\"plugin-iio:0.2.0\",\"sensor\":\"bme680\",\"vsn\":\"W018\"}}'\n",
      "b'{\"timestamp\":\"2021-09-17T17:34:03.787232234Z\",\"name\":\"env.relative_humidity\",\"value\":36.464,\"meta\":{\"node\":\"000048b02d15bc7d\",\"plugin\":\"plugin-iio:0.2.0\",\"sensor\":\"bme680\",\"vsn\":\"W028\"}}'\n",
      "b'{\"timestamp\":\"2021-09-17T17:34:07.700492983Z\",\"name\":\"env.relative_humidity\",\"value\":35.901,\"meta\":{\"node\":\"000048b02d15c319\",\"plugin\":\"plugin-iio:0.2.0\",\"sensor\":\"bme680\",\"vsn\":\"W015\"}}'\n",
      "b'{\"timestamp\":\"2021-09-17T17:34:05.475814607Z\",\"name\":\"env.relative_humidity\",\"value\":36.227,\"meta\":{\"node\":\"000048b02d15c31f\",\"plugin\":\"plugin-iio:0.2.0\",\"sensor\":\"bme680\",\"vsn\":\"W01C\"}}'\n",
      "b'{\"timestamp\":\"2021-09-17T17:34:05.22041136Z\",\"name\":\"env.relative_humidity\",\"value\":41.714,\"meta\":{\"node\":\"000048b02d15c328\",\"plugin\":\"plugin-iio:0.2.0\",\"sensor\":\"bme680\",\"vsn\":\"W016\"}}'\n",
      "b'{\"timestamp\":\"2021-09-17T17:34:06.255821398Z\",\"name\":\"env.temperature\",\"value\":21.29,\"meta\":{\"host\":\"0000dca632a2fa54.ws-rpi\",\"node\":\"000048b02d15bc87\",\"plugin\":\"plugin-iio:0.3.0\",\"sensor\":\"bme680\",\"vsn\":\"W019\"}}'\n",
      "b'{\"timestamp\":\"2021-09-17T17:34:07.83985145Z\",\"name\":\"env.temperature\",\"value\":33.95,\"meta\":{\"node\":\"000048b02d05a1c2\",\"plugin\":\"plugin-iio:0.2.0\",\"sensor\":\"bme680\",\"vsn\":\"W02C\"}}'\n",
      "b'{\"timestamp\":\"2021-09-17T17:34:05.407887046Z\",\"name\":\"env.temperature\",\"value\":23.57,\"meta\":{\"node\":\"000048b02d05a1c6\",\"plugin\":\"plugin-iio:0.2.0\",\"sensor\":\"bme680\",\"vsn\":\"W027\"}}'\n",
      "b'{\"timestamp\":\"2021-09-17T17:34:01.89431316Z\",\"name\":\"env.temperature\",\"value\":25.91,\"meta\":{\"node\":\"000048b02d05a1c7\",\"plugin\":\"plugin-iio:0.2.0\",\"sensor\":\"bme680\",\"vsn\":\"W026\"}}'\n",
      "b'{\"timestamp\":\"2021-09-17T17:34:03.425906399Z\",\"name\":\"env.temperature\",\"value\":31.35,\"meta\":{\"node\":\"000048b02d15bc72\",\"plugin\":\"plugin-iio:0.2.0\",\"sensor\":\"bme680\",\"vsn\":\"W018\"}}'\n",
      "b'{\"timestamp\":\"2021-09-17T17:34:03.789641423Z\",\"name\":\"env.temperature\",\"value\":33.02,\"meta\":{\"node\":\"000048b02d15bc7d\",\"plugin\":\"plugin-iio:0.2.0\",\"sensor\":\"bme680\",\"vsn\":\"W028\"}}'\n",
      "b'{\"timestamp\":\"2021-09-17T17:34:07.69764012Z\",\"name\":\"env.temperature\",\"value\":33.26,\"meta\":{\"node\":\"000048b02d15c319\",\"plugin\":\"plugin-iio:0.2.0\",\"sensor\":\"bme680\",\"vsn\":\"W015\"}}'\n",
      "b'{\"timestamp\":\"2021-09-17T17:34:05.477426238Z\",\"name\":\"env.temperature\",\"value\":33.38,\"meta\":{\"node\":\"000048b02d15c31f\",\"plugin\":\"plugin-iio:0.2.0\",\"sensor\":\"bme680\",\"vsn\":\"W01C\"}}'\n",
      "b'{\"timestamp\":\"2021-09-17T17:34:05.217976644Z\",\"name\":\"env.temperature\",\"value\":35.46,\"meta\":{\"node\":\"000048b02d15c328\",\"plugin\":\"plugin-iio:0.2.0\",\"sensor\":\"bme680\",\"vsn\":\"W016\"}}'\n",
      "b'{\"timestamp\":\"2021-09-17T17:34:06.251410231Z\",\"name\":\"iio.in_humidityrelative_input\",\"value\":37.074,\"meta\":{\"host\":\"0000dca632a2fa54.ws-rpi\",\"node\":\"000048b02d15bc87\",\"plugin\":\"plugin-iio:0.3.0\",\"sensor\":\"bme680\",\"vsn\":\"W019\"}}'\n",
      "b'{\"timestamp\":\"2021-09-17T17:34:07.844073388Z\",\"name\":\"iio.in_humidityrelative_input\",\"value\":35.43,\"meta\":{\"node\":\"000048b02d05a1c2\",\"plugin\":\"plugin-iio:0.2.0\",\"sensor\":\"bme680\",\"vsn\":\"W02C\"}}'\n",
      "b'{\"timestamp\":\"2021-09-17T17:34:05.42480051Z\",\"name\":\"iio.in_humidityrelative_input\",\"value\":55.015,\"meta\":{\"node\":\"000048b02d05a1c6\",\"plugin\":\"plugin-iio:0.2.0\",\"sensor\":\"bme680\",\"vsn\":\"W027\"}}'\n",
      "b'{\"timestamp\":\"2021-09-17T17:34:01.892606111Z\",\"name\":\"iio.in_humidityrelative_input\",\"value\":45.862,\"meta\":{\"node\":\"000048b02d05a1c7\",\"plugin\":\"plugin-iio:0.2.0\",\"sensor\":\"bme680\",\"vsn\":\"W026\"}}'\n",
      "b'{\"timestamp\":\"2021-09-17T17:34:03.427820593Z\",\"name\":\"iio.in_humidityrelative_input\",\"value\":33.541,\"meta\":{\"node\":\"000048b02d15bc72\",\"plugin\":\"plugin-iio:0.2.0\",\"sensor\":\"bme680\",\"vsn\":\"W018\"}}'\n",
      "b'{\"timestamp\":\"2021-09-17T17:34:03.787119532Z\",\"name\":\"iio.in_humidityrelative_input\",\"value\":36.464,\"meta\":{\"node\":\"000048b02d15bc7d\",\"plugin\":\"plugin-iio:0.2.0\",\"sensor\":\"bme680\",\"vsn\":\"W028\"}}'\n",
      "b'{\"timestamp\":\"2021-09-17T17:34:07.700318616Z\",\"name\":\"iio.in_humidityrelative_input\",\"value\":35.901,\"meta\":{\"node\":\"000048b02d15c319\",\"plugin\":\"plugin-iio:0.2.0\",\"sensor\":\"bme680\",\"vsn\":\"W015\"}}'\n",
      "b'{\"timestamp\":\"2021-09-17T17:34:05.475715274Z\",\"name\":\"iio.in_humidityrelative_input\",\"value\":36.227,\"meta\":{\"node\":\"000048b02d15c31f\",\"plugin\":\"plugin-iio:0.2.0\",\"sensor\":\"bme680\",\"vsn\":\"W01C\"}}'\n",
      "b'{\"timestamp\":\"2021-09-17T17:34:05.220303232Z\",\"name\":\"iio.in_humidityrelative_input\",\"value\":41.714,\"meta\":{\"node\":\"000048b02d15c328\",\"plugin\":\"plugin-iio:0.2.0\",\"sensor\":\"bme680\",\"vsn\":\"W016\"}}'\n",
      "b'{\"timestamp\":\"2021-09-17T17:34:06.258715473Z\",\"name\":\"iio.in_pressure_input\",\"value\":995.71,\"meta\":{\"host\":\"0000dca632a2fa54.ws-rpi\",\"node\":\"000048b02d15bc87\",\"plugin\":\"plugin-iio:0.3.0\",\"sensor\":\"bme680\",\"vsn\":\"W019\"}}'\n",
      "b'{\"timestamp\":\"2021-09-17T17:34:07.849895592Z\",\"name\":\"iio.in_pressure_input\",\"value\":993.62,\"meta\":{\"node\":\"000048b02d05a1c2\",\"plugin\":\"plugin-iio:0.2.0\",\"sensor\":\"bme680\",\"vsn\":\"W02C\"}}'\n",
      "b'{\"timestamp\":\"2021-09-17T17:34:05.412851365Z\",\"name\":\"iio.in_pressure_input\",\"value\":992.8,\"meta\":{\"node\":\"000048b02d05a1c6\",\"plugin\":\"plugin-iio:0.2.0\",\"sensor\":\"bme680\",\"vsn\":\"W027\"}}'\n",
      "b'{\"timestamp\":\"2021-09-17T17:34:01.890105574Z\",\"name\":\"iio.in_pressure_input\",\"value\":992.98,\"meta\":{\"node\":\"000048b02d05a1c7\",\"plugin\":\"plugin-iio:0.2.0\",\"sensor\":\"bme680\",\"vsn\":\"W026\"}}'\n",
      "b'{\"timestamp\":\"2021-09-17T17:34:03.433734098Z\",\"name\":\"iio.in_pressure_input\",\"value\":984.17,\"meta\":{\"node\":\"000048b02d15bc72\",\"plugin\":\"plugin-iio:0.2.0\",\"sensor\":\"bme680\",\"vsn\":\"W018\"}}'\n",
      "b'{\"timestamp\":\"2021-09-17T17:34:03.793175558Z\",\"name\":\"iio.in_pressure_input\",\"value\":988.26,\"meta\":{\"node\":\"000048b02d15bc7d\",\"plugin\":\"plugin-iio:0.2.0\",\"sensor\":\"bme680\",\"vsn\":\"W028\"}}'\n",
      "b'{\"timestamp\":\"2021-09-17T17:34:07.695509117Z\",\"name\":\"iio.in_pressure_input\",\"value\":993.95,\"meta\":{\"node\":\"000048b02d15c319\",\"plugin\":\"plugin-iio:0.2.0\",\"sensor\":\"bme680\",\"vsn\":\"W015\"}}'\n",
      "b'{\"timestamp\":\"2021-09-17T17:34:05.480905591Z\",\"name\":\"iio.in_pressure_input\",\"value\":993.92,\"meta\":{\"node\":\"000048b02d15c31f\",\"plugin\":\"plugin-iio:0.2.0\",\"sensor\":\"bme680\",\"vsn\":\"W01C\"}}'\n",
      "b'{\"timestamp\":\"2021-09-17T17:34:05.211426242Z\",\"name\":\"iio.in_pressure_input\",\"value\":983.8,\"meta\":{\"node\":\"000048b02d15c328\",\"plugin\":\"plugin-iio:0.2.0\",\"sensor\":\"bme680\",\"vsn\":\"W016\"}}'\n",
      "b'{\"timestamp\":\"2021-09-17T17:34:06.264990914Z\",\"name\":\"iio.in_resistance_input\",\"value\":273299,\"meta\":{\"host\":\"0000dca632a2fa54.ws-rpi\",\"node\":\"000048b02d15bc87\",\"plugin\":\"plugin-iio:0.3.0\",\"sensor\":\"bme680\",\"vsn\":\"W019\"}}'\n",
      "b'{\"timestamp\":\"2021-09-17T17:34:07.847711985Z\",\"name\":\"iio.in_resistance_input\",\"value\":920962,\"meta\":{\"node\":\"000048b02d05a1c2\",\"plugin\":\"plugin-iio:0.2.0\",\"sensor\":\"bme680\",\"vsn\":\"W02C\"}}'\n",
      "b'{\"timestamp\":\"2021-09-17T17:34:05.418938604Z\",\"name\":\"iio.in_resistance_input\",\"value\":277974,\"meta\":{\"node\":\"000048b02d05a1c6\",\"plugin\":\"plugin-iio:0.2.0\",\"sensor\":\"bme680\",\"vsn\":\"W027\"}}'\n",
      "b'{\"timestamp\":\"2021-09-17T17:34:01.897433299Z\",\"name\":\"iio.in_resistance_input\",\"value\":566453,\"meta\":{\"node\":\"000048b02d05a1c7\",\"plugin\":\"plugin-iio:0.2.0\",\"sensor\":\"bme680\",\"vsn\":\"W026\"}}'\n",
      "b'{\"timestamp\":\"2021-09-17T17:34:03.431711035Z\",\"name\":\"iio.in_resistance_input\",\"value\":149601,\"meta\":{\"node\":\"000048b02d15bc72\",\"plugin\":\"plugin-iio:0.2.0\",\"sensor\":\"bme680\",\"vsn\":\"W018\"}}'\n",
      "b'{\"timestamp\":\"2021-09-17T17:34:03.784932378Z\",\"name\":\"iio.in_resistance_input\",\"value\":549877,\"meta\":{\"node\":\"000048b02d15bc7d\",\"plugin\":\"plugin-iio:0.2.0\",\"sensor\":\"bme680\",\"vsn\":\"W028\"}}'\n",
      "b'{\"timestamp\":\"2021-09-17T17:34:07.693364835Z\",\"name\":\"iio.in_resistance_input\",\"value\":471167,\"meta\":{\"node\":\"000048b02d15c319\",\"plugin\":\"plugin-iio:0.2.0\",\"sensor\":\"bme680\",\"vsn\":\"W015\"}}'\n",
      "b'{\"timestamp\":\"2021-09-17T17:34:05.484138372Z\",\"name\":\"iio.in_resistance_input\",\"value\":274408,\"meta\":{\"node\":\"000048b02d15c31f\",\"plugin\":\"plugin-iio:0.2.0\",\"sensor\":\"bme680\",\"vsn\":\"W01C\"}}'\n",
      "b'{\"timestamp\":\"2021-09-17T17:34:05.215573298Z\",\"name\":\"iio.in_resistance_input\",\"value\":310381,\"meta\":{\"node\":\"000048b02d15c328\",\"plugin\":\"plugin-iio:0.2.0\",\"sensor\":\"bme680\",\"vsn\":\"W016\"}}'\n",
      "b'{\"timestamp\":\"2021-09-17T17:34:06.255686881Z\",\"name\":\"iio.in_temp_input\",\"value\":21290,\"meta\":{\"host\":\"0000dca632a2fa54.ws-rpi\",\"node\":\"000048b02d15bc87\",\"plugin\":\"plugin-iio:0.3.0\",\"sensor\":\"bme680\",\"vsn\":\"W019\"}}'\n",
      "b'{\"timestamp\":\"2021-09-17T17:34:07.839741026Z\",\"name\":\"iio.in_temp_input\",\"value\":33950,\"meta\":{\"node\":\"000048b02d05a1c2\",\"plugin\":\"plugin-iio:0.2.0\",\"sensor\":\"bme680\",\"vsn\":\"W02C\"}}'\n",
      "b'{\"timestamp\":\"2021-09-17T17:34:05.406403129Z\",\"name\":\"iio.in_temp_input\",\"value\":23570,\"meta\":{\"node\":\"000048b02d05a1c6\",\"plugin\":\"plugin-iio:0.2.0\",\"sensor\":\"bme680\",\"vsn\":\"W027\"}}'\n",
      "b'{\"timestamp\":\"2021-09-17T17:34:01.894234198Z\",\"name\":\"iio.in_temp_input\",\"value\":25910,\"meta\":{\"node\":\"000048b02d05a1c7\",\"plugin\":\"plugin-iio:0.2.0\",\"sensor\":\"bme680\",\"vsn\":\"W026\"}}'\n",
      "b'{\"timestamp\":\"2021-09-17T17:34:03.425830363Z\",\"name\":\"iio.in_temp_input\",\"value\":31350,\"meta\":{\"node\":\"000048b02d15bc72\",\"plugin\":\"plugin-iio:0.2.0\",\"sensor\":\"bme680\",\"vsn\":\"W018\"}}'\n",
      "b'{\"timestamp\":\"2021-09-17T17:34:03.789543498Z\",\"name\":\"iio.in_temp_input\",\"value\":33020,\"meta\":{\"node\":\"000048b02d15bc7d\",\"plugin\":\"plugin-iio:0.2.0\",\"sensor\":\"bme680\",\"vsn\":\"W028\"}}'\n",
      "b'{\"timestamp\":\"2021-09-17T17:34:07.6975189Z\",\"name\":\"iio.in_temp_input\",\"value\":33260,\"meta\":{\"node\":\"000048b02d15c319\",\"plugin\":\"plugin-iio:0.2.0\",\"sensor\":\"bme680\",\"vsn\":\"W015\"}}'\n",
      "b'{\"timestamp\":\"2021-09-17T17:34:05.477312536Z\",\"name\":\"iio.in_temp_input\",\"value\":33380,\"meta\":{\"node\":\"000048b02d15c31f\",\"plugin\":\"plugin-iio:0.2.0\",\"sensor\":\"bme680\",\"vsn\":\"W01C\"}}'\n",
      "b'{\"timestamp\":\"2021-09-17T17:34:05.217874072Z\",\"name\":\"iio.in_temp_input\",\"value\":35460,\"meta\":{\"node\":\"000048b02d15c328\",\"plugin\":\"plugin-iio:0.2.0\",\"sensor\":\"bme680\",\"vsn\":\"W016\"}}'\n"
     ]
    }
   ],
   "source": [
    "\n",
    "for line in response.iter_lines():\n",
    "    if line: print (line)\n",
    "        "
   ]
  },
  {
   "cell_type": "code",
   "execution_count": 10,
   "id": "b40eb95b",
   "metadata": {},
   "outputs": [
    {
     "name": "stdout",
     "output_type": "stream",
     "text": [
      "{\"timestamp\":\"2021-09-17T17:34:06.258840972Z\",\"name\":\"env.pressure\",\"value\":99571,\"meta\":{\"host\":\"0000dca632a2fa54.ws-rpi\",\"node\":\"000048b02d15bc87\",\"plugin\":\"plugin-iio:0.3.0\",\"sensor\":\"bme680\",\"vsn\":\"W019\"}}\n",
      "{\"timestamp\":\"2021-09-17T17:34:07.849992498Z\",\"name\":\"env.pressure\",\"value\":99362,\"meta\":{\"node\":\"000048b02d05a1c2\",\"plugin\":\"plugin-iio:0.2.0\",\"sensor\":\"bme680\",\"vsn\":\"W02C\"}}\n",
      "{\"timestamp\":\"2021-09-17T17:34:05.414017487Z\",\"name\":\"env.pressure\",\"value\":99280,\"meta\":{\"node\":\"000048b02d05a1c6\",\"plugin\":\"plugin-iio:0.2.0\",\"sensor\":\"bme680\",\"vsn\":\"W027\"}}\n",
      "{\"timestamp\":\"2021-09-17T17:34:01.89018198Z\",\"name\":\"env.pressure\",\"value\":99298,\"meta\":{\"node\":\"000048b02d05a1c7\",\"plugin\":\"plugin-iio:0.2.0\",\"sensor\":\"bme680\",\"vsn\":\"W026\"}}\n",
      "{\"timestamp\":\"2021-09-17T17:34:03.433823486Z\",\"name\":\"env.pressure\",\"value\":98417,\"meta\":{\"node\":\"000048b02d15bc72\",\"plugin\":\"plugin-iio:0.2.0\",\"sensor\":\"bme680\",\"vsn\":\"W018\"}}\n",
      "{\"timestamp\":\"2021-09-17T17:34:03.793284037Z\",\"name\":\"env.pressure\",\"value\":98826,\"meta\":{\"node\":\"000048b02d15bc7d\",\"plugin\":\"plugin-iio:0.2.0\",\"sensor\":\"bme680\",\"vsn\":\"W028\"}}\n",
      "{\"timestamp\":\"2021-09-17T17:34:07.695628892Z\",\"name\":\"env.pressure\",\"value\":99395,\"meta\":{\"node\":\"000048b02d15c319\",\"plugin\":\"plugin-iio:0.2.0\",\"sensor\":\"bme680\",\"vsn\":\"W015\"}}\n",
      "{\"timestamp\":\"2021-09-17T17:34:05.480995238Z\",\"name\":\"env.pressure\",\"value\":99392,\"meta\":{\"node\":\"000048b02d15c31f\",\"plugin\":\"plugin-iio:0.2.0\",\"sensor\":\"bme680\",\"vsn\":\"W01C\"}}\n",
      "{\"timestamp\":\"2021-09-17T17:34:05.211528222Z\",\"name\":\"env.pressure\",\"value\":98380,\"meta\":{\"node\":\"000048b02d15c328\",\"plugin\":\"plugin-iio:0.2.0\",\"sensor\":\"bme680\",\"vsn\":\"W016\"}}\n",
      "{\"timestamp\":\"2021-09-17T17:34:06.25166782Z\",\"name\":\"env.relative_humidity\",\"value\":37.074,\"meta\":{\"host\":\"0000dca632a2fa54.ws-rpi\",\"node\":\"000048b02d15bc87\",\"plugin\":\"plugin-iio:0.3.0\",\"sensor\":\"bme680\",\"vsn\":\"W019\"}}\n",
      "{\"timestamp\":\"2021-09-17T17:34:07.844189793Z\",\"name\":\"env.relative_humidity\",\"value\":35.43,\"meta\":{\"node\":\"000048b02d05a1c2\",\"plugin\":\"plugin-iio:0.2.0\",\"sensor\":\"bme680\",\"vsn\":\"W02C\"}}\n",
      "{\"timestamp\":\"2021-09-17T17:34:05.425565987Z\",\"name\":\"env.relative_humidity\",\"value\":55.015,\"meta\":{\"node\":\"000048b02d05a1c6\",\"plugin\":\"plugin-iio:0.2.0\",\"sensor\":\"bme680\",\"vsn\":\"W027\"}}\n",
      "{\"timestamp\":\"2021-09-17T17:34:01.892676758Z\",\"name\":\"env.relative_humidity\",\"value\":45.862,\"meta\":{\"node\":\"000048b02d05a1c7\",\"plugin\":\"plugin-iio:0.2.0\",\"sensor\":\"bme680\",\"vsn\":\"W026\"}}\n",
      "{\"timestamp\":\"2021-09-17T17:34:03.427909703Z\",\"name\":\"env.relative_humidity\",\"value\":33.541,\"meta\":{\"node\":\"000048b02d15bc72\",\"plugin\":\"plugin-iio:0.2.0\",\"sensor\":\"bme680\",\"vsn\":\"W018\"}}\n",
      "{\"timestamp\":\"2021-09-17T17:34:03.787232234Z\",\"name\":\"env.relative_humidity\",\"value\":36.464,\"meta\":{\"node\":\"000048b02d15bc7d\",\"plugin\":\"plugin-iio:0.2.0\",\"sensor\":\"bme680\",\"vsn\":\"W028\"}}\n",
      "{\"timestamp\":\"2021-09-17T17:34:07.700492983Z\",\"name\":\"env.relative_humidity\",\"value\":35.901,\"meta\":{\"node\":\"000048b02d15c319\",\"plugin\":\"plugin-iio:0.2.0\",\"sensor\":\"bme680\",\"vsn\":\"W015\"}}\n",
      "{\"timestamp\":\"2021-09-17T17:34:05.475814607Z\",\"name\":\"env.relative_humidity\",\"value\":36.227,\"meta\":{\"node\":\"000048b02d15c31f\",\"plugin\":\"plugin-iio:0.2.0\",\"sensor\":\"bme680\",\"vsn\":\"W01C\"}}\n",
      "{\"timestamp\":\"2021-09-17T17:34:05.22041136Z\",\"name\":\"env.relative_humidity\",\"value\":41.714,\"meta\":{\"node\":\"000048b02d15c328\",\"plugin\":\"plugin-iio:0.2.0\",\"sensor\":\"bme680\",\"vsn\":\"W016\"}}\n",
      "{\"timestamp\":\"2021-09-17T17:34:06.255821398Z\",\"name\":\"env.temperature\",\"value\":21.29,\"meta\":{\"host\":\"0000dca632a2fa54.ws-rpi\",\"node\":\"000048b02d15bc87\",\"plugin\":\"plugin-iio:0.3.0\",\"sensor\":\"bme680\",\"vsn\":\"W019\"}}\n",
      "{\"timestamp\":\"2021-09-17T17:34:07.83985145Z\",\"name\":\"env.temperature\",\"value\":33.95,\"meta\":{\"node\":\"000048b02d05a1c2\",\"plugin\":\"plugin-iio:0.2.0\",\"sensor\":\"bme680\",\"vsn\":\"W02C\"}}\n",
      "{\"timestamp\":\"2021-09-17T17:34:05.407887046Z\",\"name\":\"env.temperature\",\"value\":23.57,\"meta\":{\"node\":\"000048b02d05a1c6\",\"plugin\":\"plugin-iio:0.2.0\",\"sensor\":\"bme680\",\"vsn\":\"W027\"}}\n",
      "{\"timestamp\":\"2021-09-17T17:34:01.89431316Z\",\"name\":\"env.temperature\",\"value\":25.91,\"meta\":{\"node\":\"000048b02d05a1c7\",\"plugin\":\"plugin-iio:0.2.0\",\"sensor\":\"bme680\",\"vsn\":\"W026\"}}\n",
      "{\"timestamp\":\"2021-09-17T17:34:03.425906399Z\",\"name\":\"env.temperature\",\"value\":31.35,\"meta\":{\"node\":\"000048b02d15bc72\",\"plugin\":\"plugin-iio:0.2.0\",\"sensor\":\"bme680\",\"vsn\":\"W018\"}}\n",
      "{\"timestamp\":\"2021-09-17T17:34:03.789641423Z\",\"name\":\"env.temperature\",\"value\":33.02,\"meta\":{\"node\":\"000048b02d15bc7d\",\"plugin\":\"plugin-iio:0.2.0\",\"sensor\":\"bme680\",\"vsn\":\"W028\"}}\n",
      "{\"timestamp\":\"2021-09-17T17:34:07.69764012Z\",\"name\":\"env.temperature\",\"value\":33.26,\"meta\":{\"node\":\"000048b02d15c319\",\"plugin\":\"plugin-iio:0.2.0\",\"sensor\":\"bme680\",\"vsn\":\"W015\"}}\n",
      "{\"timestamp\":\"2021-09-17T17:34:05.477426238Z\",\"name\":\"env.temperature\",\"value\":33.38,\"meta\":{\"node\":\"000048b02d15c31f\",\"plugin\":\"plugin-iio:0.2.0\",\"sensor\":\"bme680\",\"vsn\":\"W01C\"}}\n",
      "{\"timestamp\":\"2021-09-17T17:34:05.217976644Z\",\"name\":\"env.temperature\",\"value\":35.46,\"meta\":{\"node\":\"000048b02d15c328\",\"plugin\":\"plugin-iio:0.2.0\",\"sensor\":\"bme680\",\"vsn\":\"W016\"}}\n",
      "{\"timestamp\":\"2021-09-17T17:34:06.251410231Z\",\"name\":\"iio.in_humidityrelative_input\",\"value\":37.074,\"meta\":{\"host\":\"0000dca632a2fa54.ws-rpi\",\"node\":\"000048b02d15bc87\",\"plugin\":\"plugin-iio:0.3.0\",\"sensor\":\"bme680\",\"vsn\":\"W019\"}}\n",
      "{\"timestamp\":\"2021-09-17T17:34:07.844073388Z\",\"name\":\"iio.in_humidityrelative_input\",\"value\":35.43,\"meta\":{\"node\":\"000048b02d05a1c2\",\"plugin\":\"plugin-iio:0.2.0\",\"sensor\":\"bme680\",\"vsn\":\"W02C\"}}\n",
      "{\"timestamp\":\"2021-09-17T17:34:05.42480051Z\",\"name\":\"iio.in_humidityrelative_input\",\"value\":55.015,\"meta\":{\"node\":\"000048b02d05a1c6\",\"plugin\":\"plugin-iio:0.2.0\",\"sensor\":\"bme680\",\"vsn\":\"W027\"}}\n",
      "{\"timestamp\":\"2021-09-17T17:34:01.892606111Z\",\"name\":\"iio.in_humidityrelative_input\",\"value\":45.862,\"meta\":{\"node\":\"000048b02d05a1c7\",\"plugin\":\"plugin-iio:0.2.0\",\"sensor\":\"bme680\",\"vsn\":\"W026\"}}\n",
      "{\"timestamp\":\"2021-09-17T17:34:03.427820593Z\",\"name\":\"iio.in_humidityrelative_input\",\"value\":33.541,\"meta\":{\"node\":\"000048b02d15bc72\",\"plugin\":\"plugin-iio:0.2.0\",\"sensor\":\"bme680\",\"vsn\":\"W018\"}}\n",
      "{\"timestamp\":\"2021-09-17T17:34:03.787119532Z\",\"name\":\"iio.in_humidityrelative_input\",\"value\":36.464,\"meta\":{\"node\":\"000048b02d15bc7d\",\"plugin\":\"plugin-iio:0.2.0\",\"sensor\":\"bme680\",\"vsn\":\"W028\"}}\n",
      "{\"timestamp\":\"2021-09-17T17:34:07.700318616Z\",\"name\":\"iio.in_humidityrelative_input\",\"value\":35.901,\"meta\":{\"node\":\"000048b02d15c319\",\"plugin\":\"plugin-iio:0.2.0\",\"sensor\":\"bme680\",\"vsn\":\"W015\"}}\n",
      "{\"timestamp\":\"2021-09-17T17:34:05.475715274Z\",\"name\":\"iio.in_humidityrelative_input\",\"value\":36.227,\"meta\":{\"node\":\"000048b02d15c31f\",\"plugin\":\"plugin-iio:0.2.0\",\"sensor\":\"bme680\",\"vsn\":\"W01C\"}}\n",
      "{\"timestamp\":\"2021-09-17T17:34:05.220303232Z\",\"name\":\"iio.in_humidityrelative_input\",\"value\":41.714,\"meta\":{\"node\":\"000048b02d15c328\",\"plugin\":\"plugin-iio:0.2.0\",\"sensor\":\"bme680\",\"vsn\":\"W016\"}}\n",
      "{\"timestamp\":\"2021-09-17T17:34:06.258715473Z\",\"name\":\"iio.in_pressure_input\",\"value\":995.71,\"meta\":{\"host\":\"0000dca632a2fa54.ws-rpi\",\"node\":\"000048b02d15bc87\",\"plugin\":\"plugin-iio:0.3.0\",\"sensor\":\"bme680\",\"vsn\":\"W019\"}}\n",
      "{\"timestamp\":\"2021-09-17T17:34:07.849895592Z\",\"name\":\"iio.in_pressure_input\",\"value\":993.62,\"meta\":{\"node\":\"000048b02d05a1c2\",\"plugin\":\"plugin-iio:0.2.0\",\"sensor\":\"bme680\",\"vsn\":\"W02C\"}}\n",
      "{\"timestamp\":\"2021-09-17T17:34:05.412851365Z\",\"name\":\"iio.in_pressure_input\",\"value\":992.8,\"meta\":{\"node\":\"000048b02d05a1c6\",\"plugin\":\"plugin-iio:0.2.0\",\"sensor\":\"bme680\",\"vsn\":\"W027\"}}\n",
      "{\"timestamp\":\"2021-09-17T17:34:01.890105574Z\",\"name\":\"iio.in_pressure_input\",\"value\":992.98,\"meta\":{\"node\":\"000048b02d05a1c7\",\"plugin\":\"plugin-iio:0.2.0\",\"sensor\":\"bme680\",\"vsn\":\"W026\"}}\n",
      "{\"timestamp\":\"2021-09-17T17:34:03.433734098Z\",\"name\":\"iio.in_pressure_input\",\"value\":984.17,\"meta\":{\"node\":\"000048b02d15bc72\",\"plugin\":\"plugin-iio:0.2.0\",\"sensor\":\"bme680\",\"vsn\":\"W018\"}}\n",
      "{\"timestamp\":\"2021-09-17T17:34:03.793175558Z\",\"name\":\"iio.in_pressure_input\",\"value\":988.26,\"meta\":{\"node\":\"000048b02d15bc7d\",\"plugin\":\"plugin-iio:0.2.0\",\"sensor\":\"bme680\",\"vsn\":\"W028\"}}\n",
      "{\"timestamp\":\"2021-09-17T17:34:07.695509117Z\",\"name\":\"iio.in_pressure_input\",\"value\":993.95,\"meta\":{\"node\":\"000048b02d15c319\",\"plugin\":\"plugin-iio:0.2.0\",\"sensor\":\"bme680\",\"vsn\":\"W015\"}}\n",
      "{\"timestamp\":\"2021-09-17T17:34:05.480905591Z\",\"name\":\"iio.in_pressure_input\",\"value\":993.92,\"meta\":{\"node\":\"000048b02d15c31f\",\"plugin\":\"plugin-iio:0.2.0\",\"sensor\":\"bme680\",\"vsn\":\"W01C\"}}\n",
      "{\"timestamp\":\"2021-09-17T17:34:05.211426242Z\",\"name\":\"iio.in_pressure_input\",\"value\":983.8,\"meta\":{\"node\":\"000048b02d15c328\",\"plugin\":\"plugin-iio:0.2.0\",\"sensor\":\"bme680\",\"vsn\":\"W016\"}}\n",
      "{\"timestamp\":\"2021-09-17T17:34:06.264990914Z\",\"name\":\"iio.in_resistance_input\",\"value\":273299,\"meta\":{\"host\":\"0000dca632a2fa54.ws-rpi\",\"node\":\"000048b02d15bc87\",\"plugin\":\"plugin-iio:0.3.0\",\"sensor\":\"bme680\",\"vsn\":\"W019\"}}\n",
      "{\"timestamp\":\"2021-09-17T17:34:07.847711985Z\",\"name\":\"iio.in_resistance_input\",\"value\":920962,\"meta\":{\"node\":\"000048b02d05a1c2\",\"plugin\":\"plugin-iio:0.2.0\",\"sensor\":\"bme680\",\"vsn\":\"W02C\"}}\n",
      "{\"timestamp\":\"2021-09-17T17:34:05.418938604Z\",\"name\":\"iio.in_resistance_input\",\"value\":277974,\"meta\":{\"node\":\"000048b02d05a1c6\",\"plugin\":\"plugin-iio:0.2.0\",\"sensor\":\"bme680\",\"vsn\":\"W027\"}}\n",
      "{\"timestamp\":\"2021-09-17T17:34:01.897433299Z\",\"name\":\"iio.in_resistance_input\",\"value\":566453,\"meta\":{\"node\":\"000048b02d05a1c7\",\"plugin\":\"plugin-iio:0.2.0\",\"sensor\":\"bme680\",\"vsn\":\"W026\"}}\n",
      "{\"timestamp\":\"2021-09-17T17:34:03.431711035Z\",\"name\":\"iio.in_resistance_input\",\"value\":149601,\"meta\":{\"node\":\"000048b02d15bc72\",\"plugin\":\"plugin-iio:0.2.0\",\"sensor\":\"bme680\",\"vsn\":\"W018\"}}\n",
      "{\"timestamp\":\"2021-09-17T17:34:03.784932378Z\",\"name\":\"iio.in_resistance_input\",\"value\":549877,\"meta\":{\"node\":\"000048b02d15bc7d\",\"plugin\":\"plugin-iio:0.2.0\",\"sensor\":\"bme680\",\"vsn\":\"W028\"}}\n",
      "{\"timestamp\":\"2021-09-17T17:34:07.693364835Z\",\"name\":\"iio.in_resistance_input\",\"value\":471167,\"meta\":{\"node\":\"000048b02d15c319\",\"plugin\":\"plugin-iio:0.2.0\",\"sensor\":\"bme680\",\"vsn\":\"W015\"}}\n",
      "{\"timestamp\":\"2021-09-17T17:34:05.484138372Z\",\"name\":\"iio.in_resistance_input\",\"value\":274408,\"meta\":{\"node\":\"000048b02d15c31f\",\"plugin\":\"plugin-iio:0.2.0\",\"sensor\":\"bme680\",\"vsn\":\"W01C\"}}\n",
      "{\"timestamp\":\"2021-09-17T17:34:05.215573298Z\",\"name\":\"iio.in_resistance_input\",\"value\":310381,\"meta\":{\"node\":\"000048b02d15c328\",\"plugin\":\"plugin-iio:0.2.0\",\"sensor\":\"bme680\",\"vsn\":\"W016\"}}\n",
      "{\"timestamp\":\"2021-09-17T17:34:06.255686881Z\",\"name\":\"iio.in_temp_input\",\"value\":21290,\"meta\":{\"host\":\"0000dca632a2fa54.ws-rpi\",\"node\":\"000048b02d15bc87\",\"plugin\":\"plugin-iio:0.3.0\",\"sensor\":\"bme680\",\"vsn\":\"W019\"}}\n",
      "{\"timestamp\":\"2021-09-17T17:34:07.839741026Z\",\"name\":\"iio.in_temp_input\",\"value\":33950,\"meta\":{\"node\":\"000048b02d05a1c2\",\"plugin\":\"plugin-iio:0.2.0\",\"sensor\":\"bme680\",\"vsn\":\"W02C\"}}\n",
      "{\"timestamp\":\"2021-09-17T17:34:05.406403129Z\",\"name\":\"iio.in_temp_input\",\"value\":23570,\"meta\":{\"node\":\"000048b02d05a1c6\",\"plugin\":\"plugin-iio:0.2.0\",\"sensor\":\"bme680\",\"vsn\":\"W027\"}}\n",
      "{\"timestamp\":\"2021-09-17T17:34:01.894234198Z\",\"name\":\"iio.in_temp_input\",\"value\":25910,\"meta\":{\"node\":\"000048b02d05a1c7\",\"plugin\":\"plugin-iio:0.2.0\",\"sensor\":\"bme680\",\"vsn\":\"W026\"}}\n",
      "{\"timestamp\":\"2021-09-17T17:34:03.425830363Z\",\"name\":\"iio.in_temp_input\",\"value\":31350,\"meta\":{\"node\":\"000048b02d15bc72\",\"plugin\":\"plugin-iio:0.2.0\",\"sensor\":\"bme680\",\"vsn\":\"W018\"}}\n",
      "{\"timestamp\":\"2021-09-17T17:34:03.789543498Z\",\"name\":\"iio.in_temp_input\",\"value\":33020,\"meta\":{\"node\":\"000048b02d15bc7d\",\"plugin\":\"plugin-iio:0.2.0\",\"sensor\":\"bme680\",\"vsn\":\"W028\"}}\n",
      "{\"timestamp\":\"2021-09-17T17:34:07.6975189Z\",\"name\":\"iio.in_temp_input\",\"value\":33260,\"meta\":{\"node\":\"000048b02d15c319\",\"plugin\":\"plugin-iio:0.2.0\",\"sensor\":\"bme680\",\"vsn\":\"W015\"}}\n",
      "{\"timestamp\":\"2021-09-17T17:34:05.477312536Z\",\"name\":\"iio.in_temp_input\",\"value\":33380,\"meta\":{\"node\":\"000048b02d15c31f\",\"plugin\":\"plugin-iio:0.2.0\",\"sensor\":\"bme680\",\"vsn\":\"W01C\"}}\n",
      "{\"timestamp\":\"2021-09-17T17:34:05.217874072Z\",\"name\":\"iio.in_temp_input\",\"value\":35460,\"meta\":{\"node\":\"000048b02d15c328\",\"plugin\":\"plugin-iio:0.2.0\",\"sensor\":\"bme680\",\"vsn\":\"W016\"}}\n"
     ]
    }
   ],
   "source": [
    "            \n",
    "encoding = 'utf-8'\n",
    "for line in response.iter_lines():\n",
    "    if line: print (line.decode(encoding))        \n"
   ]
  },
  {
   "cell_type": "code",
   "execution_count": 11,
   "id": "231d7037",
   "metadata": {},
   "outputs": [
    {
     "name": "stdout",
     "output_type": "stream",
     "text": [
      "{\"timestamp\":\"2021-09-17T17:34:06.258840972Z\",\"name\":\"env.pressure\",\"value\":99571,\"meta\":{\"host\":\"0000dca632a2fa54.ws-rpi\",\"node\":\"000048b02d15bc87\",\"plugin\":\"plugin-iio:0.3.0\",\"sensor\":\"bme680\",\"vsn\":\"W019\"}}\n",
      "{\"timestamp\":\"2021-09-17T17:34:07.849992498Z\",\"name\":\"env.pressure\",\"value\":99362,\"meta\":{\"node\":\"000048b02d05a1c2\",\"plugin\":\"plugin-iio:0.2.0\",\"sensor\":\"bme680\",\"vsn\":\"W02C\"}}\n",
      "{\"timestamp\":\"2021-09-17T17:34:05.414017487Z\",\"name\":\"env.pressure\",\"value\":99280,\"meta\":{\"node\":\"000048b02d05a1c6\",\"plugin\":\"plugin-iio:0.2.0\",\"sensor\":\"bme680\",\"vsn\":\"W027\"}}\n",
      "{\"timestamp\":\"2021-09-17T17:34:01.89018198Z\",\"name\":\"env.pressure\",\"value\":99298,\"meta\":{\"node\":\"000048b02d05a1c7\",\"plugin\":\"plugin-iio:0.2.0\",\"sensor\":\"bme680\",\"vsn\":\"W026\"}}\n",
      "{\"timestamp\":\"2021-09-17T17:34:03.433823486Z\",\"name\":\"env.pressure\",\"value\":98417,\"meta\":{\"node\":\"000048b02d15bc72\",\"plugin\":\"plugin-iio:0.2.0\",\"sensor\":\"bme680\",\"vsn\":\"W018\"}}\n",
      "{\"timestamp\":\"2021-09-17T17:34:03.793284037Z\",\"name\":\"env.pressure\",\"value\":98826,\"meta\":{\"node\":\"000048b02d15bc7d\",\"plugin\":\"plugin-iio:0.2.0\",\"sensor\":\"bme680\",\"vsn\":\"W028\"}}\n",
      "{\"timestamp\":\"2021-09-17T17:34:07.695628892Z\",\"name\":\"env.pressure\",\"value\":99395,\"meta\":{\"node\":\"000048b02d15c319\",\"plugin\":\"plugin-iio:0.2.0\",\"sensor\":\"bme680\",\"vsn\":\"W015\"}}\n",
      "{\"timestamp\":\"2021-09-17T17:34:05.480995238Z\",\"name\":\"env.pressure\",\"value\":99392,\"meta\":{\"node\":\"000048b02d15c31f\",\"plugin\":\"plugin-iio:0.2.0\",\"sensor\":\"bme680\",\"vsn\":\"W01C\"}}\n",
      "{\"timestamp\":\"2021-09-17T17:34:05.211528222Z\",\"name\":\"env.pressure\",\"value\":98380,\"meta\":{\"node\":\"000048b02d15c328\",\"plugin\":\"plugin-iio:0.2.0\",\"sensor\":\"bme680\",\"vsn\":\"W016\"}}\n",
      "{\"timestamp\":\"2021-09-17T17:34:06.25166782Z\",\"name\":\"env.relative_humidity\",\"value\":37.074,\"meta\":{\"host\":\"0000dca632a2fa54.ws-rpi\",\"node\":\"000048b02d15bc87\",\"plugin\":\"plugin-iio:0.3.0\",\"sensor\":\"bme680\",\"vsn\":\"W019\"}}\n",
      "{\"timestamp\":\"2021-09-17T17:34:07.844189793Z\",\"name\":\"env.relative_humidity\",\"value\":35.43,\"meta\":{\"node\":\"000048b02d05a1c2\",\"plugin\":\"plugin-iio:0.2.0\",\"sensor\":\"bme680\",\"vsn\":\"W02C\"}}\n",
      "{\"timestamp\":\"2021-09-17T17:34:05.425565987Z\",\"name\":\"env.relative_humidity\",\"value\":55.015,\"meta\":{\"node\":\"000048b02d05a1c6\",\"plugin\":\"plugin-iio:0.2.0\",\"sensor\":\"bme680\",\"vsn\":\"W027\"}}\n",
      "{\"timestamp\":\"2021-09-17T17:34:01.892676758Z\",\"name\":\"env.relative_humidity\",\"value\":45.862,\"meta\":{\"node\":\"000048b02d05a1c7\",\"plugin\":\"plugin-iio:0.2.0\",\"sensor\":\"bme680\",\"vsn\":\"W026\"}}\n",
      "{\"timestamp\":\"2021-09-17T17:34:03.427909703Z\",\"name\":\"env.relative_humidity\",\"value\":33.541,\"meta\":{\"node\":\"000048b02d15bc72\",\"plugin\":\"plugin-iio:0.2.0\",\"sensor\":\"bme680\",\"vsn\":\"W018\"}}\n",
      "{\"timestamp\":\"2021-09-17T17:34:03.787232234Z\",\"name\":\"env.relative_humidity\",\"value\":36.464,\"meta\":{\"node\":\"000048b02d15bc7d\",\"plugin\":\"plugin-iio:0.2.0\",\"sensor\":\"bme680\",\"vsn\":\"W028\"}}\n",
      "{\"timestamp\":\"2021-09-17T17:34:07.700492983Z\",\"name\":\"env.relative_humidity\",\"value\":35.901,\"meta\":{\"node\":\"000048b02d15c319\",\"plugin\":\"plugin-iio:0.2.0\",\"sensor\":\"bme680\",\"vsn\":\"W015\"}}\n",
      "{\"timestamp\":\"2021-09-17T17:34:05.475814607Z\",\"name\":\"env.relative_humidity\",\"value\":36.227,\"meta\":{\"node\":\"000048b02d15c31f\",\"plugin\":\"plugin-iio:0.2.0\",\"sensor\":\"bme680\",\"vsn\":\"W01C\"}}\n",
      "{\"timestamp\":\"2021-09-17T17:34:05.22041136Z\",\"name\":\"env.relative_humidity\",\"value\":41.714,\"meta\":{\"node\":\"000048b02d15c328\",\"plugin\":\"plugin-iio:0.2.0\",\"sensor\":\"bme680\",\"vsn\":\"W016\"}}\n",
      "{\"timestamp\":\"2021-09-17T17:34:06.255821398Z\",\"name\":\"env.temperature\",\"value\":21.29,\"meta\":{\"host\":\"0000dca632a2fa54.ws-rpi\",\"node\":\"000048b02d15bc87\",\"plugin\":\"plugin-iio:0.3.0\",\"sensor\":\"bme680\",\"vsn\":\"W019\"}}\n",
      "{\"timestamp\":\"2021-09-17T17:34:07.83985145Z\",\"name\":\"env.temperature\",\"value\":33.95,\"meta\":{\"node\":\"000048b02d05a1c2\",\"plugin\":\"plugin-iio:0.2.0\",\"sensor\":\"bme680\",\"vsn\":\"W02C\"}}\n",
      "{\"timestamp\":\"2021-09-17T17:34:05.407887046Z\",\"name\":\"env.temperature\",\"value\":23.57,\"meta\":{\"node\":\"000048b02d05a1c6\",\"plugin\":\"plugin-iio:0.2.0\",\"sensor\":\"bme680\",\"vsn\":\"W027\"}}\n",
      "{\"timestamp\":\"2021-09-17T17:34:01.89431316Z\",\"name\":\"env.temperature\",\"value\":25.91,\"meta\":{\"node\":\"000048b02d05a1c7\",\"plugin\":\"plugin-iio:0.2.0\",\"sensor\":\"bme680\",\"vsn\":\"W026\"}}\n",
      "{\"timestamp\":\"2021-09-17T17:34:03.425906399Z\",\"name\":\"env.temperature\",\"value\":31.35,\"meta\":{\"node\":\"000048b02d15bc72\",\"plugin\":\"plugin-iio:0.2.0\",\"sensor\":\"bme680\",\"vsn\":\"W018\"}}\n",
      "{\"timestamp\":\"2021-09-17T17:34:03.789641423Z\",\"name\":\"env.temperature\",\"value\":33.02,\"meta\":{\"node\":\"000048b02d15bc7d\",\"plugin\":\"plugin-iio:0.2.0\",\"sensor\":\"bme680\",\"vsn\":\"W028\"}}\n",
      "{\"timestamp\":\"2021-09-17T17:34:07.69764012Z\",\"name\":\"env.temperature\",\"value\":33.26,\"meta\":{\"node\":\"000048b02d15c319\",\"plugin\":\"plugin-iio:0.2.0\",\"sensor\":\"bme680\",\"vsn\":\"W015\"}}\n",
      "{\"timestamp\":\"2021-09-17T17:34:05.477426238Z\",\"name\":\"env.temperature\",\"value\":33.38,\"meta\":{\"node\":\"000048b02d15c31f\",\"plugin\":\"plugin-iio:0.2.0\",\"sensor\":\"bme680\",\"vsn\":\"W01C\"}}\n",
      "{\"timestamp\":\"2021-09-17T17:34:05.217976644Z\",\"name\":\"env.temperature\",\"value\":35.46,\"meta\":{\"node\":\"000048b02d15c328\",\"plugin\":\"plugin-iio:0.2.0\",\"sensor\":\"bme680\",\"vsn\":\"W016\"}}\n",
      "{\"timestamp\":\"2021-09-17T17:34:06.251410231Z\",\"name\":\"iio.in_humidityrelative_input\",\"value\":37.074,\"meta\":{\"host\":\"0000dca632a2fa54.ws-rpi\",\"node\":\"000048b02d15bc87\",\"plugin\":\"plugin-iio:0.3.0\",\"sensor\":\"bme680\",\"vsn\":\"W019\"}}\n",
      "{\"timestamp\":\"2021-09-17T17:34:07.844073388Z\",\"name\":\"iio.in_humidityrelative_input\",\"value\":35.43,\"meta\":{\"node\":\"000048b02d05a1c2\",\"plugin\":\"plugin-iio:0.2.0\",\"sensor\":\"bme680\",\"vsn\":\"W02C\"}}\n",
      "{\"timestamp\":\"2021-09-17T17:34:05.42480051Z\",\"name\":\"iio.in_humidityrelative_input\",\"value\":55.015,\"meta\":{\"node\":\"000048b02d05a1c6\",\"plugin\":\"plugin-iio:0.2.0\",\"sensor\":\"bme680\",\"vsn\":\"W027\"}}\n",
      "{\"timestamp\":\"2021-09-17T17:34:01.892606111Z\",\"name\":\"iio.in_humidityrelative_input\",\"value\":45.862,\"meta\":{\"node\":\"000048b02d05a1c7\",\"plugin\":\"plugin-iio:0.2.0\",\"sensor\":\"bme680\",\"vsn\":\"W026\"}}\n",
      "{\"timestamp\":\"2021-09-17T17:34:03.427820593Z\",\"name\":\"iio.in_humidityrelative_input\",\"value\":33.541,\"meta\":{\"node\":\"000048b02d15bc72\",\"plugin\":\"plugin-iio:0.2.0\",\"sensor\":\"bme680\",\"vsn\":\"W018\"}}\n",
      "{\"timestamp\":\"2021-09-17T17:34:03.787119532Z\",\"name\":\"iio.in_humidityrelative_input\",\"value\":36.464,\"meta\":{\"node\":\"000048b02d15bc7d\",\"plugin\":\"plugin-iio:0.2.0\",\"sensor\":\"bme680\",\"vsn\":\"W028\"}}\n",
      "{\"timestamp\":\"2021-09-17T17:34:07.700318616Z\",\"name\":\"iio.in_humidityrelative_input\",\"value\":35.901,\"meta\":{\"node\":\"000048b02d15c319\",\"plugin\":\"plugin-iio:0.2.0\",\"sensor\":\"bme680\",\"vsn\":\"W015\"}}\n",
      "{\"timestamp\":\"2021-09-17T17:34:05.475715274Z\",\"name\":\"iio.in_humidityrelative_input\",\"value\":36.227,\"meta\":{\"node\":\"000048b02d15c31f\",\"plugin\":\"plugin-iio:0.2.0\",\"sensor\":\"bme680\",\"vsn\":\"W01C\"}}\n",
      "{\"timestamp\":\"2021-09-17T17:34:05.220303232Z\",\"name\":\"iio.in_humidityrelative_input\",\"value\":41.714,\"meta\":{\"node\":\"000048b02d15c328\",\"plugin\":\"plugin-iio:0.2.0\",\"sensor\":\"bme680\",\"vsn\":\"W016\"}}\n",
      "{\"timestamp\":\"2021-09-17T17:34:06.258715473Z\",\"name\":\"iio.in_pressure_input\",\"value\":995.71,\"meta\":{\"host\":\"0000dca632a2fa54.ws-rpi\",\"node\":\"000048b02d15bc87\",\"plugin\":\"plugin-iio:0.3.0\",\"sensor\":\"bme680\",\"vsn\":\"W019\"}}\n",
      "{\"timestamp\":\"2021-09-17T17:34:07.849895592Z\",\"name\":\"iio.in_pressure_input\",\"value\":993.62,\"meta\":{\"node\":\"000048b02d05a1c2\",\"plugin\":\"plugin-iio:0.2.0\",\"sensor\":\"bme680\",\"vsn\":\"W02C\"}}\n",
      "{\"timestamp\":\"2021-09-17T17:34:05.412851365Z\",\"name\":\"iio.in_pressure_input\",\"value\":992.8,\"meta\":{\"node\":\"000048b02d05a1c6\",\"plugin\":\"plugin-iio:0.2.0\",\"sensor\":\"bme680\",\"vsn\":\"W027\"}}\n",
      "{\"timestamp\":\"2021-09-17T17:34:01.890105574Z\",\"name\":\"iio.in_pressure_input\",\"value\":992.98,\"meta\":{\"node\":\"000048b02d05a1c7\",\"plugin\":\"plugin-iio:0.2.0\",\"sensor\":\"bme680\",\"vsn\":\"W026\"}}\n",
      "{\"timestamp\":\"2021-09-17T17:34:03.433734098Z\",\"name\":\"iio.in_pressure_input\",\"value\":984.17,\"meta\":{\"node\":\"000048b02d15bc72\",\"plugin\":\"plugin-iio:0.2.0\",\"sensor\":\"bme680\",\"vsn\":\"W018\"}}\n",
      "{\"timestamp\":\"2021-09-17T17:34:03.793175558Z\",\"name\":\"iio.in_pressure_input\",\"value\":988.26,\"meta\":{\"node\":\"000048b02d15bc7d\",\"plugin\":\"plugin-iio:0.2.0\",\"sensor\":\"bme680\",\"vsn\":\"W028\"}}\n",
      "{\"timestamp\":\"2021-09-17T17:34:07.695509117Z\",\"name\":\"iio.in_pressure_input\",\"value\":993.95,\"meta\":{\"node\":\"000048b02d15c319\",\"plugin\":\"plugin-iio:0.2.0\",\"sensor\":\"bme680\",\"vsn\":\"W015\"}}\n",
      "{\"timestamp\":\"2021-09-17T17:34:05.480905591Z\",\"name\":\"iio.in_pressure_input\",\"value\":993.92,\"meta\":{\"node\":\"000048b02d15c31f\",\"plugin\":\"plugin-iio:0.2.0\",\"sensor\":\"bme680\",\"vsn\":\"W01C\"}}\n",
      "{\"timestamp\":\"2021-09-17T17:34:05.211426242Z\",\"name\":\"iio.in_pressure_input\",\"value\":983.8,\"meta\":{\"node\":\"000048b02d15c328\",\"plugin\":\"plugin-iio:0.2.0\",\"sensor\":\"bme680\",\"vsn\":\"W016\"}}\n",
      "{\"timestamp\":\"2021-09-17T17:34:06.264990914Z\",\"name\":\"iio.in_resistance_input\",\"value\":273299,\"meta\":{\"host\":\"0000dca632a2fa54.ws-rpi\",\"node\":\"000048b02d15bc87\",\"plugin\":\"plugin-iio:0.3.0\",\"sensor\":\"bme680\",\"vsn\":\"W019\"}}\n",
      "{\"timestamp\":\"2021-09-17T17:34:07.847711985Z\",\"name\":\"iio.in_resistance_input\",\"value\":920962,\"meta\":{\"node\":\"000048b02d05a1c2\",\"plugin\":\"plugin-iio:0.2.0\",\"sensor\":\"bme680\",\"vsn\":\"W02C\"}}\n",
      "{\"timestamp\":\"2021-09-17T17:34:05.418938604Z\",\"name\":\"iio.in_resistance_input\",\"value\":277974,\"meta\":{\"node\":\"000048b02d05a1c6\",\"plugin\":\"plugin-iio:0.2.0\",\"sensor\":\"bme680\",\"vsn\":\"W027\"}}\n",
      "{\"timestamp\":\"2021-09-17T17:34:01.897433299Z\",\"name\":\"iio.in_resistance_input\",\"value\":566453,\"meta\":{\"node\":\"000048b02d05a1c7\",\"plugin\":\"plugin-iio:0.2.0\",\"sensor\":\"bme680\",\"vsn\":\"W026\"}}\n",
      "{\"timestamp\":\"2021-09-17T17:34:03.431711035Z\",\"name\":\"iio.in_resistance_input\",\"value\":149601,\"meta\":{\"node\":\"000048b02d15bc72\",\"plugin\":\"plugin-iio:0.2.0\",\"sensor\":\"bme680\",\"vsn\":\"W018\"}}\n",
      "{\"timestamp\":\"2021-09-17T17:34:03.784932378Z\",\"name\":\"iio.in_resistance_input\",\"value\":549877,\"meta\":{\"node\":\"000048b02d15bc7d\",\"plugin\":\"plugin-iio:0.2.0\",\"sensor\":\"bme680\",\"vsn\":\"W028\"}}\n",
      "{\"timestamp\":\"2021-09-17T17:34:07.693364835Z\",\"name\":\"iio.in_resistance_input\",\"value\":471167,\"meta\":{\"node\":\"000048b02d15c319\",\"plugin\":\"plugin-iio:0.2.0\",\"sensor\":\"bme680\",\"vsn\":\"W015\"}}\n",
      "{\"timestamp\":\"2021-09-17T17:34:05.484138372Z\",\"name\":\"iio.in_resistance_input\",\"value\":274408,\"meta\":{\"node\":\"000048b02d15c31f\",\"plugin\":\"plugin-iio:0.2.0\",\"sensor\":\"bme680\",\"vsn\":\"W01C\"}}\n",
      "{\"timestamp\":\"2021-09-17T17:34:05.215573298Z\",\"name\":\"iio.in_resistance_input\",\"value\":310381,\"meta\":{\"node\":\"000048b02d15c328\",\"plugin\":\"plugin-iio:0.2.0\",\"sensor\":\"bme680\",\"vsn\":\"W016\"}}\n",
      "{\"timestamp\":\"2021-09-17T17:34:06.255686881Z\",\"name\":\"iio.in_temp_input\",\"value\":21290,\"meta\":{\"host\":\"0000dca632a2fa54.ws-rpi\",\"node\":\"000048b02d15bc87\",\"plugin\":\"plugin-iio:0.3.0\",\"sensor\":\"bme680\",\"vsn\":\"W019\"}}\n",
      "{\"timestamp\":\"2021-09-17T17:34:07.839741026Z\",\"name\":\"iio.in_temp_input\",\"value\":33950,\"meta\":{\"node\":\"000048b02d05a1c2\",\"plugin\":\"plugin-iio:0.2.0\",\"sensor\":\"bme680\",\"vsn\":\"W02C\"}}\n",
      "{\"timestamp\":\"2021-09-17T17:34:05.406403129Z\",\"name\":\"iio.in_temp_input\",\"value\":23570,\"meta\":{\"node\":\"000048b02d05a1c6\",\"plugin\":\"plugin-iio:0.2.0\",\"sensor\":\"bme680\",\"vsn\":\"W027\"}}\n",
      "{\"timestamp\":\"2021-09-17T17:34:01.894234198Z\",\"name\":\"iio.in_temp_input\",\"value\":25910,\"meta\":{\"node\":\"000048b02d05a1c7\",\"plugin\":\"plugin-iio:0.2.0\",\"sensor\":\"bme680\",\"vsn\":\"W026\"}}\n",
      "{\"timestamp\":\"2021-09-17T17:34:03.425830363Z\",\"name\":\"iio.in_temp_input\",\"value\":31350,\"meta\":{\"node\":\"000048b02d15bc72\",\"plugin\":\"plugin-iio:0.2.0\",\"sensor\":\"bme680\",\"vsn\":\"W018\"}}\n",
      "{\"timestamp\":\"2021-09-17T17:34:03.789543498Z\",\"name\":\"iio.in_temp_input\",\"value\":33020,\"meta\":{\"node\":\"000048b02d15bc7d\",\"plugin\":\"plugin-iio:0.2.0\",\"sensor\":\"bme680\",\"vsn\":\"W028\"}}\n",
      "{\"timestamp\":\"2021-09-17T17:34:07.6975189Z\",\"name\":\"iio.in_temp_input\",\"value\":33260,\"meta\":{\"node\":\"000048b02d15c319\",\"plugin\":\"plugin-iio:0.2.0\",\"sensor\":\"bme680\",\"vsn\":\"W015\"}}\n",
      "{\"timestamp\":\"2021-09-17T17:34:05.477312536Z\",\"name\":\"iio.in_temp_input\",\"value\":33380,\"meta\":{\"node\":\"000048b02d15c31f\",\"plugin\":\"plugin-iio:0.2.0\",\"sensor\":\"bme680\",\"vsn\":\"W01C\"}}\n",
      "{\"timestamp\":\"2021-09-17T17:34:05.217874072Z\",\"name\":\"iio.in_temp_input\",\"value\":35460,\"meta\":{\"node\":\"000048b02d15c328\",\"plugin\":\"plugin-iio:0.2.0\",\"sensor\":\"bme680\",\"vsn\":\"W016\"}}\n"
     ]
    }
   ],
   "source": [
    "\n",
    "encoding = 'utf-8'\n",
    "for line in response.iter_lines():\n",
    "    if line: \n",
    "        line = line.decode(encoding)\n",
    "        # print(type(line))\n",
    "        print(line)\n",
    "        "
   ]
  },
  {
   "cell_type": "code",
   "execution_count": 12,
   "id": "cf14e249",
   "metadata": {},
   "outputs": [
    {
     "name": "stdout",
     "output_type": "stream",
     "text": [
      "{\"timestamp\":\"2021-09-17T17:34:06.258840972Z\",\"name\":\"env.pressure\",\"value\":99571,\"meta\":{\"host\":\"0000dca632a2fa54.ws-rpi\",\"node\":\"000048b02d15bc87\",\"plugin\":\"plugin-iio:0.3.0\",\"sensor\":\"bme680\",\"vsn\":\"W019\"}}\n",
      "<class 'dict'>\n",
      "{\"timestamp\":\"2021-09-17T17:34:07.849992498Z\",\"name\":\"env.pressure\",\"value\":99362,\"meta\":{\"node\":\"000048b02d05a1c2\",\"plugin\":\"plugin-iio:0.2.0\",\"sensor\":\"bme680\",\"vsn\":\"W02C\"}}\n",
      "<class 'dict'>\n",
      "{\"timestamp\":\"2021-09-17T17:34:05.414017487Z\",\"name\":\"env.pressure\",\"value\":99280,\"meta\":{\"node\":\"000048b02d05a1c6\",\"plugin\":\"plugin-iio:0.2.0\",\"sensor\":\"bme680\",\"vsn\":\"W027\"}}\n",
      "<class 'dict'>\n",
      "{\"timestamp\":\"2021-09-17T17:34:01.89018198Z\",\"name\":\"env.pressure\",\"value\":99298,\"meta\":{\"node\":\"000048b02d05a1c7\",\"plugin\":\"plugin-iio:0.2.0\",\"sensor\":\"bme680\",\"vsn\":\"W026\"}}\n",
      "<class 'dict'>\n",
      "{\"timestamp\":\"2021-09-17T17:34:03.433823486Z\",\"name\":\"env.pressure\",\"value\":98417,\"meta\":{\"node\":\"000048b02d15bc72\",\"plugin\":\"plugin-iio:0.2.0\",\"sensor\":\"bme680\",\"vsn\":\"W018\"}}\n",
      "<class 'dict'>\n",
      "{\"timestamp\":\"2021-09-17T17:34:03.793284037Z\",\"name\":\"env.pressure\",\"value\":98826,\"meta\":{\"node\":\"000048b02d15bc7d\",\"plugin\":\"plugin-iio:0.2.0\",\"sensor\":\"bme680\",\"vsn\":\"W028\"}}\n",
      "<class 'dict'>\n",
      "{\"timestamp\":\"2021-09-17T17:34:07.695628892Z\",\"name\":\"env.pressure\",\"value\":99395,\"meta\":{\"node\":\"000048b02d15c319\",\"plugin\":\"plugin-iio:0.2.0\",\"sensor\":\"bme680\",\"vsn\":\"W015\"}}\n",
      "<class 'dict'>\n",
      "{\"timestamp\":\"2021-09-17T17:34:05.480995238Z\",\"name\":\"env.pressure\",\"value\":99392,\"meta\":{\"node\":\"000048b02d15c31f\",\"plugin\":\"plugin-iio:0.2.0\",\"sensor\":\"bme680\",\"vsn\":\"W01C\"}}\n",
      "<class 'dict'>\n",
      "{\"timestamp\":\"2021-09-17T17:34:05.211528222Z\",\"name\":\"env.pressure\",\"value\":98380,\"meta\":{\"node\":\"000048b02d15c328\",\"plugin\":\"plugin-iio:0.2.0\",\"sensor\":\"bme680\",\"vsn\":\"W016\"}}\n",
      "<class 'dict'>\n",
      "{\"timestamp\":\"2021-09-17T17:34:06.25166782Z\",\"name\":\"env.relative_humidity\",\"value\":37.074,\"meta\":{\"host\":\"0000dca632a2fa54.ws-rpi\",\"node\":\"000048b02d15bc87\",\"plugin\":\"plugin-iio:0.3.0\",\"sensor\":\"bme680\",\"vsn\":\"W019\"}}\n",
      "<class 'dict'>\n",
      "{\"timestamp\":\"2021-09-17T17:34:07.844189793Z\",\"name\":\"env.relative_humidity\",\"value\":35.43,\"meta\":{\"node\":\"000048b02d05a1c2\",\"plugin\":\"plugin-iio:0.2.0\",\"sensor\":\"bme680\",\"vsn\":\"W02C\"}}\n",
      "<class 'dict'>\n",
      "{\"timestamp\":\"2021-09-17T17:34:05.425565987Z\",\"name\":\"env.relative_humidity\",\"value\":55.015,\"meta\":{\"node\":\"000048b02d05a1c6\",\"plugin\":\"plugin-iio:0.2.0\",\"sensor\":\"bme680\",\"vsn\":\"W027\"}}\n",
      "<class 'dict'>\n",
      "{\"timestamp\":\"2021-09-17T17:34:01.892676758Z\",\"name\":\"env.relative_humidity\",\"value\":45.862,\"meta\":{\"node\":\"000048b02d05a1c7\",\"plugin\":\"plugin-iio:0.2.0\",\"sensor\":\"bme680\",\"vsn\":\"W026\"}}\n",
      "<class 'dict'>\n",
      "{\"timestamp\":\"2021-09-17T17:34:03.427909703Z\",\"name\":\"env.relative_humidity\",\"value\":33.541,\"meta\":{\"node\":\"000048b02d15bc72\",\"plugin\":\"plugin-iio:0.2.0\",\"sensor\":\"bme680\",\"vsn\":\"W018\"}}\n",
      "<class 'dict'>\n",
      "{\"timestamp\":\"2021-09-17T17:34:03.787232234Z\",\"name\":\"env.relative_humidity\",\"value\":36.464,\"meta\":{\"node\":\"000048b02d15bc7d\",\"plugin\":\"plugin-iio:0.2.0\",\"sensor\":\"bme680\",\"vsn\":\"W028\"}}\n",
      "<class 'dict'>\n",
      "{\"timestamp\":\"2021-09-17T17:34:07.700492983Z\",\"name\":\"env.relative_humidity\",\"value\":35.901,\"meta\":{\"node\":\"000048b02d15c319\",\"plugin\":\"plugin-iio:0.2.0\",\"sensor\":\"bme680\",\"vsn\":\"W015\"}}\n",
      "<class 'dict'>\n",
      "{\"timestamp\":\"2021-09-17T17:34:05.475814607Z\",\"name\":\"env.relative_humidity\",\"value\":36.227,\"meta\":{\"node\":\"000048b02d15c31f\",\"plugin\":\"plugin-iio:0.2.0\",\"sensor\":\"bme680\",\"vsn\":\"W01C\"}}\n",
      "<class 'dict'>\n",
      "{\"timestamp\":\"2021-09-17T17:34:05.22041136Z\",\"name\":\"env.relative_humidity\",\"value\":41.714,\"meta\":{\"node\":\"000048b02d15c328\",\"plugin\":\"plugin-iio:0.2.0\",\"sensor\":\"bme680\",\"vsn\":\"W016\"}}\n",
      "<class 'dict'>\n",
      "{\"timestamp\":\"2021-09-17T17:34:06.255821398Z\",\"name\":\"env.temperature\",\"value\":21.29,\"meta\":{\"host\":\"0000dca632a2fa54.ws-rpi\",\"node\":\"000048b02d15bc87\",\"plugin\":\"plugin-iio:0.3.0\",\"sensor\":\"bme680\",\"vsn\":\"W019\"}}\n",
      "<class 'dict'>\n",
      "{\"timestamp\":\"2021-09-17T17:34:07.83985145Z\",\"name\":\"env.temperature\",\"value\":33.95,\"meta\":{\"node\":\"000048b02d05a1c2\",\"plugin\":\"plugin-iio:0.2.0\",\"sensor\":\"bme680\",\"vsn\":\"W02C\"}}\n",
      "<class 'dict'>\n",
      "{\"timestamp\":\"2021-09-17T17:34:05.407887046Z\",\"name\":\"env.temperature\",\"value\":23.57,\"meta\":{\"node\":\"000048b02d05a1c6\",\"plugin\":\"plugin-iio:0.2.0\",\"sensor\":\"bme680\",\"vsn\":\"W027\"}}\n",
      "<class 'dict'>\n",
      "{\"timestamp\":\"2021-09-17T17:34:01.89431316Z\",\"name\":\"env.temperature\",\"value\":25.91,\"meta\":{\"node\":\"000048b02d05a1c7\",\"plugin\":\"plugin-iio:0.2.0\",\"sensor\":\"bme680\",\"vsn\":\"W026\"}}\n",
      "<class 'dict'>\n",
      "{\"timestamp\":\"2021-09-17T17:34:03.425906399Z\",\"name\":\"env.temperature\",\"value\":31.35,\"meta\":{\"node\":\"000048b02d15bc72\",\"plugin\":\"plugin-iio:0.2.0\",\"sensor\":\"bme680\",\"vsn\":\"W018\"}}\n",
      "<class 'dict'>\n",
      "{\"timestamp\":\"2021-09-17T17:34:03.789641423Z\",\"name\":\"env.temperature\",\"value\":33.02,\"meta\":{\"node\":\"000048b02d15bc7d\",\"plugin\":\"plugin-iio:0.2.0\",\"sensor\":\"bme680\",\"vsn\":\"W028\"}}\n",
      "<class 'dict'>\n",
      "{\"timestamp\":\"2021-09-17T17:34:07.69764012Z\",\"name\":\"env.temperature\",\"value\":33.26,\"meta\":{\"node\":\"000048b02d15c319\",\"plugin\":\"plugin-iio:0.2.0\",\"sensor\":\"bme680\",\"vsn\":\"W015\"}}\n",
      "<class 'dict'>\n",
      "{\"timestamp\":\"2021-09-17T17:34:05.477426238Z\",\"name\":\"env.temperature\",\"value\":33.38,\"meta\":{\"node\":\"000048b02d15c31f\",\"plugin\":\"plugin-iio:0.2.0\",\"sensor\":\"bme680\",\"vsn\":\"W01C\"}}\n",
      "<class 'dict'>\n",
      "{\"timestamp\":\"2021-09-17T17:34:05.217976644Z\",\"name\":\"env.temperature\",\"value\":35.46,\"meta\":{\"node\":\"000048b02d15c328\",\"plugin\":\"plugin-iio:0.2.0\",\"sensor\":\"bme680\",\"vsn\":\"W016\"}}\n",
      "<class 'dict'>\n",
      "{\"timestamp\":\"2021-09-17T17:34:06.251410231Z\",\"name\":\"iio.in_humidityrelative_input\",\"value\":37.074,\"meta\":{\"host\":\"0000dca632a2fa54.ws-rpi\",\"node\":\"000048b02d15bc87\",\"plugin\":\"plugin-iio:0.3.0\",\"sensor\":\"bme680\",\"vsn\":\"W019\"}}\n",
      "<class 'dict'>\n",
      "{\"timestamp\":\"2021-09-17T17:34:07.844073388Z\",\"name\":\"iio.in_humidityrelative_input\",\"value\":35.43,\"meta\":{\"node\":\"000048b02d05a1c2\",\"plugin\":\"plugin-iio:0.2.0\",\"sensor\":\"bme680\",\"vsn\":\"W02C\"}}\n",
      "<class 'dict'>\n",
      "{\"timestamp\":\"2021-09-17T17:34:05.42480051Z\",\"name\":\"iio.in_humidityrelative_input\",\"value\":55.015,\"meta\":{\"node\":\"000048b02d05a1c6\",\"plugin\":\"plugin-iio:0.2.0\",\"sensor\":\"bme680\",\"vsn\":\"W027\"}}\n",
      "<class 'dict'>\n",
      "{\"timestamp\":\"2021-09-17T17:34:01.892606111Z\",\"name\":\"iio.in_humidityrelative_input\",\"value\":45.862,\"meta\":{\"node\":\"000048b02d05a1c7\",\"plugin\":\"plugin-iio:0.2.0\",\"sensor\":\"bme680\",\"vsn\":\"W026\"}}\n",
      "<class 'dict'>\n",
      "{\"timestamp\":\"2021-09-17T17:34:03.427820593Z\",\"name\":\"iio.in_humidityrelative_input\",\"value\":33.541,\"meta\":{\"node\":\"000048b02d15bc72\",\"plugin\":\"plugin-iio:0.2.0\",\"sensor\":\"bme680\",\"vsn\":\"W018\"}}\n",
      "<class 'dict'>\n",
      "{\"timestamp\":\"2021-09-17T17:34:03.787119532Z\",\"name\":\"iio.in_humidityrelative_input\",\"value\":36.464,\"meta\":{\"node\":\"000048b02d15bc7d\",\"plugin\":\"plugin-iio:0.2.0\",\"sensor\":\"bme680\",\"vsn\":\"W028\"}}\n",
      "<class 'dict'>\n",
      "{\"timestamp\":\"2021-09-17T17:34:07.700318616Z\",\"name\":\"iio.in_humidityrelative_input\",\"value\":35.901,\"meta\":{\"node\":\"000048b02d15c319\",\"plugin\":\"plugin-iio:0.2.0\",\"sensor\":\"bme680\",\"vsn\":\"W015\"}}\n",
      "<class 'dict'>\n",
      "{\"timestamp\":\"2021-09-17T17:34:05.475715274Z\",\"name\":\"iio.in_humidityrelative_input\",\"value\":36.227,\"meta\":{\"node\":\"000048b02d15c31f\",\"plugin\":\"plugin-iio:0.2.0\",\"sensor\":\"bme680\",\"vsn\":\"W01C\"}}\n",
      "<class 'dict'>\n",
      "{\"timestamp\":\"2021-09-17T17:34:05.220303232Z\",\"name\":\"iio.in_humidityrelative_input\",\"value\":41.714,\"meta\":{\"node\":\"000048b02d15c328\",\"plugin\":\"plugin-iio:0.2.0\",\"sensor\":\"bme680\",\"vsn\":\"W016\"}}\n",
      "<class 'dict'>\n",
      "{\"timestamp\":\"2021-09-17T17:34:06.258715473Z\",\"name\":\"iio.in_pressure_input\",\"value\":995.71,\"meta\":{\"host\":\"0000dca632a2fa54.ws-rpi\",\"node\":\"000048b02d15bc87\",\"plugin\":\"plugin-iio:0.3.0\",\"sensor\":\"bme680\",\"vsn\":\"W019\"}}\n",
      "<class 'dict'>\n",
      "{\"timestamp\":\"2021-09-17T17:34:07.849895592Z\",\"name\":\"iio.in_pressure_input\",\"value\":993.62,\"meta\":{\"node\":\"000048b02d05a1c2\",\"plugin\":\"plugin-iio:0.2.0\",\"sensor\":\"bme680\",\"vsn\":\"W02C\"}}\n",
      "<class 'dict'>\n",
      "{\"timestamp\":\"2021-09-17T17:34:05.412851365Z\",\"name\":\"iio.in_pressure_input\",\"value\":992.8,\"meta\":{\"node\":\"000048b02d05a1c6\",\"plugin\":\"plugin-iio:0.2.0\",\"sensor\":\"bme680\",\"vsn\":\"W027\"}}\n",
      "<class 'dict'>\n",
      "{\"timestamp\":\"2021-09-17T17:34:01.890105574Z\",\"name\":\"iio.in_pressure_input\",\"value\":992.98,\"meta\":{\"node\":\"000048b02d05a1c7\",\"plugin\":\"plugin-iio:0.2.0\",\"sensor\":\"bme680\",\"vsn\":\"W026\"}}\n",
      "<class 'dict'>\n",
      "{\"timestamp\":\"2021-09-17T17:34:03.433734098Z\",\"name\":\"iio.in_pressure_input\",\"value\":984.17,\"meta\":{\"node\":\"000048b02d15bc72\",\"plugin\":\"plugin-iio:0.2.0\",\"sensor\":\"bme680\",\"vsn\":\"W018\"}}\n",
      "<class 'dict'>\n",
      "{\"timestamp\":\"2021-09-17T17:34:03.793175558Z\",\"name\":\"iio.in_pressure_input\",\"value\":988.26,\"meta\":{\"node\":\"000048b02d15bc7d\",\"plugin\":\"plugin-iio:0.2.0\",\"sensor\":\"bme680\",\"vsn\":\"W028\"}}\n",
      "<class 'dict'>\n",
      "{\"timestamp\":\"2021-09-17T17:34:07.695509117Z\",\"name\":\"iio.in_pressure_input\",\"value\":993.95,\"meta\":{\"node\":\"000048b02d15c319\",\"plugin\":\"plugin-iio:0.2.0\",\"sensor\":\"bme680\",\"vsn\":\"W015\"}}\n",
      "<class 'dict'>\n",
      "{\"timestamp\":\"2021-09-17T17:34:05.480905591Z\",\"name\":\"iio.in_pressure_input\",\"value\":993.92,\"meta\":{\"node\":\"000048b02d15c31f\",\"plugin\":\"plugin-iio:0.2.0\",\"sensor\":\"bme680\",\"vsn\":\"W01C\"}}\n",
      "<class 'dict'>\n",
      "{\"timestamp\":\"2021-09-17T17:34:05.211426242Z\",\"name\":\"iio.in_pressure_input\",\"value\":983.8,\"meta\":{\"node\":\"000048b02d15c328\",\"plugin\":\"plugin-iio:0.2.0\",\"sensor\":\"bme680\",\"vsn\":\"W016\"}}\n",
      "<class 'dict'>\n",
      "{\"timestamp\":\"2021-09-17T17:34:06.264990914Z\",\"name\":\"iio.in_resistance_input\",\"value\":273299,\"meta\":{\"host\":\"0000dca632a2fa54.ws-rpi\",\"node\":\"000048b02d15bc87\",\"plugin\":\"plugin-iio:0.3.0\",\"sensor\":\"bme680\",\"vsn\":\"W019\"}}\n",
      "<class 'dict'>\n",
      "{\"timestamp\":\"2021-09-17T17:34:07.847711985Z\",\"name\":\"iio.in_resistance_input\",\"value\":920962,\"meta\":{\"node\":\"000048b02d05a1c2\",\"plugin\":\"plugin-iio:0.2.0\",\"sensor\":\"bme680\",\"vsn\":\"W02C\"}}\n",
      "<class 'dict'>\n",
      "{\"timestamp\":\"2021-09-17T17:34:05.418938604Z\",\"name\":\"iio.in_resistance_input\",\"value\":277974,\"meta\":{\"node\":\"000048b02d05a1c6\",\"plugin\":\"plugin-iio:0.2.0\",\"sensor\":\"bme680\",\"vsn\":\"W027\"}}\n",
      "<class 'dict'>\n",
      "{\"timestamp\":\"2021-09-17T17:34:01.897433299Z\",\"name\":\"iio.in_resistance_input\",\"value\":566453,\"meta\":{\"node\":\"000048b02d05a1c7\",\"plugin\":\"plugin-iio:0.2.0\",\"sensor\":\"bme680\",\"vsn\":\"W026\"}}\n",
      "<class 'dict'>\n",
      "{\"timestamp\":\"2021-09-17T17:34:03.431711035Z\",\"name\":\"iio.in_resistance_input\",\"value\":149601,\"meta\":{\"node\":\"000048b02d15bc72\",\"plugin\":\"plugin-iio:0.2.0\",\"sensor\":\"bme680\",\"vsn\":\"W018\"}}\n",
      "<class 'dict'>\n",
      "{\"timestamp\":\"2021-09-17T17:34:03.784932378Z\",\"name\":\"iio.in_resistance_input\",\"value\":549877,\"meta\":{\"node\":\"000048b02d15bc7d\",\"plugin\":\"plugin-iio:0.2.0\",\"sensor\":\"bme680\",\"vsn\":\"W028\"}}\n",
      "<class 'dict'>\n",
      "{\"timestamp\":\"2021-09-17T17:34:07.693364835Z\",\"name\":\"iio.in_resistance_input\",\"value\":471167,\"meta\":{\"node\":\"000048b02d15c319\",\"plugin\":\"plugin-iio:0.2.0\",\"sensor\":\"bme680\",\"vsn\":\"W015\"}}\n",
      "<class 'dict'>\n",
      "{\"timestamp\":\"2021-09-17T17:34:05.484138372Z\",\"name\":\"iio.in_resistance_input\",\"value\":274408,\"meta\":{\"node\":\"000048b02d15c31f\",\"plugin\":\"plugin-iio:0.2.0\",\"sensor\":\"bme680\",\"vsn\":\"W01C\"}}\n",
      "<class 'dict'>\n",
      "{\"timestamp\":\"2021-09-17T17:34:05.215573298Z\",\"name\":\"iio.in_resistance_input\",\"value\":310381,\"meta\":{\"node\":\"000048b02d15c328\",\"plugin\":\"plugin-iio:0.2.0\",\"sensor\":\"bme680\",\"vsn\":\"W016\"}}\n",
      "<class 'dict'>\n",
      "{\"timestamp\":\"2021-09-17T17:34:06.255686881Z\",\"name\":\"iio.in_temp_input\",\"value\":21290,\"meta\":{\"host\":\"0000dca632a2fa54.ws-rpi\",\"node\":\"000048b02d15bc87\",\"plugin\":\"plugin-iio:0.3.0\",\"sensor\":\"bme680\",\"vsn\":\"W019\"}}\n",
      "<class 'dict'>\n",
      "{\"timestamp\":\"2021-09-17T17:34:07.839741026Z\",\"name\":\"iio.in_temp_input\",\"value\":33950,\"meta\":{\"node\":\"000048b02d05a1c2\",\"plugin\":\"plugin-iio:0.2.0\",\"sensor\":\"bme680\",\"vsn\":\"W02C\"}}\n",
      "<class 'dict'>\n",
      "{\"timestamp\":\"2021-09-17T17:34:05.406403129Z\",\"name\":\"iio.in_temp_input\",\"value\":23570,\"meta\":{\"node\":\"000048b02d05a1c6\",\"plugin\":\"plugin-iio:0.2.0\",\"sensor\":\"bme680\",\"vsn\":\"W027\"}}\n",
      "<class 'dict'>\n",
      "{\"timestamp\":\"2021-09-17T17:34:01.894234198Z\",\"name\":\"iio.in_temp_input\",\"value\":25910,\"meta\":{\"node\":\"000048b02d05a1c7\",\"plugin\":\"plugin-iio:0.2.0\",\"sensor\":\"bme680\",\"vsn\":\"W026\"}}\n",
      "<class 'dict'>\n",
      "{\"timestamp\":\"2021-09-17T17:34:03.425830363Z\",\"name\":\"iio.in_temp_input\",\"value\":31350,\"meta\":{\"node\":\"000048b02d15bc72\",\"plugin\":\"plugin-iio:0.2.0\",\"sensor\":\"bme680\",\"vsn\":\"W018\"}}\n",
      "<class 'dict'>\n",
      "{\"timestamp\":\"2021-09-17T17:34:03.789543498Z\",\"name\":\"iio.in_temp_input\",\"value\":33020,\"meta\":{\"node\":\"000048b02d15bc7d\",\"plugin\":\"plugin-iio:0.2.0\",\"sensor\":\"bme680\",\"vsn\":\"W028\"}}\n",
      "<class 'dict'>\n",
      "{\"timestamp\":\"2021-09-17T17:34:07.6975189Z\",\"name\":\"iio.in_temp_input\",\"value\":33260,\"meta\":{\"node\":\"000048b02d15c319\",\"plugin\":\"plugin-iio:0.2.0\",\"sensor\":\"bme680\",\"vsn\":\"W015\"}}\n",
      "<class 'dict'>\n",
      "{\"timestamp\":\"2021-09-17T17:34:05.477312536Z\",\"name\":\"iio.in_temp_input\",\"value\":33380,\"meta\":{\"node\":\"000048b02d15c31f\",\"plugin\":\"plugin-iio:0.2.0\",\"sensor\":\"bme680\",\"vsn\":\"W01C\"}}\n",
      "<class 'dict'>\n",
      "{\"timestamp\":\"2021-09-17T17:34:05.217874072Z\",\"name\":\"iio.in_temp_input\",\"value\":35460,\"meta\":{\"node\":\"000048b02d15c328\",\"plugin\":\"plugin-iio:0.2.0\",\"sensor\":\"bme680\",\"vsn\":\"W016\"}}\n",
      "<class 'dict'>\n"
     ]
    }
   ],
   "source": [
    "\n",
    "encoding = 'utf-8'\n",
    "for line in response.iter_lines():\n",
    "    if line: \n",
    "        line = line.decode(encoding)\n",
    "        # print(type(line))\n",
    "        print(line)\n",
    "        # using json.loads()\n",
    "        # convert dictionary string to dictionary\n",
    "        line = json.loads(line)\n",
    "        print(type(line))\n",
    "        "
   ]
  },
  {
   "cell_type": "code",
   "execution_count": 13,
   "id": "0474fbf8",
   "metadata": {},
   "outputs": [
    {
     "name": "stdout",
     "output_type": "stream",
     "text": [
      "dict_keys(['timestamp', 'name', 'value', 'meta'])\n",
      "dict_keys(['timestamp', 'name', 'value', 'meta'])\n",
      "dict_keys(['timestamp', 'name', 'value', 'meta'])\n",
      "dict_keys(['timestamp', 'name', 'value', 'meta'])\n",
      "dict_keys(['timestamp', 'name', 'value', 'meta'])\n",
      "dict_keys(['timestamp', 'name', 'value', 'meta'])\n",
      "dict_keys(['timestamp', 'name', 'value', 'meta'])\n",
      "dict_keys(['timestamp', 'name', 'value', 'meta'])\n",
      "dict_keys(['timestamp', 'name', 'value', 'meta'])\n",
      "dict_keys(['timestamp', 'name', 'value', 'meta'])\n",
      "dict_keys(['timestamp', 'name', 'value', 'meta'])\n",
      "dict_keys(['timestamp', 'name', 'value', 'meta'])\n",
      "dict_keys(['timestamp', 'name', 'value', 'meta'])\n",
      "dict_keys(['timestamp', 'name', 'value', 'meta'])\n",
      "dict_keys(['timestamp', 'name', 'value', 'meta'])\n",
      "dict_keys(['timestamp', 'name', 'value', 'meta'])\n",
      "dict_keys(['timestamp', 'name', 'value', 'meta'])\n",
      "dict_keys(['timestamp', 'name', 'value', 'meta'])\n",
      "dict_keys(['timestamp', 'name', 'value', 'meta'])\n",
      "dict_keys(['timestamp', 'name', 'value', 'meta'])\n",
      "dict_keys(['timestamp', 'name', 'value', 'meta'])\n",
      "dict_keys(['timestamp', 'name', 'value', 'meta'])\n",
      "dict_keys(['timestamp', 'name', 'value', 'meta'])\n",
      "dict_keys(['timestamp', 'name', 'value', 'meta'])\n",
      "dict_keys(['timestamp', 'name', 'value', 'meta'])\n",
      "dict_keys(['timestamp', 'name', 'value', 'meta'])\n",
      "dict_keys(['timestamp', 'name', 'value', 'meta'])\n",
      "dict_keys(['timestamp', 'name', 'value', 'meta'])\n",
      "dict_keys(['timestamp', 'name', 'value', 'meta'])\n",
      "dict_keys(['timestamp', 'name', 'value', 'meta'])\n",
      "dict_keys(['timestamp', 'name', 'value', 'meta'])\n",
      "dict_keys(['timestamp', 'name', 'value', 'meta'])\n",
      "dict_keys(['timestamp', 'name', 'value', 'meta'])\n",
      "dict_keys(['timestamp', 'name', 'value', 'meta'])\n",
      "dict_keys(['timestamp', 'name', 'value', 'meta'])\n",
      "dict_keys(['timestamp', 'name', 'value', 'meta'])\n",
      "dict_keys(['timestamp', 'name', 'value', 'meta'])\n",
      "dict_keys(['timestamp', 'name', 'value', 'meta'])\n",
      "dict_keys(['timestamp', 'name', 'value', 'meta'])\n",
      "dict_keys(['timestamp', 'name', 'value', 'meta'])\n",
      "dict_keys(['timestamp', 'name', 'value', 'meta'])\n",
      "dict_keys(['timestamp', 'name', 'value', 'meta'])\n",
      "dict_keys(['timestamp', 'name', 'value', 'meta'])\n",
      "dict_keys(['timestamp', 'name', 'value', 'meta'])\n",
      "dict_keys(['timestamp', 'name', 'value', 'meta'])\n",
      "dict_keys(['timestamp', 'name', 'value', 'meta'])\n",
      "dict_keys(['timestamp', 'name', 'value', 'meta'])\n",
      "dict_keys(['timestamp', 'name', 'value', 'meta'])\n",
      "dict_keys(['timestamp', 'name', 'value', 'meta'])\n",
      "dict_keys(['timestamp', 'name', 'value', 'meta'])\n",
      "dict_keys(['timestamp', 'name', 'value', 'meta'])\n",
      "dict_keys(['timestamp', 'name', 'value', 'meta'])\n",
      "dict_keys(['timestamp', 'name', 'value', 'meta'])\n",
      "dict_keys(['timestamp', 'name', 'value', 'meta'])\n",
      "dict_keys(['timestamp', 'name', 'value', 'meta'])\n",
      "dict_keys(['timestamp', 'name', 'value', 'meta'])\n",
      "dict_keys(['timestamp', 'name', 'value', 'meta'])\n",
      "dict_keys(['timestamp', 'name', 'value', 'meta'])\n",
      "dict_keys(['timestamp', 'name', 'value', 'meta'])\n",
      "dict_keys(['timestamp', 'name', 'value', 'meta'])\n",
      "dict_keys(['timestamp', 'name', 'value', 'meta'])\n",
      "dict_keys(['timestamp', 'name', 'value', 'meta'])\n",
      "dict_keys(['timestamp', 'name', 'value', 'meta'])\n"
     ]
    }
   ],
   "source": [
    "\n",
    "encoding = 'utf-8'\n",
    "for line in response.iter_lines():\n",
    "    if line:    \n",
    "        line = line.decode(encoding)\n",
    "        \n",
    "        # using json.loads()\n",
    "        # convert dictionary string to dictionary\n",
    "        line = json.loads(line)\n",
    "        print(line.keys())\n",
    "        "
   ]
  },
  {
   "cell_type": "code",
   "execution_count": 14,
   "id": "cd4de736",
   "metadata": {},
   "outputs": [
    {
     "name": "stdout",
     "output_type": "stream",
     "text": [
      "2021-09-17T17:34:06.258840972Z\n",
      "2021-09-17T17:34:07.849992498Z\n",
      "2021-09-17T17:34:05.414017487Z\n",
      "2021-09-17T17:34:01.89018198Z\n",
      "2021-09-17T17:34:03.433823486Z\n",
      "2021-09-17T17:34:03.793284037Z\n",
      "2021-09-17T17:34:07.695628892Z\n",
      "2021-09-17T17:34:05.480995238Z\n",
      "2021-09-17T17:34:05.211528222Z\n",
      "2021-09-17T17:34:06.25166782Z\n",
      "2021-09-17T17:34:07.844189793Z\n",
      "2021-09-17T17:34:05.425565987Z\n",
      "2021-09-17T17:34:01.892676758Z\n",
      "2021-09-17T17:34:03.427909703Z\n",
      "2021-09-17T17:34:03.787232234Z\n",
      "2021-09-17T17:34:07.700492983Z\n",
      "2021-09-17T17:34:05.475814607Z\n",
      "2021-09-17T17:34:05.22041136Z\n",
      "2021-09-17T17:34:06.255821398Z\n",
      "2021-09-17T17:34:07.83985145Z\n",
      "2021-09-17T17:34:05.407887046Z\n",
      "2021-09-17T17:34:01.89431316Z\n",
      "2021-09-17T17:34:03.425906399Z\n",
      "2021-09-17T17:34:03.789641423Z\n",
      "2021-09-17T17:34:07.69764012Z\n",
      "2021-09-17T17:34:05.477426238Z\n",
      "2021-09-17T17:34:05.217976644Z\n",
      "2021-09-17T17:34:06.251410231Z\n",
      "2021-09-17T17:34:07.844073388Z\n",
      "2021-09-17T17:34:05.42480051Z\n",
      "2021-09-17T17:34:01.892606111Z\n",
      "2021-09-17T17:34:03.427820593Z\n",
      "2021-09-17T17:34:03.787119532Z\n",
      "2021-09-17T17:34:07.700318616Z\n",
      "2021-09-17T17:34:05.475715274Z\n",
      "2021-09-17T17:34:05.220303232Z\n",
      "2021-09-17T17:34:06.258715473Z\n",
      "2021-09-17T17:34:07.849895592Z\n",
      "2021-09-17T17:34:05.412851365Z\n",
      "2021-09-17T17:34:01.890105574Z\n",
      "2021-09-17T17:34:03.433734098Z\n",
      "2021-09-17T17:34:03.793175558Z\n",
      "2021-09-17T17:34:07.695509117Z\n",
      "2021-09-17T17:34:05.480905591Z\n",
      "2021-09-17T17:34:05.211426242Z\n",
      "2021-09-17T17:34:06.264990914Z\n",
      "2021-09-17T17:34:07.847711985Z\n",
      "2021-09-17T17:34:05.418938604Z\n",
      "2021-09-17T17:34:01.897433299Z\n",
      "2021-09-17T17:34:03.431711035Z\n",
      "2021-09-17T17:34:03.784932378Z\n",
      "2021-09-17T17:34:07.693364835Z\n",
      "2021-09-17T17:34:05.484138372Z\n",
      "2021-09-17T17:34:05.215573298Z\n",
      "2021-09-17T17:34:06.255686881Z\n",
      "2021-09-17T17:34:07.839741026Z\n",
      "2021-09-17T17:34:05.406403129Z\n",
      "2021-09-17T17:34:01.894234198Z\n",
      "2021-09-17T17:34:03.425830363Z\n",
      "2021-09-17T17:34:03.789543498Z\n",
      "2021-09-17T17:34:07.6975189Z\n",
      "2021-09-17T17:34:05.477312536Z\n",
      "2021-09-17T17:34:05.217874072Z\n"
     ]
    }
   ],
   "source": [
    "\n",
    "encoding = 'utf-8'\n",
    "for line in response.iter_lines():\n",
    "    if line:    \n",
    "        line = line.decode(encoding)\n",
    "        \n",
    "        # using json.loads()\n",
    "        # convert dictionary string to dictionary\n",
    "        line = json.loads(line)\n",
    "        print(line['timestamp'])\n",
    "        "
   ]
  },
  {
   "cell_type": "code",
   "execution_count": 15,
   "id": "f17cbff2",
   "metadata": {},
   "outputs": [
    {
     "name": "stdout",
     "output_type": "stream",
     "text": [
      "2021-09-17T17:34:06.258840972Z   99571\n",
      "2021-09-17T17:34:07.849992498Z   99362\n",
      "2021-09-17T17:34:05.414017487Z   99280\n",
      "2021-09-17T17:34:01.89018198Z   99298\n",
      "2021-09-17T17:34:03.433823486Z   98417\n",
      "2021-09-17T17:34:03.793284037Z   98826\n",
      "2021-09-17T17:34:07.695628892Z   99395\n",
      "2021-09-17T17:34:05.480995238Z   99392\n",
      "2021-09-17T17:34:05.211528222Z   98380\n",
      "2021-09-17T17:34:06.25166782Z   37.074\n",
      "2021-09-17T17:34:07.844189793Z   35.43\n",
      "2021-09-17T17:34:05.425565987Z   55.015\n",
      "2021-09-17T17:34:01.892676758Z   45.862\n",
      "2021-09-17T17:34:03.427909703Z   33.541\n",
      "2021-09-17T17:34:03.787232234Z   36.464\n",
      "2021-09-17T17:34:07.700492983Z   35.901\n",
      "2021-09-17T17:34:05.475814607Z   36.227\n",
      "2021-09-17T17:34:05.22041136Z   41.714\n",
      "2021-09-17T17:34:06.255821398Z   21.29\n",
      "2021-09-17T17:34:07.83985145Z   33.95\n",
      "2021-09-17T17:34:05.407887046Z   23.57\n",
      "2021-09-17T17:34:01.89431316Z   25.91\n",
      "2021-09-17T17:34:03.425906399Z   31.35\n",
      "2021-09-17T17:34:03.789641423Z   33.02\n",
      "2021-09-17T17:34:07.69764012Z   33.26\n",
      "2021-09-17T17:34:05.477426238Z   33.38\n",
      "2021-09-17T17:34:05.217976644Z   35.46\n",
      "2021-09-17T17:34:06.251410231Z   37.074\n",
      "2021-09-17T17:34:07.844073388Z   35.43\n",
      "2021-09-17T17:34:05.42480051Z   55.015\n",
      "2021-09-17T17:34:01.892606111Z   45.862\n",
      "2021-09-17T17:34:03.427820593Z   33.541\n",
      "2021-09-17T17:34:03.787119532Z   36.464\n",
      "2021-09-17T17:34:07.700318616Z   35.901\n",
      "2021-09-17T17:34:05.475715274Z   36.227\n",
      "2021-09-17T17:34:05.220303232Z   41.714\n",
      "2021-09-17T17:34:06.258715473Z   995.71\n",
      "2021-09-17T17:34:07.849895592Z   993.62\n",
      "2021-09-17T17:34:05.412851365Z   992.8\n",
      "2021-09-17T17:34:01.890105574Z   992.98\n",
      "2021-09-17T17:34:03.433734098Z   984.17\n",
      "2021-09-17T17:34:03.793175558Z   988.26\n",
      "2021-09-17T17:34:07.695509117Z   993.95\n",
      "2021-09-17T17:34:05.480905591Z   993.92\n",
      "2021-09-17T17:34:05.211426242Z   983.8\n",
      "2021-09-17T17:34:06.264990914Z   273299\n",
      "2021-09-17T17:34:07.847711985Z   920962\n",
      "2021-09-17T17:34:05.418938604Z   277974\n",
      "2021-09-17T17:34:01.897433299Z   566453\n",
      "2021-09-17T17:34:03.431711035Z   149601\n",
      "2021-09-17T17:34:03.784932378Z   549877\n",
      "2021-09-17T17:34:07.693364835Z   471167\n",
      "2021-09-17T17:34:05.484138372Z   274408\n",
      "2021-09-17T17:34:05.215573298Z   310381\n",
      "2021-09-17T17:34:06.255686881Z   21290\n",
      "2021-09-17T17:34:07.839741026Z   33950\n",
      "2021-09-17T17:34:05.406403129Z   23570\n",
      "2021-09-17T17:34:01.894234198Z   25910\n",
      "2021-09-17T17:34:03.425830363Z   31350\n",
      "2021-09-17T17:34:03.789543498Z   33020\n",
      "2021-09-17T17:34:07.6975189Z   33260\n",
      "2021-09-17T17:34:05.477312536Z   33380\n",
      "2021-09-17T17:34:05.217874072Z   35460\n"
     ]
    }
   ],
   "source": [
    "\n",
    "encoding = 'utf-8'\n",
    "for line in response.iter_lines():\n",
    "    if line:    \n",
    "        line = line.decode(encoding)\n",
    "        \n",
    "        # using json.loads()\n",
    "        # convert dictionary string to dictionary\n",
    "        line = json.loads(line)\n",
    "        print(line['timestamp'], \" \",  line['value'])\n",
    "        "
   ]
  },
  {
   "cell_type": "code",
   "execution_count": 16,
   "id": "b8637fed",
   "metadata": {},
   "outputs": [
    {
     "data": {
      "text/plain": [
       "<generator object Response.iter_lines at 0x0000027CC5920820>"
      ]
     },
     "execution_count": 16,
     "metadata": {},
     "output_type": "execute_result"
    }
   ],
   "source": [
    "response.iter_lines()"
   ]
  },
  {
   "cell_type": "markdown",
   "id": "3aa02f6c",
   "metadata": {},
   "source": [
    "<br><br>"
   ]
  },
  {
   "cell_type": "markdown",
   "id": "a2f2694d",
   "metadata": {},
   "source": [
    "### - Query 2 -"
   ]
  },
  {
   "cell_type": "markdown",
   "id": "fea7d209",
   "metadata": {},
   "source": [
    "``` \n",
    "import requests\n",
    "\n",
    "headers = {\n",
    "    'Content-Type': 'application/json',\n",
    "}\n",
    "\n",
    "data = '{ \"start\": \"2021-09-10T12:51:36.246454082Z\", \"end\":\"2021-09-10T13:51:36.246454082Z\", \"filter\": { \"name\":\"upload\", \"plugin\":\"imagesampler-left:0.2.3\" } }'\n",
    "\n",
    "response = requests.post('https://data.sagecontinuum.org/api/v1/query', headers=headers, data=data)\n",
    "\n",
    "```"
   ]
  },
  {
   "cell_type": "code",
   "execution_count": 17,
   "id": "46584511",
   "metadata": {},
   "outputs": [],
   "source": [
    "\n",
    "import requests\n",
    "\n",
    "headers = {\n",
    "    'Content-Type': 'application/json',\n",
    "}\n",
    "\n",
    "data = '{ \"start\": \"2021-09-10T12:51:36.246454082Z\", \"end\":\"2021-09-10T13:51:36.246454082Z\", \"filter\": { \"name\":\"upload\", \"plugin\":\"imagesampler-left:0.2.3\" } }'\n",
    "\n",
    "response = requests.post('https://data.sagecontinuum.org/api/v1/query', headers=headers, data=data)\n"
   ]
  },
  {
   "cell_type": "code",
   "execution_count": 18,
   "id": "0b8307f2",
   "metadata": {},
   "outputs": [
    {
     "name": "stdout",
     "output_type": "stream",
     "text": [
      "{\"timestamp\":\"2021-09-10T13:19:27.237651354Z\",\"name\":\"upload\",\"value\":\"https://storage.sagecontinuum.org/api/v1/data/sage/sage-imagesampler-left-0.2.3/000048b02d05a0a4/1631279967237651354-2021-09-10T13:19:26+0000.jpg\",\"meta\":{\"job\":\"sage\",\"node\":\"000048b02d05a0a4\",\"plugin\":\"imagesampler-left:0.2.3\",\"task\":\"imagesampler-left:0.2.3\"}}\n",
      "{\"timestamp\":\"2021-09-10T13:50:32.29028603Z\",\"name\":\"upload\",\"value\":\"https://storage.sagecontinuum.org/api/v1/data/sage/sage-imagesampler-left-0.2.3/000048b02d15bc3d/1631281832290286030-2021-09-10T13:50:32+0000.jpg\",\"meta\":{\"job\":\"sage\",\"node\":\"000048b02d15bc3d\",\"plugin\":\"imagesampler-left:0.2.3\",\"task\":\"imagesampler-left:0.2.3\"}}\n",
      "{\"timestamp\":\"2021-09-10T12:52:59.782262376Z\",\"name\":\"upload\",\"value\":\"https://storage.sagecontinuum.org/api/v1/data/sage/sage-imagesampler-left-0.2.3/000048b02d15bdc2/1631278379782262376-2021-09-10T12:52:59+0000.jpg\",\"meta\":{\"job\":\"sage\",\"node\":\"000048b02d15bdc2\",\"plugin\":\"imagesampler-left:0.2.3\",\"task\":\"imagesampler-left:0.2.3\"}}\n",
      "{\"timestamp\":\"2021-09-10T13:49:49.084350086Z\",\"name\":\"upload\",\"value\":\"https://storage.sagecontinuum.org/api/v1/data/sage/sage-imagesampler-left-0.2.3/000048b02d15bdd2/1631281789084350086-2021-09-10T13:49:48+0000.jpg\",\"meta\":{\"job\":\"sage\",\"node\":\"000048b02d15bdd2\",\"plugin\":\"imagesampler-left:0.2.3\",\"task\":\"imagesampler-left:0.2.3\"}}\n"
     ]
    }
   ],
   "source": [
    "\n",
    "encoding = 'utf-8'\n",
    "for line in response.iter_lines():\n",
    "    if line:    \n",
    "        line = line.decode(encoding)\n",
    "        print(line)\n",
    "        \n",
    "        # using json.loads()\n",
    "        # convert dictionary string to dictionary\n",
    "        #line = json.loads(line)\n",
    "        #print(line['timestamp'], \" \",  line['value'])\n",
    "        "
   ]
  },
  {
   "cell_type": "markdown",
   "id": "f6c8f6a7",
   "metadata": {},
   "source": [
    "<br><br>"
   ]
  },
  {
   "cell_type": "markdown",
   "id": "fcfa827d",
   "metadata": {},
   "source": [
    "# Addendum (This approach no longer works, SAGE replaced):"
   ]
  },
  {
   "cell_type": "code",
   "execution_count": 19,
   "id": "5599a22e",
   "metadata": {},
   "outputs": [],
   "source": [
    "\n",
    "# import requests\n",
    "# r = requests.get('https://api.arrayofthings.org/api/nodes?size=&format=&project=')\n",
    "# print (r.text)\n"
   ]
  },
  {
   "cell_type": "code",
   "execution_count": 20,
   "id": "a30132f9",
   "metadata": {},
   "outputs": [],
   "source": [
    "\n",
    "# requests.get('https://api.arrayofthings.org/api/nodes?size=&format=&project=')\n"
   ]
  },
  {
   "cell_type": "code",
   "execution_count": 21,
   "id": "99777582",
   "metadata": {},
   "outputs": [
    {
     "data": {
      "text/plain": [
       "<Response [200]>"
      ]
     },
     "execution_count": 21,
     "metadata": {},
     "output_type": "execute_result"
    }
   ],
   "source": [
    "\n",
    "response # requests.get('https://api.arrayofthings.org/api/nodes?order=&page=&format=&location=&project=&size=5')\n"
   ]
  },
  {
   "cell_type": "code",
   "execution_count": 22,
   "id": "f5bb0fda",
   "metadata": {},
   "outputs": [],
   "source": [
    "\n",
    "# response.status_code\n"
   ]
  },
  {
   "cell_type": "code",
   "execution_count": 23,
   "id": "018e679b",
   "metadata": {},
   "outputs": [],
   "source": [
    "\n",
    "# response.content\n"
   ]
  },
  {
   "cell_type": "markdown",
   "id": "76dc4df6",
   "metadata": {},
   "source": [
    "<br><br>"
   ]
  },
  {
   "cell_type": "markdown",
   "id": "7c0ef8b0",
   "metadata": {},
   "source": [
    "<br><br>"
   ]
  }
 ],
 "metadata": {
  "kernelspec": {
   "display_name": "Python 3 (ipykernel)",
   "language": "python",
   "name": "python3"
  },
  "language_info": {
   "codemirror_mode": {
    "name": "ipython",
    "version": 3
   },
   "file_extension": ".py",
   "mimetype": "text/x-python",
   "name": "python",
   "nbconvert_exporter": "python",
   "pygments_lexer": "ipython3",
   "version": "3.8.8"
  }
 },
 "nbformat": 4,
 "nbformat_minor": 5
}
