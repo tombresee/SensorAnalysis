{
 "cells": [
  {
   "cell_type": "code",
   "execution_count": 25,
   "id": "85202e68",
   "metadata": {},
   "outputs": [],
   "source": [
    "# newdf['ABBOTSFORD'].values.tolist()"
   ]
  },
  {
   "cell_type": "code",
   "execution_count": null,
   "id": "9ea09f07",
   "metadata": {},
   "outputs": [],
   "source": []
  },
  {
   "cell_type": "code",
   "execution_count": null,
   "id": "7727d040",
   "metadata": {},
   "outputs": [],
   "source": []
  },
  {
   "cell_type": "markdown",
   "id": "4b8d50a5",
   "metadata": {},
   "source": [
    "---\n",
    "\n",
    "## Atmospheric Pressure Analysis\n",
    "\n",
    "---"
   ]
  },
  {
   "cell_type": "markdown",
   "id": "9e6a9257",
   "metadata": {},
   "source": [
    "<br>"
   ]
  },
  {
   "cell_type": "markdown",
   "id": "f7195062",
   "metadata": {},
   "source": [
    "**READ**  -  I've created a python script to allow the user to click the button and then they can either have all of the underyling code shown, OR they can just look at the code raw output (charts, plots, tables, whatever).  \n",
    "As you know, sometimes these notebooks contain a fair amount of code... and sometimes folks just want the _results_... here is an [example](https://nbviewer.jupyter.org/urls/gist.github.com/masnick/d6a1af14812c0c4b3314/raw/f7a5abfb6475e683a90b4ac3491d134ef604e460/test.ipynb)\n",
    "\n",
    "Code defaults to NOT showing any code, so click the toggle button to view the show the underlying code..."
   ]
  },
  {
   "cell_type": "code",
   "execution_count": 1,
   "id": "483cb660",
   "metadata": {},
   "outputs": [
    {
     "data": {
      "text/html": [
       "<script>\n",
       "  function code_toggle() {\n",
       "    if (code_shown){\n",
       "      $('div.input').hide('500');\n",
       "      $('#toggleButton').val('Show Code')\n",
       "    } else {\n",
       "      $('div.input').show('500');\n",
       "      $('#toggleButton').val('Hide All Notebook Code')\n",
       "    }\n",
       "    code_shown = !code_shown\n",
       "  }\n",
       "\n",
       "  $( document ).ready(function(){\n",
       "    code_shown=false;\n",
       "    $('div.input').hide()\n",
       "  });</script><form action=\"javascript:code_toggle()\"><input type=\"submit\" id=\"toggleButton\" value=\"Show All Notebook Code\"></form>"
      ],
      "text/plain": [
       "<IPython.core.display.HTML object>"
      ]
     },
     "execution_count": 1,
     "metadata": {},
     "output_type": "execute_result"
    }
   ],
   "source": [
    "# %load toggle.py\n",
    "# allows code to be hidden, unhidden on jupyter notebook\n",
    "from IPython.display import HTML\n",
    "HTML('''<script>\n",
    "  function code_toggle() {\n",
    "    if (code_shown){\n",
    "      $('div.input').hide('500');\n",
    "      $('#toggleButton').val('Show Code')\n",
    "    } else {\n",
    "      $('div.input').show('500');\n",
    "      $('#toggleButton').val('Hide All Notebook Code')\n",
    "    }\n",
    "    code_shown = !code_shown\n",
    "  }\n",
    "\n",
    "  $( document ).ready(function(){\n",
    "    code_shown=false;\n",
    "    $('div.input').hide()\n",
    "  });</script><form action=\"javascript:code_toggle()\"><input type=\"submit\" id=\"toggleButton\" value=\"Show All Notebook Code\"></form>''')"
   ]
  },
  {
   "cell_type": "code",
   "execution_count": 2,
   "id": "319592c2",
   "metadata": {},
   "outputs": [
    {
     "name": "stdout",
     "output_type": "stream",
     "text": [
      "Use this toggle button, it really helps\n"
     ]
    }
   ],
   "source": [
    "print('Use this toggle button, it really helps')"
   ]
  },
  {
   "cell_type": "code",
   "execution_count": 36,
   "id": "369ba250",
   "metadata": {},
   "outputs": [
    {
     "data": {
      "text/html": [
       "        <script type=\"text/javascript\">\n",
       "        window.PlotlyConfig = {MathJaxConfig: 'local'};\n",
       "        if (window.MathJax) {MathJax.Hub.Config({SVG: {font: \"STIX-Web\"}});}\n",
       "        if (typeof require !== 'undefined') {\n",
       "        require.undef(\"plotly\");\n",
       "        requirejs.config({\n",
       "            paths: {\n",
       "                'plotly': ['https://cdn.plot.ly/plotly-latest.min']\n",
       "            }\n",
       "        });\n",
       "        require(['plotly'], function(Plotly) {\n",
       "            window._Plotly = Plotly;\n",
       "        });\n",
       "        }\n",
       "        </script>\n",
       "        "
      ]
     },
     "metadata": {},
     "output_type": "display_data"
    },
    {
     "data": {
      "text/html": [
       "<style>.container { width:100% !important; }</style>"
      ],
      "text/plain": [
       "<IPython.core.display.HTML object>"
      ]
     },
     "metadata": {},
     "output_type": "display_data"
    }
   ],
   "source": [
    "import warnings  \n",
    "warnings.filterwarnings('ignore')\n",
    "import os\n",
    "import re \n",
    "import fastparquet\n",
    "import numpy as np\n",
    "import pandas as pd \n",
    "pd.set_option('display.max_rows', None)\n",
    "pd.set_option('display.max_columns', None)\n",
    "pd.set_option('display.width', None)\n",
    "pd.set_option('display.max_colwidth', None)\n",
    "import matplotlib.pyplot as plt\n",
    "%matplotlib inline\n",
    "%config InlineBackend.figure_format='retina'\n",
    "import seaborn as sns\n",
    "# sns.set_style(\"white\")\n",
    "from plotly.offline import download_plotlyjs, init_notebook_mode, plot, iplot\n",
    "import plotly.graph_objs as go\n",
    "from plotly.offline import download_plotlyjs\n",
    "from plotly.offline import init_notebook_mode \n",
    "from plotly.offline import plot, iplot\n",
    "import plotly\n",
    "import plotly.graph_objs as go\n",
    "init_notebook_mode(connected=True)\n",
    "import plotly.io as pio\n",
    "import dask \n",
    "import dask.dataframe as dd\n",
    "from dask.distributed import Client, progress\n",
    "from dask.diagnostics import ProgressBar\n",
    "from sklearn.preprocessing import StandardScaler\n",
    "from sklearn.ensemble import IsolationForest\n",
    "from IPython.core.display import display, HTML\n",
    "from IPython.core.interactiveshell import InteractiveShell\n",
    "InteractiveShell.ast_node_interactivity = \"all\"\n",
    "from IPython.core.display import display, HTML\n",
    "display(HTML(\"<style>.container { width:100% !important; }</style>\"))"
   ]
  },
  {
   "cell_type": "code",
   "execution_count": 37,
   "id": "882fe5bb",
   "metadata": {},
   "outputs": [
    {
     "data": {
      "text/plain": [
       "'D:\\\\AOT_DATASET_ATMOSPHERIC_PRESSURE\\\\AoT_Chicago.complete.pressure'"
      ]
     },
     "execution_count": 37,
     "metadata": {},
     "output_type": "execute_result"
    }
   ],
   "source": [
    "os.getcwd()"
   ]
  },
  {
   "cell_type": "code",
   "execution_count": 38,
   "id": "a9f53b4e",
   "metadata": {},
   "outputs": [],
   "source": [
    "os.chdir('D:\\\\AOT_DATASET_ATMOSPHERIC_PRESSURE\\\\AoT_Chicago.complete.pressure')"
   ]
  },
  {
   "cell_type": "code",
   "execution_count": 39,
   "id": "a633fa4a",
   "metadata": {},
   "outputs": [
    {
     "data": {
      "text/plain": [
       "'D:\\\\AOT_DATASET_ATMOSPHERIC_PRESSURE\\\\AoT_Chicago.complete.pressure'"
      ]
     },
     "execution_count": 39,
     "metadata": {},
     "output_type": "execute_result"
    }
   ],
   "source": [
    "os.getcwd()"
   ]
  },
  {
   "cell_type": "code",
   "execution_count": 40,
   "id": "968473b2",
   "metadata": {},
   "outputs": [
    {
     "name": "stdout",
     "output_type": "stream",
     "text": [
      " Volume in drive D is New Volume\n",
      " Volume Serial Number is A060-E317\n",
      "\n",
      " Directory of D:\\AOT_DATASET_ATMOSPHERIC_PRESSURE\\AoT_Chicago.complete.pressure\n",
      "\n",
      "09/28/2021  10:54 AM    <DIR>          .\n",
      "09/28/2021  10:54 AM    <DIR>          ..\n",
      "09/28/2021  10:13 AM    <DIR>          dask-worker-space\n",
      "09/09/2021  07:00 AM     4,461,178,880 data.csv\n",
      "09/09/2021  07:00 AM       578,819,428 data.csv.gz\n",
      "09/28/2021  09:56 AM            65,762 mydask.png\n",
      "09/28/2021  09:14 AM            15,469 nodes.csv\n",
      "09/09/2021  06:53 AM            39,059 offsets.csv\n",
      "09/09/2021  06:53 AM               263 provenance.csv\n",
      "09/09/2021  06:53 AM             6,826 README.md\n",
      "09/09/2021  06:53 AM            27,300 sensors.csv\n",
      "09/28/2021  10:13 AM            31,999 what.svg\n",
      "               9 File(s)  5,040,184,986 bytes\n",
      "               3 Dir(s)  875,308,318,720 bytes free\n"
     ]
    }
   ],
   "source": [
    "!dir"
   ]
  },
  {
   "cell_type": "code",
   "execution_count": null,
   "id": "484de312",
   "metadata": {},
   "outputs": [],
   "source": [
    "# 4.5GB file !  (pretty darn big)"
   ]
  },
  {
   "cell_type": "markdown",
   "id": "536d8055",
   "metadata": {},
   "source": [
    "# Practice, reading in via pandas, exporting to parquet:"
   ]
  },
  {
   "cell_type": "code",
   "execution_count": 41,
   "id": "04a017bd",
   "metadata": {},
   "outputs": [],
   "source": [
    "# you only need to clean this thing once..."
   ]
  },
  {
   "cell_type": "code",
   "execution_count": 42,
   "id": "b185b09b",
   "metadata": {},
   "outputs": [],
   "source": [
    "df = pd.read_csv('data.csv')"
   ]
  },
  {
   "cell_type": "code",
   "execution_count": 43,
   "id": "58e27ac8",
   "metadata": {},
   "outputs": [
    {
     "data": {
      "text/plain": [
       "Index(['data.csv', 'node_id', 'subsystem', 'sensor', 'parameter', 'value_raw',\n",
       "       'value_hrf'],\n",
       "      dtype='object')"
      ]
     },
     "execution_count": 43,
     "metadata": {},
     "output_type": "execute_result"
    }
   ],
   "source": [
    "df.columns"
   ]
  },
  {
   "cell_type": "code",
   "execution_count": 44,
   "id": "0ce432e6",
   "metadata": {},
   "outputs": [
    {
     "data": {
      "text/plain": [
       "data.csv      object\n",
       "node_id       object\n",
       "subsystem     object\n",
       "sensor        object\n",
       "parameter     object\n",
       "value_raw    float64\n",
       "value_hrf    float64\n",
       "dtype: object"
      ]
     },
     "execution_count": 44,
     "metadata": {},
     "output_type": "execute_result"
    }
   ],
   "source": [
    "df.dtypes"
   ]
  },
  {
   "cell_type": "code",
   "execution_count": 45,
   "id": "4ed62169",
   "metadata": {},
   "outputs": [
    {
     "data": {
      "text/html": [
       "<div>\n",
       "<style scoped>\n",
       "    .dataframe tbody tr th:only-of-type {\n",
       "        vertical-align: middle;\n",
       "    }\n",
       "\n",
       "    .dataframe tbody tr th {\n",
       "        vertical-align: top;\n",
       "    }\n",
       "\n",
       "    .dataframe thead th {\n",
       "        text-align: right;\n",
       "    }\n",
       "</style>\n",
       "<table border=\"1\" class=\"dataframe\">\n",
       "  <thead>\n",
       "    <tr style=\"text-align: right;\">\n",
       "      <th></th>\n",
       "      <th>data.csv</th>\n",
       "      <th>node_id</th>\n",
       "      <th>subsystem</th>\n",
       "      <th>sensor</th>\n",
       "      <th>parameter</th>\n",
       "      <th>value_raw</th>\n",
       "      <th>value_hrf</th>\n",
       "    </tr>\n",
       "  </thead>\n",
       "  <tbody>\n",
       "    <tr>\n",
       "      <th>0</th>\n",
       "      <td>2018/01/01 00:00:06</td>\n",
       "      <td>001e0610e532</td>\n",
       "      <td>metsense</td>\n",
       "      <td>bmp180</td>\n",
       "      <td>pressure</td>\n",
       "      <td>10169500.0</td>\n",
       "      <td>1016.95</td>\n",
       "    </tr>\n",
       "    <tr>\n",
       "      <th>1</th>\n",
       "      <td>2018/01/01 00:00:07</td>\n",
       "      <td>001e0610bc07</td>\n",
       "      <td>metsense</td>\n",
       "      <td>bmp180</td>\n",
       "      <td>pressure</td>\n",
       "      <td>10116700.0</td>\n",
       "      <td>1011.67</td>\n",
       "    </tr>\n",
       "    <tr>\n",
       "      <th>2</th>\n",
       "      <td>2018/01/01 00:00:07</td>\n",
       "      <td>001e0610ef27</td>\n",
       "      <td>metsense</td>\n",
       "      <td>bmp180</td>\n",
       "      <td>pressure</td>\n",
       "      <td>10158300.0</td>\n",
       "      <td>1015.83</td>\n",
       "    </tr>\n",
       "    <tr>\n",
       "      <th>3</th>\n",
       "      <td>2018/01/01 00:00:08</td>\n",
       "      <td>001e0610e540</td>\n",
       "      <td>metsense</td>\n",
       "      <td>bmp180</td>\n",
       "      <td>pressure</td>\n",
       "      <td>10156200.0</td>\n",
       "      <td>1015.62</td>\n",
       "    </tr>\n",
       "    <tr>\n",
       "      <th>4</th>\n",
       "      <td>2018/01/01 00:00:08</td>\n",
       "      <td>001e0610ee61</td>\n",
       "      <td>metsense</td>\n",
       "      <td>bmp180</td>\n",
       "      <td>pressure</td>\n",
       "      <td>10096900.0</td>\n",
       "      <td>1009.69</td>\n",
       "    </tr>\n",
       "    <tr>\n",
       "      <th>5</th>\n",
       "      <td>2018/01/01 00:00:14</td>\n",
       "      <td>001e0610fb4c</td>\n",
       "      <td>metsense</td>\n",
       "      <td>bmp180</td>\n",
       "      <td>pressure</td>\n",
       "      <td>10142700.0</td>\n",
       "      <td>1014.27</td>\n",
       "    </tr>\n",
       "    <tr>\n",
       "      <th>6</th>\n",
       "      <td>2018/01/01 00:00:20</td>\n",
       "      <td>001e0610ba18</td>\n",
       "      <td>metsense</td>\n",
       "      <td>bmp180</td>\n",
       "      <td>pressure</td>\n",
       "      <td>10126400.0</td>\n",
       "      <td>1012.64</td>\n",
       "    </tr>\n",
       "    <tr>\n",
       "      <th>7</th>\n",
       "      <td>2018/01/01 00:00:21</td>\n",
       "      <td>001e0610ba3b</td>\n",
       "      <td>metsense</td>\n",
       "      <td>bmp180</td>\n",
       "      <td>pressure</td>\n",
       "      <td>10140400.0</td>\n",
       "      <td>1014.04</td>\n",
       "    </tr>\n",
       "    <tr>\n",
       "      <th>8</th>\n",
       "      <td>2018/01/01 00:00:21</td>\n",
       "      <td>001e0610ba57</td>\n",
       "      <td>metsense</td>\n",
       "      <td>bmp180</td>\n",
       "      <td>pressure</td>\n",
       "      <td>10122100.0</td>\n",
       "      <td>1012.21</td>\n",
       "    </tr>\n",
       "    <tr>\n",
       "      <th>9</th>\n",
       "      <td>2018/01/01 00:00:30</td>\n",
       "      <td>001e0610e532</td>\n",
       "      <td>metsense</td>\n",
       "      <td>bmp180</td>\n",
       "      <td>pressure</td>\n",
       "      <td>10170300.0</td>\n",
       "      <td>1017.03</td>\n",
       "    </tr>\n",
       "  </tbody>\n",
       "</table>\n",
       "</div>"
      ],
      "text/plain": [
       "              data.csv       node_id subsystem  sensor parameter   value_raw  \\\n",
       "0  2018/01/01 00:00:06  001e0610e532  metsense  bmp180  pressure  10169500.0   \n",
       "1  2018/01/01 00:00:07  001e0610bc07  metsense  bmp180  pressure  10116700.0   \n",
       "2  2018/01/01 00:00:07  001e0610ef27  metsense  bmp180  pressure  10158300.0   \n",
       "3  2018/01/01 00:00:08  001e0610e540  metsense  bmp180  pressure  10156200.0   \n",
       "4  2018/01/01 00:00:08  001e0610ee61  metsense  bmp180  pressure  10096900.0   \n",
       "5  2018/01/01 00:00:14  001e0610fb4c  metsense  bmp180  pressure  10142700.0   \n",
       "6  2018/01/01 00:00:20  001e0610ba18  metsense  bmp180  pressure  10126400.0   \n",
       "7  2018/01/01 00:00:21  001e0610ba3b  metsense  bmp180  pressure  10140400.0   \n",
       "8  2018/01/01 00:00:21  001e0610ba57  metsense  bmp180  pressure  10122100.0   \n",
       "9  2018/01/01 00:00:30  001e0610e532  metsense  bmp180  pressure  10170300.0   \n",
       "\n",
       "   value_hrf  \n",
       "0    1016.95  \n",
       "1    1011.67  \n",
       "2    1015.83  \n",
       "3    1015.62  \n",
       "4    1009.69  \n",
       "5    1014.27  \n",
       "6    1012.64  \n",
       "7    1014.04  \n",
       "8    1012.21  \n",
       "9    1017.03  "
      ]
     },
     "execution_count": 45,
     "metadata": {},
     "output_type": "execute_result"
    }
   ],
   "source": [
    "df.head(10)"
   ]
  },
  {
   "cell_type": "code",
   "execution_count": 46,
   "id": "9115d724",
   "metadata": {},
   "outputs": [],
   "source": [
    "df.drop('value_raw', axis=1, inplace=True)"
   ]
  },
  {
   "cell_type": "code",
   "execution_count": 47,
   "id": "b3eef853",
   "metadata": {},
   "outputs": [
    {
     "data": {
      "text/plain": [
       "data.csv      object\n",
       "node_id       object\n",
       "subsystem     object\n",
       "sensor        object\n",
       "parameter     object\n",
       "value_hrf    float64\n",
       "dtype: object"
      ]
     },
     "execution_count": 47,
     "metadata": {},
     "output_type": "execute_result"
    }
   ],
   "source": [
    "df.dtypes"
   ]
  },
  {
   "cell_type": "code",
   "execution_count": 48,
   "id": "c5a10cf1",
   "metadata": {},
   "outputs": [
    {
     "data": {
      "text/plain": [
       "data.csv     1\n",
       "node_id      1\n",
       "subsystem    1\n",
       "sensor       1\n",
       "parameter    1\n",
       "value_hrf    1\n",
       "dtype: int64"
      ]
     },
     "execution_count": 48,
     "metadata": {},
     "output_type": "execute_result"
    }
   ],
   "source": [
    "df.isnull().sum()"
   ]
  },
  {
   "cell_type": "code",
   "execution_count": 49,
   "id": "ed212ecc",
   "metadata": {},
   "outputs": [
    {
     "data": {
      "text/html": [
       "<div>\n",
       "<style scoped>\n",
       "    .dataframe tbody tr th:only-of-type {\n",
       "        vertical-align: middle;\n",
       "    }\n",
       "\n",
       "    .dataframe tbody tr th {\n",
       "        vertical-align: top;\n",
       "    }\n",
       "\n",
       "    .dataframe thead th {\n",
       "        text-align: right;\n",
       "    }\n",
       "</style>\n",
       "<table border=\"1\" class=\"dataframe\">\n",
       "  <thead>\n",
       "    <tr style=\"text-align: right;\">\n",
       "      <th></th>\n",
       "      <th>data.csv</th>\n",
       "      <th>node_id</th>\n",
       "      <th>subsystem</th>\n",
       "      <th>sensor</th>\n",
       "      <th>parameter</th>\n",
       "      <th>value_hrf</th>\n",
       "    </tr>\n",
       "  </thead>\n",
       "  <tbody>\n",
       "    <tr>\n",
       "      <th>60143230</th>\n",
       "      <td>NaN</td>\n",
       "      <td>NaN</td>\n",
       "      <td>NaN</td>\n",
       "      <td>NaN</td>\n",
       "      <td>NaN</td>\n",
       "      <td>NaN</td>\n",
       "    </tr>\n",
       "  </tbody>\n",
       "</table>\n",
       "</div>"
      ],
      "text/plain": [
       "         data.csv node_id subsystem sensor parameter  value_hrf\n",
       "60143230      NaN     NaN       NaN    NaN       NaN        NaN"
      ]
     },
     "execution_count": 49,
     "metadata": {},
     "output_type": "execute_result"
    }
   ],
   "source": [
    "df.tail(1)"
   ]
  },
  {
   "cell_type": "code",
   "execution_count": 50,
   "id": "0d23e497",
   "metadata": {},
   "outputs": [],
   "source": [
    "df.drop(df.index[-1], inplace=True)"
   ]
  },
  {
   "cell_type": "code",
   "execution_count": 51,
   "id": "ced7030f",
   "metadata": {},
   "outputs": [
    {
     "data": {
      "text/plain": [
       "data.csv     0\n",
       "node_id      0\n",
       "subsystem    0\n",
       "sensor       0\n",
       "parameter    0\n",
       "value_hrf    0\n",
       "dtype: int64"
      ]
     },
     "execution_count": 51,
     "metadata": {},
     "output_type": "execute_result"
    }
   ],
   "source": [
    "df.isnull().sum()"
   ]
  },
  {
   "cell_type": "code",
   "execution_count": 52,
   "id": "b24ebb6d",
   "metadata": {},
   "outputs": [],
   "source": [
    "df['data.csv'] = df['data.csv'].astype('datetime64[ns]')"
   ]
  },
  {
   "cell_type": "code",
   "execution_count": 53,
   "id": "8c1056ae",
   "metadata": {},
   "outputs": [
    {
     "data": {
      "text/plain": [
       "data.csv     datetime64[ns]\n",
       "node_id              object\n",
       "subsystem            object\n",
       "sensor               object\n",
       "parameter            object\n",
       "value_hrf           float64\n",
       "dtype: object"
      ]
     },
     "execution_count": 53,
     "metadata": {},
     "output_type": "execute_result"
    }
   ],
   "source": [
    "df.dtypes"
   ]
  },
  {
   "cell_type": "code",
   "execution_count": 54,
   "id": "d1b77c46",
   "metadata": {},
   "outputs": [],
   "source": [
    "df = df.rename({'data.csv': 'timestamp'}, axis=1)"
   ]
  },
  {
   "cell_type": "code",
   "execution_count": 55,
   "id": "0a3d8529",
   "metadata": {},
   "outputs": [
    {
     "data": {
      "text/plain": [
       "timestamp    datetime64[ns]\n",
       "node_id              object\n",
       "subsystem            object\n",
       "sensor               object\n",
       "parameter            object\n",
       "value_hrf           float64\n",
       "dtype: object"
      ]
     },
     "execution_count": 55,
     "metadata": {},
     "output_type": "execute_result"
    }
   ],
   "source": [
    "df.dtypes"
   ]
  },
  {
   "cell_type": "code",
   "execution_count": 56,
   "id": "f90c92c1",
   "metadata": {},
   "outputs": [],
   "source": [
    "df.set_index('timestamp', inplace=True)"
   ]
  },
  {
   "cell_type": "code",
   "execution_count": 57,
   "id": "d621268a",
   "metadata": {},
   "outputs": [
    {
     "data": {
      "text/plain": [
       "node_id       object\n",
       "subsystem     object\n",
       "sensor        object\n",
       "parameter     object\n",
       "value_hrf    float64\n",
       "dtype: object"
      ]
     },
     "execution_count": 57,
     "metadata": {},
     "output_type": "execute_result"
    }
   ],
   "source": [
    "df.dtypes"
   ]
  },
  {
   "cell_type": "code",
   "execution_count": 58,
   "id": "df5025ba",
   "metadata": {},
   "outputs": [
    {
     "data": {
      "text/plain": [
       "DatetimeIndex(['2018-01-01 00:00:06', '2018-01-01 00:00:07',\n",
       "               '2018-01-01 00:00:07', '2018-01-01 00:00:08',\n",
       "               '2018-01-01 00:00:08', '2018-01-01 00:00:14',\n",
       "               '2018-01-01 00:00:20', '2018-01-01 00:00:21',\n",
       "               '2018-01-01 00:00:21', '2018-01-01 00:00:30',\n",
       "               ...\n",
       "               '2019-02-26 01:38:56', '2019-02-26 01:38:57',\n",
       "               '2019-02-26 01:38:57', '2019-02-26 01:38:58',\n",
       "               '2019-02-26 01:38:59', '2019-02-26 01:38:59',\n",
       "               '2019-02-26 01:38:59', '2019-02-26 01:38:59',\n",
       "               '2019-02-26 01:39:00', '2019-02-26 01:39:00'],\n",
       "              dtype='datetime64[ns]', name='timestamp', length=60143230, freq=None)"
      ]
     },
     "execution_count": 58,
     "metadata": {},
     "output_type": "execute_result"
    }
   ],
   "source": [
    "df.index"
   ]
  },
  {
   "cell_type": "code",
   "execution_count": null,
   "id": "b469d903",
   "metadata": {},
   "outputs": [],
   "source": [
    "df.info()"
   ]
  },
  {
   "cell_type": "code",
   "execution_count": null,
   "id": "0f6666df",
   "metadata": {},
   "outputs": [],
   "source": [
    "len(df)"
   ]
  },
  {
   "cell_type": "code",
   "execution_count": null,
   "id": "a1209d21",
   "metadata": {},
   "outputs": [],
   "source": [
    "df.to_parquet('atmospheric_data_AOT_compressed.parquet.gzip', \n",
    "              engine='fastparquet', \n",
    "              index=True, \n",
    "              compression='gzip')"
   ]
  },
  {
   "cell_type": "markdown",
   "id": "b510f559",
   "metadata": {},
   "source": [
    "---"
   ]
  },
  {
   "cell_type": "markdown",
   "id": "9d1e5523",
   "metadata": {},
   "source": [
    "# Reading in pre-processed parquet file:"
   ]
  },
  {
   "cell_type": "code",
   "execution_count": 35,
   "id": "edf57214",
   "metadata": {},
   "outputs": [],
   "source": [
    "\n",
    "# creating brand new cleaned dataframe by importing for speed\n",
    "# directly from parquet file...\n",
    "# i have the ram, but i could have read in via dask as well\n",
    "# note:  with dask, you CAN export df directly to Datashader ! \n",
    "\n",
    "df = pd.read_parquet('atmospheric_data_AOT_compressed.parquet.gzip', \n",
    "                     engine='fastparquet')\n"
   ]
  },
  {
   "cell_type": "code",
   "execution_count": null,
   "id": "ab8e163e",
   "metadata": {},
   "outputs": [],
   "source": []
  },
  {
   "cell_type": "code",
   "execution_count": null,
   "id": "610c9951",
   "metadata": {},
   "outputs": [],
   "source": []
  },
  {
   "cell_type": "code",
   "execution_count": null,
   "id": "477b5ec5",
   "metadata": {},
   "outputs": [],
   "source": []
  },
  {
   "cell_type": "code",
   "execution_count": null,
   "id": "1668e98f",
   "metadata": {},
   "outputs": [],
   "source": []
  },
  {
   "cell_type": "code",
   "execution_count": null,
   "id": "1b55f25d",
   "metadata": {},
   "outputs": [],
   "source": []
  },
  {
   "cell_type": "code",
   "execution_count": null,
   "id": "bc768132",
   "metadata": {},
   "outputs": [],
   "source": []
  },
  {
   "cell_type": "code",
   "execution_count": null,
   "id": "618eb9f2",
   "metadata": {},
   "outputs": [],
   "source": []
  },
  {
   "cell_type": "code",
   "execution_count": null,
   "id": "d3621776",
   "metadata": {},
   "outputs": [],
   "source": []
  },
  {
   "cell_type": "code",
   "execution_count": null,
   "id": "58fb85ce",
   "metadata": {},
   "outputs": [],
   "source": []
  },
  {
   "cell_type": "code",
   "execution_count": null,
   "id": "3589ffa6",
   "metadata": {},
   "outputs": [],
   "source": []
  },
  {
   "cell_type": "code",
   "execution_count": null,
   "id": "6ac52c77",
   "metadata": {},
   "outputs": [],
   "source": []
  },
  {
   "cell_type": "markdown",
   "id": "f02d63b8",
   "metadata": {},
   "source": [
    "# Readme\n",
    "\n",
    "The files in this directory contain sensor data and the associated meta-data that\n",
    "will enable parsing the sensor values.\n",
    "\n",
    "## Overview\n",
    "\n",
    "This sensor data digest contains the following files:\n",
    "\n",
    "* `data.csv.gz` - Sensor data ordered by ascending timestamp.\n",
    "* `nodes.csv` - Nodes metadata.\n",
    "* `sensors.csv` - Sensor metadata.\n",
    "* `provenance.csv` - Provenance metadata.\n",
    "\n",
    "These files will be described in-depth in the following sections.\n",
    "\n",
    "### Sensor Data\n",
    "\n",
    "The sensor data file is an aggregate of all published data from the project's\n",
    "nodes. By published, we mean:\n",
    "\n",
    "* Data was read from a whitelisted node belonging to the project.\n",
    "* Data was read during that node's commissioning period.\n",
    "\n",
    "\n",
    "\n",
    "The `data.csv.gz` file is a compressed CSV with the following, but not limited to, columns:\n",
    "\n",
    "* `timestamp` - UTC timestamp of when the measurement was done.\n",
    "* `node_id` - ID of node which did the measurement.\n",
    "* `subsystem` - Subsystem of node containing sensor.\n",
    "* `sensor` - Sensor that was measured.\n",
    "* `parameter` - Sensor parameter that was measured.\n",
    "* `value_raw` - Raw measurement value from sensor.\n",
    "* `value_hrf` - Converted, \"human readable\" value from sensor.\n",
    "\n",
    "These fields will always be provided as a header, for example:\n",
    "```\n",
    "timestamp,node_id,subsystem,sensor,parameter,value_raw,value_hrf\n",
    "2017/09/09 22:12:44,001e0610ba8f,lightsense,hih4030,humidity,NA,32.18\n",
    "2017/09/09 22:12:44,001e0610ba8f,lightsense,hih4030,temperature,NA,48.55\n",
    "2017/09/09 22:12:44,001e0610ba8f,lightsense,ml8511,intensity,9643,NA\n",
    "2017/09/09 22:12:44,001e0610ba8f,lightsense,tmp421,temperature,NA,43.81\n",
    "2017/09/09 22:12:44,001e0610ba8f,metsense,hih4030,humidity,450,NA\n",
    "2017/09/09 22:12:44,001e0610ba8f,metsense,htu21d,humidity,NA,41.15\n",
    "2017/09/09 22:12:44,001e0610ba8f,metsense,htu21d,temperature,NA,24.1\n",
    "2017/09/09 22:12:44,001e0610ba8f,metsense,metsense,id,00001814B7E8,00001814B7E8\n",
    "2017/09/09 22:12:44,001e0610ba8f,metsense,pr103j2,temperature,839,NA\n",
    "```\n",
    "\n",
    "Sensor data is ordered by ascending timestamp.\n",
    "\n",
    "Additional information such each node's coordinates or each sensor units can be found\n",
    "in the metadata. More information about these will be provided in the next two sections.\n",
    "\n",
    "A sensor values may be marked `NA`, indicating that either the raw or HRF value is\n",
    "unavailable.\n",
    "\n",
    "### Node Metadata\n",
    "\n",
    "The node metadata provides additional information about each of a project's nodes. This\n",
    "file is a CSV with the following fields:\n",
    "\n",
    "* `node_id` - ID of node.\n",
    "* `project_id` - ID of project which manages node.\n",
    "* `vsn` - Public name for node. The VSN is visible on the physical enclosure.\n",
    "* `address` - Street address of node installation.\n",
    "* `lat` - Latitude of node installation.\n",
    "* `lon` - Longitude of node installation.\n",
    "* `description` - More detailed description of node's build and configuration.\n",
    "* `start_timestamp` - Starting timestamp of node installation.\n",
    "* `end_timestamp` - Ending timestamp of node installation.\n",
    "\n",
    "These fields will always be provided as a header, for example:\n",
    "```\n",
    "node_id,project_id,vsn,address,lat,lon,description,start_timestamp,end_timestamp\n",
    "001e0610ba46,AoT_Chicago,004,State St & Jackson Blvd Chicago IL,41.878377,-87.627678,AoT Chicago (S) [C],2017/10/09 00:00:00,\n",
    "001e0610ba3b,AoT_Chicago,006,18th St & Lake Shore Dr Chicago IL,41.858136,-87.616055,AoT Chicago (S),2017/08/08 00:00:00,\n",
    "001e0610ba8f,AoT_Chicago,00D,Cornell & 47th St Chicago IL,41.810342,-87.590228,AoT Chicago (S),2017/08/08 00:00:00,\n",
    "001e0610ba16,AoT_Chicago,010,Ohio St & Grand Ave Chicago IL,41.891964,-87.611603,AoT Chicago (S) [C],2017/12/01 00:00:00,2018/06/04 00:00:00\n",
    "```\n",
    "\n",
    "Additional details about a node are contained in the description field. The letters\n",
    "inside the brackets `[ ]` indicate:\n",
    "\n",
    "* `C` - Node is equipped with chemical sensors.\n",
    "* `A` - Node is equipped with Alphasense OPN-N2 air quality sensor.\n",
    "* `P` - Node is equipped with Plantower PMS7003 air quality sensor.\n",
    "\n",
    "### Sensor Metadata\n",
    "\n",
    "The sensor metadata provides additional information about each of the sensors published\n",
    "by the project. This file is a CSV with the following fields:\n",
    "\n",
    "* `ontology` - Ontology of measurement.\n",
    "* `subsystem` - Subsystem containing sensor.\n",
    "* `sensor` - Sensor name.\n",
    "* `parameter` - Sensor parameter.\n",
    "* `hrf_unit` - Physical units of HRF value.\n",
    "* `hrf_minval` - Minimum HRF value according to datasheet. Used as lower bound in range filter.\n",
    "* `hrf_maxval` - Maximum HRF value according to datasheet. Used as upper bound in range filter.\n",
    "* `datasheet` - Reference to sensor's datasheet.\n",
    "\n",
    "These fields will always be provided as a header, for example:\n",
    "```\n",
    "ontology,subsystem,sensor,parameter,hrf_unit,hrf_minval,hrf_maxval,datasheet\n",
    "/sensing/meteorology/pressure,metsense,bmp180,pressure,hPa,300,1100,\"https://github.com/waggle-sensor/sensors/blob/master/sensors/airsense/bmp180.pdf\"\n",
    "/sensing/meteorology/temperature,metsense,bmp180,temperature,C,-40,125,\"https://github.com/waggle-sensor/sensors/blob/master/sensors/airsense/bmp180.pdf\"\n",
    "/sensing/meteorology/humidity,metsense,hih4030,humidity,RH,0,100,\"https://github.com/waggle-sensor/sensors/blob/master/sensors/airsense/htu4030.pdf\"\n",
    "/sensing/meteorology/humidity,metsense,htu21d,humidity,RH,0,100,\"https://github.com/waggle-sensor/sensors/blob/master/sensors/airsense/htu21d.pdf\"\n",
    "/sensing/meteorology/temperature,metsense,htu21d,temperature,C,-40,125,\"https://github.com/waggle-sensor/sensors/blob/master/sensors/airsense/htu21d.pdf\"\n",
    "```\n",
    "\n",
    "More in-depth information about each sensor can be found at: https://github.com/waggle-sensor/sensors\n",
    "\n",
    "### Provenance Metadata\n",
    "\n",
    "The provenance metadata provides additional information about the origin of this\n",
    "project digest. This file is a CSV with the following fields:\n",
    "\n",
    "* `data_format_version` - Data format version.\n",
    "* `project_id` - Project ID.\n",
    "* `data_start_date` - Minimum possible publishing UTC timestamp.\n",
    "* `data_end_date` - Maximum possible publishing UTC timestamp. If no explicit date exists, the creation date is used.\n",
    "* `creation_date` - UTC timestamp this digest was created.\n",
    "* `url` - URL where this digest was provided.\n",
    "\n",
    "These fields will always be provide as a header, for example:\n",
    "```\n",
    "data_format_version,project_id,data_start_date,data_end_date,creation_date,url\n",
    "1,AoT_Chicago.complete,2017/03/31 00:00:00,2018/04/10 15:34:36,2018/04/10 15:34:36,http://www.mcs.anl.gov/research/projects/waggle/downloads/datasets/AoT_Chicago.complete.latest.tar.gz\n",
    "```\n",
    "\n",
    "### Useful Links\n",
    "\n",
    "* Sensors: https://github.com/waggle-sensor/sensors/blob/develop/README.md\n",
    "* Array of Things: https://arrayofthings.github.io/\n",
    "* Waggle: http://wa8.gl/\n",
    "\n"
   ]
  }
 ],
 "metadata": {
  "kernelspec": {
   "display_name": "Python 3 (ipykernel)",
   "language": "python",
   "name": "python3"
  },
  "language_info": {
   "codemirror_mode": {
    "name": "ipython",
    "version": 3
   },
   "file_extension": ".py",
   "mimetype": "text/x-python",
   "name": "python",
   "nbconvert_exporter": "python",
   "pygments_lexer": "ipython3",
   "version": "3.8.8"
  }
 },
 "nbformat": 4,
 "nbformat_minor": 5
}
