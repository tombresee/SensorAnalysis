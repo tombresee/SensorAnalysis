{
 "cells": [
  {
   "cell_type": "markdown",
   "id": "4304a118",
   "metadata": {},
   "source": [
    "---\n",
    "\n",
    "# Purpose\n",
    "\n",
    "---"
   ]
  },
  {
   "cell_type": "markdown",
   "id": "279032d6",
   "metadata": {},
   "source": [
    "1. Read-in massive temperature-only dataset (temp-1)"
   ]
  },
  {
   "cell_type": "markdown",
   "id": "ca00b51b",
   "metadata": {},
   "source": [
    "<br>"
   ]
  },
  {
   "cell_type": "markdown",
   "id": "e90ec4e2",
   "metadata": {},
   "source": [
    "---\n",
    "## Read In Data\n",
    "---"
   ]
  },
  {
   "cell_type": "code",
   "execution_count": 3,
   "id": "88a439ac",
   "metadata": {},
   "outputs": [
    {
     "data": {
      "text/html": [
       "<style>.container { width:100% !important; }</style>"
      ],
      "text/plain": [
       "<IPython.core.display.HTML object>"
      ]
     },
     "metadata": {},
     "output_type": "display_data"
    }
   ],
   "source": [
    "import os\n",
    "import sys\n",
    "import pandas as pd\n",
    "pd.set_option('display.max_rows', None)\n",
    "pd.set_option('display.max_columns', None)\n",
    "import matplotlib.pyplot as plt\n",
    "%matplotlib inline\n",
    "import seaborn as sns\n",
    "plt.style.use('seaborn-whitegrid')\n",
    "import numpy as np\n",
    "\n",
    "import warnings\n",
    "warnings.filterwarnings(\"ignore\")\n",
    "warnings.filterwarnings(\"ignore\", category=UserWarning)\n",
    "\n",
    "from IPython.core.display import display, HTML\n",
    "display(HTML(\"<style>.container { width:100% !important; }</style>\"))"
   ]
  },
  {
   "cell_type": "code",
   "execution_count": 4,
   "id": "f089aa88",
   "metadata": {},
   "outputs": [
    {
     "data": {
      "text/plain": [
       "'D:\\\\GITHUB_Repos\\\\SensorAnalysis\\\\ENTER\\\\code\\\\analyzing_temperature_only'"
      ]
     },
     "execution_count": 4,
     "metadata": {},
     "output_type": "execute_result"
    }
   ],
   "source": [
    "os.getcwd()"
   ]
  },
  {
   "cell_type": "code",
   "execution_count": 5,
   "id": "ba810e40",
   "metadata": {},
   "outputs": [],
   "source": [
    "os.chdir('D:\\\\AOT_TEMPERATURE_ONLY_DATASET\\\\AoT_Chicago.complete.temp1')\n",
    "# within this folder we keep the data.csv file we require "
   ]
  },
  {
   "cell_type": "markdown",
   "id": "b5ee6f0e",
   "metadata": {},
   "source": [
    "All of the data files:"
   ]
  },
  {
   "cell_type": "code",
   "execution_count": 6,
   "id": "3f2983cb",
   "metadata": {
    "scrolled": true
   },
   "outputs": [
    {
     "name": "stdout",
     "output_type": "stream",
     "text": [
      " Volume in drive D is New Volume\n",
      " Volume Serial Number is A060-E317\n",
      "\n",
      " Directory of D:\\AOT_TEMPERATURE_ONLY_DATASET\\AoT_Chicago.complete.temp1\n",
      "\n",
      "09/21/2021  04:54 PM    <DIR>          .\n",
      "09/21/2021  04:54 PM    <DIR>          ..\n",
      "09/07/2021  01:20 PM     8,602,204,160 data.csv\n",
      "09/07/2021  01:20 PM       682,117,243 data.csv.gz\n",
      "08/17/2021  11:02 AM            16,268 nodes.csv\n",
      "08/17/2021  11:02 AM            39,059 offsets.csv\n",
      "08/17/2021  11:02 AM               263 provenance.csv\n",
      "08/17/2021  11:02 AM             6,826 README.md\n",
      "08/17/2021  11:02 AM            27,300 sensors.csv\n",
      "               7 File(s)  9,284,411,119 bytes\n",
      "               2 Dir(s)  913,240,518,656 bytes free\n"
     ]
    }
   ],
   "source": [
    "!dir"
   ]
  },
  {
   "cell_type": "code",
   "execution_count": 7,
   "id": "9a87726c",
   "metadata": {},
   "outputs": [],
   "source": [
    "\n",
    "# this is a very large file, like over 8GB in size...\n",
    "\n",
    "df = pd.read_csv('data.csv', \n",
    "                 parse_dates=['data.csv'], \n",
    "                 index_col='data.csv')\n"
   ]
  },
  {
   "cell_type": "code",
   "execution_count": 8,
   "id": "ea5af09f",
   "metadata": {},
   "outputs": [
    {
     "data": {
      "text/html": [
       "<div>\n",
       "<style scoped>\n",
       "    .dataframe tbody tr th:only-of-type {\n",
       "        vertical-align: middle;\n",
       "    }\n",
       "\n",
       "    .dataframe tbody tr th {\n",
       "        vertical-align: top;\n",
       "    }\n",
       "\n",
       "    .dataframe thead th {\n",
       "        text-align: right;\n",
       "    }\n",
       "</style>\n",
       "<table border=\"1\" class=\"dataframe\">\n",
       "  <thead>\n",
       "    <tr style=\"text-align: right;\">\n",
       "      <th></th>\n",
       "      <th>node_id</th>\n",
       "      <th>subsystem</th>\n",
       "      <th>sensor</th>\n",
       "      <th>parameter</th>\n",
       "      <th>value_raw</th>\n",
       "      <th>value_hrf</th>\n",
       "    </tr>\n",
       "    <tr>\n",
       "      <th>data.csv</th>\n",
       "      <th></th>\n",
       "      <th></th>\n",
       "      <th></th>\n",
       "      <th></th>\n",
       "      <th></th>\n",
       "      <th></th>\n",
       "    </tr>\n",
       "  </thead>\n",
       "  <tbody>\n",
       "    <tr>\n",
       "      <th>2018-01-01 00:00:06</th>\n",
       "      <td>001e0610e532</td>\n",
       "      <td>metsense</td>\n",
       "      <td>pr103j2</td>\n",
       "      <td>temperature</td>\n",
       "      <td>458.0</td>\n",
       "      <td>-10.90</td>\n",
       "    </tr>\n",
       "    <tr>\n",
       "      <th>2018-01-01 00:00:07</th>\n",
       "      <td>001e0610bc07</td>\n",
       "      <td>metsense</td>\n",
       "      <td>pr103j2</td>\n",
       "      <td>temperature</td>\n",
       "      <td>470.0</td>\n",
       "      <td>-10.00</td>\n",
       "    </tr>\n",
       "    <tr>\n",
       "      <th>2018-01-01 00:00:07</th>\n",
       "      <td>001e0610ef27</td>\n",
       "      <td>metsense</td>\n",
       "      <td>pr103j2</td>\n",
       "      <td>temperature</td>\n",
       "      <td>459.0</td>\n",
       "      <td>-10.80</td>\n",
       "    </tr>\n",
       "    <tr>\n",
       "      <th>2018-01-01 00:00:08</th>\n",
       "      <td>001e0610e540</td>\n",
       "      <td>metsense</td>\n",
       "      <td>pr103j2</td>\n",
       "      <td>temperature</td>\n",
       "      <td>454.0</td>\n",
       "      <td>-11.15</td>\n",
       "    </tr>\n",
       "    <tr>\n",
       "      <th>2018-01-01 00:00:08</th>\n",
       "      <td>001e0610ee61</td>\n",
       "      <td>metsense</td>\n",
       "      <td>pr103j2</td>\n",
       "      <td>temperature</td>\n",
       "      <td>451.0</td>\n",
       "      <td>-11.40</td>\n",
       "    </tr>\n",
       "  </tbody>\n",
       "</table>\n",
       "</div>"
      ],
      "text/plain": [
       "                          node_id subsystem   sensor    parameter  value_raw  \\\n",
       "data.csv                                                                       \n",
       "2018-01-01 00:00:06  001e0610e532  metsense  pr103j2  temperature      458.0   \n",
       "2018-01-01 00:00:07  001e0610bc07  metsense  pr103j2  temperature      470.0   \n",
       "2018-01-01 00:00:07  001e0610ef27  metsense  pr103j2  temperature      459.0   \n",
       "2018-01-01 00:00:08  001e0610e540  metsense  pr103j2  temperature      454.0   \n",
       "2018-01-01 00:00:08  001e0610ee61  metsense  pr103j2  temperature      451.0   \n",
       "\n",
       "                     value_hrf  \n",
       "data.csv                        \n",
       "2018-01-01 00:00:06     -10.90  \n",
       "2018-01-01 00:00:07     -10.00  \n",
       "2018-01-01 00:00:07     -10.80  \n",
       "2018-01-01 00:00:08     -11.15  \n",
       "2018-01-01 00:00:08     -11.40  "
      ]
     },
     "execution_count": 8,
     "metadata": {},
     "output_type": "execute_result"
    }
   ],
   "source": [
    "df.head()"
   ]
  },
  {
   "cell_type": "code",
   "execution_count": 9,
   "id": "2333b9b9",
   "metadata": {},
   "outputs": [],
   "source": [
    "df.drop('value_raw', axis=1, inplace=True)  # value_hrf is what we want "
   ]
  },
  {
   "cell_type": "code",
   "execution_count": 10,
   "id": "1dec5d64",
   "metadata": {},
   "outputs": [],
   "source": [
    "df.index.names = [\"timestamp\"]"
   ]
  },
  {
   "cell_type": "code",
   "execution_count": 11,
   "id": "a9ee1dab",
   "metadata": {},
   "outputs": [
    {
     "data": {
      "text/html": [
       "<div>\n",
       "<style scoped>\n",
       "    .dataframe tbody tr th:only-of-type {\n",
       "        vertical-align: middle;\n",
       "    }\n",
       "\n",
       "    .dataframe tbody tr th {\n",
       "        vertical-align: top;\n",
       "    }\n",
       "\n",
       "    .dataframe thead th {\n",
       "        text-align: right;\n",
       "    }\n",
       "</style>\n",
       "<table border=\"1\" class=\"dataframe\">\n",
       "  <thead>\n",
       "    <tr style=\"text-align: right;\">\n",
       "      <th></th>\n",
       "      <th>node_id</th>\n",
       "      <th>subsystem</th>\n",
       "      <th>sensor</th>\n",
       "      <th>parameter</th>\n",
       "      <th>value_hrf</th>\n",
       "    </tr>\n",
       "    <tr>\n",
       "      <th>timestamp</th>\n",
       "      <th></th>\n",
       "      <th></th>\n",
       "      <th></th>\n",
       "      <th></th>\n",
       "      <th></th>\n",
       "    </tr>\n",
       "  </thead>\n",
       "  <tbody>\n",
       "    <tr>\n",
       "      <th>2018-01-01 00:00:06</th>\n",
       "      <td>001e0610e532</td>\n",
       "      <td>metsense</td>\n",
       "      <td>pr103j2</td>\n",
       "      <td>temperature</td>\n",
       "      <td>-10.90</td>\n",
       "    </tr>\n",
       "    <tr>\n",
       "      <th>2018-01-01 00:00:07</th>\n",
       "      <td>001e0610bc07</td>\n",
       "      <td>metsense</td>\n",
       "      <td>pr103j2</td>\n",
       "      <td>temperature</td>\n",
       "      <td>-10.00</td>\n",
       "    </tr>\n",
       "    <tr>\n",
       "      <th>2018-01-01 00:00:07</th>\n",
       "      <td>001e0610ef27</td>\n",
       "      <td>metsense</td>\n",
       "      <td>pr103j2</td>\n",
       "      <td>temperature</td>\n",
       "      <td>-10.80</td>\n",
       "    </tr>\n",
       "    <tr>\n",
       "      <th>2018-01-01 00:00:08</th>\n",
       "      <td>001e0610e540</td>\n",
       "      <td>metsense</td>\n",
       "      <td>pr103j2</td>\n",
       "      <td>temperature</td>\n",
       "      <td>-11.15</td>\n",
       "    </tr>\n",
       "    <tr>\n",
       "      <th>2018-01-01 00:00:08</th>\n",
       "      <td>001e0610ee61</td>\n",
       "      <td>metsense</td>\n",
       "      <td>pr103j2</td>\n",
       "      <td>temperature</td>\n",
       "      <td>-11.40</td>\n",
       "    </tr>\n",
       "  </tbody>\n",
       "</table>\n",
       "</div>"
      ],
      "text/plain": [
       "                          node_id subsystem   sensor    parameter  value_hrf\n",
       "timestamp                                                                   \n",
       "2018-01-01 00:00:06  001e0610e532  metsense  pr103j2  temperature     -10.90\n",
       "2018-01-01 00:00:07  001e0610bc07  metsense  pr103j2  temperature     -10.00\n",
       "2018-01-01 00:00:07  001e0610ef27  metsense  pr103j2  temperature     -10.80\n",
       "2018-01-01 00:00:08  001e0610e540  metsense  pr103j2  temperature     -11.15\n",
       "2018-01-01 00:00:08  001e0610ee61  metsense  pr103j2  temperature     -11.40"
      ]
     },
     "execution_count": 11,
     "metadata": {},
     "output_type": "execute_result"
    }
   ],
   "source": [
    "df.head()"
   ]
  },
  {
   "cell_type": "code",
   "execution_count": 12,
   "id": "44d7d38e",
   "metadata": {},
   "outputs": [],
   "source": [
    "df['node_id'] = df['node_id'].astype('category')\n",
    "df['subsystem'] = df['subsystem'].astype('category')\n",
    "df['sensor'] = df['sensor'].astype('category')\n",
    "df['parameter'] = df['parameter'].astype('category')"
   ]
  },
  {
   "cell_type": "code",
   "execution_count": 13,
   "id": "207135ee",
   "metadata": {},
   "outputs": [
    {
     "data": {
      "text/plain": [
       "node_id      category\n",
       "subsystem    category\n",
       "sensor       category\n",
       "parameter    category\n",
       "value_hrf     float64\n",
       "dtype: object"
      ]
     },
     "execution_count": 13,
     "metadata": {},
     "output_type": "execute_result"
    }
   ],
   "source": [
    "df.dtypes"
   ]
  },
  {
   "cell_type": "code",
   "execution_count": 14,
   "id": "667731d2",
   "metadata": {},
   "outputs": [
    {
     "data": {
      "text/plain": [
       "node_id      1\n",
       "subsystem    1\n",
       "sensor       1\n",
       "parameter    1\n",
       "value_hrf    1\n",
       "dtype: int64"
      ]
     },
     "execution_count": 14,
     "metadata": {},
     "output_type": "execute_result"
    }
   ],
   "source": [
    "df.isnull().sum()"
   ]
  },
  {
   "cell_type": "code",
   "execution_count": null,
   "id": "32f29384",
   "metadata": {},
   "outputs": [],
   "source": [
    "df.dropna()"
   ]
  },
  {
   "cell_type": "code",
   "execution_count": null,
   "id": "1fa67b93",
   "metadata": {},
   "outputs": [],
   "source": [
    "df.isnull().sum()"
   ]
  },
  {
   "cell_type": "code",
   "execution_count": null,
   "id": "0ee3c622",
   "metadata": {},
   "outputs": [],
   "source": []
  },
  {
   "cell_type": "code",
   "execution_count": null,
   "id": "13fbb1b1",
   "metadata": {},
   "outputs": [],
   "source": []
  },
  {
   "cell_type": "code",
   "execution_count": null,
   "id": "83ab9477",
   "metadata": {},
   "outputs": [],
   "source": []
  },
  {
   "cell_type": "markdown",
   "id": "1b30285f",
   "metadata": {},
   "source": [
    "---"
   ]
  },
  {
   "cell_type": "code",
   "execution_count": null,
   "id": "48f4cca6",
   "metadata": {},
   "outputs": [],
   "source": [
    "# df[ df.node_id == '001e0610e532'].head(10)"
   ]
  },
  {
   "cell_type": "code",
   "execution_count": null,
   "id": "b5fbe585",
   "metadata": {},
   "outputs": [],
   "source": [
    "# len(df)  # 120 844 394"
   ]
  },
  {
   "cell_type": "code",
   "execution_count": null,
   "id": "69003a5d",
   "metadata": {},
   "outputs": [],
   "source": [
    "# df.dtypes"
   ]
  },
  {
   "cell_type": "code",
   "execution_count": null,
   "id": "14033a71",
   "metadata": {},
   "outputs": [],
   "source": []
  },
  {
   "cell_type": "code",
   "execution_count": null,
   "id": "ed711dfe",
   "metadata": {},
   "outputs": [],
   "source": []
  },
  {
   "cell_type": "code",
   "execution_count": null,
   "id": "d67aa7c7",
   "metadata": {},
   "outputs": [],
   "source": []
  },
  {
   "cell_type": "code",
   "execution_count": null,
   "id": "b057b910",
   "metadata": {},
   "outputs": [],
   "source": []
  },
  {
   "cell_type": "code",
   "execution_count": null,
   "id": "4f3e1773",
   "metadata": {},
   "outputs": [],
   "source": []
  },
  {
   "cell_type": "code",
   "execution_count": null,
   "id": "b4084910",
   "metadata": {},
   "outputs": [],
   "source": []
  },
  {
   "cell_type": "code",
   "execution_count": null,
   "id": "0e22122c",
   "metadata": {},
   "outputs": [],
   "source": []
  },
  {
   "cell_type": "code",
   "execution_count": null,
   "id": "5b27e987",
   "metadata": {},
   "outputs": [],
   "source": []
  },
  {
   "cell_type": "code",
   "execution_count": null,
   "id": "83c705ad",
   "metadata": {},
   "outputs": [],
   "source": []
  },
  {
   "cell_type": "code",
   "execution_count": null,
   "id": "00a0b8ba",
   "metadata": {},
   "outputs": [],
   "source": []
  },
  {
   "cell_type": "code",
   "execution_count": null,
   "id": "5a50b41e",
   "metadata": {},
   "outputs": [],
   "source": []
  },
  {
   "cell_type": "markdown",
   "id": "7baf99be",
   "metadata": {},
   "source": [
    "<hr style=\"border:2px solid gray\"> </hr>\n"
   ]
  },
  {
   "cell_type": "code",
   "execution_count": null,
   "id": "0f8f949b",
   "metadata": {
    "scrolled": false
   },
   "outputs": [],
   "source": [
    "df.node_id.value_counts()"
   ]
  },
  {
   "cell_type": "code",
   "execution_count": null,
   "id": "b1d514b4",
   "metadata": {},
   "outputs": [],
   "source": [
    "print(df.node_id.unique())"
   ]
  },
  {
   "cell_type": "code",
   "execution_count": null,
   "id": "77fa407c",
   "metadata": {},
   "outputs": [],
   "source": [
    "df.head(1)"
   ]
  },
  {
   "cell_type": "code",
   "execution_count": null,
   "id": "c1602cd7",
   "metadata": {},
   "outputs": [],
   "source": [
    "df.tail(2)"
   ]
  },
  {
   "cell_type": "code",
   "execution_count": null,
   "id": "9ab9633e",
   "metadata": {},
   "outputs": [],
   "source": [
    "df.isnull().sum()"
   ]
  },
  {
   "cell_type": "code",
   "execution_count": null,
   "id": "da7eb50a",
   "metadata": {},
   "outputs": [],
   "source": [
    "df.dropna(inplace=True)"
   ]
  },
  {
   "cell_type": "code",
   "execution_count": null,
   "id": "b88b7d8f",
   "metadata": {},
   "outputs": [],
   "source": [
    "len(df)"
   ]
  },
  {
   "cell_type": "code",
   "execution_count": null,
   "id": "1c14be77",
   "metadata": {},
   "outputs": [],
   "source": [
    "df.isnull().sum()"
   ]
  },
  {
   "cell_type": "code",
   "execution_count": null,
   "id": "73141607",
   "metadata": {},
   "outputs": [],
   "source": [
    "df.tail(1)"
   ]
  },
  {
   "cell_type": "markdown",
   "id": "23499739",
   "metadata": {},
   "source": [
    "<br>"
   ]
  },
  {
   "cell_type": "markdown",
   "id": "1e46463c",
   "metadata": {},
   "source": [
    "---\n",
    "## EDA\n",
    "---"
   ]
  },
  {
   "cell_type": "code",
   "execution_count": null,
   "id": "8641cf89",
   "metadata": {},
   "outputs": [],
   "source": [
    "df.head()"
   ]
  },
  {
   "cell_type": "code",
   "execution_count": null,
   "id": "2f5a50ef",
   "metadata": {},
   "outputs": [],
   "source": [
    "len(df.node_id.unique())  # not bad "
   ]
  },
  {
   "cell_type": "code",
   "execution_count": null,
   "id": "80aa5533",
   "metadata": {},
   "outputs": [],
   "source": [
    "# convert from C to F \n",
    "df.value_hrf = (df.value_hrf * (9/5)) + 32 "
   ]
  },
  {
   "cell_type": "code",
   "execution_count": null,
   "id": "e56e3729",
   "metadata": {},
   "outputs": [],
   "source": [
    "df.head()"
   ]
  },
  {
   "cell_type": "markdown",
   "id": "a3f594ff",
   "metadata": {},
   "source": [
    "---"
   ]
  },
  {
   "cell_type": "code",
   "execution_count": null,
   "id": "633b4ccc",
   "metadata": {},
   "outputs": [],
   "source": [
    "# 6.6 GB -> 14.8 GB background (categoricals help alot)"
   ]
  },
  {
   "cell_type": "code",
   "execution_count": null,
   "id": "c083f226",
   "metadata": {},
   "outputs": [],
   "source": [
    "# data:  2018, 2019, 2020 (years)"
   ]
  },
  {
   "cell_type": "code",
   "execution_count": null,
   "id": "274dca02",
   "metadata": {},
   "outputs": [],
   "source": [
    "tdf = df.loc['2019-01-01':'2019-02-28'].copy()"
   ]
  },
  {
   "cell_type": "code",
   "execution_count": null,
   "id": "535321d0",
   "metadata": {},
   "outputs": [],
   "source": [
    "tdf.head(5)"
   ]
  },
  {
   "cell_type": "code",
   "execution_count": null,
   "id": "605fd467",
   "metadata": {},
   "outputs": [],
   "source": [
    "tdf.tail(5)"
   ]
  },
  {
   "cell_type": "code",
   "execution_count": null,
   "id": "7aa25e9d",
   "metadata": {},
   "outputs": [],
   "source": [
    "len(tdf)  # 8 317 639"
   ]
  },
  {
   "cell_type": "code",
   "execution_count": null,
   "id": "fe8d763b",
   "metadata": {},
   "outputs": [],
   "source": [
    "sns.lineplot(x=tdf.index, \n",
    "             y=\"value_hrf\",\n",
    "             hue=\"node_id\", \n",
    "             data=tdf)"
   ]
  },
  {
   "cell_type": "code",
   "execution_count": null,
   "id": "b0d92dfe",
   "metadata": {},
   "outputs": [],
   "source": [
    "tdf['T'] = tdf.index"
   ]
  },
  {
   "cell_type": "code",
   "execution_count": null,
   "id": "4d4496bb",
   "metadata": {},
   "outputs": [],
   "source": [
    "tdf.head()"
   ]
  },
  {
   "cell_type": "code",
   "execution_count": null,
   "id": "4d9dee3a",
   "metadata": {},
   "outputs": [],
   "source": [
    "\n",
    "ndf = tdf[tdf.node_id == '001e06113f54'].copy()\n",
    "\n",
    "plt.figure(figsize=(19, 7))\n",
    "\n",
    "sns.lineplot(x='T',  \n",
    "             y=\"value_hrf\",\n",
    "             data=ndf, \n",
    "             linewidth=1, \n",
    "             linestyle='dashed')          \n",
    "            \n",
    "sns.despine(); \n"
   ]
  },
  {
   "cell_type": "code",
   "execution_count": null,
   "id": "23f39627",
   "metadata": {},
   "outputs": [],
   "source": [
    "for u in tdf.node_id.unique():\n",
    "    print(u)"
   ]
  },
  {
   "cell_type": "code",
   "execution_count": null,
   "id": "d04a4ec7",
   "metadata": {
    "scrolled": false
   },
   "outputs": [],
   "source": [
    "\n",
    "# ndf = tdf[tdf.node_id == '001e06113f54'].copy()\n",
    "\n",
    "plt.figure(figsize=(19, 7))\n",
    "\n",
    "sns.lineplot(x=tdf[tdf.node_id == '001e06113f54'].index, \n",
    "             y=tdf[tdf.node_id == '001e06113f54'].value_hrf, \n",
    "             linewidth=1, \n",
    "             linestyle='dashed')          \n",
    "            \n",
    "sns.despine(); \n"
   ]
  },
  {
   "cell_type": "code",
   "execution_count": null,
   "id": "9ba50136",
   "metadata": {},
   "outputs": [],
   "source": [
    "\n",
    "# sns.catplot(\n",
    "#     data=tdf,\n",
    "#     x='T', \n",
    "#     y='value_hrf', \n",
    "#     row='node_id',\n",
    "#     col_wrap=4,\n",
    "#     kind='point',\n",
    "#     height=3, \n",
    "#     aspect=4,\n",
    "#     color='blue') \n"
   ]
  },
  {
   "cell_type": "markdown",
   "id": "f76fa032",
   "metadata": {},
   "source": [
    "#### plot all of them one by one"
   ]
  },
  {
   "cell_type": "code",
   "execution_count": null,
   "id": "01bf8766",
   "metadata": {
    "scrolled": false
   },
   "outputs": [],
   "source": [
    "\n",
    "plt.style.use(\"dark_background\")\n",
    "\n",
    "small_window = list(tdf.node_id.unique())\n",
    "\n",
    "for w in small_window:\n",
    "    plt.figure(figsize=(16,4),dpi = 600)\n",
    "    plt.grid(False)\n",
    "    sns.lineplot( x = tdf[tdf.node_id == w].index, \n",
    "             y=tdf[tdf.node_id == w].value_hrf, \n",
    "             linewidth=.8,\n",
    "             color='cyan')\n",
    "    sns.despine()\n",
    "    plt.xlabel(''),\n",
    "    plt.ylabel('Temperature (C)')\n",
    "    plt.title('node_id: = {}'.format(w))\n",
    "    plt.tight_layout()\n",
    "    plt.show()\n",
    "        "
   ]
  },
  {
   "cell_type": "code",
   "execution_count": null,
   "id": "8e8afa33",
   "metadata": {},
   "outputs": [],
   "source": [
    "# sns.lineplot(x=tdf.index, \n",
    "#              y='value_hrf', \n",
    "#              data=tdf, \n",
    "#              linewidth=1, \n",
    "#              hue='node_id', \n",
    "#              linestyle='dashed').set(title='Time Series Plot')\n",
    "\n",
    "# #rotate x-axis labels by 15 degrees\n",
    "# plt.xticks(rotation=15)\n",
    "\n",
    "# # boxplots by month\n",
    "# sns.boxplot(x = 'month', y='Value', data = df)\n",
    "\n",
    "\n",
    "# # boxplots by month\n",
    "# sns.boxplot(x = 'month', y='Value', data = df)"
   ]
  },
  {
   "cell_type": "markdown",
   "id": "e1db8fd1",
   "metadata": {},
   "source": [
    "```python\n",
    "\n",
    "import pandas as pd\n",
    "import multiprocessing as mp\n",
    "from multiprocessing import Pool, cpu_count\n",
    "\n",
    "def parallelize_dataframe(df, func, n_cores=12):\n",
    "    df_split = np.array_split(df, n_cores)\n",
    "    pool = Pool(n_cores)\n",
    "    df = pd.concat(pool.map(func, df_split))\n",
    "    pool.close()\n",
    "    pool.join()\n",
    "    return df\n",
    "\n",
    "```"
   ]
  },
  {
   "cell_type": "code",
   "execution_count": null,
   "id": "d8027754",
   "metadata": {
    "scrolled": false
   },
   "outputs": [],
   "source": [
    "# # importing the module\n",
    "# import matplotlib.pyplot as plt\n",
    "  \n",
    "# # plotting line within the given range\n",
    "# plt.axhline(y = .5, xmin = 0.25, xmax = 0.9)\n",
    "  \n",
    "# # line colour is blue\n",
    "# plt.axhline(y = 3, color = 'b', linestyle = ':')\n",
    "  \n",
    "# # line colour is white\n",
    "# plt.axhline(y = 1, color = 'w', linestyle = '--')\n",
    "  \n",
    "# # line colour is red\n",
    "# plt.axhline(y = 2, color = 'r', linestyle = 'dashed')    \n",
    "    \n",
    "# # adding axis labels    \n",
    "# plt.xlabel('x - axis')\n",
    "# plt.ylabel('y - axis')\n",
    "  \n",
    "# # displaying the plot\n",
    "# plt.show()"
   ]
  },
  {
   "cell_type": "markdown",
   "id": "4fed051f",
   "metadata": {},
   "source": [
    "---"
   ]
  }
 ],
 "metadata": {
  "kernelspec": {
   "display_name": "Python 3 (ipykernel)",
   "language": "python",
   "name": "python3"
  },
  "language_info": {
   "codemirror_mode": {
    "name": "ipython",
    "version": 3
   },
   "file_extension": ".py",
   "mimetype": "text/x-python",
   "name": "python",
   "nbconvert_exporter": "python",
   "pygments_lexer": "ipython3",
   "version": "3.8.8"
  }
 },
 "nbformat": 4,
 "nbformat_minor": 5
}
