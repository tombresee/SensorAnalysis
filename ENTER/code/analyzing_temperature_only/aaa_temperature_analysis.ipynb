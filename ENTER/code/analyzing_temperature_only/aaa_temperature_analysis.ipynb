{
 "cells": [
  {
   "cell_type": "markdown",
   "id": "4304a118",
   "metadata": {},
   "source": [
    "---\n",
    "\n",
    "# Purpose\n",
    "\n",
    "---"
   ]
  },
  {
   "cell_type": "markdown",
   "id": "279032d6",
   "metadata": {},
   "source": [
    "1. Read-in massive temperature-only dataset (temp-1)"
   ]
  },
  {
   "cell_type": "markdown",
   "id": "ca00b51b",
   "metadata": {},
   "source": [
    "<br>"
   ]
  },
  {
   "cell_type": "markdown",
   "id": "e90ec4e2",
   "metadata": {},
   "source": [
    "---\n",
    "## Read In Data\n",
    "---"
   ]
  },
  {
   "cell_type": "code",
   "execution_count": 1,
   "id": "32a5d275",
   "metadata": {},
   "outputs": [
    {
     "data": {
      "application/javascript": [
       "if (!(\"Notification\" in window)) {\n",
       "    alert(\"This browser does not support desktop notifications, so the %%notify magic will not work.\");\n",
       "} else if (Notification.permission !== 'granted' && Notification.permission !== 'denied') {\n",
       "    Notification.requestPermission(function (permission) {\n",
       "        if(!('permission' in Notification)) {\n",
       "            Notification.permission = permission;\n",
       "        }\n",
       "    })\n",
       "}\n"
      ],
      "text/plain": [
       "<IPython.core.display.Javascript object>"
      ]
     },
     "metadata": {},
     "output_type": "display_data"
    }
   ],
   "source": [
    "import jupyternotify\n",
    "ip = get_ipython()\n",
    "ip.register_magics(jupyternotify.JupyterNotifyMagics)"
   ]
  },
  {
   "cell_type": "code",
   "execution_count": 2,
   "id": "8cd5ee1e",
   "metadata": {},
   "outputs": [
    {
     "data": {
      "application/javascript": [
       "if (!(\"Notification\" in window)) {\n",
       "    alert(\"This browser does not support desktop notifications, so the %%notify magic will not work.\");\n",
       "} else if (Notification.permission !== 'granted' && Notification.permission !== 'denied') {\n",
       "    Notification.requestPermission(function (permission) {\n",
       "        if(!('permission' in Notification)) {\n",
       "            Notification.permission = permission;\n",
       "        }\n",
       "    })\n",
       "}\n"
      ],
      "text/plain": [
       "<IPython.core.display.Javascript object>"
      ]
     },
     "metadata": {},
     "output_type": "display_data"
    }
   ],
   "source": [
    "%load_ext jupyternotify"
   ]
  },
  {
   "cell_type": "code",
   "execution_count": 3,
   "id": "88a439ac",
   "metadata": {},
   "outputs": [
    {
     "name": "stderr",
     "output_type": "stream",
     "text": [
      "C:\\Users\\tbresee\\AppData\\Roaming\\Python\\Python38\\site-packages\\mpl_toolkits\\mplot3d\\__init__.py:1: MatplotlibDeprecationWarning: \n",
      "The deprecated function was deprecated in Matplotlib 3.4 and will be removed two minor releases later.\n",
      "  from .axes3d import Axes3D\n"
     ]
    },
    {
     "data": {
      "text/html": [
       "<style>.container { width:100% !important; }</style>"
      ],
      "text/plain": [
       "<IPython.core.display.HTML object>"
      ]
     },
     "metadata": {},
     "output_type": "display_data"
    }
   ],
   "source": [
    "import os\n",
    "import sys\n",
    "import pandas as pd\n",
    "pd.set_option('display.max_rows', None)\n",
    "pd.set_option('display.max_columns', None)\n",
    "import matplotlib.pyplot as plt\n",
    "%matplotlib inline\n",
    "import seaborn as sns\n",
    "plt.style.use('seaborn-whitegrid')\n",
    "import numpy as np\n",
    "import warnings\n",
    "#warnings.filterwarnings(\"ignore\", category=UserWarning)\n",
    "#warnings.filterwarnings(\"ignore\", category=DeprecationWarning)\n",
    "import warnings\n",
    "warnings.filterwarnings(\"ignore\")\n",
    "from IPython.core.display import display, HTML\n",
    "display(HTML(\"<style>.container { width:100% !important; }</style>\"))\n",
    "from tqdm.notebook import tqdm_notebook\n",
    "tqdm_notebook.pandas()"
   ]
  },
  {
   "cell_type": "code",
   "execution_count": 4,
   "id": "f089aa88",
   "metadata": {},
   "outputs": [
    {
     "data": {
      "text/plain": [
       "'D:\\\\GITHUB_Repos\\\\SensorAnalysis\\\\ENTER\\\\code\\\\analyzing_temperature_only'"
      ]
     },
     "execution_count": 4,
     "metadata": {},
     "output_type": "execute_result"
    }
   ],
   "source": [
    "os.getcwd()"
   ]
  },
  {
   "cell_type": "code",
   "execution_count": 5,
   "id": "ba810e40",
   "metadata": {},
   "outputs": [],
   "source": [
    "os.chdir('D:\\\\AOT_TEMPERATURE_ONLY_DATASET\\\\AoT_Chicago.complete.temp1')\n",
    "# within this folder we keep the data.csv file we require "
   ]
  },
  {
   "cell_type": "markdown",
   "id": "b5ee6f0e",
   "metadata": {},
   "source": [
    "All of the data files:"
   ]
  },
  {
   "cell_type": "code",
   "execution_count": 6,
   "id": "3f2983cb",
   "metadata": {
    "scrolled": true
   },
   "outputs": [
    {
     "name": "stdout",
     "output_type": "stream",
     "text": [
      " Volume in drive D is New Volume\n",
      " Volume Serial Number is A060-E317\n",
      "\n",
      " Directory of D:\\AOT_TEMPERATURE_ONLY_DATASET\\AoT_Chicago.complete.temp1\n",
      "\n",
      "09/21/2021  04:54 PM    <DIR>          .\n",
      "09/21/2021  04:54 PM    <DIR>          ..\n",
      "09/07/2021  01:20 PM     8,602,204,160 data.csv\n",
      "09/07/2021  01:20 PM       682,117,243 data.csv.gz\n",
      "08/17/2021  11:02 AM            16,268 nodes.csv\n",
      "08/17/2021  11:02 AM            39,059 offsets.csv\n",
      "08/17/2021  11:02 AM               263 provenance.csv\n",
      "08/17/2021  11:02 AM             6,826 README.md\n",
      "08/17/2021  11:02 AM            27,300 sensors.csv\n",
      "               7 File(s)  9,284,411,119 bytes\n",
      "               2 Dir(s)  913,244,663,808 bytes free\n"
     ]
    }
   ],
   "source": [
    "!dir"
   ]
  },
  {
   "cell_type": "code",
   "execution_count": 7,
   "id": "9a87726c",
   "metadata": {},
   "outputs": [],
   "source": [
    "\n",
    "# this is a very large file, like over 8GB in size...\n",
    "\n",
    "df = pd.read_csv('data.csv', \n",
    "                 parse_dates=['data.csv'], \n",
    "                 index_col='data.csv')\n"
   ]
  },
  {
   "cell_type": "code",
   "execution_count": 8,
   "id": "dd033c11",
   "metadata": {},
   "outputs": [
    {
     "data": {
      "text/html": [
       "<div>\n",
       "<style scoped>\n",
       "    .dataframe tbody tr th:only-of-type {\n",
       "        vertical-align: middle;\n",
       "    }\n",
       "\n",
       "    .dataframe tbody tr th {\n",
       "        vertical-align: top;\n",
       "    }\n",
       "\n",
       "    .dataframe thead th {\n",
       "        text-align: right;\n",
       "    }\n",
       "</style>\n",
       "<table border=\"1\" class=\"dataframe\">\n",
       "  <thead>\n",
       "    <tr style=\"text-align: right;\">\n",
       "      <th></th>\n",
       "      <th>node_id</th>\n",
       "      <th>subsystem</th>\n",
       "      <th>sensor</th>\n",
       "      <th>parameter</th>\n",
       "      <th>value_raw</th>\n",
       "      <th>value_hrf</th>\n",
       "    </tr>\n",
       "    <tr>\n",
       "      <th>data.csv</th>\n",
       "      <th></th>\n",
       "      <th></th>\n",
       "      <th></th>\n",
       "      <th></th>\n",
       "      <th></th>\n",
       "      <th></th>\n",
       "    </tr>\n",
       "  </thead>\n",
       "  <tbody>\n",
       "    <tr>\n",
       "      <th>2018-01-01 00:00:06</th>\n",
       "      <td>001e0610e532</td>\n",
       "      <td>metsense</td>\n",
       "      <td>pr103j2</td>\n",
       "      <td>temperature</td>\n",
       "      <td>458.0</td>\n",
       "      <td>-10.90</td>\n",
       "    </tr>\n",
       "    <tr>\n",
       "      <th>2018-01-01 00:00:07</th>\n",
       "      <td>001e0610bc07</td>\n",
       "      <td>metsense</td>\n",
       "      <td>pr103j2</td>\n",
       "      <td>temperature</td>\n",
       "      <td>470.0</td>\n",
       "      <td>-10.00</td>\n",
       "    </tr>\n",
       "    <tr>\n",
       "      <th>2018-01-01 00:00:07</th>\n",
       "      <td>001e0610ef27</td>\n",
       "      <td>metsense</td>\n",
       "      <td>pr103j2</td>\n",
       "      <td>temperature</td>\n",
       "      <td>459.0</td>\n",
       "      <td>-10.80</td>\n",
       "    </tr>\n",
       "    <tr>\n",
       "      <th>2018-01-01 00:00:08</th>\n",
       "      <td>001e0610e540</td>\n",
       "      <td>metsense</td>\n",
       "      <td>pr103j2</td>\n",
       "      <td>temperature</td>\n",
       "      <td>454.0</td>\n",
       "      <td>-11.15</td>\n",
       "    </tr>\n",
       "    <tr>\n",
       "      <th>2018-01-01 00:00:08</th>\n",
       "      <td>001e0610ee61</td>\n",
       "      <td>metsense</td>\n",
       "      <td>pr103j2</td>\n",
       "      <td>temperature</td>\n",
       "      <td>451.0</td>\n",
       "      <td>-11.40</td>\n",
       "    </tr>\n",
       "  </tbody>\n",
       "</table>\n",
       "</div>"
      ],
      "text/plain": [
       "                          node_id subsystem   sensor    parameter  value_raw  \\\n",
       "data.csv                                                                       \n",
       "2018-01-01 00:00:06  001e0610e532  metsense  pr103j2  temperature      458.0   \n",
       "2018-01-01 00:00:07  001e0610bc07  metsense  pr103j2  temperature      470.0   \n",
       "2018-01-01 00:00:07  001e0610ef27  metsense  pr103j2  temperature      459.0   \n",
       "2018-01-01 00:00:08  001e0610e540  metsense  pr103j2  temperature      454.0   \n",
       "2018-01-01 00:00:08  001e0610ee61  metsense  pr103j2  temperature      451.0   \n",
       "\n",
       "                     value_hrf  \n",
       "data.csv                        \n",
       "2018-01-01 00:00:06     -10.90  \n",
       "2018-01-01 00:00:07     -10.00  \n",
       "2018-01-01 00:00:07     -10.80  \n",
       "2018-01-01 00:00:08     -11.15  \n",
       "2018-01-01 00:00:08     -11.40  "
      ]
     },
     "execution_count": 8,
     "metadata": {},
     "output_type": "execute_result"
    }
   ],
   "source": [
    "df.head()"
   ]
  },
  {
   "cell_type": "code",
   "execution_count": 9,
   "id": "2333b9b9",
   "metadata": {},
   "outputs": [],
   "source": [
    "df.drop('value_raw', axis=1, inplace=True)  # value_hrf is what we want "
   ]
  },
  {
   "cell_type": "code",
   "execution_count": 10,
   "id": "1dec5d64",
   "metadata": {},
   "outputs": [],
   "source": [
    "df.index.names = [\"timestamp\"]"
   ]
  },
  {
   "cell_type": "code",
   "execution_count": 11,
   "id": "a9ee1dab",
   "metadata": {},
   "outputs": [
    {
     "data": {
      "text/html": [
       "<div>\n",
       "<style scoped>\n",
       "    .dataframe tbody tr th:only-of-type {\n",
       "        vertical-align: middle;\n",
       "    }\n",
       "\n",
       "    .dataframe tbody tr th {\n",
       "        vertical-align: top;\n",
       "    }\n",
       "\n",
       "    .dataframe thead th {\n",
       "        text-align: right;\n",
       "    }\n",
       "</style>\n",
       "<table border=\"1\" class=\"dataframe\">\n",
       "  <thead>\n",
       "    <tr style=\"text-align: right;\">\n",
       "      <th></th>\n",
       "      <th>node_id</th>\n",
       "      <th>subsystem</th>\n",
       "      <th>sensor</th>\n",
       "      <th>parameter</th>\n",
       "      <th>value_hrf</th>\n",
       "    </tr>\n",
       "    <tr>\n",
       "      <th>timestamp</th>\n",
       "      <th></th>\n",
       "      <th></th>\n",
       "      <th></th>\n",
       "      <th></th>\n",
       "      <th></th>\n",
       "    </tr>\n",
       "  </thead>\n",
       "  <tbody>\n",
       "    <tr>\n",
       "      <th>2018-01-01 00:00:06</th>\n",
       "      <td>001e0610e532</td>\n",
       "      <td>metsense</td>\n",
       "      <td>pr103j2</td>\n",
       "      <td>temperature</td>\n",
       "      <td>-10.90</td>\n",
       "    </tr>\n",
       "    <tr>\n",
       "      <th>2018-01-01 00:00:07</th>\n",
       "      <td>001e0610bc07</td>\n",
       "      <td>metsense</td>\n",
       "      <td>pr103j2</td>\n",
       "      <td>temperature</td>\n",
       "      <td>-10.00</td>\n",
       "    </tr>\n",
       "    <tr>\n",
       "      <th>2018-01-01 00:00:07</th>\n",
       "      <td>001e0610ef27</td>\n",
       "      <td>metsense</td>\n",
       "      <td>pr103j2</td>\n",
       "      <td>temperature</td>\n",
       "      <td>-10.80</td>\n",
       "    </tr>\n",
       "    <tr>\n",
       "      <th>2018-01-01 00:00:08</th>\n",
       "      <td>001e0610e540</td>\n",
       "      <td>metsense</td>\n",
       "      <td>pr103j2</td>\n",
       "      <td>temperature</td>\n",
       "      <td>-11.15</td>\n",
       "    </tr>\n",
       "    <tr>\n",
       "      <th>2018-01-01 00:00:08</th>\n",
       "      <td>001e0610ee61</td>\n",
       "      <td>metsense</td>\n",
       "      <td>pr103j2</td>\n",
       "      <td>temperature</td>\n",
       "      <td>-11.40</td>\n",
       "    </tr>\n",
       "  </tbody>\n",
       "</table>\n",
       "</div>"
      ],
      "text/plain": [
       "                          node_id subsystem   sensor    parameter  value_hrf\n",
       "timestamp                                                                   \n",
       "2018-01-01 00:00:06  001e0610e532  metsense  pr103j2  temperature     -10.90\n",
       "2018-01-01 00:00:07  001e0610bc07  metsense  pr103j2  temperature     -10.00\n",
       "2018-01-01 00:00:07  001e0610ef27  metsense  pr103j2  temperature     -10.80\n",
       "2018-01-01 00:00:08  001e0610e540  metsense  pr103j2  temperature     -11.15\n",
       "2018-01-01 00:00:08  001e0610ee61  metsense  pr103j2  temperature     -11.40"
      ]
     },
     "execution_count": 11,
     "metadata": {},
     "output_type": "execute_result"
    }
   ],
   "source": [
    "df.head()"
   ]
  },
  {
   "cell_type": "code",
   "execution_count": 12,
   "id": "44d7d38e",
   "metadata": {},
   "outputs": [],
   "source": [
    "df['node_id'] = df['node_id'].astype('category')\n",
    "df['subsystem'] = df['subsystem'].astype('category')\n",
    "df['sensor'] = df['sensor'].astype('category')\n",
    "df['parameter'] = df['parameter'].astype('category')"
   ]
  },
  {
   "cell_type": "code",
   "execution_count": 13,
   "id": "207135ee",
   "metadata": {},
   "outputs": [
    {
     "data": {
      "text/plain": [
       "node_id      category\n",
       "subsystem    category\n",
       "sensor       category\n",
       "parameter    category\n",
       "value_hrf     float64\n",
       "dtype: object"
      ]
     },
     "execution_count": 13,
     "metadata": {},
     "output_type": "execute_result"
    }
   ],
   "source": [
    "df.dtypes"
   ]
  },
  {
   "cell_type": "code",
   "execution_count": 14,
   "id": "3518e9b5",
   "metadata": {},
   "outputs": [
    {
     "data": {
      "text/plain": [
       "node_id      1\n",
       "subsystem    1\n",
       "sensor       1\n",
       "parameter    1\n",
       "value_hrf    1\n",
       "dtype: int64"
      ]
     },
     "execution_count": 14,
     "metadata": {},
     "output_type": "execute_result"
    }
   ],
   "source": [
    "df.isnull().sum()"
   ]
  },
  {
   "cell_type": "code",
   "execution_count": 15,
   "id": "94c9709e",
   "metadata": {},
   "outputs": [
    {
     "data": {
      "text/html": [
       "<div>\n",
       "<style scoped>\n",
       "    .dataframe tbody tr th:only-of-type {\n",
       "        vertical-align: middle;\n",
       "    }\n",
       "\n",
       "    .dataframe tbody tr th {\n",
       "        vertical-align: top;\n",
       "    }\n",
       "\n",
       "    .dataframe thead th {\n",
       "        text-align: right;\n",
       "    }\n",
       "</style>\n",
       "<table border=\"1\" class=\"dataframe\">\n",
       "  <thead>\n",
       "    <tr style=\"text-align: right;\">\n",
       "      <th></th>\n",
       "      <th>node_id</th>\n",
       "      <th>subsystem</th>\n",
       "      <th>sensor</th>\n",
       "      <th>parameter</th>\n",
       "      <th>value_hrf</th>\n",
       "    </tr>\n",
       "    <tr>\n",
       "      <th>timestamp</th>\n",
       "      <th></th>\n",
       "      <th></th>\n",
       "      <th></th>\n",
       "      <th></th>\n",
       "      <th></th>\n",
       "    </tr>\n",
       "  </thead>\n",
       "  <tbody>\n",
       "    <tr>\n",
       "      <th>NaT</th>\n",
       "      <td>NaN</td>\n",
       "      <td>NaN</td>\n",
       "      <td>NaN</td>\n",
       "      <td>NaN</td>\n",
       "      <td>NaN</td>\n",
       "    </tr>\n",
       "  </tbody>\n",
       "</table>\n",
       "</div>"
      ],
      "text/plain": [
       "          node_id subsystem sensor parameter  value_hrf\n",
       "timestamp                                              \n",
       "NaT           NaN       NaN    NaN       NaN        NaN"
      ]
     },
     "execution_count": 15,
     "metadata": {},
     "output_type": "execute_result"
    }
   ],
   "source": [
    "# the specific rows with missing data, you can delete manually...\n",
    "df.loc[df.isnull().any(axis=1)]"
   ]
  },
  {
   "cell_type": "code",
   "execution_count": 16,
   "id": "d03f2d34",
   "metadata": {},
   "outputs": [
    {
     "data": {
      "text/html": [
       "<div>\n",
       "<style scoped>\n",
       "    .dataframe tbody tr th:only-of-type {\n",
       "        vertical-align: middle;\n",
       "    }\n",
       "\n",
       "    .dataframe tbody tr th {\n",
       "        vertical-align: top;\n",
       "    }\n",
       "\n",
       "    .dataframe thead th {\n",
       "        text-align: right;\n",
       "    }\n",
       "</style>\n",
       "<table border=\"1\" class=\"dataframe\">\n",
       "  <thead>\n",
       "    <tr style=\"text-align: right;\">\n",
       "      <th></th>\n",
       "      <th>node_id</th>\n",
       "      <th>subsystem</th>\n",
       "      <th>sensor</th>\n",
       "      <th>parameter</th>\n",
       "      <th>value_hrf</th>\n",
       "    </tr>\n",
       "    <tr>\n",
       "      <th>timestamp</th>\n",
       "      <th></th>\n",
       "      <th></th>\n",
       "      <th></th>\n",
       "      <th></th>\n",
       "      <th></th>\n",
       "    </tr>\n",
       "  </thead>\n",
       "  <tbody>\n",
       "    <tr>\n",
       "      <th>NaT</th>\n",
       "      <td>NaN</td>\n",
       "      <td>NaN</td>\n",
       "      <td>NaN</td>\n",
       "      <td>NaN</td>\n",
       "      <td>NaN</td>\n",
       "    </tr>\n",
       "  </tbody>\n",
       "</table>\n",
       "</div>"
      ],
      "text/plain": [
       "          node_id subsystem sensor parameter  value_hrf\n",
       "timestamp                                              \n",
       "NaT           NaN       NaN    NaN       NaN        NaN"
      ]
     },
     "execution_count": 16,
     "metadata": {},
     "output_type": "execute_result"
    }
   ],
   "source": [
    "df.tail(1)"
   ]
  },
  {
   "cell_type": "code",
   "execution_count": 17,
   "id": "66421611",
   "metadata": {},
   "outputs": [],
   "source": [
    "# Drop last row\n",
    "df.drop(index=df.index[-1], \n",
    "        axis=0, \n",
    "        inplace=True)"
   ]
  },
  {
   "cell_type": "code",
   "execution_count": 18,
   "id": "9d712eb7",
   "metadata": {},
   "outputs": [
    {
     "data": {
      "text/html": [
       "<div>\n",
       "<style scoped>\n",
       "    .dataframe tbody tr th:only-of-type {\n",
       "        vertical-align: middle;\n",
       "    }\n",
       "\n",
       "    .dataframe tbody tr th {\n",
       "        vertical-align: top;\n",
       "    }\n",
       "\n",
       "    .dataframe thead th {\n",
       "        text-align: right;\n",
       "    }\n",
       "</style>\n",
       "<table border=\"1\" class=\"dataframe\">\n",
       "  <thead>\n",
       "    <tr style=\"text-align: right;\">\n",
       "      <th></th>\n",
       "      <th>node_id</th>\n",
       "      <th>subsystem</th>\n",
       "      <th>sensor</th>\n",
       "      <th>parameter</th>\n",
       "      <th>value_hrf</th>\n",
       "    </tr>\n",
       "    <tr>\n",
       "      <th>timestamp</th>\n",
       "      <th></th>\n",
       "      <th></th>\n",
       "      <th></th>\n",
       "      <th></th>\n",
       "      <th></th>\n",
       "    </tr>\n",
       "  </thead>\n",
       "  <tbody>\n",
       "    <tr>\n",
       "      <th>2021-01-21 04:06:22</th>\n",
       "      <td>001e0611804d</td>\n",
       "      <td>metsense</td>\n",
       "      <td>pr103j2</td>\n",
       "      <td>temperature</td>\n",
       "      <td>1.85</td>\n",
       "    </tr>\n",
       "  </tbody>\n",
       "</table>\n",
       "</div>"
      ],
      "text/plain": [
       "                          node_id subsystem   sensor    parameter  value_hrf\n",
       "timestamp                                                                   \n",
       "2021-01-21 04:06:22  001e0611804d  metsense  pr103j2  temperature       1.85"
      ]
     },
     "execution_count": 18,
     "metadata": {},
     "output_type": "execute_result"
    }
   ],
   "source": [
    "df.tail(1)"
   ]
  },
  {
   "cell_type": "code",
   "execution_count": 19,
   "id": "d6effc30",
   "metadata": {},
   "outputs": [
    {
     "data": {
      "text/plain": [
       "node_id      0\n",
       "subsystem    0\n",
       "sensor       0\n",
       "parameter    0\n",
       "value_hrf    0\n",
       "dtype: int64"
      ]
     },
     "execution_count": 19,
     "metadata": {},
     "output_type": "execute_result"
    }
   ],
   "source": [
    "df.isnull().sum()"
   ]
  },
  {
   "cell_type": "code",
   "execution_count": 20,
   "id": "c78a8715",
   "metadata": {},
   "outputs": [],
   "source": [
    "# we are now good "
   ]
  },
  {
   "cell_type": "code",
   "execution_count": 21,
   "id": "cae16521",
   "metadata": {},
   "outputs": [
    {
     "data": {
      "text/html": [
       "<div>\n",
       "<style scoped>\n",
       "    .dataframe tbody tr th:only-of-type {\n",
       "        vertical-align: middle;\n",
       "    }\n",
       "\n",
       "    .dataframe tbody tr th {\n",
       "        vertical-align: top;\n",
       "    }\n",
       "\n",
       "    .dataframe thead th {\n",
       "        text-align: right;\n",
       "    }\n",
       "</style>\n",
       "<table border=\"1\" class=\"dataframe\">\n",
       "  <thead>\n",
       "    <tr style=\"text-align: right;\">\n",
       "      <th></th>\n",
       "      <th>node_id</th>\n",
       "      <th>subsystem</th>\n",
       "      <th>sensor</th>\n",
       "      <th>parameter</th>\n",
       "      <th>value_hrf</th>\n",
       "    </tr>\n",
       "    <tr>\n",
       "      <th>timestamp</th>\n",
       "      <th></th>\n",
       "      <th></th>\n",
       "      <th></th>\n",
       "      <th></th>\n",
       "      <th></th>\n",
       "    </tr>\n",
       "  </thead>\n",
       "  <tbody>\n",
       "    <tr>\n",
       "      <th>2018-01-01 00:00:06</th>\n",
       "      <td>001e0610e532</td>\n",
       "      <td>metsense</td>\n",
       "      <td>pr103j2</td>\n",
       "      <td>temperature</td>\n",
       "      <td>-10.90</td>\n",
       "    </tr>\n",
       "    <tr>\n",
       "      <th>2018-01-01 00:00:07</th>\n",
       "      <td>001e0610bc07</td>\n",
       "      <td>metsense</td>\n",
       "      <td>pr103j2</td>\n",
       "      <td>temperature</td>\n",
       "      <td>-10.00</td>\n",
       "    </tr>\n",
       "    <tr>\n",
       "      <th>2018-01-01 00:00:07</th>\n",
       "      <td>001e0610ef27</td>\n",
       "      <td>metsense</td>\n",
       "      <td>pr103j2</td>\n",
       "      <td>temperature</td>\n",
       "      <td>-10.80</td>\n",
       "    </tr>\n",
       "    <tr>\n",
       "      <th>2018-01-01 00:00:08</th>\n",
       "      <td>001e0610e540</td>\n",
       "      <td>metsense</td>\n",
       "      <td>pr103j2</td>\n",
       "      <td>temperature</td>\n",
       "      <td>-11.15</td>\n",
       "    </tr>\n",
       "    <tr>\n",
       "      <th>2018-01-01 00:00:08</th>\n",
       "      <td>001e0610ee61</td>\n",
       "      <td>metsense</td>\n",
       "      <td>pr103j2</td>\n",
       "      <td>temperature</td>\n",
       "      <td>-11.40</td>\n",
       "    </tr>\n",
       "  </tbody>\n",
       "</table>\n",
       "</div>"
      ],
      "text/plain": [
       "                          node_id subsystem   sensor    parameter  value_hrf\n",
       "timestamp                                                                   \n",
       "2018-01-01 00:00:06  001e0610e532  metsense  pr103j2  temperature     -10.90\n",
       "2018-01-01 00:00:07  001e0610bc07  metsense  pr103j2  temperature     -10.00\n",
       "2018-01-01 00:00:07  001e0610ef27  metsense  pr103j2  temperature     -10.80\n",
       "2018-01-01 00:00:08  001e0610e540  metsense  pr103j2  temperature     -11.15\n",
       "2018-01-01 00:00:08  001e0610ee61  metsense  pr103j2  temperature     -11.40"
      ]
     },
     "execution_count": 21,
     "metadata": {},
     "output_type": "execute_result"
    }
   ],
   "source": [
    "df.head()"
   ]
  },
  {
   "cell_type": "code",
   "execution_count": 22,
   "id": "5ae84271",
   "metadata": {},
   "outputs": [
    {
     "data": {
      "text/plain": [
       "120844393"
      ]
     },
     "execution_count": 22,
     "metadata": {},
     "output_type": "execute_result"
    }
   ],
   "source": [
    "len(df) # 120 844 393"
   ]
  },
  {
   "cell_type": "code",
   "execution_count": 23,
   "id": "68faf17a",
   "metadata": {},
   "outputs": [
    {
     "data": {
      "text/html": [
       "<div>\n",
       "<style scoped>\n",
       "    .dataframe tbody tr th:only-of-type {\n",
       "        vertical-align: middle;\n",
       "    }\n",
       "\n",
       "    .dataframe tbody tr th {\n",
       "        vertical-align: top;\n",
       "    }\n",
       "\n",
       "    .dataframe thead th {\n",
       "        text-align: right;\n",
       "    }\n",
       "</style>\n",
       "<table border=\"1\" class=\"dataframe\">\n",
       "  <thead>\n",
       "    <tr style=\"text-align: right;\">\n",
       "      <th></th>\n",
       "      <th>value_hrf</th>\n",
       "    </tr>\n",
       "  </thead>\n",
       "  <tbody>\n",
       "    <tr>\n",
       "      <th>count</th>\n",
       "      <td>1.208444e+08</td>\n",
       "    </tr>\n",
       "    <tr>\n",
       "      <th>mean</th>\n",
       "      <td>1.391998e+01</td>\n",
       "    </tr>\n",
       "    <tr>\n",
       "      <th>std</th>\n",
       "      <td>1.159312e+01</td>\n",
       "    </tr>\n",
       "    <tr>\n",
       "      <th>min</th>\n",
       "      <td>-3.995000e+01</td>\n",
       "    </tr>\n",
       "    <tr>\n",
       "      <th>25%</th>\n",
       "      <td>4.200000e+00</td>\n",
       "    </tr>\n",
       "    <tr>\n",
       "      <th>50%</th>\n",
       "      <td>1.380000e+01</td>\n",
       "    </tr>\n",
       "    <tr>\n",
       "      <th>75%</th>\n",
       "      <td>2.430000e+01</td>\n",
       "    </tr>\n",
       "    <tr>\n",
       "      <th>max</th>\n",
       "      <td>4.990000e+01</td>\n",
       "    </tr>\n",
       "  </tbody>\n",
       "</table>\n",
       "</div>"
      ],
      "text/plain": [
       "          value_hrf\n",
       "count  1.208444e+08\n",
       "mean   1.391998e+01\n",
       "std    1.159312e+01\n",
       "min   -3.995000e+01\n",
       "25%    4.200000e+00\n",
       "50%    1.380000e+01\n",
       "75%    2.430000e+01\n",
       "max    4.990000e+01"
      ]
     },
     "execution_count": 23,
     "metadata": {},
     "output_type": "execute_result"
    }
   ],
   "source": [
    "df.describe()"
   ]
  },
  {
   "cell_type": "code",
   "execution_count": 24,
   "id": "29e27788",
   "metadata": {},
   "outputs": [
    {
     "data": {
      "image/png": "[encoded data removed]",
      "text/plain": [
       "<Figure size 432x288 with 1 Axes>"
      ]
     },
     "metadata": {},
     "output_type": "display_data"
    }
   ],
   "source": [
    "plt.boxplot(df.loc['2019-01-29':'2019-01-30'][:300].value_hrf); "
   ]
  },
  {
   "cell_type": "code",
   "execution_count": 25,
   "id": "528e2673",
   "metadata": {},
   "outputs": [
    {
     "data": {
      "image/png": "[encoded data removed]",
      "text/plain": [
       "<Figure size 432x288 with 1 Axes>"
      ]
     },
     "metadata": {},
     "output_type": "display_data"
    }
   ],
   "source": [
    "plt.boxplot(df.loc['2019-01-29':'2019-01-30'].value_hrf); "
   ]
  },
  {
   "cell_type": "code",
   "execution_count": 26,
   "id": "13f6007b",
   "metadata": {},
   "outputs": [
    {
     "data": {
      "image/png": "[encoded data removed]",
      "text/plain": [
       "<Figure size 432x288 with 1 Axes>"
      ]
     },
     "metadata": {},
     "output_type": "display_data"
    }
   ],
   "source": [
    "plt.boxplot(df.loc['2019-01-29':'2019-02-03'].value_hrf); "
   ]
  },
  {
   "cell_type": "code",
   "execution_count": 28,
   "id": "270911e8",
   "metadata": {},
   "outputs": [],
   "source": [
    "# convert to F from C \n",
    "df.value_hrf = 32 + df.value_hrf*(9/5)"
   ]
  },
  {
   "cell_type": "code",
   "execution_count": 29,
   "id": "9ba37ab4",
   "metadata": {},
   "outputs": [
    {
     "data": {
      "image/png": "[encoded data removed]",
      "text/plain": [
       "<Figure size 432x288 with 1 Axes>"
      ]
     },
     "metadata": {},
     "output_type": "display_data"
    }
   ],
   "source": [
    "plt.boxplot(df.loc['2019-01-29':'2019-01-30'].value_hrf); "
   ]
  },
  {
   "cell_type": "markdown",
   "id": "1c880ae6",
   "metadata": {},
   "source": [
    "---"
   ]
  },
  {
   "cell_type": "code",
   "execution_count": 34,
   "id": "cc852d93",
   "metadata": {
    "scrolled": false
   },
   "outputs": [
    {
     "data": {
      "text/plain": [
       "value_hrf   -26.23\n",
       "dtype: float64"
      ]
     },
     "execution_count": 34,
     "metadata": {},
     "output_type": "execute_result"
    }
   ],
   "source": [
    "df.loc['2019-01-30':'2019-01-30'].min()"
   ]
  },
  {
   "cell_type": "code",
   "execution_count": 35,
   "id": "7b9ee51d",
   "metadata": {},
   "outputs": [
    {
     "data": {
      "image/png": "[encoded data removed]",
      "text/plain": [
       "<Figure size 432x288 with 1 Axes>"
      ]
     },
     "metadata": {},
     "output_type": "display_data"
    }
   ],
   "source": [
    "plt.boxplot(df.loc['2019-01-30':'2019-01-30'].value_hrf); "
   ]
  },
  {
   "cell_type": "code",
   "execution_count": 37,
   "id": "82ebc27d",
   "metadata": {},
   "outputs": [],
   "source": [
    "df.to_csv('aot_temp_cleaned.csv', index=True)"
   ]
  },
  {
   "cell_type": "markdown",
   "id": "6120dbd4",
   "metadata": {},
   "source": [
    "# Create a three month dataset only:"
   ]
  },
  {
   "cell_type": "code",
   "execution_count": 38,
   "id": "9cabd213",
   "metadata": {},
   "outputs": [],
   "source": [
    "df_3mo = df.loc['2019-01-01':'2019-03-31'].copy()"
   ]
  },
  {
   "cell_type": "code",
   "execution_count": 39,
   "id": "fcdc537b",
   "metadata": {},
   "outputs": [
    {
     "data": {
      "text/plain": [
       "12356626"
      ]
     },
     "execution_count": 39,
     "metadata": {},
     "output_type": "execute_result"
    }
   ],
   "source": [
    "len(df_3mo)"
   ]
  },
  {
   "cell_type": "code",
   "execution_count": 53,
   "id": "e306f13f",
   "metadata": {},
   "outputs": [],
   "source": [
    "df_3mo.to_csv('aot_temp_cleaned_3months.csv', index=True) "
   ]
  },
  {
   "cell_type": "code",
   "execution_count": null,
   "id": "950336bc",
   "metadata": {},
   "outputs": [],
   "source": []
  },
  {
   "cell_type": "code",
   "execution_count": null,
   "id": "7844bad7",
   "metadata": {},
   "outputs": [],
   "source": []
  },
  {
   "cell_type": "code",
   "execution_count": null,
   "id": "f65a064e",
   "metadata": {},
   "outputs": [],
   "source": []
  },
  {
   "cell_type": "code",
   "execution_count": null,
   "id": "5962beb2",
   "metadata": {},
   "outputs": [],
   "source": []
  },
  {
   "cell_type": "code",
   "execution_count": 43,
   "id": "a11d4444",
   "metadata": {},
   "outputs": [],
   "source": [
    "import fastparquet"
   ]
  },
  {
   "cell_type": "code",
   "execution_count": 57,
   "id": "6b64feab",
   "metadata": {},
   "outputs": [],
   "source": [
    "# df.to_parquet('aot_temp_cleaned.parquet', engine='fastparquet')"
   ]
  },
  {
   "cell_type": "code",
   "execution_count": 56,
   "id": "5cf552fc",
   "metadata": {},
   "outputs": [],
   "source": [
    "# pq = pd.read_parquet('aot_temp_cleaned.parquet', engine='fastparquet')\n",
    "# pq.head(10)"
   ]
  },
  {
   "cell_type": "code",
   "execution_count": 46,
   "id": "53f2fe06",
   "metadata": {},
   "outputs": [
    {
     "data": {
      "text/plain": [
       "120844393"
      ]
     },
     "execution_count": 46,
     "metadata": {},
     "output_type": "execute_result"
    }
   ],
   "source": [
    "len(pq)"
   ]
  },
  {
   "cell_type": "code",
   "execution_count": 47,
   "id": "ff3ff82b",
   "metadata": {},
   "outputs": [
    {
     "data": {
      "text/plain": [
       "True"
      ]
     },
     "execution_count": 47,
     "metadata": {},
     "output_type": "execute_result"
    }
   ],
   "source": [
    "len(pq)==len(df)"
   ]
  },
  {
   "cell_type": "code",
   "execution_count": 48,
   "id": "0b423c3f",
   "metadata": {},
   "outputs": [],
   "source": [
    "# df.to_parquet('aot_temp_cleaned.parquet', engine='fastparquet', compression=\"\")\n",
    "df.to_parquet('aot_temp_cleaned.parquet.gzip',  compression='gzip', engine='fastparquet')"
   ]
  },
  {
   "cell_type": "markdown",
   "id": "ca807a6e",
   "metadata": {},
   "source": [
    "# EXPORT THE CSV ZIPPED FORMAT..."
   ]
  },
  {
   "cell_type": "code",
   "execution_count": 69,
   "id": "f40a87d4",
   "metadata": {},
   "outputs": [],
   "source": [
    "\n",
    "df.to_csv('aot_temperatures.csv.gz', index=True, compression='gzip')\n"
   ]
  },
  {
   "cell_type": "code",
   "execution_count": null,
   "id": "07676ea2",
   "metadata": {},
   "outputs": [],
   "source": []
  },
  {
   "cell_type": "code",
   "execution_count": null,
   "id": "30eba901",
   "metadata": {},
   "outputs": [],
   "source": []
  },
  {
   "cell_type": "code",
   "execution_count": null,
   "id": "0b74cb37",
   "metadata": {},
   "outputs": [],
   "source": []
  },
  {
   "cell_type": "code",
   "execution_count": 63,
   "id": "19271e90",
   "metadata": {},
   "outputs": [],
   "source": [
    "# test1 = pd.read_csv('https://wolverine-tomahawk.s3.us-east-2.amazonaws.com/aot_temp_cleaned_3months.csv')"
   ]
  },
  {
   "cell_type": "code",
   "execution_count": null,
   "id": "3fbc93a1",
   "metadata": {},
   "outputs": [],
   "source": []
  },
  {
   "cell_type": "code",
   "execution_count": null,
   "id": "9446cbd0",
   "metadata": {},
   "outputs": [],
   "source": []
  },
  {
   "cell_type": "code",
   "execution_count": null,
   "id": "50099af0",
   "metadata": {},
   "outputs": [],
   "source": []
  },
  {
   "cell_type": "code",
   "execution_count": null,
   "id": "f5e56eee",
   "metadata": {},
   "outputs": [],
   "source": []
  },
  {
   "cell_type": "code",
   "execution_count": 68,
   "id": "0acd991d",
   "metadata": {
    "scrolled": false
   },
   "outputs": [],
   "source": [
    "\n",
    "# works:\n",
    "# pd.read_csv('https://wolverine-tomahawk.s3.us-east-2.amazonaws.com/aot/sensors_data.csv')\n",
    "    "
   ]
  },
  {
   "cell_type": "markdown",
   "id": "7d62be82",
   "metadata": {},
   "source": [
    "# Testing the reading of parquet.gzip files from an external S3 source "
   ]
  },
  {
   "cell_type": "code",
   "execution_count": 70,
   "id": "b94f2d8d",
   "metadata": {},
   "outputs": [],
   "source": [
    "\n",
    "import fastparquet \n",
    "test3 = pd.read_parquet('https://wolverine-tomahawk.s3.us-east-2.amazonaws.com/aot/aot_temp_cleaned.parquet.gzip', \n",
    "                       engine='fastparquet')\n",
    "# this should be the entire full every single thing dataset right (temp only)\n"
   ]
  },
  {
   "cell_type": "code",
   "execution_count": 77,
   "id": "a390c80a",
   "metadata": {},
   "outputs": [
    {
     "data": {
      "text/html": [
       "<div>\n",
       "<style scoped>\n",
       "    .dataframe tbody tr th:only-of-type {\n",
       "        vertical-align: middle;\n",
       "    }\n",
       "\n",
       "    .dataframe tbody tr th {\n",
       "        vertical-align: top;\n",
       "    }\n",
       "\n",
       "    .dataframe thead th {\n",
       "        text-align: right;\n",
       "    }\n",
       "</style>\n",
       "<table border=\"1\" class=\"dataframe\">\n",
       "  <thead>\n",
       "    <tr style=\"text-align: right;\">\n",
       "      <th></th>\n",
       "      <th>node_id</th>\n",
       "      <th>subsystem</th>\n",
       "      <th>sensor</th>\n",
       "      <th>parameter</th>\n",
       "      <th>value_hrf</th>\n",
       "    </tr>\n",
       "    <tr>\n",
       "      <th>timestamp</th>\n",
       "      <th></th>\n",
       "      <th></th>\n",
       "      <th></th>\n",
       "      <th></th>\n",
       "      <th></th>\n",
       "    </tr>\n",
       "  </thead>\n",
       "  <tbody>\n",
       "    <tr>\n",
       "      <th>2018-01-01 00:00:06</th>\n",
       "      <td>001e0610e532</td>\n",
       "      <td>metsense</td>\n",
       "      <td>pr103j2</td>\n",
       "      <td>temperature</td>\n",
       "      <td>12.38</td>\n",
       "    </tr>\n",
       "    <tr>\n",
       "      <th>2018-01-01 00:00:07</th>\n",
       "      <td>001e0610bc07</td>\n",
       "      <td>metsense</td>\n",
       "      <td>pr103j2</td>\n",
       "      <td>temperature</td>\n",
       "      <td>14.00</td>\n",
       "    </tr>\n",
       "    <tr>\n",
       "      <th>2018-01-01 00:00:07</th>\n",
       "      <td>001e0610ef27</td>\n",
       "      <td>metsense</td>\n",
       "      <td>pr103j2</td>\n",
       "      <td>temperature</td>\n",
       "      <td>12.56</td>\n",
       "    </tr>\n",
       "    <tr>\n",
       "      <th>2018-01-01 00:00:08</th>\n",
       "      <td>001e0610e540</td>\n",
       "      <td>metsense</td>\n",
       "      <td>pr103j2</td>\n",
       "      <td>temperature</td>\n",
       "      <td>11.93</td>\n",
       "    </tr>\n",
       "    <tr>\n",
       "      <th>2018-01-01 00:00:08</th>\n",
       "      <td>001e0610ee61</td>\n",
       "      <td>metsense</td>\n",
       "      <td>pr103j2</td>\n",
       "      <td>temperature</td>\n",
       "      <td>11.48</td>\n",
       "    </tr>\n",
       "    <tr>\n",
       "      <th>2018-01-01 00:00:14</th>\n",
       "      <td>001e0610fb4c</td>\n",
       "      <td>metsense</td>\n",
       "      <td>pr103j2</td>\n",
       "      <td>temperature</td>\n",
       "      <td>12.02</td>\n",
       "    </tr>\n",
       "    <tr>\n",
       "      <th>2018-01-01 00:00:20</th>\n",
       "      <td>001e0610ba18</td>\n",
       "      <td>metsense</td>\n",
       "      <td>pr103j2</td>\n",
       "      <td>temperature</td>\n",
       "      <td>10.85</td>\n",
       "    </tr>\n",
       "    <tr>\n",
       "      <th>2018-01-01 00:00:21</th>\n",
       "      <td>001e0610ba3b</td>\n",
       "      <td>metsense</td>\n",
       "      <td>pr103j2</td>\n",
       "      <td>temperature</td>\n",
       "      <td>14.72</td>\n",
       "    </tr>\n",
       "    <tr>\n",
       "      <th>2018-01-01 00:00:21</th>\n",
       "      <td>001e0610ba57</td>\n",
       "      <td>metsense</td>\n",
       "      <td>pr103j2</td>\n",
       "      <td>temperature</td>\n",
       "      <td>10.76</td>\n",
       "    </tr>\n",
       "    <tr>\n",
       "      <th>2018-01-01 00:00:30</th>\n",
       "      <td>001e0610e532</td>\n",
       "      <td>metsense</td>\n",
       "      <td>pr103j2</td>\n",
       "      <td>temperature</td>\n",
       "      <td>12.56</td>\n",
       "    </tr>\n",
       "  </tbody>\n",
       "</table>\n",
       "</div>"
      ],
      "text/plain": [
       "                          node_id subsystem   sensor    parameter  value_hrf\n",
       "timestamp                                                                   \n",
       "2018-01-01 00:00:06  001e0610e532  metsense  pr103j2  temperature      12.38\n",
       "2018-01-01 00:00:07  001e0610bc07  metsense  pr103j2  temperature      14.00\n",
       "2018-01-01 00:00:07  001e0610ef27  metsense  pr103j2  temperature      12.56\n",
       "2018-01-01 00:00:08  001e0610e540  metsense  pr103j2  temperature      11.93\n",
       "2018-01-01 00:00:08  001e0610ee61  metsense  pr103j2  temperature      11.48\n",
       "2018-01-01 00:00:14  001e0610fb4c  metsense  pr103j2  temperature      12.02\n",
       "2018-01-01 00:00:20  001e0610ba18  metsense  pr103j2  temperature      10.85\n",
       "2018-01-01 00:00:21  001e0610ba3b  metsense  pr103j2  temperature      14.72\n",
       "2018-01-01 00:00:21  001e0610ba57  metsense  pr103j2  temperature      10.76\n",
       "2018-01-01 00:00:30  001e0610e532  metsense  pr103j2  temperature      12.56"
      ]
     },
     "execution_count": 77,
     "metadata": {},
     "output_type": "execute_result"
    }
   ],
   "source": [
    "test3.head(10)"
   ]
  },
  {
   "cell_type": "code",
   "execution_count": 83,
   "id": "fd913f21",
   "metadata": {},
   "outputs": [
    {
     "data": {
      "text/html": [
       "<div>\n",
       "<style scoped>\n",
       "    .dataframe tbody tr th:only-of-type {\n",
       "        vertical-align: middle;\n",
       "    }\n",
       "\n",
       "    .dataframe tbody tr th {\n",
       "        vertical-align: top;\n",
       "    }\n",
       "\n",
       "    .dataframe thead th {\n",
       "        text-align: right;\n",
       "    }\n",
       "</style>\n",
       "<table border=\"1\" class=\"dataframe\">\n",
       "  <thead>\n",
       "    <tr style=\"text-align: right;\">\n",
       "      <th></th>\n",
       "      <th>node_id</th>\n",
       "      <th>subsystem</th>\n",
       "      <th>sensor</th>\n",
       "      <th>parameter</th>\n",
       "      <th>value_hrf</th>\n",
       "    </tr>\n",
       "    <tr>\n",
       "      <th>timestamp</th>\n",
       "      <th></th>\n",
       "      <th></th>\n",
       "      <th></th>\n",
       "      <th></th>\n",
       "      <th></th>\n",
       "    </tr>\n",
       "  </thead>\n",
       "  <tbody>\n",
       "    <tr>\n",
       "      <th>2021-01-21 04:06:01</th>\n",
       "      <td>001e0610fb4c</td>\n",
       "      <td>metsense</td>\n",
       "      <td>pr103j2</td>\n",
       "      <td>temperature</td>\n",
       "      <td>33.44</td>\n",
       "    </tr>\n",
       "    <tr>\n",
       "      <th>2021-01-21 04:06:09</th>\n",
       "      <td>001e06113acb</td>\n",
       "      <td>metsense</td>\n",
       "      <td>pr103j2</td>\n",
       "      <td>temperature</td>\n",
       "      <td>25.61</td>\n",
       "    </tr>\n",
       "    <tr>\n",
       "      <th>2021-01-21 04:06:11</th>\n",
       "      <td>001e061183bf</td>\n",
       "      <td>metsense</td>\n",
       "      <td>pr103j2</td>\n",
       "      <td>temperature</td>\n",
       "      <td>33.98</td>\n",
       "    </tr>\n",
       "    <tr>\n",
       "      <th>2021-01-21 04:06:22</th>\n",
       "      <td>001e0610f05c</td>\n",
       "      <td>metsense</td>\n",
       "      <td>pr103j2</td>\n",
       "      <td>temperature</td>\n",
       "      <td>33.44</td>\n",
       "    </tr>\n",
       "    <tr>\n",
       "      <th>2021-01-21 04:06:22</th>\n",
       "      <td>001e0611804d</td>\n",
       "      <td>metsense</td>\n",
       "      <td>pr103j2</td>\n",
       "      <td>temperature</td>\n",
       "      <td>35.33</td>\n",
       "    </tr>\n",
       "  </tbody>\n",
       "</table>\n",
       "</div>"
      ],
      "text/plain": [
       "                          node_id subsystem   sensor    parameter  value_hrf\n",
       "timestamp                                                                   \n",
       "2021-01-21 04:06:01  001e0610fb4c  metsense  pr103j2  temperature      33.44\n",
       "2021-01-21 04:06:09  001e06113acb  metsense  pr103j2  temperature      25.61\n",
       "2021-01-21 04:06:11  001e061183bf  metsense  pr103j2  temperature      33.98\n",
       "2021-01-21 04:06:22  001e0610f05c  metsense  pr103j2  temperature      33.44\n",
       "2021-01-21 04:06:22  001e0611804d  metsense  pr103j2  temperature      35.33"
      ]
     },
     "execution_count": 83,
     "metadata": {},
     "output_type": "execute_result"
    }
   ],
   "source": [
    "test3.tail()"
   ]
  },
  {
   "cell_type": "code",
   "execution_count": 81,
   "id": "f22fded0",
   "metadata": {},
   "outputs": [
    {
     "data": {
      "text/plain": [
       "120844393"
      ]
     },
     "execution_count": 81,
     "metadata": {},
     "output_type": "execute_result"
    }
   ],
   "source": [
    "len(test3)   #  120 844 393, 120M rows :) "
   ]
  },
  {
   "cell_type": "code",
   "execution_count": 82,
   "id": "5b9b6aa0",
   "metadata": {},
   "outputs": [
    {
     "data": {
      "text/plain": [
       "node_id      category\n",
       "subsystem    category\n",
       "sensor       category\n",
       "parameter    category\n",
       "value_hrf     float64\n",
       "dtype: object"
      ]
     },
     "execution_count": 82,
     "metadata": {},
     "output_type": "execute_result"
    }
   ],
   "source": [
    "test3.dtypes"
   ]
  },
  {
   "cell_type": "markdown",
   "id": "f39b7c59",
   "metadata": {},
   "source": [
    "---"
   ]
  },
  {
   "cell_type": "code",
   "execution_count": null,
   "id": "819a1855",
   "metadata": {},
   "outputs": [],
   "source": []
  },
  {
   "cell_type": "code",
   "execution_count": null,
   "id": "f8543f47",
   "metadata": {},
   "outputs": [],
   "source": []
  },
  {
   "cell_type": "code",
   "execution_count": null,
   "id": "4459fd9b",
   "metadata": {},
   "outputs": [],
   "source": []
  },
  {
   "cell_type": "code",
   "execution_count": null,
   "id": "310fc6ad",
   "metadata": {},
   "outputs": [],
   "source": []
  },
  {
   "cell_type": "code",
   "execution_count": null,
   "id": "3133e26d",
   "metadata": {},
   "outputs": [],
   "source": []
  },
  {
   "cell_type": "code",
   "execution_count": null,
   "id": "f8d9a538",
   "metadata": {},
   "outputs": [],
   "source": []
  },
  {
   "cell_type": "code",
   "execution_count": null,
   "id": "c35708a4",
   "metadata": {},
   "outputs": [],
   "source": []
  },
  {
   "cell_type": "code",
   "execution_count": null,
   "id": "92303367",
   "metadata": {},
   "outputs": [],
   "source": []
  },
  {
   "cell_type": "code",
   "execution_count": null,
   "id": "82d856cc",
   "metadata": {},
   "outputs": [],
   "source": []
  },
  {
   "cell_type": "code",
   "execution_count": null,
   "id": "4a4b085c",
   "metadata": {},
   "outputs": [],
   "source": []
  },
  {
   "cell_type": "code",
   "execution_count": null,
   "id": "f99daad5",
   "metadata": {},
   "outputs": [],
   "source": []
  },
  {
   "cell_type": "code",
   "execution_count": null,
   "id": "1d657fc1",
   "metadata": {},
   "outputs": [],
   "source": []
  },
  {
   "cell_type": "code",
   "execution_count": null,
   "id": "c5679c3c",
   "metadata": {},
   "outputs": [],
   "source": []
  },
  {
   "cell_type": "code",
   "execution_count": null,
   "id": "da1b3f1f",
   "metadata": {},
   "outputs": [],
   "source": []
  },
  {
   "cell_type": "code",
   "execution_count": null,
   "id": "8f43f1ac",
   "metadata": {},
   "outputs": [],
   "source": []
  },
  {
   "cell_type": "code",
   "execution_count": null,
   "id": "94a7265c",
   "metadata": {},
   "outputs": [],
   "source": []
  },
  {
   "cell_type": "code",
   "execution_count": null,
   "id": "22dcd365",
   "metadata": {},
   "outputs": [],
   "source": []
  },
  {
   "cell_type": "code",
   "execution_count": 71,
   "id": "bbfa72ce",
   "metadata": {},
   "outputs": [],
   "source": [
    "# this below probably won't work..."
   ]
  },
  {
   "cell_type": "code",
   "execution_count": null,
   "id": "78c23b07",
   "metadata": {},
   "outputs": [],
   "source": [
    "\n",
    "import awswrangler as wr\n",
    "\n",
    "temp4 = wr.s3.read_parquet(path='s3://wolverine-tomahawk/aot/aot_temp_cleaned.parquet.gzip')\n",
    "# , dataset=True)\n"
   ]
  },
  {
   "cell_type": "code",
   "execution_count": null,
   "id": "12c1561c",
   "metadata": {},
   "outputs": [],
   "source": []
  },
  {
   "cell_type": "code",
   "execution_count": null,
   "id": "39ee28a6",
   "metadata": {},
   "outputs": [],
   "source": []
  },
  {
   "cell_type": "code",
   "execution_count": null,
   "id": "09c35f46",
   "metadata": {},
   "outputs": [],
   "source": []
  },
  {
   "cell_type": "code",
   "execution_count": null,
   "id": "02cf5dd1",
   "metadata": {},
   "outputs": [],
   "source": []
  },
  {
   "cell_type": "code",
   "execution_count": null,
   "id": "43ad1b98",
   "metadata": {},
   "outputs": [],
   "source": [
    "\n",
    "import awswrangler as wr\n",
    "\n",
    "temp4 = wr.s3.read_parquet(path='s3://wolverine-tomahawk/aot_temp_cleaned.parquet.gzip')\n",
    "# , dataset=True)\n"
   ]
  },
  {
   "cell_type": "code",
   "execution_count": null,
   "id": "bdffbdfe",
   "metadata": {},
   "outputs": [],
   "source": []
  },
  {
   "cell_type": "code",
   "execution_count": null,
   "id": "25b76ef9",
   "metadata": {},
   "outputs": [],
   "source": []
  },
  {
   "cell_type": "code",
   "execution_count": null,
   "id": "9185d294",
   "metadata": {},
   "outputs": [],
   "source": []
  },
  {
   "cell_type": "code",
   "execution_count": null,
   "id": "28990369",
   "metadata": {},
   "outputs": [],
   "source": []
  },
  {
   "cell_type": "code",
   "execution_count": 72,
   "id": "3b340fc2",
   "metadata": {},
   "outputs": [],
   "source": [
    "\n",
    "# import awswrangler as wr\n",
    "# dfz = wr.s3.read_parquet(path='s3://wolverine-tomahawk/aot_temp_cleaned.parquet.gzip')\n"
   ]
  },
  {
   "cell_type": "code",
   "execution_count": null,
   "id": "30777a6e",
   "metadata": {},
   "outputs": [],
   "source": []
  },
  {
   "cell_type": "code",
   "execution_count": null,
   "id": "e74cd17f",
   "metadata": {},
   "outputs": [],
   "source": []
  },
  {
   "cell_type": "code",
   "execution_count": null,
   "id": "ab37031e",
   "metadata": {},
   "outputs": [],
   "source": []
  },
  {
   "cell_type": "code",
   "execution_count": null,
   "id": "3c5006b4",
   "metadata": {},
   "outputs": [],
   "source": []
  },
  {
   "cell_type": "code",
   "execution_count": null,
   "id": "50819d5b",
   "metadata": {},
   "outputs": [],
   "source": []
  },
  {
   "cell_type": "code",
   "execution_count": 52,
   "id": "55646f0f",
   "metadata": {},
   "outputs": [
    {
     "ename": "ValueError",
     "evalue": "Opening directories without a _metadata requiresa filesystem compatible with fsspec",
     "output_type": "error",
     "traceback": [
      "\u001b[1;31m---------------------------------------------------------------------------\u001b[0m",
      "\u001b[1;31mValueError\u001b[0m                                Traceback (most recent call last)",
      "\u001b[1;32m~\\AppData\\Local\\Temp/ipykernel_6864/1780349295.py\u001b[0m in \u001b[0;36m<module>\u001b[1;34m\u001b[0m\n\u001b[1;32m----> 1\u001b[1;33m \u001b[0mtest1\u001b[0m \u001b[1;33m=\u001b[0m \u001b[0mpd\u001b[0m\u001b[1;33m.\u001b[0m\u001b[0mread_parquet\u001b[0m\u001b[1;33m(\u001b[0m\u001b[1;34m's3://wolverine-tomahawk/aot_temp_cleaned.parquet'\u001b[0m\u001b[1;33m,\u001b[0m \u001b[0mengine\u001b[0m\u001b[1;33m=\u001b[0m\u001b[1;34m'fastparquet'\u001b[0m\u001b[1;33m)\u001b[0m\u001b[1;33m\u001b[0m\u001b[1;33m\u001b[0m\u001b[0m\n\u001b[0m",
      "\u001b[1;32m~\\Anaconda3\\lib\\site-packages\\pandas\\io\\parquet.py\u001b[0m in \u001b[0;36mread_parquet\u001b[1;34m(path, engine, columns, use_nullable_dtypes, **kwargs)\u001b[0m\n\u001b[0;32m    457\u001b[0m     \"\"\"\n\u001b[0;32m    458\u001b[0m     \u001b[0mimpl\u001b[0m \u001b[1;33m=\u001b[0m \u001b[0mget_engine\u001b[0m\u001b[1;33m(\u001b[0m\u001b[0mengine\u001b[0m\u001b[1;33m)\u001b[0m\u001b[1;33m\u001b[0m\u001b[1;33m\u001b[0m\u001b[0m\n\u001b[1;32m--> 459\u001b[1;33m     return impl.read(\n\u001b[0m\u001b[0;32m    460\u001b[0m         \u001b[0mpath\u001b[0m\u001b[1;33m,\u001b[0m \u001b[0mcolumns\u001b[0m\u001b[1;33m=\u001b[0m\u001b[0mcolumns\u001b[0m\u001b[1;33m,\u001b[0m \u001b[0muse_nullable_dtypes\u001b[0m\u001b[1;33m=\u001b[0m\u001b[0muse_nullable_dtypes\u001b[0m\u001b[1;33m,\u001b[0m \u001b[1;33m**\u001b[0m\u001b[0mkwargs\u001b[0m\u001b[1;33m\u001b[0m\u001b[1;33m\u001b[0m\u001b[0m\n\u001b[0;32m    461\u001b[0m     )\n",
      "\u001b[1;32m~\\Anaconda3\\lib\\site-packages\\pandas\\io\\parquet.py\u001b[0m in \u001b[0;36mread\u001b[1;34m(self, path, columns, storage_options, **kwargs)\u001b[0m\n\u001b[0;32m    310\u001b[0m             \u001b[0mhandles\u001b[0m \u001b[1;33m=\u001b[0m \u001b[0mget_handle\u001b[0m\u001b[1;33m(\u001b[0m\u001b[0mpath\u001b[0m\u001b[1;33m,\u001b[0m \u001b[1;34m\"rb\"\u001b[0m\u001b[1;33m,\u001b[0m \u001b[0mis_text\u001b[0m\u001b[1;33m=\u001b[0m\u001b[1;32mFalse\u001b[0m\u001b[1;33m)\u001b[0m\u001b[1;33m\u001b[0m\u001b[1;33m\u001b[0m\u001b[0m\n\u001b[0;32m    311\u001b[0m             \u001b[0mpath\u001b[0m \u001b[1;33m=\u001b[0m \u001b[0mhandles\u001b[0m\u001b[1;33m.\u001b[0m\u001b[0mhandle\u001b[0m\u001b[1;33m\u001b[0m\u001b[1;33m\u001b[0m\u001b[0m\n\u001b[1;32m--> 312\u001b[1;33m         \u001b[0mparquet_file\u001b[0m \u001b[1;33m=\u001b[0m \u001b[0mself\u001b[0m\u001b[1;33m.\u001b[0m\u001b[0mapi\u001b[0m\u001b[1;33m.\u001b[0m\u001b[0mParquetFile\u001b[0m\u001b[1;33m(\u001b[0m\u001b[0mpath\u001b[0m\u001b[1;33m,\u001b[0m \u001b[1;33m**\u001b[0m\u001b[0mparquet_kwargs\u001b[0m\u001b[1;33m)\u001b[0m\u001b[1;33m\u001b[0m\u001b[1;33m\u001b[0m\u001b[0m\n\u001b[0m\u001b[0;32m    313\u001b[0m \u001b[1;33m\u001b[0m\u001b[0m\n\u001b[0;32m    314\u001b[0m         \u001b[0mresult\u001b[0m \u001b[1;33m=\u001b[0m \u001b[0mparquet_file\u001b[0m\u001b[1;33m.\u001b[0m\u001b[0mto_pandas\u001b[0m\u001b[1;33m(\u001b[0m\u001b[0mcolumns\u001b[0m\u001b[1;33m=\u001b[0m\u001b[0mcolumns\u001b[0m\u001b[1;33m,\u001b[0m \u001b[1;33m**\u001b[0m\u001b[0mkwargs\u001b[0m\u001b[1;33m)\u001b[0m\u001b[1;33m\u001b[0m\u001b[1;33m\u001b[0m\u001b[0m\n",
      "\u001b[1;32m~\\Anaconda3\\lib\\site-packages\\fastparquet\\api.py\u001b[0m in \u001b[0;36m__init__\u001b[1;34m(self, fn, verify, open_with, root, sep, fs, pandas_nulls)\u001b[0m\n\u001b[0;32m    124\u001b[0m                 \u001b[0mfn\u001b[0m \u001b[1;33m=\u001b[0m \u001b[0mfs\u001b[0m\u001b[1;33m.\u001b[0m\u001b[0m_strip_protocol\u001b[0m\u001b[1;33m(\u001b[0m\u001b[0mfn\u001b[0m\u001b[1;33m)\u001b[0m\u001b[1;33m\u001b[0m\u001b[1;33m\u001b[0m\u001b[0m\n\u001b[0;32m    125\u001b[0m             \u001b[1;32mif\u001b[0m \u001b[1;32mnot\u001b[0m \u001b[0misinstance\u001b[0m\u001b[1;33m(\u001b[0m\u001b[0mfs\u001b[0m\u001b[1;33m,\u001b[0m \u001b[0mfsspec\u001b[0m\u001b[1;33m.\u001b[0m\u001b[0mAbstractFileSystem\u001b[0m\u001b[1;33m)\u001b[0m\u001b[1;33m:\u001b[0m\u001b[1;33m\u001b[0m\u001b[1;33m\u001b[0m\u001b[0m\n\u001b[1;32m--> 126\u001b[1;33m                 raise ValueError(\"Opening directories without a _metadata requires\"\n\u001b[0m\u001b[0;32m    127\u001b[0m                                  \"a filesystem compatible with fsspec\")\n\u001b[0;32m    128\u001b[0m             \u001b[1;32mif\u001b[0m \u001b[0mfs\u001b[0m\u001b[1;33m.\u001b[0m\u001b[0misfile\u001b[0m\u001b[1;33m(\u001b[0m\u001b[0mfn\u001b[0m\u001b[1;33m)\u001b[0m\u001b[1;33m:\u001b[0m\u001b[1;33m\u001b[0m\u001b[1;33m\u001b[0m\u001b[0m\n",
      "\u001b[1;31mValueError\u001b[0m: Opening directories without a _metadata requiresa filesystem compatible with fsspec"
     ]
    }
   ],
   "source": [
    "\n",
    "test1 = pd.read_parquet('s3://wolverine-tomahawk/aot_temp_cleaned.parquet', engine='fastparquet')\n"
   ]
  },
  {
   "cell_type": "code",
   "execution_count": null,
   "id": "778664bb",
   "metadata": {},
   "outputs": [],
   "source": [
    "\n",
    "s3://wolverine-tomahawk/aot_temp_cleaned.parquet\n",
    "\n",
    "    \n",
    "    "
   ]
  },
  {
   "cell_type": "code",
   "execution_count": null,
   "id": "1bfe99fb",
   "metadata": {},
   "outputs": [],
   "source": []
  },
  {
   "cell_type": "code",
   "execution_count": null,
   "id": "cf5990b9",
   "metadata": {},
   "outputs": [],
   "source": []
  },
  {
   "cell_type": "code",
   "execution_count": null,
   "id": "621cbeda",
   "metadata": {},
   "outputs": [],
   "source": []
  },
  {
   "cell_type": "code",
   "execution_count": null,
   "id": "3ca397ed",
   "metadata": {},
   "outputs": [],
   "source": []
  },
  {
   "cell_type": "markdown",
   "id": "daea0e79",
   "metadata": {},
   "source": [
    "<hr style=\"border:2px solid gray\"> </hr>\n"
   ]
  },
  {
   "cell_type": "markdown",
   "id": "5da0dd78",
   "metadata": {},
   "source": [
    "<h1><center>STOP</center></h1>"
   ]
  },
  {
   "cell_type": "markdown",
   "id": "0f1ea624",
   "metadata": {},
   "source": [
    "<hr style=\"border:2px solid gray\"> </hr>\n"
   ]
  },
  {
   "cell_type": "code",
   "execution_count": null,
   "id": "1f8e8bb6",
   "metadata": {},
   "outputs": [],
   "source": [
    "# %%notify -m \"The cell has finished running\"\n",
    "# import time\n",
    "# time.sleep(10)\n",
    "# print('Finished!')"
   ]
  },
  {
   "cell_type": "code",
   "execution_count": null,
   "id": "48f4cca6",
   "metadata": {},
   "outputs": [],
   "source": [
    "# df[ df.node_id == '001e0610e532'].head(10)"
   ]
  },
  {
   "cell_type": "code",
   "execution_count": null,
   "id": "b5fbe585",
   "metadata": {},
   "outputs": [],
   "source": [
    "# len(df)  # 120 844 394"
   ]
  },
  {
   "cell_type": "code",
   "execution_count": null,
   "id": "69003a5d",
   "metadata": {},
   "outputs": [],
   "source": [
    "# df.dtypes"
   ]
  },
  {
   "cell_type": "code",
   "execution_count": null,
   "id": "0f8f949b",
   "metadata": {
    "scrolled": false
   },
   "outputs": [],
   "source": [
    "df.node_id.value_counts()"
   ]
  },
  {
   "cell_type": "code",
   "execution_count": null,
   "id": "b1d514b4",
   "metadata": {},
   "outputs": [],
   "source": [
    "print(df.node_id.unique())"
   ]
  },
  {
   "cell_type": "code",
   "execution_count": null,
   "id": "77fa407c",
   "metadata": {},
   "outputs": [],
   "source": [
    "df.head(1)"
   ]
  },
  {
   "cell_type": "code",
   "execution_count": null,
   "id": "c1602cd7",
   "metadata": {},
   "outputs": [],
   "source": [
    "df.tail(2)"
   ]
  },
  {
   "cell_type": "code",
   "execution_count": null,
   "id": "9ab9633e",
   "metadata": {},
   "outputs": [],
   "source": [
    "df.isnull().sum()"
   ]
  },
  {
   "cell_type": "code",
   "execution_count": null,
   "id": "da7eb50a",
   "metadata": {},
   "outputs": [],
   "source": [
    "df.dropna(inplace=True)"
   ]
  },
  {
   "cell_type": "code",
   "execution_count": null,
   "id": "b88b7d8f",
   "metadata": {},
   "outputs": [],
   "source": [
    "len(df)"
   ]
  },
  {
   "cell_type": "code",
   "execution_count": null,
   "id": "1c14be77",
   "metadata": {},
   "outputs": [],
   "source": [
    "df.isnull().sum()"
   ]
  },
  {
   "cell_type": "code",
   "execution_count": null,
   "id": "73141607",
   "metadata": {},
   "outputs": [],
   "source": [
    "df.tail(1)"
   ]
  },
  {
   "cell_type": "markdown",
   "id": "1e46463c",
   "metadata": {},
   "source": [
    "---\n",
    "## EDA\n",
    "---"
   ]
  },
  {
   "cell_type": "code",
   "execution_count": null,
   "id": "8641cf89",
   "metadata": {},
   "outputs": [],
   "source": [
    "df.head()"
   ]
  },
  {
   "cell_type": "code",
   "execution_count": null,
   "id": "2f5a50ef",
   "metadata": {},
   "outputs": [],
   "source": [
    "len(df.node_id.unique())  # not bad "
   ]
  },
  {
   "cell_type": "code",
   "execution_count": null,
   "id": "80aa5533",
   "metadata": {},
   "outputs": [],
   "source": [
    "# convert from C to F \n",
    "df.value_hrf = (df.value_hrf * (9/5)) + 32 "
   ]
  },
  {
   "cell_type": "code",
   "execution_count": null,
   "id": "e56e3729",
   "metadata": {},
   "outputs": [],
   "source": [
    "df.head()"
   ]
  },
  {
   "cell_type": "code",
   "execution_count": null,
   "id": "633b4ccc",
   "metadata": {},
   "outputs": [],
   "source": [
    "# 6.6 GB -> 14.8 GB background (categoricals help alot)"
   ]
  },
  {
   "cell_type": "code",
   "execution_count": null,
   "id": "c083f226",
   "metadata": {},
   "outputs": [],
   "source": [
    "# data:  2018, 2019, 2020 (years)"
   ]
  },
  {
   "cell_type": "code",
   "execution_count": null,
   "id": "274dca02",
   "metadata": {},
   "outputs": [],
   "source": [
    "tdf = df.loc['2019-01-01':'2019-02-28'].copy()"
   ]
  },
  {
   "cell_type": "code",
   "execution_count": null,
   "id": "535321d0",
   "metadata": {},
   "outputs": [],
   "source": [
    "tdf.head(5)"
   ]
  },
  {
   "cell_type": "code",
   "execution_count": null,
   "id": "605fd467",
   "metadata": {},
   "outputs": [],
   "source": [
    "tdf.tail(5)"
   ]
  },
  {
   "cell_type": "code",
   "execution_count": null,
   "id": "7aa25e9d",
   "metadata": {},
   "outputs": [],
   "source": [
    "len(tdf)  # 8 317 639"
   ]
  },
  {
   "cell_type": "code",
   "execution_count": null,
   "id": "fe8d763b",
   "metadata": {},
   "outputs": [],
   "source": [
    "sns.lineplot(x=tdf.index, \n",
    "             y=\"value_hrf\",\n",
    "             hue=\"node_id\", \n",
    "             data=tdf)"
   ]
  },
  {
   "cell_type": "code",
   "execution_count": null,
   "id": "b0d92dfe",
   "metadata": {},
   "outputs": [],
   "source": [
    "tdf['T'] = tdf.index"
   ]
  },
  {
   "cell_type": "code",
   "execution_count": null,
   "id": "4d4496bb",
   "metadata": {},
   "outputs": [],
   "source": [
    "tdf.head()"
   ]
  },
  {
   "cell_type": "code",
   "execution_count": null,
   "id": "4d9dee3a",
   "metadata": {},
   "outputs": [],
   "source": [
    "\n",
    "ndf = tdf[tdf.node_id == '001e06113f54'].copy()\n",
    "\n",
    "plt.figure(figsize=(19, 7))\n",
    "\n",
    "sns.lineplot(x='T',  \n",
    "             y=\"value_hrf\",\n",
    "             data=ndf, \n",
    "             linewidth=1, \n",
    "             linestyle='dashed')          \n",
    "            \n",
    "sns.despine(); \n"
   ]
  },
  {
   "cell_type": "code",
   "execution_count": null,
   "id": "23f39627",
   "metadata": {},
   "outputs": [],
   "source": [
    "for u in tdf.node_id.unique():\n",
    "    print(u)"
   ]
  },
  {
   "cell_type": "code",
   "execution_count": null,
   "id": "d04a4ec7",
   "metadata": {
    "scrolled": false
   },
   "outputs": [],
   "source": [
    "\n",
    "# ndf = tdf[tdf.node_id == '001e06113f54'].copy()\n",
    "\n",
    "plt.figure(figsize=(19, 7))\n",
    "\n",
    "sns.lineplot(x=tdf[tdf.node_id == '001e06113f54'].index, \n",
    "             y=tdf[tdf.node_id == '001e06113f54'].value_hrf, \n",
    "             linewidth=1, \n",
    "             linestyle='dashed')          \n",
    "            \n",
    "sns.despine(); \n"
   ]
  },
  {
   "cell_type": "code",
   "execution_count": null,
   "id": "9ba50136",
   "metadata": {},
   "outputs": [],
   "source": [
    "\n",
    "# sns.catplot(\n",
    "#     data=tdf,\n",
    "#     x='T', \n",
    "#     y='value_hrf', \n",
    "#     row='node_id',\n",
    "#     col_wrap=4,\n",
    "#     kind='point',\n",
    "#     height=3, \n",
    "#     aspect=4,\n",
    "#     color='blue') \n"
   ]
  },
  {
   "cell_type": "markdown",
   "id": "f76fa032",
   "metadata": {},
   "source": [
    "#### plot all of them one by one"
   ]
  },
  {
   "cell_type": "code",
   "execution_count": null,
   "id": "01bf8766",
   "metadata": {
    "scrolled": false
   },
   "outputs": [],
   "source": [
    "\n",
    "plt.style.use(\"dark_background\")\n",
    "\n",
    "small_window = list(tdf.node_id.unique())\n",
    "\n",
    "for w in small_window:\n",
    "    plt.figure(figsize=(16,4),dpi = 600)\n",
    "    plt.grid(False)\n",
    "    sns.lineplot( x = tdf[tdf.node_id == w].index, \n",
    "             y=tdf[tdf.node_id == w].value_hrf, \n",
    "             linewidth=.8,\n",
    "             color='cyan')\n",
    "    sns.despine()\n",
    "    plt.xlabel(''),\n",
    "    plt.ylabel('Temperature (C)')\n",
    "    plt.title('node_id: = {}'.format(w))\n",
    "    plt.tight_layout()\n",
    "    plt.show()\n",
    "        "
   ]
  },
  {
   "cell_type": "code",
   "execution_count": null,
   "id": "8e8afa33",
   "metadata": {},
   "outputs": [],
   "source": [
    "# sns.lineplot(x=tdf.index, \n",
    "#              y='value_hrf', \n",
    "#              data=tdf, \n",
    "#              linewidth=1, \n",
    "#              hue='node_id', \n",
    "#              linestyle='dashed').set(title='Time Series Plot')\n",
    "\n",
    "# #rotate x-axis labels by 15 degrees\n",
    "# plt.xticks(rotation=15)\n",
    "\n",
    "# # boxplots by month\n",
    "# sns.boxplot(x = 'month', y='Value', data = df)\n",
    "\n",
    "\n",
    "# # boxplots by month\n",
    "# sns.boxplot(x = 'month', y='Value', data = df)"
   ]
  },
  {
   "cell_type": "markdown",
   "id": "e1db8fd1",
   "metadata": {},
   "source": [
    "```python\n",
    "\n",
    "import pandas as pd\n",
    "import multiprocessing as mp\n",
    "from multiprocessing import Pool, cpu_count\n",
    "\n",
    "def parallelize_dataframe(df, func, n_cores=12):\n",
    "    df_split = np.array_split(df, n_cores)\n",
    "    pool = Pool(n_cores)\n",
    "    df = pd.concat(pool.map(func, df_split))\n",
    "    pool.close()\n",
    "    pool.join()\n",
    "    return df\n",
    "\n",
    "```"
   ]
  },
  {
   "cell_type": "code",
   "execution_count": null,
   "id": "d8027754",
   "metadata": {
    "scrolled": false
   },
   "outputs": [],
   "source": [
    "# # importing the module\n",
    "# import matplotlib.pyplot as plt\n",
    "  \n",
    "# # plotting line within the given range\n",
    "# plt.axhline(y = .5, xmin = 0.25, xmax = 0.9)\n",
    "  \n",
    "# # line colour is blue\n",
    "# plt.axhline(y = 3, color = 'b', linestyle = ':')\n",
    "  \n",
    "# # line colour is white\n",
    "# plt.axhline(y = 1, color = 'w', linestyle = '--')\n",
    "  \n",
    "# # line colour is red\n",
    "# plt.axhline(y = 2, color = 'r', linestyle = 'dashed')    \n",
    "    \n",
    "# # adding axis labels    \n",
    "# plt.xlabel('x - axis')\n",
    "# plt.ylabel('y - axis')\n",
    "  \n",
    "# # displaying the plot\n",
    "# plt.show()"
   ]
  },
  {
   "cell_type": "markdown",
   "id": "4fed051f",
   "metadata": {},
   "source": [
    "---"
   ]
  }
 ],
 "metadata": {
  "kernelspec": {
   "display_name": "Python 3 (ipykernel)",
   "language": "python",
   "name": "python3"
  },
  "language_info": {
   "codemirror_mode": {
    "name": "ipython",
    "version": 3
   },
   "file_extension": ".py",
   "mimetype": "text/x-python",
   "name": "python",
   "nbconvert_exporter": "python",
   "pygments_lexer": "ipython3",
   "version": "3.8.8"
  }
 },
 "nbformat": 4,
 "nbformat_minor": 5
}
