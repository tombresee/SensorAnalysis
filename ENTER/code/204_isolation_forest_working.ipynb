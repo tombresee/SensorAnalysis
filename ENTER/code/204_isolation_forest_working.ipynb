{
 "cells": [
  {
   "cell_type": "code",
   "execution_count": 84,
   "id": "7c95e116",
   "metadata": {},
   "outputs": [],
   "source": [
    "# PLAN:\n",
    "#  A)  ISOLATION FOREST\n",
    "#  B)  SAMPLE HOURLY OR 5 MIN"
   ]
  },
  {
   "cell_type": "code",
   "execution_count": 85,
   "id": "134db7a3",
   "metadata": {},
   "outputs": [],
   "source": [
    "# single sensor\n",
    "# bmp180\n",
    "# temp\n",
    "# 1.5 years"
   ]
  },
  {
   "cell_type": "code",
   "execution_count": 86,
   "id": "c0441a0f",
   "metadata": {},
   "outputs": [
    {
     "data": {
      "text/html": [
       "<style>.container { width:100% !important; }</style>"
      ],
      "text/plain": [
       "<IPython.core.display.HTML object>"
      ]
     },
     "metadata": {},
     "output_type": "display_data"
    },
    {
     "data": {
      "text/html": [
       "        <script type=\"text/javascript\">\n",
       "        window.PlotlyConfig = {MathJaxConfig: 'local'};\n",
       "        if (window.MathJax) {MathJax.Hub.Config({SVG: {font: \"STIX-Web\"}});}\n",
       "        if (typeof require !== 'undefined') {\n",
       "        require.undef(\"plotly\");\n",
       "        requirejs.config({\n",
       "            paths: {\n",
       "                'plotly': ['https://cdn.plot.ly/plotly-latest.min']\n",
       "            }\n",
       "        });\n",
       "        require(['plotly'], function(Plotly) {\n",
       "            window._Plotly = Plotly;\n",
       "        });\n",
       "        }\n",
       "        </script>\n",
       "        "
      ]
     },
     "metadata": {},
     "output_type": "display_data"
    }
   ],
   "source": [
    "import warnings  \n",
    "warnings.filterwarnings('ignore')\n",
    "import os\n",
    "import dask \n",
    "import dask.dataframe as dd\n",
    "from dask.distributed import Client, progress\n",
    "import pandas as pd \n",
    "pd.set_option('display.max_rows', None)\n",
    "pd.set_option('display.max_columns', None)\n",
    "pd.set_option('display.width', None)\n",
    "pd.set_option('display.max_colwidth', None)\n",
    "import numpy as np\n",
    "import matplotlib.pyplot as plt\n",
    "%matplotlib inline\n",
    "import seaborn as sns\n",
    "from sklearn.preprocessing import StandardScaler\n",
    "from sklearn.ensemble import IsolationForest\n",
    "from IPython.core.display import display, HTML\n",
    "display(HTML(\"<style>.container { width:100% !important; }</style>\"))\n",
    "from IPython.core.interactiveshell import InteractiveShell\n",
    "InteractiveShell.ast_node_interactivity = \"all\"\n",
    "from plotly.offline import download_plotlyjs, init_notebook_mode, plot, iplot\n",
    "# import plotly.plotly as py\n",
    "import plotly.graph_objs as go\n",
    "\n",
    "from plotly.offline import download_plotlyjs, init_notebook_mode, plot, iplot\n",
    "import plotly\n",
    "# import plotly.plotly as py\n",
    "import plotly.graph_objs as go\n",
    "init_notebook_mode(connected=True)"
   ]
  },
  {
   "cell_type": "code",
   "execution_count": 87,
   "id": "2dfd0b74",
   "metadata": {},
   "outputs": [
    {
     "name": "stdout",
     "output_type": "stream",
     "text": [
      "D:\\CRITICAL_MAIN_DATAFILE__MILESTONE_II\\AoT_Chicago.complete.2021-09-12\n"
     ]
    }
   ],
   "source": [
    "%cd D:\\CRITICAL_MAIN_DATAFILE__MILESTONE_II\\AoT_Chicago.complete.2021-09-12    "
   ]
  },
  {
   "cell_type": "code",
   "execution_count": 88,
   "id": "528b26f0",
   "metadata": {},
   "outputs": [],
   "source": [
    "df = pd.read_csv('use_for_UML.csv', index_col  = ['timestamp'])  # 1.8M rows"
   ]
  },
  {
   "cell_type": "code",
   "execution_count": 89,
   "id": "468df83e",
   "metadata": {},
   "outputs": [
    {
     "data": {
      "text/html": [
       "<div>\n",
       "<style scoped>\n",
       "    .dataframe tbody tr th:only-of-type {\n",
       "        vertical-align: middle;\n",
       "    }\n",
       "\n",
       "    .dataframe tbody tr th {\n",
       "        vertical-align: top;\n",
       "    }\n",
       "\n",
       "    .dataframe thead th {\n",
       "        text-align: right;\n",
       "    }\n",
       "</style>\n",
       "<table border=\"1\" class=\"dataframe\">\n",
       "  <thead>\n",
       "    <tr style=\"text-align: right;\">\n",
       "      <th></th>\n",
       "      <th>sensor</th>\n",
       "      <th>value_hrf</th>\n",
       "      <th>T</th>\n",
       "    </tr>\n",
       "    <tr>\n",
       "      <th>timestamp</th>\n",
       "      <th></th>\n",
       "      <th></th>\n",
       "      <th></th>\n",
       "    </tr>\n",
       "  </thead>\n",
       "  <tbody>\n",
       "    <tr>\n",
       "      <th>2018-05-01 00:00:18</th>\n",
       "      <td>bmp180</td>\n",
       "      <td>30.2</td>\n",
       "      <td>2018-05-01 00:00:18</td>\n",
       "    </tr>\n",
       "    <tr>\n",
       "      <th>2018-05-01 00:00:44</th>\n",
       "      <td>bmp180</td>\n",
       "      <td>30.3</td>\n",
       "      <td>2018-05-01 00:00:44</td>\n",
       "    </tr>\n",
       "    <tr>\n",
       "      <th>2018-05-01 00:01:10</th>\n",
       "      <td>bmp180</td>\n",
       "      <td>30.4</td>\n",
       "      <td>2018-05-01 00:01:10</td>\n",
       "    </tr>\n",
       "    <tr>\n",
       "      <th>2018-05-01 00:01:35</th>\n",
       "      <td>bmp180</td>\n",
       "      <td>30.3</td>\n",
       "      <td>2018-05-01 00:01:35</td>\n",
       "    </tr>\n",
       "    <tr>\n",
       "      <th>2018-05-01 00:02:01</th>\n",
       "      <td>bmp180</td>\n",
       "      <td>30.4</td>\n",
       "      <td>2018-05-01 00:02:01</td>\n",
       "    </tr>\n",
       "  </tbody>\n",
       "</table>\n",
       "</div>"
      ],
      "text/plain": [
       "                     sensor  value_hrf                    T\n",
       "timestamp                                                  \n",
       "2018-05-01 00:00:18  bmp180       30.2  2018-05-01 00:00:18\n",
       "2018-05-01 00:00:44  bmp180       30.3  2018-05-01 00:00:44\n",
       "2018-05-01 00:01:10  bmp180       30.4  2018-05-01 00:01:10\n",
       "2018-05-01 00:01:35  bmp180       30.3  2018-05-01 00:01:35\n",
       "2018-05-01 00:02:01  bmp180       30.4  2018-05-01 00:02:01"
      ]
     },
     "execution_count": 89,
     "metadata": {},
     "output_type": "execute_result"
    },
    {
     "data": {
      "text/html": [
       "<div>\n",
       "<style scoped>\n",
       "    .dataframe tbody tr th:only-of-type {\n",
       "        vertical-align: middle;\n",
       "    }\n",
       "\n",
       "    .dataframe tbody tr th {\n",
       "        vertical-align: top;\n",
       "    }\n",
       "\n",
       "    .dataframe thead th {\n",
       "        text-align: right;\n",
       "    }\n",
       "</style>\n",
       "<table border=\"1\" class=\"dataframe\">\n",
       "  <thead>\n",
       "    <tr style=\"text-align: right;\">\n",
       "      <th></th>\n",
       "      <th>sensor</th>\n",
       "      <th>value_hrf</th>\n",
       "      <th>T</th>\n",
       "    </tr>\n",
       "    <tr>\n",
       "      <th>timestamp</th>\n",
       "      <th></th>\n",
       "      <th></th>\n",
       "      <th></th>\n",
       "    </tr>\n",
       "  </thead>\n",
       "  <tbody>\n",
       "    <tr>\n",
       "      <th>2019-10-31 23:57:55</th>\n",
       "      <td>bmp180</td>\n",
       "      <td>2.5</td>\n",
       "      <td>2019-10-31 23:57:55</td>\n",
       "    </tr>\n",
       "    <tr>\n",
       "      <th>2019-10-31 23:58:20</th>\n",
       "      <td>bmp180</td>\n",
       "      <td>2.5</td>\n",
       "      <td>2019-10-31 23:58:20</td>\n",
       "    </tr>\n",
       "    <tr>\n",
       "      <th>2019-10-31 23:58:45</th>\n",
       "      <td>bmp180</td>\n",
       "      <td>2.5</td>\n",
       "      <td>2019-10-31 23:58:45</td>\n",
       "    </tr>\n",
       "    <tr>\n",
       "      <th>2019-10-31 23:59:10</th>\n",
       "      <td>bmp180</td>\n",
       "      <td>2.6</td>\n",
       "      <td>2019-10-31 23:59:10</td>\n",
       "    </tr>\n",
       "    <tr>\n",
       "      <th>2019-10-31 23:59:35</th>\n",
       "      <td>bmp180</td>\n",
       "      <td>2.6</td>\n",
       "      <td>2019-10-31 23:59:35</td>\n",
       "    </tr>\n",
       "  </tbody>\n",
       "</table>\n",
       "</div>"
      ],
      "text/plain": [
       "                     sensor  value_hrf                    T\n",
       "timestamp                                                  \n",
       "2019-10-31 23:57:55  bmp180        2.5  2019-10-31 23:57:55\n",
       "2019-10-31 23:58:20  bmp180        2.5  2019-10-31 23:58:20\n",
       "2019-10-31 23:58:45  bmp180        2.5  2019-10-31 23:58:45\n",
       "2019-10-31 23:59:10  bmp180        2.6  2019-10-31 23:59:10\n",
       "2019-10-31 23:59:35  bmp180        2.6  2019-10-31 23:59:35"
      ]
     },
     "execution_count": 89,
     "metadata": {},
     "output_type": "execute_result"
    }
   ],
   "source": [
    "df.head()\n",
    "df.tail()"
   ]
  },
  {
   "cell_type": "code",
   "execution_count": 90,
   "id": "2c5d9769",
   "metadata": {},
   "outputs": [
    {
     "data": {
      "text/html": [
       "<div>\n",
       "<style scoped>\n",
       "    .dataframe tbody tr th:only-of-type {\n",
       "        vertical-align: middle;\n",
       "    }\n",
       "\n",
       "    .dataframe tbody tr th {\n",
       "        vertical-align: top;\n",
       "    }\n",
       "\n",
       "    .dataframe thead th {\n",
       "        text-align: right;\n",
       "    }\n",
       "</style>\n",
       "<table border=\"1\" class=\"dataframe\">\n",
       "  <thead>\n",
       "    <tr style=\"text-align: right;\">\n",
       "      <th></th>\n",
       "      <th>sensor</th>\n",
       "      <th>value_hrf</th>\n",
       "      <th>T</th>\n",
       "    </tr>\n",
       "    <tr>\n",
       "      <th>timestamp</th>\n",
       "      <th></th>\n",
       "      <th></th>\n",
       "      <th></th>\n",
       "    </tr>\n",
       "  </thead>\n",
       "  <tbody>\n",
       "    <tr>\n",
       "      <th>2019-10-31 23:57:55</th>\n",
       "      <td>bmp180</td>\n",
       "      <td>2.5</td>\n",
       "      <td>2019-10-31 23:57:55</td>\n",
       "    </tr>\n",
       "    <tr>\n",
       "      <th>2019-10-31 23:58:20</th>\n",
       "      <td>bmp180</td>\n",
       "      <td>2.5</td>\n",
       "      <td>2019-10-31 23:58:20</td>\n",
       "    </tr>\n",
       "    <tr>\n",
       "      <th>2019-10-31 23:58:45</th>\n",
       "      <td>bmp180</td>\n",
       "      <td>2.5</td>\n",
       "      <td>2019-10-31 23:58:45</td>\n",
       "    </tr>\n",
       "    <tr>\n",
       "      <th>2019-10-31 23:59:10</th>\n",
       "      <td>bmp180</td>\n",
       "      <td>2.6</td>\n",
       "      <td>2019-10-31 23:59:10</td>\n",
       "    </tr>\n",
       "    <tr>\n",
       "      <th>2019-10-31 23:59:35</th>\n",
       "      <td>bmp180</td>\n",
       "      <td>2.6</td>\n",
       "      <td>2019-10-31 23:59:35</td>\n",
       "    </tr>\n",
       "  </tbody>\n",
       "</table>\n",
       "</div>"
      ],
      "text/plain": [
       "                     sensor  value_hrf                    T\n",
       "timestamp                                                  \n",
       "2019-10-31 23:57:55  bmp180        2.5  2019-10-31 23:57:55\n",
       "2019-10-31 23:58:20  bmp180        2.5  2019-10-31 23:58:20\n",
       "2019-10-31 23:58:45  bmp180        2.5  2019-10-31 23:58:45\n",
       "2019-10-31 23:59:10  bmp180        2.6  2019-10-31 23:59:10\n",
       "2019-10-31 23:59:35  bmp180        2.6  2019-10-31 23:59:35"
      ]
     },
     "execution_count": 90,
     "metadata": {},
     "output_type": "execute_result"
    }
   ],
   "source": [
    "df.tail()"
   ]
  },
  {
   "cell_type": "code",
   "execution_count": 91,
   "id": "ebd3733a",
   "metadata": {},
   "outputs": [],
   "source": [
    "df.drop('sensor', axis=1, inplace=True)"
   ]
  },
  {
   "cell_type": "code",
   "execution_count": 92,
   "id": "984836d4",
   "metadata": {},
   "outputs": [],
   "source": [
    "df.drop('T', axis=1, inplace=True)"
   ]
  },
  {
   "cell_type": "code",
   "execution_count": 93,
   "id": "09ed3a4c",
   "metadata": {},
   "outputs": [
    {
     "data": {
      "text/plain": [
       "value_hrf    float64\n",
       "dtype: object"
      ]
     },
     "execution_count": 93,
     "metadata": {},
     "output_type": "execute_result"
    }
   ],
   "source": [
    "df.dtypes"
   ]
  },
  {
   "cell_type": "code",
   "execution_count": 94,
   "id": "f8b4138d",
   "metadata": {},
   "outputs": [],
   "source": [
    "# 1.8M rows of temp from a single sensor..."
   ]
  },
  {
   "cell_type": "code",
   "execution_count": 95,
   "id": "6985f8f5",
   "metadata": {},
   "outputs": [
    {
     "data": {
      "text/html": [
       "<div>\n",
       "<style scoped>\n",
       "    .dataframe tbody tr th:only-of-type {\n",
       "        vertical-align: middle;\n",
       "    }\n",
       "\n",
       "    .dataframe tbody tr th {\n",
       "        vertical-align: top;\n",
       "    }\n",
       "\n",
       "    .dataframe thead th {\n",
       "        text-align: right;\n",
       "    }\n",
       "</style>\n",
       "<table border=\"1\" class=\"dataframe\">\n",
       "  <thead>\n",
       "    <tr style=\"text-align: right;\">\n",
       "      <th></th>\n",
       "      <th>value_hrf</th>\n",
       "    </tr>\n",
       "    <tr>\n",
       "      <th>timestamp</th>\n",
       "      <th></th>\n",
       "    </tr>\n",
       "  </thead>\n",
       "  <tbody>\n",
       "    <tr>\n",
       "      <th>2018-05-01 00:00:18</th>\n",
       "      <td>30.2</td>\n",
       "    </tr>\n",
       "    <tr>\n",
       "      <th>2018-05-01 00:00:44</th>\n",
       "      <td>30.3</td>\n",
       "    </tr>\n",
       "    <tr>\n",
       "      <th>2018-05-01 00:01:10</th>\n",
       "      <td>30.4</td>\n",
       "    </tr>\n",
       "    <tr>\n",
       "      <th>2018-05-01 00:01:35</th>\n",
       "      <td>30.3</td>\n",
       "    </tr>\n",
       "    <tr>\n",
       "      <th>2018-05-01 00:02:01</th>\n",
       "      <td>30.4</td>\n",
       "    </tr>\n",
       "    <tr>\n",
       "      <th>2018-05-01 00:02:27</th>\n",
       "      <td>30.3</td>\n",
       "    </tr>\n",
       "    <tr>\n",
       "      <th>2018-05-01 00:02:52</th>\n",
       "      <td>30.3</td>\n",
       "    </tr>\n",
       "    <tr>\n",
       "      <th>2018-05-01 00:03:18</th>\n",
       "      <td>30.2</td>\n",
       "    </tr>\n",
       "    <tr>\n",
       "      <th>2018-05-01 00:03:44</th>\n",
       "      <td>30.2</td>\n",
       "    </tr>\n",
       "    <tr>\n",
       "      <th>2018-05-01 00:04:09</th>\n",
       "      <td>30.2</td>\n",
       "    </tr>\n",
       "  </tbody>\n",
       "</table>\n",
       "</div>"
      ],
      "text/plain": [
       "                     value_hrf\n",
       "timestamp                     \n",
       "2018-05-01 00:00:18       30.2\n",
       "2018-05-01 00:00:44       30.3\n",
       "2018-05-01 00:01:10       30.4\n",
       "2018-05-01 00:01:35       30.3\n",
       "2018-05-01 00:02:01       30.4\n",
       "2018-05-01 00:02:27       30.3\n",
       "2018-05-01 00:02:52       30.3\n",
       "2018-05-01 00:03:18       30.2\n",
       "2018-05-01 00:03:44       30.2\n",
       "2018-05-01 00:04:09       30.2"
      ]
     },
     "execution_count": 95,
     "metadata": {},
     "output_type": "execute_result"
    }
   ],
   "source": [
    "df.head(10)"
   ]
  },
  {
   "cell_type": "markdown",
   "id": "06ceb64e",
   "metadata": {},
   "source": [
    "# MARK 1"
   ]
  },
  {
   "cell_type": "code",
   "execution_count": 96,
   "id": "ee6933aa",
   "metadata": {},
   "outputs": [],
   "source": [
    "# # Using graph_objects\n",
    "# from plotly.offline import download_plotlyjs, init_notebook_mode, plot, iplot\n",
    "# import plotly\n",
    "# import matplotlib.pyplot as plt\n",
    "# from matplotlib import pyplot\n",
    "# import plotly.graph_objs as go\n",
    "# init_notebook_mode(connected=True)\n",
    "# import plotly.graph_objs as go\n",
    "# fig = go.Figure(data=[go.Scatter(x=df.index,  y=df.value_hrf)])\n",
    "# iplot(fig); "
   ]
  },
  {
   "cell_type": "markdown",
   "id": "745cf9b4",
   "metadata": {},
   "source": [
    "# Split Data into 1 year "
   ]
  },
  {
   "cell_type": "code",
   "execution_count": 97,
   "id": "6e40ee93",
   "metadata": {},
   "outputs": [],
   "source": [
    "\n",
    "# tdf = df.loc['2018-09-01':'2018-10-01'].copy()\n",
    "\n",
    "tdf = df.loc['2018-07-01':'2019-08-31'].copy()\n",
    "### big range ! ! ! \n"
   ]
  },
  {
   "cell_type": "code",
   "execution_count": 98,
   "id": "63b46ec0",
   "metadata": {},
   "outputs": [],
   "source": [
    "del df # to be safe"
   ]
  },
  {
   "cell_type": "code",
   "execution_count": 99,
   "id": "440a1acd",
   "metadata": {},
   "outputs": [
    {
     "data": {
      "text/plain": [
       "1439432"
      ]
     },
     "execution_count": 99,
     "metadata": {},
     "output_type": "execute_result"
    }
   ],
   "source": [
    "len(tdf) # 1 229 022"
   ]
  },
  {
   "cell_type": "markdown",
   "id": "b2d29c23",
   "metadata": {},
   "source": [
    "# Isolation Forest"
   ]
  },
  {
   "cell_type": "code",
   "execution_count": 100,
   "id": "63b2a966",
   "metadata": {
    "scrolled": false
   },
   "outputs": [],
   "source": [
    "\n",
    "# from sklearn.ensemble import IsolationForest\n",
    "\n",
    "# clf = IsolationForest(n_estimators=100, \n",
    "#                     max_samples='auto', \n",
    "#                     contamination=float(.01), \n",
    "#                     max_features=1.0, \n",
    "#                     bootstrap=False, \n",
    "#                     n_jobs=-1, \n",
    "#                     random_state=42, \n",
    "#                     verbose=1)\n",
    "\n",
    "# clf.fit(tdf[['value_hrf']])  # since 1D ! \n",
    "\n",
    "# # The predict function classifies the data as anomalies \n",
    "# # based on the results from decision function on crossing a threshold\n",
    "\n",
    "# tdf['scores']=clf.decision_function(tdf[['value_hrf']])\n",
    "\n",
    "# #tdf['anomaly']=clf.predict(tdf[['value_hrf']])\n",
    "# #tdf.loc[tdf['anomaly'] == 1,'anomaly'] = 0\n",
    "# #tdf.loc[tdf['anomaly'] == -1,'anomaly'] = 1\n",
    "# ## classified as -1 is 'anomalous'\n",
    "# #tdf.anomaly.value_counts()\n",
    "\n",
    "# pred = clf.predict(tdf[['value_hrf']])\n",
    "# tdf['anomaly']=pred\n",
    "\n",
    "# outliers=tdf.loc[tdf['anomaly']==-1]\n",
    "# outlier_index=list(outliers.index)\n",
    "# #Find the number of anomalies and normal points here points classified -1 are anomalous\n",
    "# print(tdf['anomaly'].value_counts())\n",
    "\n",
    "# IsolationForest(contamination=0.01, n_jobs=-1, random_state=42, verbose=1)\n",
    "#  1    86706\n",
    "# -1      857\n",
    "# Name: anomaly, dtype: int64\n"
   ]
  },
  {
   "cell_type": "code",
   "execution_count": 101,
   "id": "49e65132",
   "metadata": {},
   "outputs": [],
   "source": [
    "# print(\"Percentage of anomalies in data: {:.2f}\".format((len(tdf.loc[tdf['anomaly']==-1])/len(tdf))*100))"
   ]
  },
  {
   "cell_type": "code",
   "execution_count": 102,
   "id": "2a8dd667",
   "metadata": {},
   "outputs": [],
   "source": [
    "# import seaborn as sns\n",
    "# import matplotlib.pyplot as plt\n",
    "# %matplotlib inline\n",
    "# # sns.set(style=\"darkgrid\")\n",
    "# fig, ax = plt.subplots(figsize=(15,10))\n",
    "# sns.histplot(data=tdf, x=\"scores\")\n",
    "# plt.show(); "
   ]
  },
  {
   "cell_type": "markdown",
   "id": "78e4a19e",
   "metadata": {},
   "source": [
    "# Plot all of the data with this code:"
   ]
  },
  {
   "cell_type": "code",
   "execution_count": 103,
   "id": "ccdbac03",
   "metadata": {},
   "outputs": [],
   "source": [
    "# WORKS, BUT IS BIG FILE ! ! ! \n",
    "\n",
    "# dates = df['T']\n",
    "\n",
    "# from plotly.offline import init_notebook_mode, iplot\n",
    "\n",
    "# # Plot the actuals points\n",
    "# Actuals = go.Scatter(name='Actuals',\n",
    "#                      x=dates,\n",
    "#                      y=df['value_hrf'],\n",
    "#                      xaxis='x1', \n",
    "#                      yaxis='y1',\n",
    "#                      mode='line',\n",
    "                     \n",
    "# #                      marker=dict(size=12,\n",
    "# #                                  line=dict(width=1),\n",
    "# #                                  color=\"gray\"))\n",
    "\n",
    "# fig = go.Figure(data=[Actuals])\n",
    "    \n",
    "# iplot(fig)\n",
    "\n",
    "# # plt.show()    "
   ]
  },
  {
   "cell_type": "code",
   "execution_count": 104,
   "id": "1d7ed372",
   "metadata": {},
   "outputs": [],
   "source": [
    "# IM PRETTY SURE THIS WORKS:\n",
    "\n",
    "# # Using graph_objects\n",
    "# from plotly.offline import download_plotlyjs, init_notebook_mode, plot, iplot\n",
    "# import plotly\n",
    "# import matplotlib.pyplot as plt\n",
    "# from matplotlib import pyplot\n",
    "# import plotly.graph_objs as go\n",
    "# init_notebook_mode(connected=True)  # need \n",
    "# import plotly.graph_objs as go\n",
    "\n",
    "# fig = go.Figure(data=[go.Scatter(x=df.index,  \n",
    "#                                  y=df.value_hrf)])\n",
    "# #                                to add it as true scatter, use mode='markers')\n",
    "\n",
    "# iplot(fig)\n"
   ]
  },
  {
   "cell_type": "code",
   "execution_count": 105,
   "id": "d221c26c",
   "metadata": {},
   "outputs": [],
   "source": [
    "## i think i have to have another column in the df that \n",
    "## is timeframe, i can't use index"
   ]
  },
  {
   "cell_type": "code",
   "execution_count": 106,
   "id": "67bb8ab5",
   "metadata": {},
   "outputs": [],
   "source": [
    "tdf['T'] = tdf.index"
   ]
  },
  {
   "cell_type": "code",
   "execution_count": 107,
   "id": "347e409f",
   "metadata": {},
   "outputs": [],
   "source": [
    "tdf['T'] = tdf['T'].astype('datetime64[ns]')"
   ]
  },
  {
   "cell_type": "code",
   "execution_count": 108,
   "id": "95ede7cb",
   "metadata": {},
   "outputs": [
    {
     "data": {
      "text/html": [
       "<div>\n",
       "<style scoped>\n",
       "    .dataframe tbody tr th:only-of-type {\n",
       "        vertical-align: middle;\n",
       "    }\n",
       "\n",
       "    .dataframe tbody tr th {\n",
       "        vertical-align: top;\n",
       "    }\n",
       "\n",
       "    .dataframe thead th {\n",
       "        text-align: right;\n",
       "    }\n",
       "</style>\n",
       "<table border=\"1\" class=\"dataframe\">\n",
       "  <thead>\n",
       "    <tr style=\"text-align: right;\">\n",
       "      <th></th>\n",
       "      <th>value_hrf</th>\n",
       "      <th>T</th>\n",
       "    </tr>\n",
       "    <tr>\n",
       "      <th>timestamp</th>\n",
       "      <th></th>\n",
       "      <th></th>\n",
       "    </tr>\n",
       "  </thead>\n",
       "  <tbody>\n",
       "    <tr>\n",
       "      <th>2018-07-01 00:00:10</th>\n",
       "      <td>39.3</td>\n",
       "      <td>2018-07-01 00:00:10</td>\n",
       "    </tr>\n",
       "    <tr>\n",
       "      <th>2018-07-01 00:00:35</th>\n",
       "      <td>39.4</td>\n",
       "      <td>2018-07-01 00:00:35</td>\n",
       "    </tr>\n",
       "    <tr>\n",
       "      <th>2018-07-01 00:01:00</th>\n",
       "      <td>39.6</td>\n",
       "      <td>2018-07-01 00:01:00</td>\n",
       "    </tr>\n",
       "    <tr>\n",
       "      <th>2018-07-01 00:01:25</th>\n",
       "      <td>39.5</td>\n",
       "      <td>2018-07-01 00:01:25</td>\n",
       "    </tr>\n",
       "    <tr>\n",
       "      <th>2018-07-01 00:01:50</th>\n",
       "      <td>39.5</td>\n",
       "      <td>2018-07-01 00:01:50</td>\n",
       "    </tr>\n",
       "  </tbody>\n",
       "</table>\n",
       "</div>"
      ],
      "text/plain": [
       "                     value_hrf                   T\n",
       "timestamp                                         \n",
       "2018-07-01 00:00:10       39.3 2018-07-01 00:00:10\n",
       "2018-07-01 00:00:35       39.4 2018-07-01 00:00:35\n",
       "2018-07-01 00:01:00       39.6 2018-07-01 00:01:00\n",
       "2018-07-01 00:01:25       39.5 2018-07-01 00:01:25\n",
       "2018-07-01 00:01:50       39.5 2018-07-01 00:01:50"
      ]
     },
     "execution_count": 108,
     "metadata": {},
     "output_type": "execute_result"
    }
   ],
   "source": [
    "tdf.head()"
   ]
  },
  {
   "cell_type": "markdown",
   "id": "742007a1",
   "metadata": {},
   "source": [
    "# Isolation Forest"
   ]
  },
  {
   "cell_type": "markdown",
   "id": "246f58e4",
   "metadata": {},
   "source": [
    "####  WORKING CODE:"
   ]
  },
  {
   "cell_type": "code",
   "execution_count": 109,
   "id": "1ecbd755",
   "metadata": {},
   "outputs": [],
   "source": [
    "from sklearn.ensemble import IsolationForest\n",
    "\n",
    "clf = IsolationForest(n_estimators=100, \n",
    "                      # the number of base estimators in the ensemble\n",
    "                                            \n",
    "                      max_samples='auto', \n",
    "                      \n",
    "                      # base assumption, critical to output\n",
    "                      contamination=float(.011),\n",
    "                      # If ‘auto’, the threshold is determined as in the original paper.\n",
    "                      \n",
    "                      max_features=1.0, \n",
    "                      bootstrap=False, \n",
    "                      # If True, individual trees are fit on random subsets of the training \n",
    "                      # data sampled with replacement. If False, sampling without \n",
    "                      # replacement is performed.\n",
    "                      \n",
    "                      n_jobs=-1, \n",
    "                      # -1 means using all processors.\n",
    "                      \n",
    "                      random_state=42, \n",
    "                      verbose=1,\n",
    "                      )"
   ]
  },
  {
   "cell_type": "code",
   "execution_count": 110,
   "id": "ca9290eb",
   "metadata": {},
   "outputs": [
    {
     "name": "stderr",
     "output_type": "stream",
     "text": [
      "[Parallel(n_jobs=24)]: Using backend ThreadingBackend with 24 concurrent workers.\n",
      "[Parallel(n_jobs=24)]: Done   2 out of  24 | elapsed:    0.5s remaining:    6.9s\n",
      "[Parallel(n_jobs=24)]: Done  24 out of  24 | elapsed:    0.6s finished\n"
     ]
    },
    {
     "data": {
      "text/plain": [
       "IsolationForest(contamination=0.011, n_jobs=-1, random_state=42, verbose=1)"
      ]
     },
     "execution_count": 110,
     "metadata": {},
     "output_type": "execute_result"
    }
   ],
   "source": [
    "clf.fit(tdf[['value_hrf']])  # make sure 2D-array, remember... "
   ]
  },
  {
   "cell_type": "code",
   "execution_count": 111,
   "id": "5c16efda",
   "metadata": {},
   "outputs": [],
   "source": [
    "# add scores to the original df \n",
    "tdf['scores']=clf.decision_function(tdf[['value_hrf']])\n",
    "# Average anomaly score of X of the base classifiers\n",
    "# The anomaly score of an input sample is computed as the \n",
    "# mean anomaly score of the trees in the forest.\n",
    "# The measure of normality of an observation given a tree \n",
    "# is the depth of the leaf containing this observation, \n",
    "# which is equivalent to the number of splittings required\n",
    "# to isolate this point. In case of several observations \n",
    "# n_left in the leaf, the average path length of a n_left\n",
    "# samples isolation tree is added."
   ]
  },
  {
   "cell_type": "code",
   "execution_count": 112,
   "id": "ffefd10c",
   "metadata": {},
   "outputs": [
    {
     "ename": "KeyboardInterrupt",
     "evalue": "",
     "output_type": "error",
     "traceback": [
      "\u001b[1;31m---------------------------------------------------------------------------\u001b[0m",
      "\u001b[1;31mKeyboardInterrupt\u001b[0m                         Traceback (most recent call last)",
      "\u001b[1;32m~\\AppData\\Local\\Temp/ipykernel_11736/1454449380.py\u001b[0m in \u001b[0;36m<module>\u001b[1;34m\u001b[0m\n\u001b[1;32m----> 1\u001b[1;33m \u001b[0mtdf\u001b[0m\u001b[1;33m[\u001b[0m\u001b[1;34m'anomaly'\u001b[0m\u001b[1;33m]\u001b[0m\u001b[1;33m=\u001b[0m\u001b[0mclf\u001b[0m\u001b[1;33m.\u001b[0m\u001b[0mpredict\u001b[0m\u001b[1;33m(\u001b[0m\u001b[0mtdf\u001b[0m\u001b[1;33m[\u001b[0m\u001b[1;33m[\u001b[0m\u001b[1;34m'value_hrf'\u001b[0m\u001b[1;33m]\u001b[0m\u001b[1;33m]\u001b[0m\u001b[1;33m)\u001b[0m\u001b[1;33m\u001b[0m\u001b[1;33m\u001b[0m\u001b[0m\n\u001b[0m\u001b[0;32m      2\u001b[0m \u001b[1;31m#  This should be score of 1 or -1\u001b[0m\u001b[1;33m\u001b[0m\u001b[1;33m\u001b[0m\u001b[1;33m\u001b[0m\u001b[0m\n\u001b[0;32m      3\u001b[0m \u001b[1;31m#  Here, we can see that both the anomalies are assigned an anomaly score of -1.\u001b[0m\u001b[1;33m\u001b[0m\u001b[1;33m\u001b[0m\u001b[1;33m\u001b[0m\u001b[0m\n\u001b[0;32m      4\u001b[0m \u001b[1;31m# Predict if a particular sample is an outlier or not.\u001b[0m\u001b[1;33m\u001b[0m\u001b[1;33m\u001b[0m\u001b[1;33m\u001b[0m\u001b[0m\n\u001b[0;32m      5\u001b[0m \u001b[1;31m# For each observation, tells whether or not (+1 or -1) it should\u001b[0m\u001b[1;33m\u001b[0m\u001b[1;33m\u001b[0m\u001b[1;33m\u001b[0m\u001b[0m\n",
      "\u001b[1;32m~\\Anaconda3\\lib\\site-packages\\sklearn\\ensemble\\_iforest.py\u001b[0m in \u001b[0;36mpredict\u001b[1;34m(self, X)\u001b[0m\n\u001b[0;32m    312\u001b[0m         \u001b[0mX\u001b[0m \u001b[1;33m=\u001b[0m \u001b[0mcheck_array\u001b[0m\u001b[1;33m(\u001b[0m\u001b[0mX\u001b[0m\u001b[1;33m,\u001b[0m \u001b[0maccept_sparse\u001b[0m\u001b[1;33m=\u001b[0m\u001b[1;34m'csr'\u001b[0m\u001b[1;33m)\u001b[0m\u001b[1;33m\u001b[0m\u001b[1;33m\u001b[0m\u001b[0m\n\u001b[0;32m    313\u001b[0m         \u001b[0mis_inlier\u001b[0m \u001b[1;33m=\u001b[0m \u001b[0mnp\u001b[0m\u001b[1;33m.\u001b[0m\u001b[0mones\u001b[0m\u001b[1;33m(\u001b[0m\u001b[0mX\u001b[0m\u001b[1;33m.\u001b[0m\u001b[0mshape\u001b[0m\u001b[1;33m[\u001b[0m\u001b[1;36m0\u001b[0m\u001b[1;33m]\u001b[0m\u001b[1;33m,\u001b[0m \u001b[0mdtype\u001b[0m\u001b[1;33m=\u001b[0m\u001b[0mint\u001b[0m\u001b[1;33m)\u001b[0m\u001b[1;33m\u001b[0m\u001b[1;33m\u001b[0m\u001b[0m\n\u001b[1;32m--> 314\u001b[1;33m         \u001b[0mis_inlier\u001b[0m\u001b[1;33m[\u001b[0m\u001b[0mself\u001b[0m\u001b[1;33m.\u001b[0m\u001b[0mdecision_function\u001b[0m\u001b[1;33m(\u001b[0m\u001b[0mX\u001b[0m\u001b[1;33m)\u001b[0m \u001b[1;33m<\u001b[0m \u001b[1;36m0\u001b[0m\u001b[1;33m]\u001b[0m \u001b[1;33m=\u001b[0m \u001b[1;33m-\u001b[0m\u001b[1;36m1\u001b[0m\u001b[1;33m\u001b[0m\u001b[1;33m\u001b[0m\u001b[0m\n\u001b[0m\u001b[0;32m    315\u001b[0m         \u001b[1;32mreturn\u001b[0m \u001b[0mis_inlier\u001b[0m\u001b[1;33m\u001b[0m\u001b[1;33m\u001b[0m\u001b[0m\n\u001b[0;32m    316\u001b[0m \u001b[1;33m\u001b[0m\u001b[0m\n",
      "\u001b[1;32m~\\Anaconda3\\lib\\site-packages\\sklearn\\ensemble\\_iforest.py\u001b[0m in \u001b[0;36mdecision_function\u001b[1;34m(self, X)\u001b[0m\n\u001b[0;32m    345\u001b[0m         \u001b[1;31m# an outlier:\u001b[0m\u001b[1;33m\u001b[0m\u001b[1;33m\u001b[0m\u001b[1;33m\u001b[0m\u001b[0m\n\u001b[0;32m    346\u001b[0m \u001b[1;33m\u001b[0m\u001b[0m\n\u001b[1;32m--> 347\u001b[1;33m         \u001b[1;32mreturn\u001b[0m \u001b[0mself\u001b[0m\u001b[1;33m.\u001b[0m\u001b[0mscore_samples\u001b[0m\u001b[1;33m(\u001b[0m\u001b[0mX\u001b[0m\u001b[1;33m)\u001b[0m \u001b[1;33m-\u001b[0m \u001b[0mself\u001b[0m\u001b[1;33m.\u001b[0m\u001b[0moffset_\u001b[0m\u001b[1;33m\u001b[0m\u001b[1;33m\u001b[0m\u001b[0m\n\u001b[0m\u001b[0;32m    348\u001b[0m \u001b[1;33m\u001b[0m\u001b[0m\n\u001b[0;32m    349\u001b[0m     \u001b[1;32mdef\u001b[0m \u001b[0mscore_samples\u001b[0m\u001b[1;33m(\u001b[0m\u001b[0mself\u001b[0m\u001b[1;33m,\u001b[0m \u001b[0mX\u001b[0m\u001b[1;33m)\u001b[0m\u001b[1;33m:\u001b[0m\u001b[1;33m\u001b[0m\u001b[1;33m\u001b[0m\u001b[0m\n",
      "\u001b[1;32m~\\Anaconda3\\lib\\site-packages\\sklearn\\ensemble\\_iforest.py\u001b[0m in \u001b[0;36mscore_samples\u001b[1;34m(self, X)\u001b[0m\n\u001b[0;32m    385\u001b[0m         \u001b[1;31m# Take the opposite of the scores as bigger is better (here less\u001b[0m\u001b[1;33m\u001b[0m\u001b[1;33m\u001b[0m\u001b[1;33m\u001b[0m\u001b[0m\n\u001b[0;32m    386\u001b[0m         \u001b[1;31m# abnormal)\u001b[0m\u001b[1;33m\u001b[0m\u001b[1;33m\u001b[0m\u001b[1;33m\u001b[0m\u001b[0m\n\u001b[1;32m--> 387\u001b[1;33m         \u001b[1;32mreturn\u001b[0m \u001b[1;33m-\u001b[0m\u001b[0mself\u001b[0m\u001b[1;33m.\u001b[0m\u001b[0m_compute_chunked_score_samples\u001b[0m\u001b[1;33m(\u001b[0m\u001b[0mX\u001b[0m\u001b[1;33m)\u001b[0m\u001b[1;33m\u001b[0m\u001b[1;33m\u001b[0m\u001b[0m\n\u001b[0m\u001b[0;32m    388\u001b[0m \u001b[1;33m\u001b[0m\u001b[0m\n\u001b[0;32m    389\u001b[0m     \u001b[1;32mdef\u001b[0m \u001b[0m_compute_chunked_score_samples\u001b[0m\u001b[1;33m(\u001b[0m\u001b[0mself\u001b[0m\u001b[1;33m,\u001b[0m \u001b[0mX\u001b[0m\u001b[1;33m)\u001b[0m\u001b[1;33m:\u001b[0m\u001b[1;33m\u001b[0m\u001b[1;33m\u001b[0m\u001b[0m\n",
      "\u001b[1;32m~\\Anaconda3\\lib\\site-packages\\sklearn\\ensemble\\_iforest.py\u001b[0m in \u001b[0;36m_compute_chunked_score_samples\u001b[1;34m(self, X)\u001b[0m\n\u001b[0;32m    415\u001b[0m         \u001b[1;32mfor\u001b[0m \u001b[0msl\u001b[0m \u001b[1;32min\u001b[0m \u001b[0mslices\u001b[0m\u001b[1;33m:\u001b[0m\u001b[1;33m\u001b[0m\u001b[1;33m\u001b[0m\u001b[0m\n\u001b[0;32m    416\u001b[0m             \u001b[1;31m# compute score on the slices of test samples:\u001b[0m\u001b[1;33m\u001b[0m\u001b[1;33m\u001b[0m\u001b[1;33m\u001b[0m\u001b[0m\n\u001b[1;32m--> 417\u001b[1;33m             \u001b[0mscores\u001b[0m\u001b[1;33m[\u001b[0m\u001b[0msl\u001b[0m\u001b[1;33m]\u001b[0m \u001b[1;33m=\u001b[0m \u001b[0mself\u001b[0m\u001b[1;33m.\u001b[0m\u001b[0m_compute_score_samples\u001b[0m\u001b[1;33m(\u001b[0m\u001b[0mX\u001b[0m\u001b[1;33m[\u001b[0m\u001b[0msl\u001b[0m\u001b[1;33m]\u001b[0m\u001b[1;33m,\u001b[0m \u001b[0msubsample_features\u001b[0m\u001b[1;33m)\u001b[0m\u001b[1;33m\u001b[0m\u001b[1;33m\u001b[0m\u001b[0m\n\u001b[0m\u001b[0;32m    418\u001b[0m \u001b[1;33m\u001b[0m\u001b[0m\n\u001b[0;32m    419\u001b[0m         \u001b[1;32mreturn\u001b[0m \u001b[0mscores\u001b[0m\u001b[1;33m\u001b[0m\u001b[1;33m\u001b[0m\u001b[0m\n",
      "\u001b[1;32m~\\Anaconda3\\lib\\site-packages\\sklearn\\ensemble\\_iforest.py\u001b[0m in \u001b[0;36m_compute_score_samples\u001b[1;34m(self, X, subsample_features)\u001b[0m\n\u001b[0;32m    438\u001b[0m             \u001b[0mX_subset\u001b[0m \u001b[1;33m=\u001b[0m \u001b[0mX\u001b[0m\u001b[1;33m[\u001b[0m\u001b[1;33m:\u001b[0m\u001b[1;33m,\u001b[0m \u001b[0mfeatures\u001b[0m\u001b[1;33m]\u001b[0m \u001b[1;32mif\u001b[0m \u001b[0msubsample_features\u001b[0m \u001b[1;32melse\u001b[0m \u001b[0mX\u001b[0m\u001b[1;33m\u001b[0m\u001b[1;33m\u001b[0m\u001b[0m\n\u001b[0;32m    439\u001b[0m \u001b[1;33m\u001b[0m\u001b[0m\n\u001b[1;32m--> 440\u001b[1;33m             \u001b[0mleaves_index\u001b[0m \u001b[1;33m=\u001b[0m \u001b[0mtree\u001b[0m\u001b[1;33m.\u001b[0m\u001b[0mapply\u001b[0m\u001b[1;33m(\u001b[0m\u001b[0mX_subset\u001b[0m\u001b[1;33m)\u001b[0m\u001b[1;33m\u001b[0m\u001b[1;33m\u001b[0m\u001b[0m\n\u001b[0m\u001b[0;32m    441\u001b[0m             \u001b[0mnode_indicator\u001b[0m \u001b[1;33m=\u001b[0m \u001b[0mtree\u001b[0m\u001b[1;33m.\u001b[0m\u001b[0mdecision_path\u001b[0m\u001b[1;33m(\u001b[0m\u001b[0mX_subset\u001b[0m\u001b[1;33m)\u001b[0m\u001b[1;33m\u001b[0m\u001b[1;33m\u001b[0m\u001b[0m\n\u001b[0;32m    442\u001b[0m             \u001b[0mn_samples_leaf\u001b[0m \u001b[1;33m=\u001b[0m \u001b[0mtree\u001b[0m\u001b[1;33m.\u001b[0m\u001b[0mtree_\u001b[0m\u001b[1;33m.\u001b[0m\u001b[0mn_node_samples\u001b[0m\u001b[1;33m[\u001b[0m\u001b[0mleaves_index\u001b[0m\u001b[1;33m]\u001b[0m\u001b[1;33m\u001b[0m\u001b[1;33m\u001b[0m\u001b[0m\n",
      "\u001b[1;32m~\\Anaconda3\\lib\\site-packages\\sklearn\\tree\\_classes.py\u001b[0m in \u001b[0;36mapply\u001b[1;34m(self, X, check_input)\u001b[0m\n\u001b[0;32m    494\u001b[0m         \u001b[0mcheck_is_fitted\u001b[0m\u001b[1;33m(\u001b[0m\u001b[0mself\u001b[0m\u001b[1;33m)\u001b[0m\u001b[1;33m\u001b[0m\u001b[1;33m\u001b[0m\u001b[0m\n\u001b[0;32m    495\u001b[0m         \u001b[0mX\u001b[0m \u001b[1;33m=\u001b[0m \u001b[0mself\u001b[0m\u001b[1;33m.\u001b[0m\u001b[0m_validate_X_predict\u001b[0m\u001b[1;33m(\u001b[0m\u001b[0mX\u001b[0m\u001b[1;33m,\u001b[0m \u001b[0mcheck_input\u001b[0m\u001b[1;33m)\u001b[0m\u001b[1;33m\u001b[0m\u001b[1;33m\u001b[0m\u001b[0m\n\u001b[1;32m--> 496\u001b[1;33m         \u001b[1;32mreturn\u001b[0m \u001b[0mself\u001b[0m\u001b[1;33m.\u001b[0m\u001b[0mtree_\u001b[0m\u001b[1;33m.\u001b[0m\u001b[0mapply\u001b[0m\u001b[1;33m(\u001b[0m\u001b[0mX\u001b[0m\u001b[1;33m)\u001b[0m\u001b[1;33m\u001b[0m\u001b[1;33m\u001b[0m\u001b[0m\n\u001b[0m\u001b[0;32m    497\u001b[0m \u001b[1;33m\u001b[0m\u001b[0m\n\u001b[0;32m    498\u001b[0m     \u001b[1;32mdef\u001b[0m \u001b[0mdecision_path\u001b[0m\u001b[1;33m(\u001b[0m\u001b[0mself\u001b[0m\u001b[1;33m,\u001b[0m \u001b[0mX\u001b[0m\u001b[1;33m,\u001b[0m \u001b[0mcheck_input\u001b[0m\u001b[1;33m=\u001b[0m\u001b[1;32mTrue\u001b[0m\u001b[1;33m)\u001b[0m\u001b[1;33m:\u001b[0m\u001b[1;33m\u001b[0m\u001b[1;33m\u001b[0m\u001b[0m\n",
      "\u001b[1;31mKeyboardInterrupt\u001b[0m: "
     ]
    }
   ],
   "source": [
    "tdf['anomaly']=clf.predict(tdf[['value_hrf']])\n",
    "#  This should be score of 1 or -1 \n",
    "#  Here, we can see that both the anomalies are assigned an anomaly score of -1.\n",
    "# Predict if a particular sample is an outlier or not.\n",
    "# For each observation, tells whether or not (+1 or -1) it should \n",
    "# be considered as an inlier according to the fitted model.\n",
    "\n",
    "tdf.loc[tdf['anomaly'] == 1,'anomaly'] = 0\n",
    "\n",
    "tdf.loc[tdf['anomaly'] == -1,'anomaly'] = 1\n",
    "\n",
    "# makes counting easier \n",
    "\n",
    "tdf.anomaly.value_counts()"
   ]
  },
  {
   "cell_type": "code",
   "execution_count": null,
   "id": "41f7dddc",
   "metadata": {},
   "outputs": [],
   "source": [
    "# data['scores'] = model.decision_function(data[['marks']])\n",
    "# data['anomaly_score'] = model.predict(data[['marks']])\n",
    "# data[data['anomaly_score']==-1].head()"
   ]
  },
  {
   "cell_type": "code",
   "execution_count": null,
   "id": "c8385556",
   "metadata": {},
   "outputs": [],
   "source": [
    "tdf.scores.head()  # see, its a value shown example "
   ]
  },
  {
   "cell_type": "code",
   "execution_count": null,
   "id": "10e50edb",
   "metadata": {},
   "outputs": [],
   "source": [
    "clf.get_params()"
   ]
  },
  {
   "cell_type": "code",
   "execution_count": null,
   "id": "6cf90f2e",
   "metadata": {},
   "outputs": [],
   "source": [
    "import seaborn as sns\n",
    "sns.displot(tdf, x=\"scores\"); \n",
    "# outliers 0 or below, but higher the score, more likely to be an inliner"
   ]
  },
  {
   "cell_type": "code",
   "execution_count": null,
   "id": "f9cbb206",
   "metadata": {},
   "outputs": [],
   "source": [
    "import seaborn as sns\n",
    "import matplotlib.pyplot as plt\n",
    "%matplotlib inline\n",
    "# sns.set(style=\"darkgrid\")\n",
    "fig, ax = plt.subplots(figsize=(15,10))\n",
    "sns.histplot(data=tdf, x=\"scores\")\n",
    "plt.show(); "
   ]
  },
  {
   "cell_type": "code",
   "execution_count": null,
   "id": "427678b4",
   "metadata": {},
   "outputs": [],
   "source": [
    "dates = tdf['T']"
   ]
  },
  {
   "cell_type": "code",
   "execution_count": null,
   "id": "c8b3390d",
   "metadata": {},
   "outputs": [],
   "source": [
    "# # WORKING, ALL STANDARD DATA \n",
    "\n",
    "# from plotly.offline import init_notebook_mode, iplot\n",
    "\n",
    "# # Plot the actuals points\n",
    "# original_data = go.Scatter(name='Actuals',\n",
    "#                      x=dates,\n",
    "#                      y=tdf['value_hrf'],\n",
    "#                      xaxis='x1', \n",
    "#                      yaxis='y1',\n",
    "#                      # mode = ? \n",
    "#                      marker=dict(size=5,\n",
    "#                                  line=dict(width=1),\n",
    "#                                  color=\"gray\"))\n",
    "\n",
    "# fig = go.Figure(data=[original_data])\n",
    "# fig = fig.update_layout(title=\"\", template=\"plotly_dark\") \n",
    "# fig\n",
    "# # iplot(fig)\n",
    "\n",
    "# # this is just actuals, you could clean up to look prettier if you wanted ! ! ! "
   ]
  },
  {
   "cell_type": "code",
   "execution_count": null,
   "id": "4b0cdaab",
   "metadata": {
    "scrolled": false
   },
   "outputs": [],
   "source": [
    "# WORKING:\n",
    "\n",
    "# bool_array = (abs(tdf['anomaly']) > 0)\n",
    "# actuals = tdf[\"value_hrf\"][-len(bool_array):]\n",
    "# anomaly_pts = bool_array * actuals\n",
    "# anomaly_pts[anomaly_pts == 0] = np.nan\n",
    "# anomalies_red = go.Scatter(name=\"Anomaly\",\n",
    "#                                showlegend=True,\n",
    "#                                x=dates,\n",
    "#                                y=anomaly_pts,\n",
    "#                                mode='markers',\n",
    "#                                xaxis='x1',\n",
    "#                                yaxis='y1',\n",
    "#                                marker=dict(color=\"red\",\n",
    "#                                            size=1,\n",
    "#                                            opacity=0.6,   \n",
    "#                                            line=dict(\n",
    "#                                               color=\"red\",\n",
    "#                                               width=1)))\n",
    "# layout = dict(width=1000,\n",
    "#               height=865,\n",
    "#               autosize=False,\n",
    "#               title=\"demo\", \n",
    "#               margin=dict(t=75),\n",
    "#               showlegend=True)\n",
    "\n",
    "# fig = go.Figure(data=[anomalies_red], layout=layout)\n",
    "# fig = fig.update_layout(title=\"\", template=\"plotly_dark\")\n",
    "# iplot(fig)\n",
    "\n",
    "# JUST SHOWING ANOMALIES IF YOU WANTED... "
   ]
  },
  {
   "cell_type": "code",
   "execution_count": null,
   "id": "889776c3",
   "metadata": {},
   "outputs": [],
   "source": [
    "!DIR"
   ]
  },
  {
   "cell_type": "markdown",
   "id": "111d26b6",
   "metadata": {},
   "source": [
    "# Working Output ! "
   ]
  },
  {
   "cell_type": "code",
   "execution_count": 80,
   "id": "cd05d96b",
   "metadata": {},
   "outputs": [],
   "source": [
    "fig = go.Figure(data=[original_data, anomalies_red], layout=layout)\n",
    "fig = fig.update_layout(title=\"\", template=\"plotly_dark\")\n",
    "iplot(fig)\n",
    "# fig.write_html(\"isolation_forest_working_high_resolution.html\")"
   ]
  },
  {
   "cell_type": "code",
   "execution_count": 78,
   "id": "c0c8514d",
   "metadata": {
    "scrolled": false
   },
   "outputs": [],
   "source": [
    "\n",
    "# when it is safe, you can kill this off ...\n",
    "\n",
    "\n",
    "# from sklearn.ensemble import IsolationForest\n",
    "\n",
    "# clf = IsolationForest(n_estimators=100, \n",
    "#                     max_samples='auto', \n",
    "#                     contamination=float(.01), \n",
    "#                     max_features=1.0, \n",
    "#                     bootstrap=False, \n",
    "#                     n_jobs=-1, \n",
    "#                     random_state=42, \n",
    "#                     verbose=1)\n",
    "\n",
    "# clf.fit(tdf[['value_hrf']])  # since 1D ! \n",
    "\n",
    "# # The predict function classifies the data as anomalies \n",
    "# # based on the results from decision function on crossing a threshold\n",
    "\n",
    "# tdf['score']=clf.decision_function(tdf[['value_hrf']])\n",
    "\n",
    "# #tdf['anomaly']=clf.predict(tdf[['value_hrf']])\n",
    "# #tdf.loc[tdf['anomaly'] == 1,'anomaly'] = 0\n",
    "# #tdf.loc[tdf['anomaly'] == -1,'anomaly'] = 1\n",
    "# ## classified as -1 is 'anomalous'\n",
    "# #tdf.anomaly.value_counts()\n",
    "\n",
    "# pred = clf.predict(tdf[['value_hrf']])\n",
    "# tdf['anomaly']=pred\n",
    "\n",
    "# outliers=tdf.loc[tdf['anomaly']==-1]\n",
    "\n",
    "# outlier_index=list(outliers.index)\n",
    "\n",
    "# #Find the number of anomalies and normal points here points classified -1 are anomalous\n",
    "\n",
    "# # print(tdf['anomaly'].value_counts())\n",
    "\n",
    "# # test_df['actuals']=metrics_df.iloc[:,i:i+1]\n",
    "\n",
    "# #Get the indexes of outliers in order to compare the metrics with use case anomalies if required\n",
    "\n",
    "# plot_anomaly(tdf, tdf.value_hrf)\n",
    "    "
   ]
  },
  {
   "cell_type": "markdown",
   "id": "7a60dc77",
   "metadata": {},
   "source": [
    "# STOP AND BREATHE"
   ]
  },
  {
   "cell_type": "markdown",
   "id": "96c956c5",
   "metadata": {},
   "source": [
    "# STOP AND BREATHE"
   ]
  },
  {
   "cell_type": "markdown",
   "id": "957ff49e",
   "metadata": {},
   "source": [
    "# STOP AND BREATHE"
   ]
  },
  {
   "cell_type": "markdown",
   "id": "f500ef91",
   "metadata": {},
   "source": [
    "##### Mark II"
   ]
  },
  {
   "cell_type": "code",
   "execution_count": null,
   "id": "dd658636",
   "metadata": {},
   "outputs": [],
   "source": [
    "\n",
    "# # specify the single metrics column name to be modelled\n",
    "# # you COULD do this for the entire sensor ! ! ! \n",
    "\n",
    "# to_model_columns='value_hrf'\n",
    "\n",
    "# from sklearn.ensemble import IsolationForest\n",
    "\n",
    "# clf=IsolationForest(n_estimators=100, \n",
    "#                     max_samples='auto', \n",
    "#                     max_features=1.0, \n",
    "#                     contamination=float(.01), \n",
    "#                     bootstrap=False, \n",
    "#                     n_jobs=-1, \n",
    "#                     random_state=42, \n",
    "#                     verbose=1)\n",
    "\n",
    "# clf.fit(df[[to_model_columns]])\n"
   ]
  },
  {
   "cell_type": "code",
   "execution_count": null,
   "id": "fa13b82e",
   "metadata": {},
   "outputs": [],
   "source": [
    "\n",
    "# pred = clf.predict(df[[to_model_columns]])\n",
    "\n",
    "# df['anomaly']=pred\n",
    "\n",
    "# outliers=df.loc[df['anomaly']==-1]\n",
    "\n",
    "# outlier_index=list(outliers.index)\n",
    "\n",
    "# # print(outlier_index)\n",
    "\n",
    "# # Find the number of anomalies and normal points here points classified -1 are anomalous\n",
    "\n",
    "# print(df['anomaly'].value_counts())\n"
   ]
  },
  {
   "cell_type": "code",
   "execution_count": null,
   "id": "37de0e7a",
   "metadata": {},
   "outputs": [],
   "source": [
    "# df.drop(['anomaly'], axis=1, inplace=True)"
   ]
  },
  {
   "cell_type": "markdown",
   "id": "d3e9e7e1",
   "metadata": {},
   "source": [
    "##### Mark III"
   ]
  },
  {
   "cell_type": "markdown",
   "id": "a50953a0",
   "metadata": {},
   "source": [
    "Isolation forests are an unsupervised extension of the popular random forest algorithm. The building blocks of isolation forests are isolation trees with a binary outcome (is/is not an outlier)."
   ]
  },
  {
   "cell_type": "markdown",
   "id": "cbbd6a29",
   "metadata": {},
   "source": [
    "When an isolation forest is built, the algorithm splits each individual data point off from all other data points. The easier it is to isolate a single point in space from all other points, the more likely it is an outlier (because it’s far away from all other data points). If a data point is an in-lier, it will be closely surrounded by other data points, and will take more splits to isolate (1). See the graphic below as an illustration."
   ]
  },
  {
   "cell_type": "code",
   "execution_count": null,
   "id": "63dc824d",
   "metadata": {},
   "outputs": [],
   "source": [
    "\n",
    "# # Using graph_objects\n",
    "# from plotly.offline import download_plotlyjs, init_notebook_mode, plot, iplot\n",
    "# import plotly\n",
    "# import matplotlib.pyplot as plt\n",
    "# from matplotlib import pyplot\n",
    "# import plotly.graph_objs as go\n",
    "# init_notebook_mode(connected=True)\n",
    "# import plotly.graph_objs as go\n"
   ]
  },
  {
   "cell_type": "code",
   "execution_count": null,
   "id": "3dabc43c",
   "metadata": {
    "scrolled": true
   },
   "outputs": [],
   "source": [
    "\n",
    "# i think this is working...\n",
    "# it is huge i think...\n",
    "\n",
    "# import pandas as pd\n",
    "# import plotly.express as px\n",
    "\n",
    "# fig = px.scatter(df, x='T', \n",
    "#                 y='value_hrf',\n",
    "#                 # color='output',\n",
    "#                 hover_data=['T'])\n",
    "\n",
    "# fig.update_layout(\n",
    "#     autosize=False,\n",
    "#     width=1000,\n",
    "#     height=800,\n",
    "#     margin=dict(\n",
    "#         l=10,\n",
    "#         r=10,\n",
    "#         b=10,\n",
    "#         t=10,\n",
    "#         pad=4\n",
    "#     ),\n",
    "#     paper_bgcolor=\"white\",\n",
    "# )\n",
    "\n",
    "\n",
    "# fig.update_traces(marker={'size': 1})    \n",
    "\n",
    "# fig.show()\n"
   ]
  },
  {
   "cell_type": "code",
   "execution_count": null,
   "id": "34ee1954",
   "metadata": {
    "scrolled": false
   },
   "outputs": [],
   "source": [
    "\n",
    "# import pandas as pd\n",
    "# import plotly.express as px\n",
    "\n",
    "# fig = px.scatter(df, x='T', \n",
    "#                 y='value_hrf',\n",
    "#                 # color='output',\n",
    "#                 hover_data=['T'])\n",
    "\n",
    "# fig.update_layout(\n",
    "#     autosize=False,\n",
    "#     width=800,\n",
    "#     height=500,\n",
    "#     margin=dict(\n",
    "#         l=10,\n",
    "#         r=10,\n",
    "#         b=10,\n",
    "#         t=10,\n",
    "#         pad=2\n",
    "#     ),\n",
    "#     paper_bgcolor=\"white\",\n",
    "# )\n",
    "\n",
    "# fig.update_traces(marker={'size': 2})    \n",
    "\n",
    "# fig.show()\n",
    "\n",
    "# fig.write_html(\"high_resolution_2.html\")\n"
   ]
  },
  {
   "cell_type": "code",
   "execution_count": null,
   "id": "d819f691",
   "metadata": {},
   "outputs": [],
   "source": [
    "\n",
    "\n",
    "# import pandas as pd\n",
    "# import plotly.express as px\n",
    "\n",
    "# # fig = px.scatter(df, x='T', \n",
    "# #                 y='value_hrf',\n",
    "# #                 # color='output',\n",
    "# #                 hover_data=['T'])\n",
    "\n",
    "# # fig.update_layout(\n",
    "# #     autosize=False,\n",
    "# #     width=800,\n",
    "# #     height=500,\n",
    "# #     margin=dict(\n",
    "# #         l=10,\n",
    "# #         r=10,\n",
    "# #         b=10,\n",
    "# #         t=10,\n",
    "# #         pad=2\n",
    "# #     ),\n",
    "# #     paper_bgcolor=\"white\",\n",
    "# # )\n",
    "\n",
    "# # fig.update_traces(marker={'size': 2})    \n",
    "\n",
    "# # fig.show()\n",
    "\n",
    "\n",
    "# import plotly.graph_objects as go\n",
    "\n",
    "# fig = go.Figure(data=go.Scattergl(\n",
    "#     x = df.T, \n",
    "#     y = df.value_hrf, \n",
    "#     mode='markers',\n",
    "#     ))\n",
    "\n",
    "# fig.show()\n",
    "\n"
   ]
  },
  {
   "cell_type": "code",
   "execution_count": null,
   "id": "14418fea",
   "metadata": {},
   "outputs": [],
   "source": [
    "\n",
    "# fig.write_html(\"high_resolution_1.html\")\n"
   ]
  },
  {
   "cell_type": "code",
   "execution_count": null,
   "id": "fd3879e9",
   "metadata": {
    "scrolled": false
   },
   "outputs": [],
   "source": [
    "\n",
    "\n",
    "# WORKS, you can uncomment out if you wanted ...\n",
    "\n",
    "\n",
    "# # df=full_df.loc[(full_df['timestamp']>'2014-02-17 00:00:00')&(full_df['timestamp']<'2014-02-17 23:59:59')]\n",
    "# # Using graph_objects\n",
    "\n",
    "# import plotly.graph_objects as go\n",
    "\n",
    "# plot_data=go.Scatter(x=df['T'], y=df['value_hrf'])\n",
    "\n",
    "# fig=go.Figure(data=[plot_data])\n",
    "\n",
    "# fig.update_layout(\n",
    "#     autosize=False,\n",
    "#     width=1000,\n",
    "#     height=800,\n",
    "#     margin=dict(\n",
    "#         l=10,\n",
    "#         r=10,\n",
    "#         b=10,\n",
    "#         t=10,\n",
    "#         pad=4\n",
    "#     ),\n",
    "#     paper_bgcolor=\"white\",\n",
    "# )\n",
    "\n",
    "# # fig.show()\n",
    "\n",
    "# iplot(fig)\n",
    "\n"
   ]
  },
  {
   "cell_type": "code",
   "execution_count": null,
   "id": "3f3e5209",
   "metadata": {},
   "outputs": [],
   "source": [
    "\n",
    "# fig.write_html(\"high_resolution_1.html\")\n"
   ]
  },
  {
   "cell_type": "code",
   "execution_count": null,
   "id": "5e1651f4",
   "metadata": {},
   "outputs": [],
   "source": [
    "\n",
    " \n",
    "# def isolation_forest_anomaly_detection(df, \n",
    "#                                        column_name, \n",
    "#                                        outliers_fraction):\n",
    "    \n",
    "    \n",
    "#     \"\"\"\n",
    "#     In this definition, time series anomalies are detected using an Isolation Forest algorithm.\n",
    "    \n",
    "#     Arguments:\n",
    "    \n",
    "#         df: Pandas dataframe\n",
    "    \n",
    "#         column_name: string. Name of the column that we want to detect anomalies in\n",
    "        \n",
    "#         outliers_fraction: float. Percentage of outliers allowed in the sequence.\n",
    "    \n",
    "#     Outputs:\n",
    "    \n",
    "#         df: Pandas dataframe with column for detected Isolation Forest anomalies (True/False)\n",
    "#     \"\"\"\n",
    "    \n",
    "#     #Scale the column that we want to flag for anomalies\n",
    "#     min_max_scaler = preprocessing.StandardScaler()\n",
    "    \n",
    "#     np_scaled = min_max_scaler.fit_transform(df[[column_name]])\n",
    "    \n",
    "#     scaled_time_series = pd.DataFrame(np_scaled)\n",
    "    \n",
    "#     # train isolation forest \n",
    "#     model =  IsolationForest(contamination = outliers_fraction, \n",
    "#                              behaviour='new')\n",
    "    \n",
    "#     model.fit(scaled_time_series)\n",
    "    \n",
    "#     #Generate column for Isolation Forest-detected anomalies\n",
    "#     isolation_forest_anomaly_column = column_name+'_Isolation_Forest_Anomaly'\n",
    "    \n",
    "#     df[isolation_forest_anomaly_column] = model.predict(scaled_time_series)\n",
    "    \n",
    "#     df[isolation_forest_anomaly_column] = df[isolation_forest_anomaly_column].map( {1: False, -1: True} )\n",
    "#     return df\n",
    "\n",
    "\n",
    "# ## EXECUTE IN MAIN BLOCK\n",
    "# #  APPLY ISOLATION FOREST TO DETECT ANOMALIES\n",
    "\n",
    "# df=isolation_forest_anomaly_detection(df, \n",
    "#                                       column_name='value_hrf',\n",
    "#                                       outliers_fraction=.01)\n",
    "\n",
    "# # Re-plot time series with color coding for anomaly column\n",
    "# scatterplot_with_color_coding(gasoline_price_df['Date'],\n",
    "#                               gasoline_price_df['Gasoline_Price'], \n",
    "#                               gasoline_price_df['Gasoline_Price_Isolation_Forest_Anomaly'],\n",
    "#                               'Date', \n",
    "#                               'Gasoline Price (Dollars Per Gallon)', \n",
    "#                               'Gasoline Prices, Color-Coded on Isolation Forest Anomalies') \n",
    "\n",
    "\n",
    "\n",
    "\n"
   ]
  },
  {
   "cell_type": "markdown",
   "id": "71bd5f36",
   "metadata": {},
   "source": [
    "##### Mark III"
   ]
  },
  {
   "cell_type": "code",
   "execution_count": null,
   "id": "59d9d2ed",
   "metadata": {},
   "outputs": [],
   "source": [
    "# from statsmodels.tsa.seasonal import seasonal_decompose\n"
   ]
  },
  {
   "cell_type": "code",
   "execution_count": null,
   "id": "f9830e66",
   "metadata": {},
   "outputs": [],
   "source": [
    "\n",
    "# seasonal_decompose(df.value_hrf, model='additive', freq=1).plot()\n"
   ]
  },
  {
   "cell_type": "code",
   "execution_count": null,
   "id": "adead76f",
   "metadata": {
    "scrolled": false
   },
   "outputs": [],
   "source": [
    "\n",
    "# seasonal_decompose(df.value_hrf, model='additive', period=365).plot()\n"
   ]
  },
  {
   "cell_type": "markdown",
   "id": "7f1ce194",
   "metadata": {},
   "source": [
    "##### Mark IV"
   ]
  },
  {
   "cell_type": "code",
   "execution_count": null,
   "id": "10ce4137",
   "metadata": {},
   "outputs": [],
   "source": [
    "\n",
    "# from matplotlib import pyplot as plt\n",
    "# result = seasonal_decompose(df.value_hrf, model='additive', period=1)\n",
    "# # plt.figure(figsize=(1,1))\n",
    "# result.plot()\n",
    "# plt.show();\n"
   ]
  },
  {
   "cell_type": "code",
   "execution_count": null,
   "id": "a1c2b21c",
   "metadata": {
    "scrolled": false
   },
   "outputs": [],
   "source": [
    "# single_year = temp_df.copy()\n",
    "# single_year = single_year[single_year['sensor']=='bmp180']\n",
    "# single_year = single_year.loc['2019-01-01':'2019-12-31']"
   ]
  },
  {
   "cell_type": "code",
   "execution_count": null,
   "id": "ecc718fb",
   "metadata": {},
   "outputs": [],
   "source": [
    "\n",
    "# import seaborn as sns\n",
    "\n",
    "# plt.figure(figsize = (19,20))\n",
    "\n",
    "# sns.lineplot(y =  single_year.value_hrf.values,  \n",
    "#              x  = single_year.index.values);\n"
   ]
  },
  {
   "cell_type": "code",
   "execution_count": null,
   "id": "e12ee62b",
   "metadata": {},
   "outputs": [],
   "source": [
    "\n",
    "# # type(single_year['value_hrf'].head(10))\n",
    "\n",
    "# single_year['value_hrf'] = pd.to_numeric(single_year['value_hrf'])\n"
   ]
  },
  {
   "cell_type": "code",
   "execution_count": null,
   "id": "b454ee95",
   "metadata": {},
   "outputs": [],
   "source": [
    "\n",
    "# from pandas import read_csv\n",
    "# from matplotlib import pyplot\n",
    "# single_year['value_hrf'].plot()\n",
    "# plt.show();\n",
    "\n",
    "# #  single_year['value_hrf'].plot(linewidth=0.5);\n"
   ]
  },
  {
   "cell_type": "code",
   "execution_count": null,
   "id": "1b9c89c3",
   "metadata": {},
   "outputs": [],
   "source": [
    "\n",
    "\n",
    "# # import seaborn as sns\n",
    "\n",
    "# # plt.figure(figsize = (19,20))\n",
    "\n",
    "# # sns.lineplot(y =  single_year.value_hrf.values,  \n",
    "# #              x  = single_year.index.values);\n",
    "\n",
    "# # Using plotly.express\n",
    "# import plotly.express as px\n",
    "\n",
    "# fig = px.line(single_year, x='T', y=\"value_hrf\")\n",
    "# fig.show()\n"
   ]
  },
  {
   "cell_type": "code",
   "execution_count": null,
   "id": "86e14237",
   "metadata": {},
   "outputs": [],
   "source": [
    "\n",
    "# diff_year = temp_df.copy()\n",
    "# diff_year = diff_year[diff_year['sensor']=='bmp180']\n",
    "# diff_year = diff_year.loc['2018-09-01':'2019-09-01']\n"
   ]
  },
  {
   "cell_type": "code",
   "execution_count": null,
   "id": "feda3a63",
   "metadata": {},
   "outputs": [],
   "source": [
    "\n",
    "# # Using plotly.express\n",
    "# import plotly.express as px\n",
    "\n",
    "# fig = px.line(diff_year, x='T', y=\"value_hrf\")\n",
    "# fig.show()\n"
   ]
  },
  {
   "cell_type": "code",
   "execution_count": null,
   "id": "57a310e6",
   "metadata": {},
   "outputs": [],
   "source": [
    "\n",
    "\n",
    "# import plotly.express as px\n",
    "\n",
    "# df = px.data.stocks(indexed=True)-1\n",
    "# fig = px.area(df, facet_col=\"company\", facet_col_wrap=2)\n",
    "# fig.show()\n",
    "\n",
    "\n"
   ]
  },
  {
   "cell_type": "code",
   "execution_count": null,
   "id": "9bc9f9ec",
   "metadata": {},
   "outputs": [],
   "source": [
    "\n",
    "\n",
    "# import dash\n",
    "# import dash_core_components as dcc\n",
    "# import dash_html_components as html\n",
    "# from dash.dependencies import Input, Output\n",
    "# import plotly.express as px\n",
    "\n",
    "# df = px.data.stocks()\n",
    "\n",
    "# app = dash.Dash(__name__)\n",
    "\n",
    "# app.layout = html.Div([\n",
    "#     dcc.Dropdown(\n",
    "#         id=\"ticker\",\n",
    "#         options=[{\"label\": x, \"value\": x} \n",
    "#                  for x in df.columns[1:]],\n",
    "#         value=df.columns[1],\n",
    "#         clearable=False,\n",
    "#     ),\n",
    "#     dcc.Graph(id=\"time-series-chart\"),\n",
    "# ])\n",
    "\n",
    "# @app.callback(\n",
    "#     Output(\"time-series-chart\", \"figure\"), \n",
    "#     [Input(\"ticker\", \"value\")])\n",
    "# def display_time_series(ticker):\n",
    "#     fig = px.line(df, x='date', y=ticker)\n",
    "#     return fig\n",
    "\n",
    "# app.run_server(debug=True)\n",
    "\n"
   ]
  },
  {
   "cell_type": "code",
   "execution_count": null,
   "id": "70841afd",
   "metadata": {},
   "outputs": [],
   "source": [
    "\n",
    "\n",
    "# import plotly.express as px\n",
    "\n",
    "# df = px.data.stocks(indexed=True)-1\n",
    "# fig = px.area(df, facet_col=\"company\", facet_col_wrap=2)\n",
    "# fig.show()\n",
    "\n",
    "\n"
   ]
  },
  {
   "cell_type": "code",
   "execution_count": null,
   "id": "ca0cc8cd",
   "metadata": {},
   "outputs": [],
   "source": [
    "\n",
    "\n",
    "# # Using plotly.express\n",
    "# import plotly.express as px\n",
    "\n",
    "# df = px.data.stocks()\n",
    "# fig = px.line(df, x='date', y=\"GOOG\")\n",
    "# fig.show()\n"
   ]
  },
  {
   "cell_type": "code",
   "execution_count": null,
   "id": "1aa7e08b",
   "metadata": {},
   "outputs": [],
   "source": [
    "# import plotly.express as px\n",
    "\n",
    "# df = px.data.stocks(indexed=True)-1\n",
    "# fig = px.area(df, facet_col=\"company\", facet_col_wrap=2)\n",
    "# fig.show()"
   ]
  },
  {
   "cell_type": "code",
   "execution_count": null,
   "id": "e5947c46",
   "metadata": {},
   "outputs": [],
   "source": [
    "\n",
    "# import plotly.express as px\n",
    "\n",
    "# df = px.data.stocks(indexed=True)-1\n",
    "# fig = px.area(df, facet_col=\"company\", facet_col_wrap=2)\n",
    "# fig.show()\n"
   ]
  },
  {
   "cell_type": "code",
   "execution_count": null,
   "id": "bbeaedb4",
   "metadata": {},
   "outputs": [],
   "source": [
    "\n",
    "# sns.lineplot(x='T', y='value_hrf', hue='sensor', data=temp_df)\n"
   ]
  },
  {
   "cell_type": "code",
   "execution_count": null,
   "id": "d48c610a",
   "metadata": {},
   "outputs": [],
   "source": [
    "\n",
    "# axes = single_year['value_hrf'].plot(marker='.', \n",
    "#                                   alpha=0.5, \n",
    "#                                   linestyle='None', \n",
    "#                                   figsize=(11, 9), \n",
    "#                                   subplots=True)\n",
    "\n",
    "# for ax in axes:\n",
    "#     ax.set_ylabel('Daily Totals (GWh)')\n",
    "    "
   ]
  },
  {
   "cell_type": "code",
   "execution_count": null,
   "id": "2c0f8693",
   "metadata": {},
   "outputs": [],
   "source": [
    "# plt.figure(figsize = (19,8))\n",
    "\n",
    "# sns.lineplot(y =  temp_df.loc['2020-01-01':'2020-12-31'].value_hrf,  \n",
    "#              x  = time_series_df.loc['2020-01-01':'2020-12-31'].index.values);\n"
   ]
  },
  {
   "cell_type": "code",
   "execution_count": null,
   "id": "4f079cf3",
   "metadata": {},
   "outputs": [],
   "source": [
    "\n",
    "# plt.figure(figsize = (19,8))\n",
    "\n",
    "# sns.lineplot(y =  temp_df.loc['2020-01-01':'2020-12-31'].value_hrf,  \n",
    "#              x  = time_series_df.loc['2020-01-01':'2020-12-31'].index.values);\n"
   ]
  },
  {
   "cell_type": "code",
   "execution_count": null,
   "id": "fc36df16",
   "metadata": {},
   "outputs": [],
   "source": [
    "\n",
    "# you can filter as deep as you want fyi: \n",
    "\n",
    "# tempo = df[ (df['node_id']=='001e0610ee36') & (df['sensor']=='hih6130') & (df['parameter']=='temperature') & (df['subsystem']=='lightsense') ]\n",
    "\n",
    "# if you 'compute' this, it will then be a pandas df, and then you can export...\n"
   ]
  },
  {
   "cell_type": "code",
   "execution_count": null,
   "id": "ad94844c",
   "metadata": {},
   "outputs": [],
   "source": [
    "# import matplotlib.pyplot as plt\n",
    "# import seaborn as sns\n",
    "\n",
    "# sns.set_theme(style=\"darkgrid\")\n",
    "\n",
    "# x = time_series_df.index[20000:20050]\n",
    "# # loc['2020-06-01':'2021-02-14']\n",
    "# y = time_series_df[:500].values\n",
    "\n",
    "# sns.lineplot(x,y)\n",
    "# plt.show(); "
   ]
  },
  {
   "cell_type": "code",
   "execution_count": null,
   "id": "062cf527",
   "metadata": {
    "scrolled": false
   },
   "outputs": [],
   "source": [
    "\n",
    "# plt.figure(figsize = (19,8))\n",
    "\n",
    "# sns.lineplot(y =  time_series_df.loc['2020-09-18':'2021-02-13'].values , \n",
    "#              x  = time_series_df.loc['2020-09-18':'2021-02-13'].index.values);\n"
   ]
  }
 ],
 "metadata": {
  "kernelspec": {
   "display_name": "Python 3 (ipykernel)",
   "language": "python",
   "name": "python3"
  },
  "language_info": {
   "codemirror_mode": {
    "name": "ipython",
    "version": 3
   },
   "file_extension": ".py",
   "mimetype": "text/x-python",
   "name": "python",
   "nbconvert_exporter": "python",
   "pygments_lexer": "ipython3",
   "version": "3.8.8"
  }
 },
 "nbformat": 4,
 "nbformat_minor": 5
}
