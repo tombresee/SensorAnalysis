{
 "cells": [
  {
   "cell_type": "markdown",
   "id": "9e1b1f52",
   "metadata": {},
   "source": [
    "---"
   ]
  },
  {
   "cell_type": "markdown",
   "id": "892990a3",
   "metadata": {},
   "source": [
    "# API Queries (Real-Time)"
   ]
  },
  {
   "cell_type": "code",
   "execution_count": 31,
   "id": "6a02bffd",
   "metadata": {},
   "outputs": [],
   "source": [
    "\n",
    "# READ:\n",
    "#\n",
    "#   - there are two primary ways of accessing the data:\n",
    "#      - downloading a massive zipped/compressed csv file that contains every single thing for three years\n",
    "#      - OR just examining via the real-time ish API, up to the last WEEK of all the data...\n",
    "#      - the massive file is the better way to go for hard core analysis, while\n",
    "#        the real-time API is good for quick scans of information...\n",
    "#\n"
   ]
  },
  {
   "cell_type": "markdown",
   "id": "d602e3b8",
   "metadata": {},
   "source": [
    "---"
   ]
  },
  {
   "cell_type": "markdown",
   "id": "ccb06faf",
   "metadata": {},
   "source": [
    "## Helpful Links"
   ]
  },
  {
   "cell_type": "markdown",
   "id": "208f55e0",
   "metadata": {},
   "source": [
    "* https://sagecontinuum.github.io/sage-docs/docs/tutorials/accessing-data - main api directory directions\n",
    "* https://realpython.com/python-requests/ - explains python requests really well"
   ]
  },
  {
   "cell_type": "markdown",
   "id": "1714b320",
   "metadata": {},
   "source": [
    "---"
   ]
  },
  {
   "cell_type": "markdown",
   "id": "a2658c2e",
   "metadata": {},
   "source": [
    "## Queries"
   ]
  },
  {
   "cell_type": "markdown",
   "id": "556c37c3",
   "metadata": {},
   "source": [
    "### - Query 1 -"
   ]
  },
  {
   "cell_type": "markdown",
   "id": "912d5783",
   "metadata": {},
   "source": [
    "``` \n",
    "As example, translate this curl to python requests form:\n",
    "    \n",
    "curl -H 'Content-Type: application/json' https://data.sagecontinuum.org/api/v1/query -d '\n",
    "{\n",
    "    \"start\": \"-10s\",\n",
    "    \"filter\": {\n",
    "        \"sensor\": \"bme680\"\n",
    "    }\n",
    "}\n",
    "'\n",
    "```"
   ]
  },
  {
   "cell_type": "code",
   "execution_count": 32,
   "id": "4872654f",
   "metadata": {},
   "outputs": [],
   "source": [
    "# THIS IS TO PULL INFORMATION ABOUT THE SENSOR 'BME680'"
   ]
  },
  {
   "cell_type": "markdown",
   "id": "6df7d533",
   "metadata": {},
   "source": [
    "> The Sage sensor query API allows for flexible access to historical and \"real time\" data in Sage... This example shows how to retrieve data the latest data from a specific sensor (you can adjust the start field if you do not get any recent data)"
   ]
  },
  {
   "cell_type": "markdown",
   "id": "3120ab1e",
   "metadata": {},
   "source": [
    "Query responses are provided as newline separated JSON records"
   ]
  },
  {
   "cell_type": "code",
   "execution_count": 33,
   "id": "9939d58c",
   "metadata": {},
   "outputs": [],
   "source": [
    "# Remember, you will need to translate the request from curl to something like requests ! "
   ]
  },
  {
   "cell_type": "code",
   "execution_count": 34,
   "id": "da5ee83e",
   "metadata": {},
   "outputs": [
    {
     "data": {
      "text/html": [
       "<style>.container { width:100% !important; }</style>"
      ],
      "text/plain": [
       "<IPython.core.display.HTML object>"
      ]
     },
     "metadata": {},
     "output_type": "display_data"
    }
   ],
   "source": [
    "\n",
    "import requests\n",
    "import json\n",
    "\n",
    "from IPython.core.display import display, HTML\n",
    "display(HTML(\"<style>.container { width:100% !important; }</style>\"))\n",
    "\n",
    "\n",
    "headers = {\n",
    "    'Content-Type': 'application/json',\n",
    "}\n",
    "\n",
    "data = ' { \"start\": \"-10s\", \"filter\": { \"sensor\": \"bme680\" } } '\n",
    "\n",
    "response = requests.post('https://data.sagecontinuum.org/api/v1/query', headers=headers, data=data)\n"
   ]
  },
  {
   "cell_type": "markdown",
   "id": "29af0f67",
   "metadata": {},
   "source": [
    "```\n",
    "Expected Form:\n",
    "\n",
    "{\"timestamp\":\"2021-08-09T19:26:03.880781217Z\",\"name\":\"iio.in_humidityrelative_input\",\"value\":70.905,\"meta\":{\"node\":\"000048b02d15bdcd\",\"plugin\":\"plugin-metsense:0.1.1\",\"sensor\":\"bme680\"}}\n",
    "{\"timestamp\":\"2021-08-09T19:26:03.878659392Z\",\"name\":\"iio.in_pressure_input\",\"value\":975.78,\"meta\":{\"node\":\"000048b02d15bdcd\",\"plugin\":\"plugin-metsense:0.1.1\",\"sensor\":\"bme680\"}}\n",
    "{\"timestamp\":\"2021-08-09T19:26:03.872652127Z\",\"name\":\"iio.in_resistance_input\",\"value\":93952,\"meta\":{\"node\":\"000048b02d15bdcd\",\"plugin\":\"plugin-metsense:0.1.1\",\"sensor\":\"bme680\"}}\n",
    "{\"timestamp\":\"2021-08-09T19:26:03.874998057Z\",\"name\":\"iio.in_temp_input\",\"value\":27330,\"meta\":{\"node\":\"000048b02d15bdcd\",\"plugin\":\"plugin-metsense:0.1.1\",\"sensor\":\"bme680\"}}\n",
    "```"
   ]
  },
  {
   "cell_type": "code",
   "execution_count": 35,
   "id": "e9bb2c4a",
   "metadata": {},
   "outputs": [
    {
     "name": "stdout",
     "output_type": "stream",
     "text": [
      "The original string : {\"Nikhil\" : 1, \"Akshat\" : 2, \"Akash\" : 3}\n",
      "The converted dictionary : {'Nikhil': 1, 'Akshat': 2, 'Akash': 3}\n"
     ]
    }
   ],
   "source": [
    "\n",
    "# you will need something like this if you want to process and json encoding not working ! \n",
    "\n",
    "# Python3 code to demonstrate\n",
    "# convert dictionary string to dictionary\n",
    "# using json.loads()\n",
    "import json\n",
    "  \n",
    "# initializing string \n",
    "test_string = '{\"Nikhil\" : 1, \"Akshat\" : 2, \"Akash\" : 3}' \n",
    "  \n",
    "# printing original string \n",
    "print(\"The original string : \" + str(test_string))\n",
    "  \n",
    "# using json.loads()\n",
    "# convert dictionary string to dictionary\n",
    "res = json.loads(test_string)\n",
    "  \n",
    "# print result\n",
    "print(\"The converted dictionary : \" + str(res))\n"
   ]
  },
  {
   "cell_type": "code",
   "execution_count": 3,
   "id": "1b4fc4cb",
   "metadata": {},
   "outputs": [],
   "source": [
    "\n",
    "# dir(response)\n",
    "\n",
    "#  'apparent_encoding',\n",
    "#  'close',\n",
    "#  'connection',\n",
    "#  'content',\n",
    "#  'cookies',\n",
    "#  'elapsed',\n",
    "#  'encoding',\n",
    "#  'headers',\n",
    "#  'history',\n",
    "#  'is_permanent_redirect',\n",
    "#  'is_redirect',\n",
    "#  'iter_content',\n",
    "#  'iter_lines',\n",
    "#  'json',\n",
    "#  'links',\n",
    "#  'next',\n",
    "#  'ok',\n",
    "#  'raise_for_status',\n",
    "#  'raw',\n",
    "#  'reason',\n",
    "#  'request',\n",
    "#  'status_code',\n",
    "#  'text',\n",
    "#  'url'\n"
   ]
  },
  {
   "cell_type": "code",
   "execution_count": 37,
   "id": "4403b0d0",
   "metadata": {},
   "outputs": [
    {
     "data": {
      "text/plain": [
       "'https://data.sagecontinuum.org/api/v1/query'"
      ]
     },
     "execution_count": 37,
     "metadata": {},
     "output_type": "execute_result"
    }
   ],
   "source": [
    "response.url  # this will always be your main query point "
   ]
  },
  {
   "cell_type": "code",
   "execution_count": 39,
   "id": "fae72912",
   "metadata": {},
   "outputs": [
    {
     "data": {
      "text/plain": [
       "{'Access-Control-Allow-Origin': '*', 'Content-Disposition': 'attachment; filename=\"sage-download-20210922200842.ndjson\"', 'Content-Encoding': 'gzip', 'Content-Type': 'text/plain; charset=utf-8', 'Date': 'Wed, 22 Sep 2021 20:08:42 GMT', 'Vary': 'Accept-Encoding', 'Content-Length': '1055'}"
      ]
     },
     "execution_count": 39,
     "metadata": {},
     "output_type": "execute_result"
    }
   ],
   "source": [
    "response.headers"
   ]
  },
  {
   "cell_type": "code",
   "execution_count": 59,
   "id": "941b5e92",
   "metadata": {},
   "outputs": [],
   "source": [
    "import multiline\n"
   ]
  },
  {
   "cell_type": "code",
   "execution_count": 48,
   "id": "296c3380",
   "metadata": {},
   "outputs": [
    {
     "data": {
      "text/plain": [
       "'{\"timestamp\":\"2021-09-22T20:08:32.718163612Z\",\"name\":\"env.pressure\",\"value\":86423,\"meta\":{\"host\":\"0000dca632a2fa45.ws-rpi\",\"job\":\"sage\",\"node\":\"000048b02d15bdcd\",\"plugin\":\"plugin-iio:0.4.2\",\"sensor\":\"bme680\",\"task\":\"iio-rpi\",\"vsn\":\"W029\"}}\\n{\"timestamp\":\"2021-09-22T20:08:33.262976989Z\",\"name\":\"env.pressure\",\"value\":99316,\"meta\":{\"host\":\"0000dca632a3058b.ws-rpi\",\"job\":\"sage\",\"node\":\"000048b02d15bc7c\",\"plugin\":\"plugin-iio:0.4.2\",\"sensor\":\"bme680\",\"task\":\"iio-rpi\",\"vsn\":\"W023\"}}\\n{\"timestamp\":\"2021-09-22T20:08:36.035612548Z\",\"name\":\"env.pressure\",\"value\":99257,\"meta\":{\"host\":\"0000dca632a305c8.ws-rpi\",\"job\":\"sage\",\"node\":\"000048b02d05a1c7\",\"plugin\":\"plugin-iio:0.4.2\",\"sensor\":\"bme680\",\"task\":\"iio-rpi\",\"vsn\":\"W026\"}}\\n{\"timestamp\":\"2021-09-22T20:08:36.112818484Z\",\"name\":\"env.pressure\",\"value\":99397,\"meta\":{\"host\":\"0000dca632a30627.ws-rpi\",\"job\":\"sage\",\"node\":\"000048b02d15c319\",\"plugin\":\"plugin-iio:0.4.2\",\"sensor\":\"bme680\",\"task\":\"iio-rpi\",\"vsn\":\"W015\"}}\\n{\"timestamp\":\"2021-09-22T20:08:40.484510198Z\",\"name\":\"env.pressure\",\"value\":99299,\"meta\":{\"host\":\"0000dca632a306d8.ws-rpi\",\"job\":\"sage\",\"node\":\"000048b02d15c31a\",\"plugin\":\"plugin-iio:0.4.5\",\"sensor\":\"bme680\",\"task\":\"iio-shield\",\"vsn\":\"W01A\"}}\\n{\"timestamp\":\"2021-09-22T20:08:35.775784869Z\",\"name\":\"env.pressure\",\"value\":99245,\"meta\":{\"host\":\"0000dca632a307b6.ws-rpi\",\"job\":\"sage\",\"node\":\"000048b02d15bc8c\",\"plugin\":\"plugin-iio:0.4.2\",\"sensor\":\"bme680\",\"task\":\"iio-rpi\",\"vsn\":\"W039\"}}\\n{\"timestamp\":\"2021-09-22T20:08:37.412970497Z\",\"name\":\"env.pressure\",\"value\":99093,\"meta\":{\"host\":\"0000dca632a307fb.ws-rpi\",\"job\":\"sage\",\"node\":\"000048b02d15c328\",\"plugin\":\"plugin-iio:0.3.0\",\"sensor\":\"bme680\",\"task\":\"plugin-iio\",\"vsn\":\"W016\"}}\\n{\"timestamp\":\"2021-09-22T20:08:32.726275619Z\",\"name\":\"env.relative_humidity\",\"value\":18.323,\"meta\":{\"host\":\"0000dca632a2fa45.ws-rpi\",\"job\":\"sage\",\"node\":\"000048b02d15bdcd\",\"plugin\":\"plugin-iio:0.4.2\",\"sensor\":\"bme680\",\"task\":\"iio-rpi\",\"vsn\":\"W029\"}}\\n{\"timestamp\":\"2021-09-22T20:08:33.255034054Z\",\"name\":\"env.relative_humidity\",\"value\":54.359,\"meta\":{\"host\":\"0000dca632a3058b.ws-rpi\",\"job\":\"sage\",\"node\":\"000048b02d15bc7c\",\"plugin\":\"plugin-iio:0.4.2\",\"sensor\":\"bme680\",\"task\":\"iio-rpi\",\"vsn\":\"W023\"}}\\n{\"timestamp\":\"2021-09-22T20:08:36.03868265Z\",\"name\":\"env.relative_humidity\",\"value\":34.274,\"meta\":{\"host\":\"0000dca632a305c8.ws-rpi\",\"job\":\"sage\",\"node\":\"000048b02d05a1c7\",\"plugin\":\"plugin-iio:0.4.2\",\"sensor\":\"bme680\",\"task\":\"iio-rpi\",\"vsn\":\"W026\"}}\\n{\"timestamp\":\"2021-09-22T20:08:36.109228848Z\",\"name\":\"env.relative_humidity\",\"value\":61.862,\"meta\":{\"host\":\"0000dca632a30627.ws-rpi\",\"job\":\"sage\",\"node\":\"000048b02d15c319\",\"plugin\":\"plugin-iio:0.4.2\",\"sensor\":\"bme680\",\"task\":\"iio-rpi\",\"vsn\":\"W015\"}}\\n{\"timestamp\":\"2021-09-22T20:08:40.481093812Z\",\"name\":\"env.relative_humidity\",\"value\":35.347,\"meta\":{\"host\":\"0000dca632a306d8.ws-rpi\",\"job\":\"sage\",\"node\":\"000048b02d15c31a\",\"plugin\":\"plugin-iio:0.4.5\",\"sensor\":\"bme680\",\"task\":\"iio-shield\",\"vsn\":\"W01A\"}}\\n{\"timestamp\":\"2021-09-22T20:08:35.784544369Z\",\"name\":\"env.relative_humidity\",\"value\":40.75,\"meta\":{\"host\":\"0000dca632a307b6.ws-rpi\",\"job\":\"sage\",\"node\":\"000048b02d15bc8c\",\"plugin\":\"plugin-iio:0.4.2\",\"sensor\":\"bme680\",\"task\":\"iio-rpi\",\"vsn\":\"W039\"}}\\n{\"timestamp\":\"2021-09-22T20:08:37.407491717Z\",\"name\":\"env.relative_humidity\",\"value\":22.261,\"meta\":{\"host\":\"0000dca632a307fb.ws-rpi\",\"job\":\"sage\",\"node\":\"000048b02d15c328\",\"plugin\":\"plugin-iio:0.3.0\",\"sensor\":\"bme680\",\"task\":\"plugin-iio\",\"vsn\":\"W016\"}}\\n{\"timestamp\":\"2021-09-22T20:08:32.723842452Z\",\"name\":\"env.temperature\",\"value\":27.6,\"meta\":{\"host\":\"0000dca632a2fa45.ws-rpi\",\"job\":\"sage\",\"node\":\"000048b02d15bdcd\",\"plugin\":\"plugin-iio:0.4.2\",\"sensor\":\"bme680\",\"task\":\"iio-rpi\",\"vsn\":\"W029\"}}\\n{\"timestamp\":\"2021-09-22T20:08:33.26674983Z\",\"name\":\"env.temperature\",\"value\":18.61,\"meta\":{\"host\":\"0000dca632a3058b.ws-rpi\",\"job\":\"sage\",\"node\":\"000048b02d15bc7c\",\"plugin\":\"plugin-iio:0.4.2\",\"sensor\":\"bme680\",\"task\":\"iio-rpi\",\"vsn\":\"W023\"}}\\n{\"timestamp\":\"2021-09-22T20:08:36.033220954Z\",\"name\":\"env.temperature\",\"value\":26.06,\"meta\":{\"host\":\"0000dca632a305c8.ws-rpi\",\"job\":\"sage\",\"node\":\"000048b02d05a1c7\",\"plugin\":\"plugin-iio:0.4.2\",\"sensor\":\"bme680\",\"task\":\"iio-rpi\",\"vsn\":\"W026\"}}\\n{\"timestamp\":\"2021-09-22T20:08:36.118908685Z\",\"name\":\"env.temperature\",\"value\":18.86,\"meta\":{\"host\":\"0000dca632a30627.ws-rpi\",\"job\":\"sage\",\"node\":\"000048b02d15c319\",\"plugin\":\"plugin-iio:0.4.2\",\"sensor\":\"bme680\",\"task\":\"iio-rpi\",\"vsn\":\"W015\"}}\\n{\"timestamp\":\"2021-09-22T20:08:40.486920749Z\",\"name\":\"env.temperature\",\"value\":29.33,\"meta\":{\"host\":\"0000dca632a306d8.ws-rpi\",\"job\":\"sage\",\"node\":\"000048b02d15c31a\",\"plugin\":\"plugin-iio:0.4.5\",\"sensor\":\"bme680\",\"task\":\"iio-shield\",\"vsn\":\"W01A\"}}\\n{\"timestamp\":\"2021-09-22T20:08:35.78156471Z\",\"name\":\"env.temperature\",\"value\":24.25,\"meta\":{\"host\":\"0000dca632a307b6.ws-rpi\",\"job\":\"sage\",\"node\":\"000048b02d15bc8c\",\"plugin\":\"plugin-iio:0.4.2\",\"sensor\":\"bme680\",\"task\":\"iio-rpi\",\"vsn\":\"W039\"}}\\n{\"timestamp\":\"2021-09-22T20:08:37.409443222Z\",\"name\":\"env.temperature\",\"value\":29.59,\"meta\":{\"host\":\"0000dca632a307fb.ws-rpi\",\"job\":\"sage\",\"node\":\"000048b02d15c328\",\"plugin\":\"plugin-iio:0.3.0\",\"sensor\":\"bme680\",\"task\":\"plugin-iio\",\"vsn\":\"W016\"}}\\n{\"timestamp\":\"2021-09-22T20:08:32.726138587Z\",\"name\":\"iio.in_humidityrelative_input\",\"value\":18.323,\"meta\":{\"host\":\"0000dca632a2fa45.ws-rpi\",\"job\":\"sage\",\"node\":\"000048b02d15bdcd\",\"plugin\":\"plugin-iio:0.4.2\",\"sensor\":\"bme680\",\"task\":\"iio-rpi\",\"vsn\":\"W029\"}}\\n{\"timestamp\":\"2021-09-22T20:08:33.254902278Z\",\"name\":\"iio.in_humidityrelative_input\",\"value\":54.359,\"meta\":{\"host\":\"0000dca632a3058b.ws-rpi\",\"job\":\"sage\",\"node\":\"000048b02d15bc7c\",\"plugin\":\"plugin-iio:0.4.2\",\"sensor\":\"bme680\",\"task\":\"iio-rpi\",\"vsn\":\"W023\"}}\\n{\"timestamp\":\"2021-09-22T20:08:36.038547874Z\",\"name\":\"iio.in_humidityrelative_input\",\"value\":34.274,\"meta\":{\"host\":\"0000dca632a305c8.ws-rpi\",\"job\":\"sage\",\"node\":\"000048b02d05a1c7\",\"plugin\":\"plugin-iio:0.4.2\",\"sensor\":\"bme680\",\"task\":\"iio-rpi\",\"vsn\":\"W026\"}}\\n{\"timestamp\":\"2021-09-22T20:08:36.109090702Z\",\"name\":\"iio.in_humidityrelative_input\",\"value\":61.862,\"meta\":{\"host\":\"0000dca632a30627.ws-rpi\",\"job\":\"sage\",\"node\":\"000048b02d15c319\",\"plugin\":\"plugin-iio:0.4.2\",\"sensor\":\"bme680\",\"task\":\"iio-rpi\",\"vsn\":\"W015\"}}\\n{\"timestamp\":\"2021-09-22T20:08:40.480967796Z\",\"name\":\"iio.in_humidityrelative_input\",\"value\":35.347,\"meta\":{\"host\":\"0000dca632a306d8.ws-rpi\",\"job\":\"sage\",\"node\":\"000048b02d15c31a\",\"plugin\":\"plugin-iio:0.4.5\",\"sensor\":\"bme680\",\"task\":\"iio-shield\",\"vsn\":\"W01A\"}}\\n{\"timestamp\":\"2021-09-22T20:08:35.784272892Z\",\"name\":\"iio.in_humidityrelative_input\",\"value\":40.75,\"meta\":{\"host\":\"0000dca632a307b6.ws-rpi\",\"job\":\"sage\",\"node\":\"000048b02d15bc8c\",\"plugin\":\"plugin-iio:0.4.2\",\"sensor\":\"bme680\",\"task\":\"iio-rpi\",\"vsn\":\"W039\"}}\\n{\"timestamp\":\"2021-09-22T20:08:37.407381479Z\",\"name\":\"iio.in_humidityrelative_input\",\"value\":22.261,\"meta\":{\"host\":\"0000dca632a307fb.ws-rpi\",\"job\":\"sage\",\"node\":\"000048b02d15c328\",\"plugin\":\"plugin-iio:0.3.0\",\"sensor\":\"bme680\",\"task\":\"plugin-iio\",\"vsn\":\"W016\"}}\\n{\"timestamp\":\"2021-09-22T20:08:32.55919189Z\",\"name\":\"iio.in_humidityrelative_input\",\"value\":13.7,\"meta\":{\"job\":\"sage\",\"node\":\"000048b02d15bc42\",\"plugin\":\"plugin-metsense:0.1.1\",\"sensor\":\"bme680\",\"task\":\"plugin-metsense\",\"vsn\":\"W000\"}}\\n{\"timestamp\":\"2021-09-22T20:08:32.718049765Z\",\"name\":\"iio.in_pressure_input\",\"value\":864.23,\"meta\":{\"host\":\"0000dca632a2fa45.ws-rpi\",\"job\":\"sage\",\"node\":\"000048b02d15bdcd\",\"plugin\":\"plugin-iio:0.4.2\",\"sensor\":\"bme680\",\"task\":\"iio-rpi\",\"vsn\":\"W029\"}}\\n{\"timestamp\":\"2021-09-22T20:08:33.262832306Z\",\"name\":\"iio.in_pressure_input\",\"value\":993.16,\"meta\":{\"host\":\"0000dca632a3058b.ws-rpi\",\"job\":\"sage\",\"node\":\"000048b02d15bc7c\",\"plugin\":\"plugin-iio:0.4.2\",\"sensor\":\"bme680\",\"task\":\"iio-rpi\",\"vsn\":\"W023\"}}\\n{\"timestamp\":\"2021-09-22T20:08:36.035460939Z\",\"name\":\"iio.in_pressure_input\",\"value\":992.57,\"meta\":{\"host\":\"0000dca632a305c8.ws-rpi\",\"job\":\"sage\",\"node\":\"000048b02d05a1c7\",\"plugin\":\"plugin-iio:0.4.2\",\"sensor\":\"bme680\",\"task\":\"iio-rpi\",\"vsn\":\"W026\"}}\\n{\"timestamp\":\"2021-09-22T20:08:36.11267008Z\",\"name\":\"iio.in_pressure_input\",\"value\":993.97,\"meta\":{\"host\":\"0000dca632a30627.ws-rpi\",\"job\":\"sage\",\"node\":\"000048b02d15c319\",\"plugin\":\"plugin-iio:0.4.2\",\"sensor\":\"bme680\",\"task\":\"iio-rpi\",\"vsn\":\"W015\"}}\\n{\"timestamp\":\"2021-09-22T20:08:40.484390848Z\",\"name\":\"iio.in_pressure_input\",\"value\":992.99,\"meta\":{\"host\":\"0000dca632a306d8.ws-rpi\",\"job\":\"sage\",\"node\":\"000048b02d15c31a\",\"plugin\":\"plugin-iio:0.4.5\",\"sensor\":\"bme680\",\"task\":\"iio-shield\",\"vsn\":\"W01A\"}}\\n{\"timestamp\":\"2021-09-22T20:08:35.775659685Z\",\"name\":\"iio.in_pressure_input\",\"value\":992.45,\"meta\":{\"host\":\"0000dca632a307b6.ws-rpi\",\"job\":\"sage\",\"node\":\"000048b02d15bc8c\",\"plugin\":\"plugin-iio:0.4.2\",\"sensor\":\"bme680\",\"task\":\"iio-rpi\",\"vsn\":\"W039\"}}\\n{\"timestamp\":\"2021-09-22T20:08:37.412848388Z\",\"name\":\"iio.in_pressure_input\",\"value\":990.93,\"meta\":{\"host\":\"0000dca632a307fb.ws-rpi\",\"job\":\"sage\",\"node\":\"000048b02d15c328\",\"plugin\":\"plugin-iio:0.3.0\",\"sensor\":\"bme680\",\"task\":\"plugin-iio\",\"vsn\":\"W016\"}}\\n{\"timestamp\":\"2021-09-22T20:08:32.556046022Z\",\"name\":\"iio.in_pressure_input\",\"value\":849.8,\"meta\":{\"job\":\"sage\",\"node\":\"000048b02d15bc42\",\"plugin\":\"plugin-metsense:0.1.1\",\"sensor\":\"bme680\",\"task\":\"plugin-metsense\",\"vsn\":\"W000\"}}\\n{\"timestamp\":\"2021-09-22T20:08:32.721271624Z\",\"name\":\"iio.in_resistance_input\",\"value\":362221,\"meta\":{\"host\":\"0000dca632a2fa45.ws-rpi\",\"job\":\"sage\",\"node\":\"000048b02d15bdcd\",\"plugin\":\"plugin-iio:0.4.2\",\"sensor\":\"bme680\",\"task\":\"iio-rpi\",\"vsn\":\"W029\"}}\\n{\"timestamp\":\"2021-09-22T20:08:33.26016313Z\",\"name\":\"iio.in_resistance_input\",\"value\":335049,\"meta\":{\"host\":\"0000dca632a3058b.ws-rpi\",\"job\":\"sage\",\"node\":\"000048b02d15bc7c\",\"plugin\":\"plugin-iio:0.4.2\",\"sensor\":\"bme680\",\"task\":\"iio-rpi\",\"vsn\":\"W023\"}}\\n{\"timestamp\":\"2021-09-22T20:08:36.041834714Z\",\"name\":\"iio.in_resistance_input\",\"value\":349217,\"meta\":{\"host\":\"0000dca632a305c8.ws-rpi\",\"job\":\"sage\",\"node\":\"000048b02d05a1c7\",\"plugin\":\"plugin-iio:0.4.2\",\"sensor\":\"bme680\",\"task\":\"iio-rpi\",\"vsn\":\"W026\"}}\\n{\"timestamp\":\"2021-09-22T20:08:36.116655042Z\",\"name\":\"iio.in_resistance_input\",\"value\":186257,\"meta\":{\"host\":\"0000dca632a30627.ws-rpi\",\"job\":\"sage\",\"node\":\"000048b02d15c319\",\"plugin\":\"plugin-iio:0.4.2\",\"sensor\":\"bme680\",\"task\":\"iio-rpi\",\"vsn\":\"W015\"}}\\n{\"timestamp\":\"2021-09-22T20:08:40.478922331Z\",\"name\":\"iio.in_resistance_input\",\"value\":120590,\"meta\":{\"host\":\"0000dca632a306d8.ws-rpi\",\"job\":\"sage\",\"node\":\"000048b02d15c31a\",\"plugin\":\"plugin-iio:0.4.5\",\"sensor\":\"bme680\",\"task\":\"iio-shield\",\"vsn\":\"W01A\"}}\\n{\"timestamp\":\"2021-09-22T20:08:35.77880975Z\",\"name\":\"iio.in_resistance_input\",\"value\":220280,\"meta\":{\"host\":\"0000dca632a307b6.ws-rpi\",\"job\":\"sage\",\"node\":\"000048b02d15bc8c\",\"plugin\":\"plugin-iio:0.4.2\",\"sensor\":\"bme680\",\"task\":\"iio-rpi\",\"vsn\":\"W039\"}}\\n{\"timestamp\":\"2021-09-22T20:08:37.405220829Z\",\"name\":\"iio.in_resistance_input\",\"value\":1229508,\"meta\":{\"host\":\"0000dca632a307fb.ws-rpi\",\"job\":\"sage\",\"node\":\"000048b02d15c328\",\"plugin\":\"plugin-iio:0.3.0\",\"sensor\":\"bme680\",\"task\":\"plugin-iio\",\"vsn\":\"W016\"}}\\n{\"timestamp\":\"2021-09-22T20:08:32.551813933Z\",\"name\":\"iio.in_resistance_input\",\"value\":159221,\"meta\":{\"job\":\"sage\",\"node\":\"000048b02d15bc42\",\"plugin\":\"plugin-metsense:0.1.1\",\"sensor\":\"bme680\",\"task\":\"plugin-metsense\",\"vsn\":\"W000\"}}\\n{\"timestamp\":\"2021-09-22T20:08:32.723722808Z\",\"name\":\"iio.in_temp_input\",\"value\":27600,\"meta\":{\"host\":\"0000dca632a2fa45.ws-rpi\",\"job\":\"sage\",\"node\":\"000048b02d15bdcd\",\"plugin\":\"plugin-iio:0.4.2\",\"sensor\":\"bme680\",\"task\":\"iio-rpi\",\"vsn\":\"W029\"}}\\n{\"timestamp\":\"2021-09-22T20:08:33.26661298Z\",\"name\":\"iio.in_temp_input\",\"value\":18610,\"meta\":{\"host\":\"0000dca632a3058b.ws-rpi\",\"job\":\"sage\",\"node\":\"000048b02d15bc7c\",\"plugin\":\"plugin-iio:0.4.2\",\"sensor\":\"bme680\",\"task\":\"iio-rpi\",\"vsn\":\"W023\"}}\\n{\"timestamp\":\"2021-09-22T20:08:36.033084752Z\",\"name\":\"iio.in_temp_input\",\"value\":26060,\"meta\":{\"host\":\"0000dca632a305c8.ws-rpi\",\"job\":\"sage\",\"node\":\"000048b02d05a1c7\",\"plugin\":\"plugin-iio:0.4.2\",\"sensor\":\"bme680\",\"task\":\"iio-rpi\",\"vsn\":\"W026\"}}\\n{\"timestamp\":\"2021-09-22T20:08:36.118744632Z\",\"name\":\"iio.in_temp_input\",\"value\":18860,\"meta\":{\"host\":\"0000dca632a30627.ws-rpi\",\"job\":\"sage\",\"node\":\"000048b02d15c319\",\"plugin\":\"plugin-iio:0.4.2\",\"sensor\":\"bme680\",\"task\":\"iio-rpi\",\"vsn\":\"W015\"}}\\n{\"timestamp\":\"2021-09-22T20:08:40.486777696Z\",\"name\":\"iio.in_temp_input\",\"value\":29330,\"meta\":{\"host\":\"0000dca632a306d8.ws-rpi\",\"job\":\"sage\",\"node\":\"000048b02d15c31a\",\"plugin\":\"plugin-iio:0.4.5\",\"sensor\":\"bme680\",\"task\":\"iio-shield\",\"vsn\":\"W01A\"}}\\n{\"timestamp\":\"2021-09-22T20:08:35.781440304Z\",\"name\":\"iio.in_temp_input\",\"value\":24250,\"meta\":{\"host\":\"0000dca632a307b6.ws-rpi\",\"job\":\"sage\",\"node\":\"000048b02d15bc8c\",\"plugin\":\"plugin-iio:0.4.2\",\"sensor\":\"bme680\",\"task\":\"iio-rpi\",\"vsn\":\"W039\"}}\\n{\"timestamp\":\"2021-09-22T20:08:37.409271577Z\",\"name\":\"iio.in_temp_input\",\"value\":29590,\"meta\":{\"host\":\"0000dca632a307fb.ws-rpi\",\"job\":\"sage\",\"node\":\"000048b02d15c328\",\"plugin\":\"plugin-iio:0.3.0\",\"sensor\":\"bme680\",\"task\":\"plugin-iio\",\"vsn\":\"W016\"}}\\n{\"timestamp\":\"2021-09-22T20:08:32.553806415Z\",\"name\":\"iio.in_temp_input\",\"value\":27740,\"meta\":{\"job\":\"sage\",\"node\":\"000048b02d15bc42\",\"plugin\":\"plugin-metsense:0.1.1\",\"sensor\":\"bme680\",\"task\":\"plugin-metsense\",\"vsn\":\"W000\"}}\\n'"
      ]
     },
     "execution_count": 48,
     "metadata": {},
     "output_type": "execute_result"
    }
   ],
   "source": [
    "\n",
    "# string = response.content.decode(\"utf-8\")\n",
    "\n",
    "import json\n",
    "   \n",
    "# {\"timestamp\":\"2021-09-22T20:08:32.718163612Z\",\"name\":\"env.pressure\",\"value\":86423,\"meta\":{\"host\":\"0000dca632a2fa45.ws-rpi\",\n",
    "# \"job\":\"sage\",\"node\":\"000048b02d15bdcd\",\"plugin\":\"plugin-iio:0.4.2\",\"sensor\":\"bme680\",\"task\":\"iio-rpi\",\"vsn\":\"W029\"}}\n",
    "\n",
    "# d = json.loads(response.content.decode('utf-8'))\n",
    "\n",
    "response.content.decode('utf-8')\n"
   ]
  },
  {
   "cell_type": "code",
   "execution_count": 64,
   "id": "93332a89",
   "metadata": {},
   "outputs": [],
   "source": [
    "import multiline"
   ]
  },
  {
   "cell_type": "code",
   "execution_count": null,
   "id": "9091ab87",
   "metadata": {},
   "outputs": [],
   "source": []
  },
  {
   "cell_type": "code",
   "execution_count": null,
   "id": "6431b432",
   "metadata": {},
   "outputs": [],
   "source": []
  },
  {
   "cell_type": "code",
   "execution_count": null,
   "id": "b972a728",
   "metadata": {},
   "outputs": [],
   "source": []
  },
  {
   "cell_type": "code",
   "execution_count": 66,
   "id": "6073644a",
   "metadata": {},
   "outputs": [
    {
     "name": "stdout",
     "output_type": "stream",
     "text": [
      "{\"settings\": {\"serial\": \"123\", \"status\": \"2\", \"ersion\": \"3\"}, \"config\": {\"active\": \"4\", \"version\": \"5\"}}\n"
     ]
    }
   ],
   "source": [
    "import json\n",
    "\n",
    "json_serial = \"123\"\n",
    "\n",
    "my_json = {\n",
    "    'settings': {\n",
    "        \"serial\": json_serial,\n",
    "        \"status\": '2',\n",
    "        \"ersion\": '3',\n",
    "    },\n",
    "    'config': {\n",
    "        'active': '4',\n",
    "        'version': '5'\n",
    "    }\n",
    "}\n",
    "print(json.dumps(my_json))"
   ]
  },
  {
   "cell_type": "code",
   "execution_count": 68,
   "id": "a5195355",
   "metadata": {
    "scrolled": false
   },
   "outputs": [],
   "source": [
    "\n",
    "# my_json = response.content.decode('utf-8')\n",
    "# print(json.dumps(my_json))\n"
   ]
  },
  {
   "cell_type": "code",
   "execution_count": 75,
   "id": "99befa85",
   "metadata": {},
   "outputs": [],
   "source": [
    "\n",
    "#raw_json_string = response.content.decode('utf-8')\n",
    "#json_dict = mutliline.loads(raw_json_string, multiline=True)\n",
    "#multiline.loads(raw_json_string, multiline=True)\n"
   ]
  },
  {
   "cell_type": "code",
   "execution_count": 57,
   "id": "d48373f8",
   "metadata": {},
   "outputs": [],
   "source": [
    "# >>> import simplejson as json \n",
    "# >>> with open(\"brief.csv\") as f:\n",
    "# ...     for line in f:\n",
    "# ...         data = json.loads(line)\n",
    "# ...         print data\n",
    "# ...         print data.values()\n",
    "# ...         print data.keys()"
   ]
  },
  {
   "cell_type": "code",
   "execution_count": null,
   "id": "c571bf7b",
   "metadata": {},
   "outputs": [],
   "source": []
  },
  {
   "cell_type": "code",
   "execution_count": 82,
   "id": "40e994d1",
   "metadata": {},
   "outputs": [],
   "source": [
    "# this is mini example of how you would convert to dict "
   ]
  },
  {
   "cell_type": "code",
   "execution_count": 81,
   "id": "0667a03f",
   "metadata": {},
   "outputs": [
    {
     "data": {
      "text/plain": [
       "{'timestamp': '2021-09-22T20:08:32.718163612Z',\n",
       " 'name': 'env.pressure',\n",
       " 'value': 86423,\n",
       " 'meta': {'host': '0000dca632a2fa45.ws-rpi',\n",
       "  'job': 'sage',\n",
       "  'node': '000048b02d15bdcd',\n",
       "  'plugin': 'plugin-iio:0.4.2',\n",
       "  'sensor': 'bme680',\n",
       "  'task': 'iio-rpi',\n",
       "  'vsn': 'W029'}}"
      ]
     },
     "execution_count": 81,
     "metadata": {},
     "output_type": "execute_result"
    }
   ],
   "source": [
    "\n",
    "abc = '{\"timestamp\":\"2021-09-22T20:08:32.718163612Z\",\"name\":\"env.pressure\",\"value\":86423,\"meta\":{\"host\":\"0000dca632a2fa45.ws-rpi\",\"job\":\"sage\",\"node\":\"000048b02d15bdcd\",\"plugin\":\"plugin-iio:0.4.2\",\"sensor\":\"bme680\",\"task\":\"iio-rpi\",\"vsn\":\"W029\"}}'\n",
    "\n",
    "# Convert JSON string to dictionary\n",
    "data_dict = json.loads(abc)\n",
    "\n",
    "data_dict\n"
   ]
  },
  {
   "cell_type": "code",
   "execution_count": 87,
   "id": "01e6fe2d",
   "metadata": {},
   "outputs": [],
   "source": [
    "\n",
    "# mini = response.content.decode('utf-8')\n",
    "# mini.splitlines()\n",
    "   "
   ]
  },
  {
   "cell_type": "code",
   "execution_count": 91,
   "id": "e33531d5",
   "metadata": {
    "scrolled": false
   },
   "outputs": [
    {
     "name": "stdout",
     "output_type": "stream",
     "text": [
      "{\"timestamp\":\"2021-09-22T20:08:32.718163612Z\",\"name\":\"env.pressure\",\"value\":86423,\"meta\":{\"host\":\"0000dca632a2fa45.ws-rpi\",\"job\":\"sage\",\"node\":\"000048b02d15bdcd\",\"plugin\":\"plugin-iio:0.4.2\",\"sensor\":\"bme680\",\"task\":\"iio-rpi\",\"vsn\":\"W029\"}}\n",
      "{\"timestamp\":\"2021-09-22T20:08:33.262976989Z\",\"name\":\"env.pressure\",\"value\":99316,\"meta\":{\"host\":\"0000dca632a3058b.ws-rpi\",\"job\":\"sage\",\"node\":\"000048b02d15bc7c\",\"plugin\":\"plugin-iio:0.4.2\",\"sensor\":\"bme680\",\"task\":\"iio-rpi\",\"vsn\":\"W023\"}}\n",
      "{\"timestamp\":\"2021-09-22T20:08:36.035612548Z\",\"name\":\"env.pressure\",\"value\":99257,\"meta\":{\"host\":\"0000dca632a305c8.ws-rpi\",\"job\":\"sage\",\"node\":\"000048b02d05a1c7\",\"plugin\":\"plugin-iio:0.4.2\",\"sensor\":\"bme680\",\"task\":\"iio-rpi\",\"vsn\":\"W026\"}}\n",
      "{\"timestamp\":\"2021-09-22T20:08:36.112818484Z\",\"name\":\"env.pressure\",\"value\":99397,\"meta\":{\"host\":\"0000dca632a30627.ws-rpi\",\"job\":\"sage\",\"node\":\"000048b02d15c319\",\"plugin\":\"plugin-iio:0.4.2\",\"sensor\":\"bme680\",\"task\":\"iio-rpi\",\"vsn\":\"W015\"}}\n",
      "{\"timestamp\":\"2021-09-22T20:08:40.484510198Z\",\"name\":\"env.pressure\",\"value\":99299,\"meta\":{\"host\":\"0000dca632a306d8.ws-rpi\",\"job\":\"sage\",\"node\":\"000048b02d15c31a\",\"plugin\":\"plugin-iio:0.4.5\",\"sensor\":\"bme680\",\"task\":\"iio-shield\",\"vsn\":\"W01A\"}}\n",
      "{\"timestamp\":\"2021-09-22T20:08:35.775784869Z\",\"name\":\"env.pressure\",\"value\":99245,\"meta\":{\"host\":\"0000dca632a307b6.ws-rpi\",\"job\":\"sage\",\"node\":\"000048b02d15bc8c\",\"plugin\":\"plugin-iio:0.4.2\",\"sensor\":\"bme680\",\"task\":\"iio-rpi\",\"vsn\":\"W039\"}}\n",
      "{\"timestamp\":\"2021-09-22T20:08:37.412970497Z\",\"name\":\"env.pressure\",\"value\":99093,\"meta\":{\"host\":\"0000dca632a307fb.ws-rpi\",\"job\":\"sage\",\"node\":\"000048b02d15c328\",\"plugin\":\"plugin-iio:0.3.0\",\"sensor\":\"bme680\",\"task\":\"plugin-iio\",\"vsn\":\"W016\"}}\n",
      "{\"timestamp\":\"2021-09-22T20:08:32.726275619Z\",\"name\":\"env.relative_humidity\",\"value\":18.323,\"meta\":{\"host\":\"0000dca632a2fa45.ws-rpi\",\"job\":\"sage\",\"node\":\"000048b02d15bdcd\",\"plugin\":\"plugin-iio:0.4.2\",\"sensor\":\"bme680\",\"task\":\"iio-rpi\",\"vsn\":\"W029\"}}\n",
      "{\"timestamp\":\"2021-09-22T20:08:33.255034054Z\",\"name\":\"env.relative_humidity\",\"value\":54.359,\"meta\":{\"host\":\"0000dca632a3058b.ws-rpi\",\"job\":\"sage\",\"node\":\"000048b02d15bc7c\",\"plugin\":\"plugin-iio:0.4.2\",\"sensor\":\"bme680\",\"task\":\"iio-rpi\",\"vsn\":\"W023\"}}\n",
      "{\"timestamp\":\"2021-09-22T20:08:36.03868265Z\",\"name\":\"env.relative_humidity\",\"value\":34.274,\"meta\":{\"host\":\"0000dca632a305c8.ws-rpi\",\"job\":\"sage\",\"node\":\"000048b02d05a1c7\",\"plugin\":\"plugin-iio:0.4.2\",\"sensor\":\"bme680\",\"task\":\"iio-rpi\",\"vsn\":\"W026\"}}\n",
      "{\"timestamp\":\"2021-09-22T20:08:36.109228848Z\",\"name\":\"env.relative_humidity\",\"value\":61.862,\"meta\":{\"host\":\"0000dca632a30627.ws-rpi\",\"job\":\"sage\",\"node\":\"000048b02d15c319\",\"plugin\":\"plugin-iio:0.4.2\",\"sensor\":\"bme680\",\"task\":\"iio-rpi\",\"vsn\":\"W015\"}}\n",
      "{\"timestamp\":\"2021-09-22T20:08:40.481093812Z\",\"name\":\"env.relative_humidity\",\"value\":35.347,\"meta\":{\"host\":\"0000dca632a306d8.ws-rpi\",\"job\":\"sage\",\"node\":\"000048b02d15c31a\",\"plugin\":\"plugin-iio:0.4.5\",\"sensor\":\"bme680\",\"task\":\"iio-shield\",\"vsn\":\"W01A\"}}\n",
      "{\"timestamp\":\"2021-09-22T20:08:35.784544369Z\",\"name\":\"env.relative_humidity\",\"value\":40.75,\"meta\":{\"host\":\"0000dca632a307b6.ws-rpi\",\"job\":\"sage\",\"node\":\"000048b02d15bc8c\",\"plugin\":\"plugin-iio:0.4.2\",\"sensor\":\"bme680\",\"task\":\"iio-rpi\",\"vsn\":\"W039\"}}\n",
      "{\"timestamp\":\"2021-09-22T20:08:37.407491717Z\",\"name\":\"env.relative_humidity\",\"value\":22.261,\"meta\":{\"host\":\"0000dca632a307fb.ws-rpi\",\"job\":\"sage\",\"node\":\"000048b02d15c328\",\"plugin\":\"plugin-iio:0.3.0\",\"sensor\":\"bme680\",\"task\":\"plugin-iio\",\"vsn\":\"W016\"}}\n",
      "{\"timestamp\":\"2021-09-22T20:08:32.723842452Z\",\"name\":\"env.temperature\",\"value\":27.6,\"meta\":{\"host\":\"0000dca632a2fa45.ws-rpi\",\"job\":\"sage\",\"node\":\"000048b02d15bdcd\",\"plugin\":\"plugin-iio:0.4.2\",\"sensor\":\"bme680\",\"task\":\"iio-rpi\",\"vsn\":\"W029\"}}\n",
      "{\"timestamp\":\"2021-09-22T20:08:33.26674983Z\",\"name\":\"env.temperature\",\"value\":18.61,\"meta\":{\"host\":\"0000dca632a3058b.ws-rpi\",\"job\":\"sage\",\"node\":\"000048b02d15bc7c\",\"plugin\":\"plugin-iio:0.4.2\",\"sensor\":\"bme680\",\"task\":\"iio-rpi\",\"vsn\":\"W023\"}}\n",
      "{\"timestamp\":\"2021-09-22T20:08:36.033220954Z\",\"name\":\"env.temperature\",\"value\":26.06,\"meta\":{\"host\":\"0000dca632a305c8.ws-rpi\",\"job\":\"sage\",\"node\":\"000048b02d05a1c7\",\"plugin\":\"plugin-iio:0.4.2\",\"sensor\":\"bme680\",\"task\":\"iio-rpi\",\"vsn\":\"W026\"}}\n",
      "{\"timestamp\":\"2021-09-22T20:08:36.118908685Z\",\"name\":\"env.temperature\",\"value\":18.86,\"meta\":{\"host\":\"0000dca632a30627.ws-rpi\",\"job\":\"sage\",\"node\":\"000048b02d15c319\",\"plugin\":\"plugin-iio:0.4.2\",\"sensor\":\"bme680\",\"task\":\"iio-rpi\",\"vsn\":\"W015\"}}\n",
      "{\"timestamp\":\"2021-09-22T20:08:40.486920749Z\",\"name\":\"env.temperature\",\"value\":29.33,\"meta\":{\"host\":\"0000dca632a306d8.ws-rpi\",\"job\":\"sage\",\"node\":\"000048b02d15c31a\",\"plugin\":\"plugin-iio:0.4.5\",\"sensor\":\"bme680\",\"task\":\"iio-shield\",\"vsn\":\"W01A\"}}\n",
      "{\"timestamp\":\"2021-09-22T20:08:35.78156471Z\",\"name\":\"env.temperature\",\"value\":24.25,\"meta\":{\"host\":\"0000dca632a307b6.ws-rpi\",\"job\":\"sage\",\"node\":\"000048b02d15bc8c\",\"plugin\":\"plugin-iio:0.4.2\",\"sensor\":\"bme680\",\"task\":\"iio-rpi\",\"vsn\":\"W039\"}}\n",
      "{\"timestamp\":\"2021-09-22T20:08:37.409443222Z\",\"name\":\"env.temperature\",\"value\":29.59,\"meta\":{\"host\":\"0000dca632a307fb.ws-rpi\",\"job\":\"sage\",\"node\":\"000048b02d15c328\",\"plugin\":\"plugin-iio:0.3.0\",\"sensor\":\"bme680\",\"task\":\"plugin-iio\",\"vsn\":\"W016\"}}\n",
      "{\"timestamp\":\"2021-09-22T20:08:32.726138587Z\",\"name\":\"iio.in_humidityrelative_input\",\"value\":18.323,\"meta\":{\"host\":\"0000dca632a2fa45.ws-rpi\",\"job\":\"sage\",\"node\":\"000048b02d15bdcd\",\"plugin\":\"plugin-iio:0.4.2\",\"sensor\":\"bme680\",\"task\":\"iio-rpi\",\"vsn\":\"W029\"}}\n",
      "{\"timestamp\":\"2021-09-22T20:08:33.254902278Z\",\"name\":\"iio.in_humidityrelative_input\",\"value\":54.359,\"meta\":{\"host\":\"0000dca632a3058b.ws-rpi\",\"job\":\"sage\",\"node\":\"000048b02d15bc7c\",\"plugin\":\"plugin-iio:0.4.2\",\"sensor\":\"bme680\",\"task\":\"iio-rpi\",\"vsn\":\"W023\"}}\n",
      "{\"timestamp\":\"2021-09-22T20:08:36.038547874Z\",\"name\":\"iio.in_humidityrelative_input\",\"value\":34.274,\"meta\":{\"host\":\"0000dca632a305c8.ws-rpi\",\"job\":\"sage\",\"node\":\"000048b02d05a1c7\",\"plugin\":\"plugin-iio:0.4.2\",\"sensor\":\"bme680\",\"task\":\"iio-rpi\",\"vsn\":\"W026\"}}\n",
      "{\"timestamp\":\"2021-09-22T20:08:36.109090702Z\",\"name\":\"iio.in_humidityrelative_input\",\"value\":61.862,\"meta\":{\"host\":\"0000dca632a30627.ws-rpi\",\"job\":\"sage\",\"node\":\"000048b02d15c319\",\"plugin\":\"plugin-iio:0.4.2\",\"sensor\":\"bme680\",\"task\":\"iio-rpi\",\"vsn\":\"W015\"}}\n",
      "{\"timestamp\":\"2021-09-22T20:08:40.480967796Z\",\"name\":\"iio.in_humidityrelative_input\",\"value\":35.347,\"meta\":{\"host\":\"0000dca632a306d8.ws-rpi\",\"job\":\"sage\",\"node\":\"000048b02d15c31a\",\"plugin\":\"plugin-iio:0.4.5\",\"sensor\":\"bme680\",\"task\":\"iio-shield\",\"vsn\":\"W01A\"}}\n",
      "{\"timestamp\":\"2021-09-22T20:08:35.784272892Z\",\"name\":\"iio.in_humidityrelative_input\",\"value\":40.75,\"meta\":{\"host\":\"0000dca632a307b6.ws-rpi\",\"job\":\"sage\",\"node\":\"000048b02d15bc8c\",\"plugin\":\"plugin-iio:0.4.2\",\"sensor\":\"bme680\",\"task\":\"iio-rpi\",\"vsn\":\"W039\"}}\n",
      "{\"timestamp\":\"2021-09-22T20:08:37.407381479Z\",\"name\":\"iio.in_humidityrelative_input\",\"value\":22.261,\"meta\":{\"host\":\"0000dca632a307fb.ws-rpi\",\"job\":\"sage\",\"node\":\"000048b02d15c328\",\"plugin\":\"plugin-iio:0.3.0\",\"sensor\":\"bme680\",\"task\":\"plugin-iio\",\"vsn\":\"W016\"}}\n",
      "{\"timestamp\":\"2021-09-22T20:08:32.55919189Z\",\"name\":\"iio.in_humidityrelative_input\",\"value\":13.7,\"meta\":{\"job\":\"sage\",\"node\":\"000048b02d15bc42\",\"plugin\":\"plugin-metsense:0.1.1\",\"sensor\":\"bme680\",\"task\":\"plugin-metsense\",\"vsn\":\"W000\"}}\n",
      "{\"timestamp\":\"2021-09-22T20:08:32.718049765Z\",\"name\":\"iio.in_pressure_input\",\"value\":864.23,\"meta\":{\"host\":\"0000dca632a2fa45.ws-rpi\",\"job\":\"sage\",\"node\":\"000048b02d15bdcd\",\"plugin\":\"plugin-iio:0.4.2\",\"sensor\":\"bme680\",\"task\":\"iio-rpi\",\"vsn\":\"W029\"}}\n",
      "{\"timestamp\":\"2021-09-22T20:08:33.262832306Z\",\"name\":\"iio.in_pressure_input\",\"value\":993.16,\"meta\":{\"host\":\"0000dca632a3058b.ws-rpi\",\"job\":\"sage\",\"node\":\"000048b02d15bc7c\",\"plugin\":\"plugin-iio:0.4.2\",\"sensor\":\"bme680\",\"task\":\"iio-rpi\",\"vsn\":\"W023\"}}\n",
      "{\"timestamp\":\"2021-09-22T20:08:36.035460939Z\",\"name\":\"iio.in_pressure_input\",\"value\":992.57,\"meta\":{\"host\":\"0000dca632a305c8.ws-rpi\",\"job\":\"sage\",\"node\":\"000048b02d05a1c7\",\"plugin\":\"plugin-iio:0.4.2\",\"sensor\":\"bme680\",\"task\":\"iio-rpi\",\"vsn\":\"W026\"}}\n",
      "{\"timestamp\":\"2021-09-22T20:08:36.11267008Z\",\"name\":\"iio.in_pressure_input\",\"value\":993.97,\"meta\":{\"host\":\"0000dca632a30627.ws-rpi\",\"job\":\"sage\",\"node\":\"000048b02d15c319\",\"plugin\":\"plugin-iio:0.4.2\",\"sensor\":\"bme680\",\"task\":\"iio-rpi\",\"vsn\":\"W015\"}}\n",
      "{\"timestamp\":\"2021-09-22T20:08:40.484390848Z\",\"name\":\"iio.in_pressure_input\",\"value\":992.99,\"meta\":{\"host\":\"0000dca632a306d8.ws-rpi\",\"job\":\"sage\",\"node\":\"000048b02d15c31a\",\"plugin\":\"plugin-iio:0.4.5\",\"sensor\":\"bme680\",\"task\":\"iio-shield\",\"vsn\":\"W01A\"}}\n",
      "{\"timestamp\":\"2021-09-22T20:08:35.775659685Z\",\"name\":\"iio.in_pressure_input\",\"value\":992.45,\"meta\":{\"host\":\"0000dca632a307b6.ws-rpi\",\"job\":\"sage\",\"node\":\"000048b02d15bc8c\",\"plugin\":\"plugin-iio:0.4.2\",\"sensor\":\"bme680\",\"task\":\"iio-rpi\",\"vsn\":\"W039\"}}\n",
      "{\"timestamp\":\"2021-09-22T20:08:37.412848388Z\",\"name\":\"iio.in_pressure_input\",\"value\":990.93,\"meta\":{\"host\":\"0000dca632a307fb.ws-rpi\",\"job\":\"sage\",\"node\":\"000048b02d15c328\",\"plugin\":\"plugin-iio:0.3.0\",\"sensor\":\"bme680\",\"task\":\"plugin-iio\",\"vsn\":\"W016\"}}\n",
      "{\"timestamp\":\"2021-09-22T20:08:32.556046022Z\",\"name\":\"iio.in_pressure_input\",\"value\":849.8,\"meta\":{\"job\":\"sage\",\"node\":\"000048b02d15bc42\",\"plugin\":\"plugin-metsense:0.1.1\",\"sensor\":\"bme680\",\"task\":\"plugin-metsense\",\"vsn\":\"W000\"}}\n",
      "{\"timestamp\":\"2021-09-22T20:08:32.721271624Z\",\"name\":\"iio.in_resistance_input\",\"value\":362221,\"meta\":{\"host\":\"0000dca632a2fa45.ws-rpi\",\"job\":\"sage\",\"node\":\"000048b02d15bdcd\",\"plugin\":\"plugin-iio:0.4.2\",\"sensor\":\"bme680\",\"task\":\"iio-rpi\",\"vsn\":\"W029\"}}\n",
      "{\"timestamp\":\"2021-09-22T20:08:33.26016313Z\",\"name\":\"iio.in_resistance_input\",\"value\":335049,\"meta\":{\"host\":\"0000dca632a3058b.ws-rpi\",\"job\":\"sage\",\"node\":\"000048b02d15bc7c\",\"plugin\":\"plugin-iio:0.4.2\",\"sensor\":\"bme680\",\"task\":\"iio-rpi\",\"vsn\":\"W023\"}}\n",
      "{\"timestamp\":\"2021-09-22T20:08:36.041834714Z\",\"name\":\"iio.in_resistance_input\",\"value\":349217,\"meta\":{\"host\":\"0000dca632a305c8.ws-rpi\",\"job\":\"sage\",\"node\":\"000048b02d05a1c7\",\"plugin\":\"plugin-iio:0.4.2\",\"sensor\":\"bme680\",\"task\":\"iio-rpi\",\"vsn\":\"W026\"}}\n",
      "{\"timestamp\":\"2021-09-22T20:08:36.116655042Z\",\"name\":\"iio.in_resistance_input\",\"value\":186257,\"meta\":{\"host\":\"0000dca632a30627.ws-rpi\",\"job\":\"sage\",\"node\":\"000048b02d15c319\",\"plugin\":\"plugin-iio:0.4.2\",\"sensor\":\"bme680\",\"task\":\"iio-rpi\",\"vsn\":\"W015\"}}\n",
      "{\"timestamp\":\"2021-09-22T20:08:40.478922331Z\",\"name\":\"iio.in_resistance_input\",\"value\":120590,\"meta\":{\"host\":\"0000dca632a306d8.ws-rpi\",\"job\":\"sage\",\"node\":\"000048b02d15c31a\",\"plugin\":\"plugin-iio:0.4.5\",\"sensor\":\"bme680\",\"task\":\"iio-shield\",\"vsn\":\"W01A\"}}\n",
      "{\"timestamp\":\"2021-09-22T20:08:35.77880975Z\",\"name\":\"iio.in_resistance_input\",\"value\":220280,\"meta\":{\"host\":\"0000dca632a307b6.ws-rpi\",\"job\":\"sage\",\"node\":\"000048b02d15bc8c\",\"plugin\":\"plugin-iio:0.4.2\",\"sensor\":\"bme680\",\"task\":\"iio-rpi\",\"vsn\":\"W039\"}}\n",
      "{\"timestamp\":\"2021-09-22T20:08:37.405220829Z\",\"name\":\"iio.in_resistance_input\",\"value\":1229508,\"meta\":{\"host\":\"0000dca632a307fb.ws-rpi\",\"job\":\"sage\",\"node\":\"000048b02d15c328\",\"plugin\":\"plugin-iio:0.3.0\",\"sensor\":\"bme680\",\"task\":\"plugin-iio\",\"vsn\":\"W016\"}}\n",
      "{\"timestamp\":\"2021-09-22T20:08:32.551813933Z\",\"name\":\"iio.in_resistance_input\",\"value\":159221,\"meta\":{\"job\":\"sage\",\"node\":\"000048b02d15bc42\",\"plugin\":\"plugin-metsense:0.1.1\",\"sensor\":\"bme680\",\"task\":\"plugin-metsense\",\"vsn\":\"W000\"}}\n",
      "{\"timestamp\":\"2021-09-22T20:08:32.723722808Z\",\"name\":\"iio.in_temp_input\",\"value\":27600,\"meta\":{\"host\":\"0000dca632a2fa45.ws-rpi\",\"job\":\"sage\",\"node\":\"000048b02d15bdcd\",\"plugin\":\"plugin-iio:0.4.2\",\"sensor\":\"bme680\",\"task\":\"iio-rpi\",\"vsn\":\"W029\"}}\n",
      "{\"timestamp\":\"2021-09-22T20:08:33.26661298Z\",\"name\":\"iio.in_temp_input\",\"value\":18610,\"meta\":{\"host\":\"0000dca632a3058b.ws-rpi\",\"job\":\"sage\",\"node\":\"000048b02d15bc7c\",\"plugin\":\"plugin-iio:0.4.2\",\"sensor\":\"bme680\",\"task\":\"iio-rpi\",\"vsn\":\"W023\"}}\n",
      "{\"timestamp\":\"2021-09-22T20:08:36.033084752Z\",\"name\":\"iio.in_temp_input\",\"value\":26060,\"meta\":{\"host\":\"0000dca632a305c8.ws-rpi\",\"job\":\"sage\",\"node\":\"000048b02d05a1c7\",\"plugin\":\"plugin-iio:0.4.2\",\"sensor\":\"bme680\",\"task\":\"iio-rpi\",\"vsn\":\"W026\"}}\n",
      "{\"timestamp\":\"2021-09-22T20:08:36.118744632Z\",\"name\":\"iio.in_temp_input\",\"value\":18860,\"meta\":{\"host\":\"0000dca632a30627.ws-rpi\",\"job\":\"sage\",\"node\":\"000048b02d15c319\",\"plugin\":\"plugin-iio:0.4.2\",\"sensor\":\"bme680\",\"task\":\"iio-rpi\",\"vsn\":\"W015\"}}\n",
      "{\"timestamp\":\"2021-09-22T20:08:40.486777696Z\",\"name\":\"iio.in_temp_input\",\"value\":29330,\"meta\":{\"host\":\"0000dca632a306d8.ws-rpi\",\"job\":\"sage\",\"node\":\"000048b02d15c31a\",\"plugin\":\"plugin-iio:0.4.5\",\"sensor\":\"bme680\",\"task\":\"iio-shield\",\"vsn\":\"W01A\"}}\n",
      "{\"timestamp\":\"2021-09-22T20:08:35.781440304Z\",\"name\":\"iio.in_temp_input\",\"value\":24250,\"meta\":{\"host\":\"0000dca632a307b6.ws-rpi\",\"job\":\"sage\",\"node\":\"000048b02d15bc8c\",\"plugin\":\"plugin-iio:0.4.2\",\"sensor\":\"bme680\",\"task\":\"iio-rpi\",\"vsn\":\"W039\"}}\n",
      "{\"timestamp\":\"2021-09-22T20:08:37.409271577Z\",\"name\":\"iio.in_temp_input\",\"value\":29590,\"meta\":{\"host\":\"0000dca632a307fb.ws-rpi\",\"job\":\"sage\",\"node\":\"000048b02d15c328\",\"plugin\":\"plugin-iio:0.3.0\",\"sensor\":\"bme680\",\"task\":\"plugin-iio\",\"vsn\":\"W016\"}}\n",
      "{\"timestamp\":\"2021-09-22T20:08:32.553806415Z\",\"name\":\"iio.in_temp_input\",\"value\":27740,\"meta\":{\"job\":\"sage\",\"node\":\"000048b02d15bc42\",\"plugin\":\"plugin-metsense:0.1.1\",\"sensor\":\"bme680\",\"task\":\"plugin-metsense\",\"vsn\":\"W000\"}}\n"
     ]
    }
   ],
   "source": [
    "\n",
    "superstring = response.content.decode('utf-8')\n",
    "mylist = superstring.splitlines()\n",
    "\n",
    "for line in mylist:\n",
    "     print(line)\n",
    "    \n",
    "# json.loads(string1)\n"
   ]
  },
  {
   "cell_type": "code",
   "execution_count": null,
   "id": "abec7f7c",
   "metadata": {},
   "outputs": [],
   "source": []
  },
  {
   "cell_type": "code",
   "execution_count": 6,
   "id": "67a94476",
   "metadata": {},
   "outputs": [
    {
     "data": {
      "text/plain": [
       "b'{\"timestamp\":\"2021-09-22T19:53:20.386799049Z\",\"name\":\"env.pressure\",\"value\":99414,\"meta\":{\"host\":\"0000dca632a305be.ws-rpi\",\"job\":\"sage\",\"node\":\"000048b02d15bda5\",\"plugin\":\"plugin-iio:0.3.0\",\"sensor\":\"bme680\",\"task\":\"plugin-iio\",\"vsn\":\"W022\"}}\\n{\"timestamp\":\"2021-09-22T19:53:29.750831611Z\",\"name\":\"env.pressure\",\"value\":99180,\"meta\":{\"host\":\"0000dca632a3061a.ws-rpi\",\"job\":\"sage\",\"node\":\"000048b02d15bc72\",\"plugin\":\"plugin-iio:0.4.2\",\"sensor\":\"bme680\",\"task\":\"iio-rpi\",\"vsn\":\"W018\"}}\\n{\"timestamp\":\"2021-09-22T19:53:21.162644962Z\",\"name\":\"env.pressure\",\"value\":100169,\"meta\":{\"host\":\"0000dca632a30642.ws-rpi\",\"job\":\"sage\",\"node\":\"000048b02d0766d2\",\"plugin\":\"plugin-iio:0.4.2\",\"sensor\":\"bme680\",\"task\":\"iio-rpi\",\"vsn\":\"W000\"}}\\n{\"timestamp\":\"2021-09-22T19:53:25.998772128Z\",\"name\":\"env.pressure\",\"value\":99026,\"meta\":{\"host\":\"0000dca632a307bf.ws-rpi\",\"job\":\"sage\",\"node\":\"000048b02d15bc7d\",\"plugin\":\"plugin-iio:0.3.0\",\"sensor\":\"bme680\",\"task\":\"plugin-iio\",\"vsn\":\"W028\"}}\\n{\"timestamp\":\"2021-09-22T19:53:22.59278752Z\",\"name\":\"env.pressure\",\"value\":99374,\"meta\":{\"host\":\"0000dca632a307e6.ws-rpi\",\"job\":\"sage\",\"node\":\"000048b02d05a1c2\",\"plugin\":\"plugin-iio:0.4.2\",\"sensor\":\"bme680\",\"task\":\"iio-rpi\",\"vsn\":\"W02C\"}}\\n{\"timestamp\":\"2021-09-22T19:53:20.384686779Z\",\"name\":\"env.relative_humidity\",\"value\":66.556,\"meta\":{\"host\":\"0000dca632a305be.ws-rpi\",\"job\":\"sage\",\"node\":\"000048b02d15bda5\",\"plugin\":\"plugin-iio:0.3.0\",\"sensor\":\"bme680\",\"task\":\"plugin-iio\",\"vsn\":\"W022\"}}\\n{\"timestamp\":\"2021-09-22T19:53:29.748297575Z\",\"name\":\"env.relative_humidity\",\"value\":28.747,\"meta\":{\"host\":\"0000dca632a3061a.ws-rpi\",\"job\":\"sage\",\"node\":\"000048b02d15bc72\",\"plugin\":\"plugin-iio:0.4.2\",\"sensor\":\"bme680\",\"task\":\"iio-rpi\",\"vsn\":\"W018\"}}\\n{\"timestamp\":\"2021-09-22T19:53:21.167708186Z\",\"name\":\"env.relative_humidity\",\"value\":26.282,\"meta\":{\"host\":\"0000dca632a30642.ws-rpi\",\"job\":\"sage\",\"node\":\"000048b02d0766d2\",\"plugin\":\"plugin-iio:0.4.2\",\"sensor\":\"bme680\",\"task\":\"iio-rpi\",\"vsn\":\"W000\"}}\\n{\"timestamp\":\"2021-09-22T19:53:26.007954321Z\",\"name\":\"env.relative_humidity\",\"value\":37.13,\"meta\":{\"host\":\"0000dca632a307bf.ws-rpi\",\"job\":\"sage\",\"node\":\"000048b02d15bc7d\",\"plugin\":\"plugin-iio:0.3.0\",\"sensor\":\"bme680\",\"task\":\"plugin-iio\",\"vsn\":\"W028\"}}\\n{\"timestamp\":\"2021-09-22T19:53:22.588083093Z\",\"name\":\"env.relative_humidity\",\"value\":61.58,\"meta\":{\"host\":\"0000dca632a307e6.ws-rpi\",\"job\":\"sage\",\"node\":\"000048b02d05a1c2\",\"plugin\":\"plugin-iio:0.4.2\",\"sensor\":\"bme680\",\"task\":\"iio-rpi\",\"vsn\":\"W02C\"}}\\n{\"timestamp\":\"2021-09-22T19:53:20.378400487Z\",\"name\":\"env.temperature\",\"value\":18.86,\"meta\":{\"host\":\"0000dca632a305be.ws-rpi\",\"job\":\"sage\",\"node\":\"000048b02d15bda5\",\"plugin\":\"plugin-iio:0.3.0\",\"sensor\":\"bme680\",\"task\":\"plugin-iio\",\"vsn\":\"W022\"}}\\n{\"timestamp\":\"2021-09-22T19:53:29.744964015Z\",\"name\":\"env.temperature\",\"value\":28.37,\"meta\":{\"host\":\"0000dca632a3061a.ws-rpi\",\"job\":\"sage\",\"node\":\"000048b02d15bc72\",\"plugin\":\"plugin-iio:0.4.2\",\"sensor\":\"bme680\",\"task\":\"iio-rpi\",\"vsn\":\"W018\"}}\\n{\"timestamp\":\"2021-09-22T19:53:21.170146622Z\",\"name\":\"env.temperature\",\"value\":29.46,\"meta\":{\"host\":\"0000dca632a30642.ws-rpi\",\"job\":\"sage\",\"node\":\"000048b02d0766d2\",\"plugin\":\"plugin-iio:0.4.2\",\"sensor\":\"bme680\",\"task\":\"iio-rpi\",\"vsn\":\"W000\"}}\\n{\"timestamp\":\"2021-09-22T19:53:26.000967483Z\",\"name\":\"env.temperature\",\"value\":19.93,\"meta\":{\"host\":\"0000dca632a307bf.ws-rpi\",\"job\":\"sage\",\"node\":\"000048b02d15bc7d\",\"plugin\":\"plugin-iio:0.3.0\",\"sensor\":\"bme680\",\"task\":\"plugin-iio\",\"vsn\":\"W028\"}}\\n{\"timestamp\":\"2021-09-22T19:53:22.584373002Z\",\"name\":\"env.temperature\",\"value\":19.28,\"meta\":{\"host\":\"0000dca632a307e6.ws-rpi\",\"job\":\"sage\",\"node\":\"000048b02d05a1c2\",\"plugin\":\"plugin-iio:0.4.2\",\"sensor\":\"bme680\",\"task\":\"iio-rpi\",\"vsn\":\"W02C\"}}\\n{\"timestamp\":\"2021-09-22T19:53:20.384620613Z\",\"name\":\"iio.in_humidityrelative_input\",\"value\":66.556,\"meta\":{\"host\":\"0000dca632a305be.ws-rpi\",\"job\":\"sage\",\"node\":\"000048b02d15bda5\",\"plugin\":\"plugin-iio:0.3.0\",\"sensor\":\"bme680\",\"task\":\"plugin-iio\",\"vsn\":\"W022\"}}\\n{\"timestamp\":\"2021-09-22T19:53:29.748091745Z\",\"name\":\"iio.in_humidityrelative_input\",\"value\":28.747,\"meta\":{\"host\":\"0000dca632a3061a.ws-rpi\",\"job\":\"sage\",\"node\":\"000048b02d15bc72\",\"plugin\":\"plugin-iio:0.4.2\",\"sensor\":\"bme680\",\"task\":\"iio-rpi\",\"vsn\":\"W018\"}}\\n{\"timestamp\":\"2021-09-22T19:53:21.167596704Z\",\"name\":\"iio.in_humidityrelative_input\",\"value\":26.282,\"meta\":{\"host\":\"0000dca632a30642.ws-rpi\",\"job\":\"sage\",\"node\":\"000048b02d0766d2\",\"plugin\":\"plugin-iio:0.4.2\",\"sensor\":\"bme680\",\"task\":\"iio-rpi\",\"vsn\":\"W000\"}}\\n{\"timestamp\":\"2021-09-22T19:53:26.007787639Z\",\"name\":\"iio.in_humidityrelative_input\",\"value\":37.13,\"meta\":{\"host\":\"0000dca632a307bf.ws-rpi\",\"job\":\"sage\",\"node\":\"000048b02d15bc7d\",\"plugin\":\"plugin-iio:0.3.0\",\"sensor\":\"bme680\",\"task\":\"plugin-iio\",\"vsn\":\"W028\"}}\\n{\"timestamp\":\"2021-09-22T19:53:22.587683895Z\",\"name\":\"iio.in_humidityrelative_input\",\"value\":61.58,\"meta\":{\"host\":\"0000dca632a307e6.ws-rpi\",\"job\":\"sage\",\"node\":\"000048b02d05a1c2\",\"plugin\":\"plugin-iio:0.4.2\",\"sensor\":\"bme680\",\"task\":\"iio-rpi\",\"vsn\":\"W02C\"}}\\n{\"timestamp\":\"2021-09-22T19:53:20.386687921Z\",\"name\":\"iio.in_pressure_input\",\"value\":994.14,\"meta\":{\"host\":\"0000dca632a305be.ws-rpi\",\"job\":\"sage\",\"node\":\"000048b02d15bda5\",\"plugin\":\"plugin-iio:0.3.0\",\"sensor\":\"bme680\",\"task\":\"plugin-iio\",\"vsn\":\"W022\"}}\\n{\"timestamp\":\"2021-09-22T19:53:29.75068302Z\",\"name\":\"iio.in_pressure_input\",\"value\":991.8,\"meta\":{\"host\":\"0000dca632a3061a.ws-rpi\",\"job\":\"sage\",\"node\":\"000048b02d15bc72\",\"plugin\":\"plugin-iio:0.4.2\",\"sensor\":\"bme680\",\"task\":\"iio-rpi\",\"vsn\":\"W018\"}}\\n{\"timestamp\":\"2021-09-22T19:53:21.162534758Z\",\"name\":\"iio.in_pressure_input\",\"value\":1001.69,\"meta\":{\"host\":\"0000dca632a30642.ws-rpi\",\"job\":\"sage\",\"node\":\"000048b02d0766d2\",\"plugin\":\"plugin-iio:0.4.2\",\"sensor\":\"bme680\",\"task\":\"iio-rpi\",\"vsn\":\"W000\"}}\\n{\"timestamp\":\"2021-09-22T19:53:25.998669537Z\",\"name\":\"iio.in_pressure_input\",\"value\":990.26,\"meta\":{\"host\":\"0000dca632a307bf.ws-rpi\",\"job\":\"sage\",\"node\":\"000048b02d15bc7d\",\"plugin\":\"plugin-iio:0.3.0\",\"sensor\":\"bme680\",\"task\":\"plugin-iio\",\"vsn\":\"W028\"}}\\n{\"timestamp\":\"2021-09-22T19:53:22.592324231Z\",\"name\":\"iio.in_pressure_input\",\"value\":993.74,\"meta\":{\"host\":\"0000dca632a307e6.ws-rpi\",\"job\":\"sage\",\"node\":\"000048b02d05a1c2\",\"plugin\":\"plugin-iio:0.4.2\",\"sensor\":\"bme680\",\"task\":\"iio-rpi\",\"vsn\":\"W02C\"}}\\n{\"timestamp\":\"2021-09-22T19:53:20.381420246Z\",\"name\":\"iio.in_resistance_input\",\"value\":158161,\"meta\":{\"host\":\"0000dca632a305be.ws-rpi\",\"job\":\"sage\",\"node\":\"000048b02d15bda5\",\"plugin\":\"plugin-iio:0.3.0\",\"sensor\":\"bme680\",\"task\":\"plugin-iio\",\"vsn\":\"W022\"}}\\n{\"timestamp\":\"2021-09-22T19:53:29.754001118Z\",\"name\":\"iio.in_resistance_input\",\"value\":195795,\"meta\":{\"host\":\"0000dca632a3061a.ws-rpi\",\"job\":\"sage\",\"node\":\"000048b02d15bc72\",\"plugin\":\"plugin-iio:0.4.2\",\"sensor\":\"bme680\",\"task\":\"iio-rpi\",\"vsn\":\"W018\"}}\\n{\"timestamp\":\"2021-09-22T19:53:21.1656059Z\",\"name\":\"iio.in_resistance_input\",\"value\":61081,\"meta\":{\"host\":\"0000dca632a30642.ws-rpi\",\"job\":\"sage\",\"node\":\"000048b02d0766d2\",\"plugin\":\"plugin-iio:0.4.2\",\"sensor\":\"bme680\",\"task\":\"iio-rpi\",\"vsn\":\"W000\"}}\\n{\"timestamp\":\"2021-09-22T19:53:26.004011715Z\",\"name\":\"iio.in_resistance_input\",\"value\":717716,\"meta\":{\"host\":\"0000dca632a307bf.ws-rpi\",\"job\":\"sage\",\"node\":\"000048b02d15bc7d\",\"plugin\":\"plugin-iio:0.3.0\",\"sensor\":\"bme680\",\"task\":\"plugin-iio\",\"vsn\":\"W028\"}}\\n{\"timestamp\":\"2021-09-22T19:53:22.597338246Z\",\"name\":\"iio.in_resistance_input\",\"value\":275548,\"meta\":{\"host\":\"0000dca632a307e6.ws-rpi\",\"job\":\"sage\",\"node\":\"000048b02d05a1c2\",\"plugin\":\"plugin-iio:0.4.2\",\"sensor\":\"bme680\",\"task\":\"iio-rpi\",\"vsn\":\"W02C\"}}\\n{\"timestamp\":\"2021-09-22T19:53:20.378211249Z\",\"name\":\"iio.in_temp_input\",\"value\":18860,\"meta\":{\"host\":\"0000dca632a305be.ws-rpi\",\"job\":\"sage\",\"node\":\"000048b02d15bda5\",\"plugin\":\"plugin-iio:0.3.0\",\"sensor\":\"bme680\",\"task\":\"plugin-iio\",\"vsn\":\"W022\"}}\\n{\"timestamp\":\"2021-09-22T19:53:29.744769129Z\",\"name\":\"iio.in_temp_input\",\"value\":28370,\"meta\":{\"host\":\"0000dca632a3061a.ws-rpi\",\"job\":\"sage\",\"node\":\"000048b02d15bc72\",\"plugin\":\"plugin-iio:0.4.2\",\"sensor\":\"bme680\",\"task\":\"iio-rpi\",\"vsn\":\"W018\"}}\\n{\"timestamp\":\"2021-09-22T19:53:21.170029066Z\",\"name\":\"iio.in_temp_input\",\"value\":29460,\"meta\":{\"host\":\"0000dca632a30642.ws-rpi\",\"job\":\"sage\",\"node\":\"000048b02d0766d2\",\"plugin\":\"plugin-iio:0.4.2\",\"sensor\":\"bme680\",\"task\":\"iio-rpi\",\"vsn\":\"W000\"}}\\n{\"timestamp\":\"2021-09-22T19:53:26.000780838Z\",\"name\":\"iio.in_temp_input\",\"value\":19930,\"meta\":{\"host\":\"0000dca632a307bf.ws-rpi\",\"job\":\"sage\",\"node\":\"000048b02d15bc7d\",\"plugin\":\"plugin-iio:0.3.0\",\"sensor\":\"bme680\",\"task\":\"plugin-iio\",\"vsn\":\"W028\"}}\\n{\"timestamp\":\"2021-09-22T19:53:22.584270929Z\",\"name\":\"iio.in_temp_input\",\"value\":19280,\"meta\":{\"host\":\"0000dca632a307e6.ws-rpi\",\"job\":\"sage\",\"node\":\"000048b02d05a1c2\",\"plugin\":\"plugin-iio:0.4.2\",\"sensor\":\"bme680\",\"task\":\"iio-rpi\",\"vsn\":\"W02C\"}}\\n'"
      ]
     },
     "execution_count": 6,
     "metadata": {},
     "output_type": "execute_result"
    }
   ],
   "source": [
    "response.content"
   ]
  },
  {
   "cell_type": "code",
   "execution_count": 7,
   "id": "d8706a4e",
   "metadata": {
    "scrolled": false
   },
   "outputs": [
    {
     "data": {
      "text/plain": [
       "'{\"timestamp\":\"2021-09-22T19:53:20.386799049Z\",\"name\":\"env.pressure\",\"value\":99414,\"meta\":{\"host\":\"0000dca632a305be.ws-rpi\",\"job\":\"sage\",\"node\":\"000048b02d15bda5\",\"plugin\":\"plugin-iio:0.3.0\",\"sensor\":\"bme680\",\"task\":\"plugin-iio\",\"vsn\":\"W022\"}}\\n{\"timestamp\":\"2021-09-22T19:53:29.750831611Z\",\"name\":\"env.pressure\",\"value\":99180,\"meta\":{\"host\":\"0000dca632a3061a.ws-rpi\",\"job\":\"sage\",\"node\":\"000048b02d15bc72\",\"plugin\":\"plugin-iio:0.4.2\",\"sensor\":\"bme680\",\"task\":\"iio-rpi\",\"vsn\":\"W018\"}}\\n{\"timestamp\":\"2021-09-22T19:53:21.162644962Z\",\"name\":\"env.pressure\",\"value\":100169,\"meta\":{\"host\":\"0000dca632a30642.ws-rpi\",\"job\":\"sage\",\"node\":\"000048b02d0766d2\",\"plugin\":\"plugin-iio:0.4.2\",\"sensor\":\"bme680\",\"task\":\"iio-rpi\",\"vsn\":\"W000\"}}\\n{\"timestamp\":\"2021-09-22T19:53:25.998772128Z\",\"name\":\"env.pressure\",\"value\":99026,\"meta\":{\"host\":\"0000dca632a307bf.ws-rpi\",\"job\":\"sage\",\"node\":\"000048b02d15bc7d\",\"plugin\":\"plugin-iio:0.3.0\",\"sensor\":\"bme680\",\"task\":\"plugin-iio\",\"vsn\":\"W028\"}}\\n{\"timestamp\":\"2021-09-22T19:53:22.59278752Z\",\"name\":\"env.pressure\",\"value\":99374,\"meta\":{\"host\":\"0000dca632a307e6.ws-rpi\",\"job\":\"sage\",\"node\":\"000048b02d05a1c2\",\"plugin\":\"plugin-iio:0.4.2\",\"sensor\":\"bme680\",\"task\":\"iio-rpi\",\"vsn\":\"W02C\"}}\\n{\"timestamp\":\"2021-09-22T19:53:20.384686779Z\",\"name\":\"env.relative_humidity\",\"value\":66.556,\"meta\":{\"host\":\"0000dca632a305be.ws-rpi\",\"job\":\"sage\",\"node\":\"000048b02d15bda5\",\"plugin\":\"plugin-iio:0.3.0\",\"sensor\":\"bme680\",\"task\":\"plugin-iio\",\"vsn\":\"W022\"}}\\n{\"timestamp\":\"2021-09-22T19:53:29.748297575Z\",\"name\":\"env.relative_humidity\",\"value\":28.747,\"meta\":{\"host\":\"0000dca632a3061a.ws-rpi\",\"job\":\"sage\",\"node\":\"000048b02d15bc72\",\"plugin\":\"plugin-iio:0.4.2\",\"sensor\":\"bme680\",\"task\":\"iio-rpi\",\"vsn\":\"W018\"}}\\n{\"timestamp\":\"2021-09-22T19:53:21.167708186Z\",\"name\":\"env.relative_humidity\",\"value\":26.282,\"meta\":{\"host\":\"0000dca632a30642.ws-rpi\",\"job\":\"sage\",\"node\":\"000048b02d0766d2\",\"plugin\":\"plugin-iio:0.4.2\",\"sensor\":\"bme680\",\"task\":\"iio-rpi\",\"vsn\":\"W000\"}}\\n{\"timestamp\":\"2021-09-22T19:53:26.007954321Z\",\"name\":\"env.relative_humidity\",\"value\":37.13,\"meta\":{\"host\":\"0000dca632a307bf.ws-rpi\",\"job\":\"sage\",\"node\":\"000048b02d15bc7d\",\"plugin\":\"plugin-iio:0.3.0\",\"sensor\":\"bme680\",\"task\":\"plugin-iio\",\"vsn\":\"W028\"}}\\n{\"timestamp\":\"2021-09-22T19:53:22.588083093Z\",\"name\":\"env.relative_humidity\",\"value\":61.58,\"meta\":{\"host\":\"0000dca632a307e6.ws-rpi\",\"job\":\"sage\",\"node\":\"000048b02d05a1c2\",\"plugin\":\"plugin-iio:0.4.2\",\"sensor\":\"bme680\",\"task\":\"iio-rpi\",\"vsn\":\"W02C\"}}\\n{\"timestamp\":\"2021-09-22T19:53:20.378400487Z\",\"name\":\"env.temperature\",\"value\":18.86,\"meta\":{\"host\":\"0000dca632a305be.ws-rpi\",\"job\":\"sage\",\"node\":\"000048b02d15bda5\",\"plugin\":\"plugin-iio:0.3.0\",\"sensor\":\"bme680\",\"task\":\"plugin-iio\",\"vsn\":\"W022\"}}\\n{\"timestamp\":\"2021-09-22T19:53:29.744964015Z\",\"name\":\"env.temperature\",\"value\":28.37,\"meta\":{\"host\":\"0000dca632a3061a.ws-rpi\",\"job\":\"sage\",\"node\":\"000048b02d15bc72\",\"plugin\":\"plugin-iio:0.4.2\",\"sensor\":\"bme680\",\"task\":\"iio-rpi\",\"vsn\":\"W018\"}}\\n{\"timestamp\":\"2021-09-22T19:53:21.170146622Z\",\"name\":\"env.temperature\",\"value\":29.46,\"meta\":{\"host\":\"0000dca632a30642.ws-rpi\",\"job\":\"sage\",\"node\":\"000048b02d0766d2\",\"plugin\":\"plugin-iio:0.4.2\",\"sensor\":\"bme680\",\"task\":\"iio-rpi\",\"vsn\":\"W000\"}}\\n{\"timestamp\":\"2021-09-22T19:53:26.000967483Z\",\"name\":\"env.temperature\",\"value\":19.93,\"meta\":{\"host\":\"0000dca632a307bf.ws-rpi\",\"job\":\"sage\",\"node\":\"000048b02d15bc7d\",\"plugin\":\"plugin-iio:0.3.0\",\"sensor\":\"bme680\",\"task\":\"plugin-iio\",\"vsn\":\"W028\"}}\\n{\"timestamp\":\"2021-09-22T19:53:22.584373002Z\",\"name\":\"env.temperature\",\"value\":19.28,\"meta\":{\"host\":\"0000dca632a307e6.ws-rpi\",\"job\":\"sage\",\"node\":\"000048b02d05a1c2\",\"plugin\":\"plugin-iio:0.4.2\",\"sensor\":\"bme680\",\"task\":\"iio-rpi\",\"vsn\":\"W02C\"}}\\n{\"timestamp\":\"2021-09-22T19:53:20.384620613Z\",\"name\":\"iio.in_humidityrelative_input\",\"value\":66.556,\"meta\":{\"host\":\"0000dca632a305be.ws-rpi\",\"job\":\"sage\",\"node\":\"000048b02d15bda5\",\"plugin\":\"plugin-iio:0.3.0\",\"sensor\":\"bme680\",\"task\":\"plugin-iio\",\"vsn\":\"W022\"}}\\n{\"timestamp\":\"2021-09-22T19:53:29.748091745Z\",\"name\":\"iio.in_humidityrelative_input\",\"value\":28.747,\"meta\":{\"host\":\"0000dca632a3061a.ws-rpi\",\"job\":\"sage\",\"node\":\"000048b02d15bc72\",\"plugin\":\"plugin-iio:0.4.2\",\"sensor\":\"bme680\",\"task\":\"iio-rpi\",\"vsn\":\"W018\"}}\\n{\"timestamp\":\"2021-09-22T19:53:21.167596704Z\",\"name\":\"iio.in_humidityrelative_input\",\"value\":26.282,\"meta\":{\"host\":\"0000dca632a30642.ws-rpi\",\"job\":\"sage\",\"node\":\"000048b02d0766d2\",\"plugin\":\"plugin-iio:0.4.2\",\"sensor\":\"bme680\",\"task\":\"iio-rpi\",\"vsn\":\"W000\"}}\\n{\"timestamp\":\"2021-09-22T19:53:26.007787639Z\",\"name\":\"iio.in_humidityrelative_input\",\"value\":37.13,\"meta\":{\"host\":\"0000dca632a307bf.ws-rpi\",\"job\":\"sage\",\"node\":\"000048b02d15bc7d\",\"plugin\":\"plugin-iio:0.3.0\",\"sensor\":\"bme680\",\"task\":\"plugin-iio\",\"vsn\":\"W028\"}}\\n{\"timestamp\":\"2021-09-22T19:53:22.587683895Z\",\"name\":\"iio.in_humidityrelative_input\",\"value\":61.58,\"meta\":{\"host\":\"0000dca632a307e6.ws-rpi\",\"job\":\"sage\",\"node\":\"000048b02d05a1c2\",\"plugin\":\"plugin-iio:0.4.2\",\"sensor\":\"bme680\",\"task\":\"iio-rpi\",\"vsn\":\"W02C\"}}\\n{\"timestamp\":\"2021-09-22T19:53:20.386687921Z\",\"name\":\"iio.in_pressure_input\",\"value\":994.14,\"meta\":{\"host\":\"0000dca632a305be.ws-rpi\",\"job\":\"sage\",\"node\":\"000048b02d15bda5\",\"plugin\":\"plugin-iio:0.3.0\",\"sensor\":\"bme680\",\"task\":\"plugin-iio\",\"vsn\":\"W022\"}}\\n{\"timestamp\":\"2021-09-22T19:53:29.75068302Z\",\"name\":\"iio.in_pressure_input\",\"value\":991.8,\"meta\":{\"host\":\"0000dca632a3061a.ws-rpi\",\"job\":\"sage\",\"node\":\"000048b02d15bc72\",\"plugin\":\"plugin-iio:0.4.2\",\"sensor\":\"bme680\",\"task\":\"iio-rpi\",\"vsn\":\"W018\"}}\\n{\"timestamp\":\"2021-09-22T19:53:21.162534758Z\",\"name\":\"iio.in_pressure_input\",\"value\":1001.69,\"meta\":{\"host\":\"0000dca632a30642.ws-rpi\",\"job\":\"sage\",\"node\":\"000048b02d0766d2\",\"plugin\":\"plugin-iio:0.4.2\",\"sensor\":\"bme680\",\"task\":\"iio-rpi\",\"vsn\":\"W000\"}}\\n{\"timestamp\":\"2021-09-22T19:53:25.998669537Z\",\"name\":\"iio.in_pressure_input\",\"value\":990.26,\"meta\":{\"host\":\"0000dca632a307bf.ws-rpi\",\"job\":\"sage\",\"node\":\"000048b02d15bc7d\",\"plugin\":\"plugin-iio:0.3.0\",\"sensor\":\"bme680\",\"task\":\"plugin-iio\",\"vsn\":\"W028\"}}\\n{\"timestamp\":\"2021-09-22T19:53:22.592324231Z\",\"name\":\"iio.in_pressure_input\",\"value\":993.74,\"meta\":{\"host\":\"0000dca632a307e6.ws-rpi\",\"job\":\"sage\",\"node\":\"000048b02d05a1c2\",\"plugin\":\"plugin-iio:0.4.2\",\"sensor\":\"bme680\",\"task\":\"iio-rpi\",\"vsn\":\"W02C\"}}\\n{\"timestamp\":\"2021-09-22T19:53:20.381420246Z\",\"name\":\"iio.in_resistance_input\",\"value\":158161,\"meta\":{\"host\":\"0000dca632a305be.ws-rpi\",\"job\":\"sage\",\"node\":\"000048b02d15bda5\",\"plugin\":\"plugin-iio:0.3.0\",\"sensor\":\"bme680\",\"task\":\"plugin-iio\",\"vsn\":\"W022\"}}\\n{\"timestamp\":\"2021-09-22T19:53:29.754001118Z\",\"name\":\"iio.in_resistance_input\",\"value\":195795,\"meta\":{\"host\":\"0000dca632a3061a.ws-rpi\",\"job\":\"sage\",\"node\":\"000048b02d15bc72\",\"plugin\":\"plugin-iio:0.4.2\",\"sensor\":\"bme680\",\"task\":\"iio-rpi\",\"vsn\":\"W018\"}}\\n{\"timestamp\":\"2021-09-22T19:53:21.1656059Z\",\"name\":\"iio.in_resistance_input\",\"value\":61081,\"meta\":{\"host\":\"0000dca632a30642.ws-rpi\",\"job\":\"sage\",\"node\":\"000048b02d0766d2\",\"plugin\":\"plugin-iio:0.4.2\",\"sensor\":\"bme680\",\"task\":\"iio-rpi\",\"vsn\":\"W000\"}}\\n{\"timestamp\":\"2021-09-22T19:53:26.004011715Z\",\"name\":\"iio.in_resistance_input\",\"value\":717716,\"meta\":{\"host\":\"0000dca632a307bf.ws-rpi\",\"job\":\"sage\",\"node\":\"000048b02d15bc7d\",\"plugin\":\"plugin-iio:0.3.0\",\"sensor\":\"bme680\",\"task\":\"plugin-iio\",\"vsn\":\"W028\"}}\\n{\"timestamp\":\"2021-09-22T19:53:22.597338246Z\",\"name\":\"iio.in_resistance_input\",\"value\":275548,\"meta\":{\"host\":\"0000dca632a307e6.ws-rpi\",\"job\":\"sage\",\"node\":\"000048b02d05a1c2\",\"plugin\":\"plugin-iio:0.4.2\",\"sensor\":\"bme680\",\"task\":\"iio-rpi\",\"vsn\":\"W02C\"}}\\n{\"timestamp\":\"2021-09-22T19:53:20.378211249Z\",\"name\":\"iio.in_temp_input\",\"value\":18860,\"meta\":{\"host\":\"0000dca632a305be.ws-rpi\",\"job\":\"sage\",\"node\":\"000048b02d15bda5\",\"plugin\":\"plugin-iio:0.3.0\",\"sensor\":\"bme680\",\"task\":\"plugin-iio\",\"vsn\":\"W022\"}}\\n{\"timestamp\":\"2021-09-22T19:53:29.744769129Z\",\"name\":\"iio.in_temp_input\",\"value\":28370,\"meta\":{\"host\":\"0000dca632a3061a.ws-rpi\",\"job\":\"sage\",\"node\":\"000048b02d15bc72\",\"plugin\":\"plugin-iio:0.4.2\",\"sensor\":\"bme680\",\"task\":\"iio-rpi\",\"vsn\":\"W018\"}}\\n{\"timestamp\":\"2021-09-22T19:53:21.170029066Z\",\"name\":\"iio.in_temp_input\",\"value\":29460,\"meta\":{\"host\":\"0000dca632a30642.ws-rpi\",\"job\":\"sage\",\"node\":\"000048b02d0766d2\",\"plugin\":\"plugin-iio:0.4.2\",\"sensor\":\"bme680\",\"task\":\"iio-rpi\",\"vsn\":\"W000\"}}\\n{\"timestamp\":\"2021-09-22T19:53:26.000780838Z\",\"name\":\"iio.in_temp_input\",\"value\":19930,\"meta\":{\"host\":\"0000dca632a307bf.ws-rpi\",\"job\":\"sage\",\"node\":\"000048b02d15bc7d\",\"plugin\":\"plugin-iio:0.3.0\",\"sensor\":\"bme680\",\"task\":\"plugin-iio\",\"vsn\":\"W028\"}}\\n{\"timestamp\":\"2021-09-22T19:53:22.584270929Z\",\"name\":\"iio.in_temp_input\",\"value\":19280,\"meta\":{\"host\":\"0000dca632a307e6.ws-rpi\",\"job\":\"sage\",\"node\":\"000048b02d05a1c2\",\"plugin\":\"plugin-iio:0.4.2\",\"sensor\":\"bme680\",\"task\":\"iio-rpi\",\"vsn\":\"W02C\"}}\\n'"
      ]
     },
     "execution_count": 7,
     "metadata": {},
     "output_type": "execute_result"
    }
   ],
   "source": [
    "response.text"
   ]
  },
  {
   "cell_type": "code",
   "execution_count": 30,
   "id": "977ffe08",
   "metadata": {},
   "outputs": [
    {
     "ename": "JSONDecodeError",
     "evalue": "Extra data: line 2 column 1 - line 5 column 1 (char 335 - 1339)",
     "output_type": "error",
     "traceback": [
      "\u001b[1;31m---------------------------------------------------------------------------\u001b[0m",
      "\u001b[1;31mJSONDecodeError\u001b[0m                           Traceback (most recent call last)",
      "\u001b[1;32m~\\AppData\\Local\\Temp/ipykernel_1532/690762135.py\u001b[0m in \u001b[0;36m<module>\u001b[1;34m\u001b[0m\n\u001b[1;32m----> 1\u001b[1;33m \u001b[0mresponse\u001b[0m\u001b[1;33m.\u001b[0m\u001b[0mjson\u001b[0m\u001b[1;33m(\u001b[0m\u001b[1;33m)\u001b[0m\u001b[1;33m\u001b[0m\u001b[1;33m\u001b[0m\u001b[0m\n\u001b[0m",
      "\u001b[1;32m~\\Anaconda3\\lib\\site-packages\\requests\\models.py\u001b[0m in \u001b[0;36mjson\u001b[1;34m(self, **kwargs)\u001b[0m\n\u001b[0;32m    898\u001b[0m                     \u001b[1;31m# used.\u001b[0m\u001b[1;33m\u001b[0m\u001b[1;33m\u001b[0m\u001b[1;33m\u001b[0m\u001b[0m\n\u001b[0;32m    899\u001b[0m                     \u001b[1;32mpass\u001b[0m\u001b[1;33m\u001b[0m\u001b[1;33m\u001b[0m\u001b[0m\n\u001b[1;32m--> 900\u001b[1;33m         \u001b[1;32mreturn\u001b[0m \u001b[0mcomplexjson\u001b[0m\u001b[1;33m.\u001b[0m\u001b[0mloads\u001b[0m\u001b[1;33m(\u001b[0m\u001b[0mself\u001b[0m\u001b[1;33m.\u001b[0m\u001b[0mtext\u001b[0m\u001b[1;33m,\u001b[0m \u001b[1;33m**\u001b[0m\u001b[0mkwargs\u001b[0m\u001b[1;33m)\u001b[0m\u001b[1;33m\u001b[0m\u001b[1;33m\u001b[0m\u001b[0m\n\u001b[0m\u001b[0;32m    901\u001b[0m \u001b[1;33m\u001b[0m\u001b[0m\n\u001b[0;32m    902\u001b[0m     \u001b[1;33m@\u001b[0m\u001b[0mproperty\u001b[0m\u001b[1;33m\u001b[0m\u001b[1;33m\u001b[0m\u001b[0m\n",
      "\u001b[1;32m~\\Anaconda3\\lib\\site-packages\\simplejson\\__init__.py\u001b[0m in \u001b[0;36mloads\u001b[1;34m(s, encoding, cls, object_hook, parse_float, parse_int, parse_constant, object_pairs_hook, use_decimal, **kw)\u001b[0m\n\u001b[0;32m    523\u001b[0m             \u001b[0mparse_constant\u001b[0m \u001b[1;32mis\u001b[0m \u001b[1;32mNone\u001b[0m \u001b[1;32mand\u001b[0m \u001b[0mobject_pairs_hook\u001b[0m \u001b[1;32mis\u001b[0m \u001b[1;32mNone\u001b[0m\u001b[1;33m\u001b[0m\u001b[1;33m\u001b[0m\u001b[0m\n\u001b[0;32m    524\u001b[0m             and not use_decimal and not kw):\n\u001b[1;32m--> 525\u001b[1;33m         \u001b[1;32mreturn\u001b[0m \u001b[0m_default_decoder\u001b[0m\u001b[1;33m.\u001b[0m\u001b[0mdecode\u001b[0m\u001b[1;33m(\u001b[0m\u001b[0ms\u001b[0m\u001b[1;33m)\u001b[0m\u001b[1;33m\u001b[0m\u001b[1;33m\u001b[0m\u001b[0m\n\u001b[0m\u001b[0;32m    526\u001b[0m     \u001b[1;32mif\u001b[0m \u001b[0mcls\u001b[0m \u001b[1;32mis\u001b[0m \u001b[1;32mNone\u001b[0m\u001b[1;33m:\u001b[0m\u001b[1;33m\u001b[0m\u001b[1;33m\u001b[0m\u001b[0m\n\u001b[0;32m    527\u001b[0m         \u001b[0mcls\u001b[0m \u001b[1;33m=\u001b[0m \u001b[0mJSONDecoder\u001b[0m\u001b[1;33m\u001b[0m\u001b[1;33m\u001b[0m\u001b[0m\n",
      "\u001b[1;32m~\\Anaconda3\\lib\\site-packages\\simplejson\\decoder.py\u001b[0m in \u001b[0;36mdecode\u001b[1;34m(self, s, _w, _PY3)\u001b[0m\n\u001b[0;32m    371\u001b[0m         \u001b[0mend\u001b[0m \u001b[1;33m=\u001b[0m \u001b[0m_w\u001b[0m\u001b[1;33m(\u001b[0m\u001b[0ms\u001b[0m\u001b[1;33m,\u001b[0m \u001b[0mend\u001b[0m\u001b[1;33m)\u001b[0m\u001b[1;33m.\u001b[0m\u001b[0mend\u001b[0m\u001b[1;33m(\u001b[0m\u001b[1;33m)\u001b[0m\u001b[1;33m\u001b[0m\u001b[1;33m\u001b[0m\u001b[0m\n\u001b[0;32m    372\u001b[0m         \u001b[1;32mif\u001b[0m \u001b[0mend\u001b[0m \u001b[1;33m!=\u001b[0m \u001b[0mlen\u001b[0m\u001b[1;33m(\u001b[0m\u001b[0ms\u001b[0m\u001b[1;33m)\u001b[0m\u001b[1;33m:\u001b[0m\u001b[1;33m\u001b[0m\u001b[1;33m\u001b[0m\u001b[0m\n\u001b[1;32m--> 373\u001b[1;33m             \u001b[1;32mraise\u001b[0m \u001b[0mJSONDecodeError\u001b[0m\u001b[1;33m(\u001b[0m\u001b[1;34m\"Extra data\"\u001b[0m\u001b[1;33m,\u001b[0m \u001b[0ms\u001b[0m\u001b[1;33m,\u001b[0m \u001b[0mend\u001b[0m\u001b[1;33m,\u001b[0m \u001b[0mlen\u001b[0m\u001b[1;33m(\u001b[0m\u001b[0ms\u001b[0m\u001b[1;33m)\u001b[0m\u001b[1;33m)\u001b[0m\u001b[1;33m\u001b[0m\u001b[1;33m\u001b[0m\u001b[0m\n\u001b[0m\u001b[0;32m    374\u001b[0m         \u001b[1;32mreturn\u001b[0m \u001b[0mobj\u001b[0m\u001b[1;33m\u001b[0m\u001b[1;33m\u001b[0m\u001b[0m\n\u001b[0;32m    375\u001b[0m \u001b[1;33m\u001b[0m\u001b[0m\n",
      "\u001b[1;31mJSONDecodeError\u001b[0m: Extra data: line 2 column 1 - line 5 column 1 (char 335 - 1339)"
     ]
    }
   ],
   "source": [
    "response.json()"
   ]
  },
  {
   "cell_type": "code",
   "execution_count": 8,
   "id": "b56bf0e2",
   "metadata": {},
   "outputs": [
    {
     "name": "stdout",
     "output_type": "stream",
     "text": [
      "<class 'bytes'>\n",
      "<class 'bytes'>\n",
      "<class 'bytes'>\n",
      "<class 'bytes'>\n",
      "<class 'bytes'>\n",
      "<class 'bytes'>\n",
      "<class 'bytes'>\n",
      "<class 'bytes'>\n",
      "<class 'bytes'>\n",
      "<class 'bytes'>\n",
      "<class 'bytes'>\n",
      "<class 'bytes'>\n",
      "<class 'bytes'>\n",
      "<class 'bytes'>\n",
      "<class 'bytes'>\n",
      "<class 'bytes'>\n",
      "<class 'bytes'>\n",
      "<class 'bytes'>\n",
      "<class 'bytes'>\n",
      "<class 'bytes'>\n",
      "<class 'bytes'>\n",
      "<class 'bytes'>\n",
      "<class 'bytes'>\n",
      "<class 'bytes'>\n",
      "<class 'bytes'>\n",
      "<class 'bytes'>\n",
      "<class 'bytes'>\n",
      "<class 'bytes'>\n",
      "<class 'bytes'>\n",
      "<class 'bytes'>\n",
      "<class 'bytes'>\n",
      "<class 'bytes'>\n",
      "<class 'bytes'>\n",
      "<class 'bytes'>\n",
      "<class 'bytes'>\n"
     ]
    }
   ],
   "source": [
    "\n",
    "for line in response.iter_lines():\n",
    "    if line: print(type(line))\n",
    "        "
   ]
  },
  {
   "cell_type": "code",
   "execution_count": 9,
   "id": "e9109ddc",
   "metadata": {},
   "outputs": [
    {
     "name": "stdout",
     "output_type": "stream",
     "text": [
      "b'{\"timestamp\":\"2021-09-22T19:53:20.386799049Z\",\"name\":\"env.pressure\",\"value\":99414,\"meta\":{\"host\":\"0000dca632a305be.ws-rpi\",\"job\":\"sage\",\"node\":\"000048b02d15bda5\",\"plugin\":\"plugin-iio:0.3.0\",\"sensor\":\"bme680\",\"task\":\"plugin-iio\",\"vsn\":\"W022\"}}'\n",
      "b'{\"timestamp\":\"2021-09-22T19:53:29.750831611Z\",\"name\":\"env.pressure\",\"value\":99180,\"meta\":{\"host\":\"0000dca632a3061a.ws-rpi\",\"job\":\"sage\",\"node\":\"000048b02d15bc72\",\"plugin\":\"plugin-iio:0.4.2\",\"sensor\":\"bme680\",\"task\":\"iio-rpi\",\"vsn\":\"W018\"}}'\n",
      "b'{\"timestamp\":\"2021-09-22T19:53:21.162644962Z\",\"name\":\"env.pressure\",\"value\":100169,\"meta\":{\"host\":\"0000dca632a30642.ws-rpi\",\"job\":\"sage\",\"node\":\"000048b02d0766d2\",\"plugin\":\"plugin-iio:0.4.2\",\"sensor\":\"bme680\",\"task\":\"iio-rpi\",\"vsn\":\"W000\"}}'\n",
      "b'{\"timestamp\":\"2021-09-22T19:53:25.998772128Z\",\"name\":\"env.pressure\",\"value\":99026,\"meta\":{\"host\":\"0000dca632a307bf.ws-rpi\",\"job\":\"sage\",\"node\":\"000048b02d15bc7d\",\"plugin\":\"plugin-iio:0.3.0\",\"sensor\":\"bme680\",\"task\":\"plugin-iio\",\"vsn\":\"W028\"}}'\n",
      "b'{\"timestamp\":\"2021-09-22T19:53:22.59278752Z\",\"name\":\"env.pressure\",\"value\":99374,\"meta\":{\"host\":\"0000dca632a307e6.ws-rpi\",\"job\":\"sage\",\"node\":\"000048b02d05a1c2\",\"plugin\":\"plugin-iio:0.4.2\",\"sensor\":\"bme680\",\"task\":\"iio-rpi\",\"vsn\":\"W02C\"}}'\n",
      "b'{\"timestamp\":\"2021-09-22T19:53:20.384686779Z\",\"name\":\"env.relative_humidity\",\"value\":66.556,\"meta\":{\"host\":\"0000dca632a305be.ws-rpi\",\"job\":\"sage\",\"node\":\"000048b02d15bda5\",\"plugin\":\"plugin-iio:0.3.0\",\"sensor\":\"bme680\",\"task\":\"plugin-iio\",\"vsn\":\"W022\"}}'\n",
      "b'{\"timestamp\":\"2021-09-22T19:53:29.748297575Z\",\"name\":\"env.relative_humidity\",\"value\":28.747,\"meta\":{\"host\":\"0000dca632a3061a.ws-rpi\",\"job\":\"sage\",\"node\":\"000048b02d15bc72\",\"plugin\":\"plugin-iio:0.4.2\",\"sensor\":\"bme680\",\"task\":\"iio-rpi\",\"vsn\":\"W018\"}}'\n",
      "b'{\"timestamp\":\"2021-09-22T19:53:21.167708186Z\",\"name\":\"env.relative_humidity\",\"value\":26.282,\"meta\":{\"host\":\"0000dca632a30642.ws-rpi\",\"job\":\"sage\",\"node\":\"000048b02d0766d2\",\"plugin\":\"plugin-iio:0.4.2\",\"sensor\":\"bme680\",\"task\":\"iio-rpi\",\"vsn\":\"W000\"}}'\n",
      "b'{\"timestamp\":\"2021-09-22T19:53:26.007954321Z\",\"name\":\"env.relative_humidity\",\"value\":37.13,\"meta\":{\"host\":\"0000dca632a307bf.ws-rpi\",\"job\":\"sage\",\"node\":\"000048b02d15bc7d\",\"plugin\":\"plugin-iio:0.3.0\",\"sensor\":\"bme680\",\"task\":\"plugin-iio\",\"vsn\":\"W028\"}}'\n",
      "b'{\"timestamp\":\"2021-09-22T19:53:22.588083093Z\",\"name\":\"env.relative_humidity\",\"value\":61.58,\"meta\":{\"host\":\"0000dca632a307e6.ws-rpi\",\"job\":\"sage\",\"node\":\"000048b02d05a1c2\",\"plugin\":\"plugin-iio:0.4.2\",\"sensor\":\"bme680\",\"task\":\"iio-rpi\",\"vsn\":\"W02C\"}}'\n",
      "b'{\"timestamp\":\"2021-09-22T19:53:20.378400487Z\",\"name\":\"env.temperature\",\"value\":18.86,\"meta\":{\"host\":\"0000dca632a305be.ws-rpi\",\"job\":\"sage\",\"node\":\"000048b02d15bda5\",\"plugin\":\"plugin-iio:0.3.0\",\"sensor\":\"bme680\",\"task\":\"plugin-iio\",\"vsn\":\"W022\"}}'\n",
      "b'{\"timestamp\":\"2021-09-22T19:53:29.744964015Z\",\"name\":\"env.temperature\",\"value\":28.37,\"meta\":{\"host\":\"0000dca632a3061a.ws-rpi\",\"job\":\"sage\",\"node\":\"000048b02d15bc72\",\"plugin\":\"plugin-iio:0.4.2\",\"sensor\":\"bme680\",\"task\":\"iio-rpi\",\"vsn\":\"W018\"}}'\n",
      "b'{\"timestamp\":\"2021-09-22T19:53:21.170146622Z\",\"name\":\"env.temperature\",\"value\":29.46,\"meta\":{\"host\":\"0000dca632a30642.ws-rpi\",\"job\":\"sage\",\"node\":\"000048b02d0766d2\",\"plugin\":\"plugin-iio:0.4.2\",\"sensor\":\"bme680\",\"task\":\"iio-rpi\",\"vsn\":\"W000\"}}'\n",
      "b'{\"timestamp\":\"2021-09-22T19:53:26.000967483Z\",\"name\":\"env.temperature\",\"value\":19.93,\"meta\":{\"host\":\"0000dca632a307bf.ws-rpi\",\"job\":\"sage\",\"node\":\"000048b02d15bc7d\",\"plugin\":\"plugin-iio:0.3.0\",\"sensor\":\"bme680\",\"task\":\"plugin-iio\",\"vsn\":\"W028\"}}'\n",
      "b'{\"timestamp\":\"2021-09-22T19:53:22.584373002Z\",\"name\":\"env.temperature\",\"value\":19.28,\"meta\":{\"host\":\"0000dca632a307e6.ws-rpi\",\"job\":\"sage\",\"node\":\"000048b02d05a1c2\",\"plugin\":\"plugin-iio:0.4.2\",\"sensor\":\"bme680\",\"task\":\"iio-rpi\",\"vsn\":\"W02C\"}}'\n",
      "b'{\"timestamp\":\"2021-09-22T19:53:20.384620613Z\",\"name\":\"iio.in_humidityrelative_input\",\"value\":66.556,\"meta\":{\"host\":\"0000dca632a305be.ws-rpi\",\"job\":\"sage\",\"node\":\"000048b02d15bda5\",\"plugin\":\"plugin-iio:0.3.0\",\"sensor\":\"bme680\",\"task\":\"plugin-iio\",\"vsn\":\"W022\"}}'\n",
      "b'{\"timestamp\":\"2021-09-22T19:53:29.748091745Z\",\"name\":\"iio.in_humidityrelative_input\",\"value\":28.747,\"meta\":{\"host\":\"0000dca632a3061a.ws-rpi\",\"job\":\"sage\",\"node\":\"000048b02d15bc72\",\"plugin\":\"plugin-iio:0.4.2\",\"sensor\":\"bme680\",\"task\":\"iio-rpi\",\"vsn\":\"W018\"}}'\n",
      "b'{\"timestamp\":\"2021-09-22T19:53:21.167596704Z\",\"name\":\"iio.in_humidityrelative_input\",\"value\":26.282,\"meta\":{\"host\":\"0000dca632a30642.ws-rpi\",\"job\":\"sage\",\"node\":\"000048b02d0766d2\",\"plugin\":\"plugin-iio:0.4.2\",\"sensor\":\"bme680\",\"task\":\"iio-rpi\",\"vsn\":\"W000\"}}'\n",
      "b'{\"timestamp\":\"2021-09-22T19:53:26.007787639Z\",\"name\":\"iio.in_humidityrelative_input\",\"value\":37.13,\"meta\":{\"host\":\"0000dca632a307bf.ws-rpi\",\"job\":\"sage\",\"node\":\"000048b02d15bc7d\",\"plugin\":\"plugin-iio:0.3.0\",\"sensor\":\"bme680\",\"task\":\"plugin-iio\",\"vsn\":\"W028\"}}'\n",
      "b'{\"timestamp\":\"2021-09-22T19:53:22.587683895Z\",\"name\":\"iio.in_humidityrelative_input\",\"value\":61.58,\"meta\":{\"host\":\"0000dca632a307e6.ws-rpi\",\"job\":\"sage\",\"node\":\"000048b02d05a1c2\",\"plugin\":\"plugin-iio:0.4.2\",\"sensor\":\"bme680\",\"task\":\"iio-rpi\",\"vsn\":\"W02C\"}}'\n",
      "b'{\"timestamp\":\"2021-09-22T19:53:20.386687921Z\",\"name\":\"iio.in_pressure_input\",\"value\":994.14,\"meta\":{\"host\":\"0000dca632a305be.ws-rpi\",\"job\":\"sage\",\"node\":\"000048b02d15bda5\",\"plugin\":\"plugin-iio:0.3.0\",\"sensor\":\"bme680\",\"task\":\"plugin-iio\",\"vsn\":\"W022\"}}'\n",
      "b'{\"timestamp\":\"2021-09-22T19:53:29.75068302Z\",\"name\":\"iio.in_pressure_input\",\"value\":991.8,\"meta\":{\"host\":\"0000dca632a3061a.ws-rpi\",\"job\":\"sage\",\"node\":\"000048b02d15bc72\",\"plugin\":\"plugin-iio:0.4.2\",\"sensor\":\"bme680\",\"task\":\"iio-rpi\",\"vsn\":\"W018\"}}'\n",
      "b'{\"timestamp\":\"2021-09-22T19:53:21.162534758Z\",\"name\":\"iio.in_pressure_input\",\"value\":1001.69,\"meta\":{\"host\":\"0000dca632a30642.ws-rpi\",\"job\":\"sage\",\"node\":\"000048b02d0766d2\",\"plugin\":\"plugin-iio:0.4.2\",\"sensor\":\"bme680\",\"task\":\"iio-rpi\",\"vsn\":\"W000\"}}'\n",
      "b'{\"timestamp\":\"2021-09-22T19:53:25.998669537Z\",\"name\":\"iio.in_pressure_input\",\"value\":990.26,\"meta\":{\"host\":\"0000dca632a307bf.ws-rpi\",\"job\":\"sage\",\"node\":\"000048b02d15bc7d\",\"plugin\":\"plugin-iio:0.3.0\",\"sensor\":\"bme680\",\"task\":\"plugin-iio\",\"vsn\":\"W028\"}}'\n",
      "b'{\"timestamp\":\"2021-09-22T19:53:22.592324231Z\",\"name\":\"iio.in_pressure_input\",\"value\":993.74,\"meta\":{\"host\":\"0000dca632a307e6.ws-rpi\",\"job\":\"sage\",\"node\":\"000048b02d05a1c2\",\"plugin\":\"plugin-iio:0.4.2\",\"sensor\":\"bme680\",\"task\":\"iio-rpi\",\"vsn\":\"W02C\"}}'\n",
      "b'{\"timestamp\":\"2021-09-22T19:53:20.381420246Z\",\"name\":\"iio.in_resistance_input\",\"value\":158161,\"meta\":{\"host\":\"0000dca632a305be.ws-rpi\",\"job\":\"sage\",\"node\":\"000048b02d15bda5\",\"plugin\":\"plugin-iio:0.3.0\",\"sensor\":\"bme680\",\"task\":\"plugin-iio\",\"vsn\":\"W022\"}}'\n",
      "b'{\"timestamp\":\"2021-09-22T19:53:29.754001118Z\",\"name\":\"iio.in_resistance_input\",\"value\":195795,\"meta\":{\"host\":\"0000dca632a3061a.ws-rpi\",\"job\":\"sage\",\"node\":\"000048b02d15bc72\",\"plugin\":\"plugin-iio:0.4.2\",\"sensor\":\"bme680\",\"task\":\"iio-rpi\",\"vsn\":\"W018\"}}'\n",
      "b'{\"timestamp\":\"2021-09-22T19:53:21.1656059Z\",\"name\":\"iio.in_resistance_input\",\"value\":61081,\"meta\":{\"host\":\"0000dca632a30642.ws-rpi\",\"job\":\"sage\",\"node\":\"000048b02d0766d2\",\"plugin\":\"plugin-iio:0.4.2\",\"sensor\":\"bme680\",\"task\":\"iio-rpi\",\"vsn\":\"W000\"}}'\n",
      "b'{\"timestamp\":\"2021-09-22T19:53:26.004011715Z\",\"name\":\"iio.in_resistance_input\",\"value\":717716,\"meta\":{\"host\":\"0000dca632a307bf.ws-rpi\",\"job\":\"sage\",\"node\":\"000048b02d15bc7d\",\"plugin\":\"plugin-iio:0.3.0\",\"sensor\":\"bme680\",\"task\":\"plugin-iio\",\"vsn\":\"W028\"}}'\n",
      "b'{\"timestamp\":\"2021-09-22T19:53:22.597338246Z\",\"name\":\"iio.in_resistance_input\",\"value\":275548,\"meta\":{\"host\":\"0000dca632a307e6.ws-rpi\",\"job\":\"sage\",\"node\":\"000048b02d05a1c2\",\"plugin\":\"plugin-iio:0.4.2\",\"sensor\":\"bme680\",\"task\":\"iio-rpi\",\"vsn\":\"W02C\"}}'\n",
      "b'{\"timestamp\":\"2021-09-22T19:53:20.378211249Z\",\"name\":\"iio.in_temp_input\",\"value\":18860,\"meta\":{\"host\":\"0000dca632a305be.ws-rpi\",\"job\":\"sage\",\"node\":\"000048b02d15bda5\",\"plugin\":\"plugin-iio:0.3.0\",\"sensor\":\"bme680\",\"task\":\"plugin-iio\",\"vsn\":\"W022\"}}'\n",
      "b'{\"timestamp\":\"2021-09-22T19:53:29.744769129Z\",\"name\":\"iio.in_temp_input\",\"value\":28370,\"meta\":{\"host\":\"0000dca632a3061a.ws-rpi\",\"job\":\"sage\",\"node\":\"000048b02d15bc72\",\"plugin\":\"plugin-iio:0.4.2\",\"sensor\":\"bme680\",\"task\":\"iio-rpi\",\"vsn\":\"W018\"}}'\n",
      "b'{\"timestamp\":\"2021-09-22T19:53:21.170029066Z\",\"name\":\"iio.in_temp_input\",\"value\":29460,\"meta\":{\"host\":\"0000dca632a30642.ws-rpi\",\"job\":\"sage\",\"node\":\"000048b02d0766d2\",\"plugin\":\"plugin-iio:0.4.2\",\"sensor\":\"bme680\",\"task\":\"iio-rpi\",\"vsn\":\"W000\"}}'\n",
      "b'{\"timestamp\":\"2021-09-22T19:53:26.000780838Z\",\"name\":\"iio.in_temp_input\",\"value\":19930,\"meta\":{\"host\":\"0000dca632a307bf.ws-rpi\",\"job\":\"sage\",\"node\":\"000048b02d15bc7d\",\"plugin\":\"plugin-iio:0.3.0\",\"sensor\":\"bme680\",\"task\":\"plugin-iio\",\"vsn\":\"W028\"}}'\n",
      "b'{\"timestamp\":\"2021-09-22T19:53:22.584270929Z\",\"name\":\"iio.in_temp_input\",\"value\":19280,\"meta\":{\"host\":\"0000dca632a307e6.ws-rpi\",\"job\":\"sage\",\"node\":\"000048b02d05a1c2\",\"plugin\":\"plugin-iio:0.4.2\",\"sensor\":\"bme680\",\"task\":\"iio-rpi\",\"vsn\":\"W02C\"}}'\n"
     ]
    }
   ],
   "source": [
    "\n",
    "for line in response.iter_lines():\n",
    "    if line: print (line)\n",
    "        "
   ]
  },
  {
   "cell_type": "code",
   "execution_count": 10,
   "id": "b40eb95b",
   "metadata": {},
   "outputs": [
    {
     "name": "stdout",
     "output_type": "stream",
     "text": [
      "{\"timestamp\":\"2021-09-22T19:53:20.386799049Z\",\"name\":\"env.pressure\",\"value\":99414,\"meta\":{\"host\":\"0000dca632a305be.ws-rpi\",\"job\":\"sage\",\"node\":\"000048b02d15bda5\",\"plugin\":\"plugin-iio:0.3.0\",\"sensor\":\"bme680\",\"task\":\"plugin-iio\",\"vsn\":\"W022\"}}\n",
      "{\"timestamp\":\"2021-09-22T19:53:29.750831611Z\",\"name\":\"env.pressure\",\"value\":99180,\"meta\":{\"host\":\"0000dca632a3061a.ws-rpi\",\"job\":\"sage\",\"node\":\"000048b02d15bc72\",\"plugin\":\"plugin-iio:0.4.2\",\"sensor\":\"bme680\",\"task\":\"iio-rpi\",\"vsn\":\"W018\"}}\n",
      "{\"timestamp\":\"2021-09-22T19:53:21.162644962Z\",\"name\":\"env.pressure\",\"value\":100169,\"meta\":{\"host\":\"0000dca632a30642.ws-rpi\",\"job\":\"sage\",\"node\":\"000048b02d0766d2\",\"plugin\":\"plugin-iio:0.4.2\",\"sensor\":\"bme680\",\"task\":\"iio-rpi\",\"vsn\":\"W000\"}}\n",
      "{\"timestamp\":\"2021-09-22T19:53:25.998772128Z\",\"name\":\"env.pressure\",\"value\":99026,\"meta\":{\"host\":\"0000dca632a307bf.ws-rpi\",\"job\":\"sage\",\"node\":\"000048b02d15bc7d\",\"plugin\":\"plugin-iio:0.3.0\",\"sensor\":\"bme680\",\"task\":\"plugin-iio\",\"vsn\":\"W028\"}}\n",
      "{\"timestamp\":\"2021-09-22T19:53:22.59278752Z\",\"name\":\"env.pressure\",\"value\":99374,\"meta\":{\"host\":\"0000dca632a307e6.ws-rpi\",\"job\":\"sage\",\"node\":\"000048b02d05a1c2\",\"plugin\":\"plugin-iio:0.4.2\",\"sensor\":\"bme680\",\"task\":\"iio-rpi\",\"vsn\":\"W02C\"}}\n",
      "{\"timestamp\":\"2021-09-22T19:53:20.384686779Z\",\"name\":\"env.relative_humidity\",\"value\":66.556,\"meta\":{\"host\":\"0000dca632a305be.ws-rpi\",\"job\":\"sage\",\"node\":\"000048b02d15bda5\",\"plugin\":\"plugin-iio:0.3.0\",\"sensor\":\"bme680\",\"task\":\"plugin-iio\",\"vsn\":\"W022\"}}\n",
      "{\"timestamp\":\"2021-09-22T19:53:29.748297575Z\",\"name\":\"env.relative_humidity\",\"value\":28.747,\"meta\":{\"host\":\"0000dca632a3061a.ws-rpi\",\"job\":\"sage\",\"node\":\"000048b02d15bc72\",\"plugin\":\"plugin-iio:0.4.2\",\"sensor\":\"bme680\",\"task\":\"iio-rpi\",\"vsn\":\"W018\"}}\n",
      "{\"timestamp\":\"2021-09-22T19:53:21.167708186Z\",\"name\":\"env.relative_humidity\",\"value\":26.282,\"meta\":{\"host\":\"0000dca632a30642.ws-rpi\",\"job\":\"sage\",\"node\":\"000048b02d0766d2\",\"plugin\":\"plugin-iio:0.4.2\",\"sensor\":\"bme680\",\"task\":\"iio-rpi\",\"vsn\":\"W000\"}}\n",
      "{\"timestamp\":\"2021-09-22T19:53:26.007954321Z\",\"name\":\"env.relative_humidity\",\"value\":37.13,\"meta\":{\"host\":\"0000dca632a307bf.ws-rpi\",\"job\":\"sage\",\"node\":\"000048b02d15bc7d\",\"plugin\":\"plugin-iio:0.3.0\",\"sensor\":\"bme680\",\"task\":\"plugin-iio\",\"vsn\":\"W028\"}}\n",
      "{\"timestamp\":\"2021-09-22T19:53:22.588083093Z\",\"name\":\"env.relative_humidity\",\"value\":61.58,\"meta\":{\"host\":\"0000dca632a307e6.ws-rpi\",\"job\":\"sage\",\"node\":\"000048b02d05a1c2\",\"plugin\":\"plugin-iio:0.4.2\",\"sensor\":\"bme680\",\"task\":\"iio-rpi\",\"vsn\":\"W02C\"}}\n",
      "{\"timestamp\":\"2021-09-22T19:53:20.378400487Z\",\"name\":\"env.temperature\",\"value\":18.86,\"meta\":{\"host\":\"0000dca632a305be.ws-rpi\",\"job\":\"sage\",\"node\":\"000048b02d15bda5\",\"plugin\":\"plugin-iio:0.3.0\",\"sensor\":\"bme680\",\"task\":\"plugin-iio\",\"vsn\":\"W022\"}}\n",
      "{\"timestamp\":\"2021-09-22T19:53:29.744964015Z\",\"name\":\"env.temperature\",\"value\":28.37,\"meta\":{\"host\":\"0000dca632a3061a.ws-rpi\",\"job\":\"sage\",\"node\":\"000048b02d15bc72\",\"plugin\":\"plugin-iio:0.4.2\",\"sensor\":\"bme680\",\"task\":\"iio-rpi\",\"vsn\":\"W018\"}}\n",
      "{\"timestamp\":\"2021-09-22T19:53:21.170146622Z\",\"name\":\"env.temperature\",\"value\":29.46,\"meta\":{\"host\":\"0000dca632a30642.ws-rpi\",\"job\":\"sage\",\"node\":\"000048b02d0766d2\",\"plugin\":\"plugin-iio:0.4.2\",\"sensor\":\"bme680\",\"task\":\"iio-rpi\",\"vsn\":\"W000\"}}\n",
      "{\"timestamp\":\"2021-09-22T19:53:26.000967483Z\",\"name\":\"env.temperature\",\"value\":19.93,\"meta\":{\"host\":\"0000dca632a307bf.ws-rpi\",\"job\":\"sage\",\"node\":\"000048b02d15bc7d\",\"plugin\":\"plugin-iio:0.3.0\",\"sensor\":\"bme680\",\"task\":\"plugin-iio\",\"vsn\":\"W028\"}}\n",
      "{\"timestamp\":\"2021-09-22T19:53:22.584373002Z\",\"name\":\"env.temperature\",\"value\":19.28,\"meta\":{\"host\":\"0000dca632a307e6.ws-rpi\",\"job\":\"sage\",\"node\":\"000048b02d05a1c2\",\"plugin\":\"plugin-iio:0.4.2\",\"sensor\":\"bme680\",\"task\":\"iio-rpi\",\"vsn\":\"W02C\"}}\n",
      "{\"timestamp\":\"2021-09-22T19:53:20.384620613Z\",\"name\":\"iio.in_humidityrelative_input\",\"value\":66.556,\"meta\":{\"host\":\"0000dca632a305be.ws-rpi\",\"job\":\"sage\",\"node\":\"000048b02d15bda5\",\"plugin\":\"plugin-iio:0.3.0\",\"sensor\":\"bme680\",\"task\":\"plugin-iio\",\"vsn\":\"W022\"}}\n",
      "{\"timestamp\":\"2021-09-22T19:53:29.748091745Z\",\"name\":\"iio.in_humidityrelative_input\",\"value\":28.747,\"meta\":{\"host\":\"0000dca632a3061a.ws-rpi\",\"job\":\"sage\",\"node\":\"000048b02d15bc72\",\"plugin\":\"plugin-iio:0.4.2\",\"sensor\":\"bme680\",\"task\":\"iio-rpi\",\"vsn\":\"W018\"}}\n",
      "{\"timestamp\":\"2021-09-22T19:53:21.167596704Z\",\"name\":\"iio.in_humidityrelative_input\",\"value\":26.282,\"meta\":{\"host\":\"0000dca632a30642.ws-rpi\",\"job\":\"sage\",\"node\":\"000048b02d0766d2\",\"plugin\":\"plugin-iio:0.4.2\",\"sensor\":\"bme680\",\"task\":\"iio-rpi\",\"vsn\":\"W000\"}}\n",
      "{\"timestamp\":\"2021-09-22T19:53:26.007787639Z\",\"name\":\"iio.in_humidityrelative_input\",\"value\":37.13,\"meta\":{\"host\":\"0000dca632a307bf.ws-rpi\",\"job\":\"sage\",\"node\":\"000048b02d15bc7d\",\"plugin\":\"plugin-iio:0.3.0\",\"sensor\":\"bme680\",\"task\":\"plugin-iio\",\"vsn\":\"W028\"}}\n",
      "{\"timestamp\":\"2021-09-22T19:53:22.587683895Z\",\"name\":\"iio.in_humidityrelative_input\",\"value\":61.58,\"meta\":{\"host\":\"0000dca632a307e6.ws-rpi\",\"job\":\"sage\",\"node\":\"000048b02d05a1c2\",\"plugin\":\"plugin-iio:0.4.2\",\"sensor\":\"bme680\",\"task\":\"iio-rpi\",\"vsn\":\"W02C\"}}\n",
      "{\"timestamp\":\"2021-09-22T19:53:20.386687921Z\",\"name\":\"iio.in_pressure_input\",\"value\":994.14,\"meta\":{\"host\":\"0000dca632a305be.ws-rpi\",\"job\":\"sage\",\"node\":\"000048b02d15bda5\",\"plugin\":\"plugin-iio:0.3.0\",\"sensor\":\"bme680\",\"task\":\"plugin-iio\",\"vsn\":\"W022\"}}\n",
      "{\"timestamp\":\"2021-09-22T19:53:29.75068302Z\",\"name\":\"iio.in_pressure_input\",\"value\":991.8,\"meta\":{\"host\":\"0000dca632a3061a.ws-rpi\",\"job\":\"sage\",\"node\":\"000048b02d15bc72\",\"plugin\":\"plugin-iio:0.4.2\",\"sensor\":\"bme680\",\"task\":\"iio-rpi\",\"vsn\":\"W018\"}}\n",
      "{\"timestamp\":\"2021-09-22T19:53:21.162534758Z\",\"name\":\"iio.in_pressure_input\",\"value\":1001.69,\"meta\":{\"host\":\"0000dca632a30642.ws-rpi\",\"job\":\"sage\",\"node\":\"000048b02d0766d2\",\"plugin\":\"plugin-iio:0.4.2\",\"sensor\":\"bme680\",\"task\":\"iio-rpi\",\"vsn\":\"W000\"}}\n",
      "{\"timestamp\":\"2021-09-22T19:53:25.998669537Z\",\"name\":\"iio.in_pressure_input\",\"value\":990.26,\"meta\":{\"host\":\"0000dca632a307bf.ws-rpi\",\"job\":\"sage\",\"node\":\"000048b02d15bc7d\",\"plugin\":\"plugin-iio:0.3.0\",\"sensor\":\"bme680\",\"task\":\"plugin-iio\",\"vsn\":\"W028\"}}\n",
      "{\"timestamp\":\"2021-09-22T19:53:22.592324231Z\",\"name\":\"iio.in_pressure_input\",\"value\":993.74,\"meta\":{\"host\":\"0000dca632a307e6.ws-rpi\",\"job\":\"sage\",\"node\":\"000048b02d05a1c2\",\"plugin\":\"plugin-iio:0.4.2\",\"sensor\":\"bme680\",\"task\":\"iio-rpi\",\"vsn\":\"W02C\"}}\n",
      "{\"timestamp\":\"2021-09-22T19:53:20.381420246Z\",\"name\":\"iio.in_resistance_input\",\"value\":158161,\"meta\":{\"host\":\"0000dca632a305be.ws-rpi\",\"job\":\"sage\",\"node\":\"000048b02d15bda5\",\"plugin\":\"plugin-iio:0.3.0\",\"sensor\":\"bme680\",\"task\":\"plugin-iio\",\"vsn\":\"W022\"}}\n",
      "{\"timestamp\":\"2021-09-22T19:53:29.754001118Z\",\"name\":\"iio.in_resistance_input\",\"value\":195795,\"meta\":{\"host\":\"0000dca632a3061a.ws-rpi\",\"job\":\"sage\",\"node\":\"000048b02d15bc72\",\"plugin\":\"plugin-iio:0.4.2\",\"sensor\":\"bme680\",\"task\":\"iio-rpi\",\"vsn\":\"W018\"}}\n",
      "{\"timestamp\":\"2021-09-22T19:53:21.1656059Z\",\"name\":\"iio.in_resistance_input\",\"value\":61081,\"meta\":{\"host\":\"0000dca632a30642.ws-rpi\",\"job\":\"sage\",\"node\":\"000048b02d0766d2\",\"plugin\":\"plugin-iio:0.4.2\",\"sensor\":\"bme680\",\"task\":\"iio-rpi\",\"vsn\":\"W000\"}}\n",
      "{\"timestamp\":\"2021-09-22T19:53:26.004011715Z\",\"name\":\"iio.in_resistance_input\",\"value\":717716,\"meta\":{\"host\":\"0000dca632a307bf.ws-rpi\",\"job\":\"sage\",\"node\":\"000048b02d15bc7d\",\"plugin\":\"plugin-iio:0.3.0\",\"sensor\":\"bme680\",\"task\":\"plugin-iio\",\"vsn\":\"W028\"}}\n",
      "{\"timestamp\":\"2021-09-22T19:53:22.597338246Z\",\"name\":\"iio.in_resistance_input\",\"value\":275548,\"meta\":{\"host\":\"0000dca632a307e6.ws-rpi\",\"job\":\"sage\",\"node\":\"000048b02d05a1c2\",\"plugin\":\"plugin-iio:0.4.2\",\"sensor\":\"bme680\",\"task\":\"iio-rpi\",\"vsn\":\"W02C\"}}\n",
      "{\"timestamp\":\"2021-09-22T19:53:20.378211249Z\",\"name\":\"iio.in_temp_input\",\"value\":18860,\"meta\":{\"host\":\"0000dca632a305be.ws-rpi\",\"job\":\"sage\",\"node\":\"000048b02d15bda5\",\"plugin\":\"plugin-iio:0.3.0\",\"sensor\":\"bme680\",\"task\":\"plugin-iio\",\"vsn\":\"W022\"}}\n",
      "{\"timestamp\":\"2021-09-22T19:53:29.744769129Z\",\"name\":\"iio.in_temp_input\",\"value\":28370,\"meta\":{\"host\":\"0000dca632a3061a.ws-rpi\",\"job\":\"sage\",\"node\":\"000048b02d15bc72\",\"plugin\":\"plugin-iio:0.4.2\",\"sensor\":\"bme680\",\"task\":\"iio-rpi\",\"vsn\":\"W018\"}}\n",
      "{\"timestamp\":\"2021-09-22T19:53:21.170029066Z\",\"name\":\"iio.in_temp_input\",\"value\":29460,\"meta\":{\"host\":\"0000dca632a30642.ws-rpi\",\"job\":\"sage\",\"node\":\"000048b02d0766d2\",\"plugin\":\"plugin-iio:0.4.2\",\"sensor\":\"bme680\",\"task\":\"iio-rpi\",\"vsn\":\"W000\"}}\n",
      "{\"timestamp\":\"2021-09-22T19:53:26.000780838Z\",\"name\":\"iio.in_temp_input\",\"value\":19930,\"meta\":{\"host\":\"0000dca632a307bf.ws-rpi\",\"job\":\"sage\",\"node\":\"000048b02d15bc7d\",\"plugin\":\"plugin-iio:0.3.0\",\"sensor\":\"bme680\",\"task\":\"plugin-iio\",\"vsn\":\"W028\"}}\n",
      "{\"timestamp\":\"2021-09-22T19:53:22.584270929Z\",\"name\":\"iio.in_temp_input\",\"value\":19280,\"meta\":{\"host\":\"0000dca632a307e6.ws-rpi\",\"job\":\"sage\",\"node\":\"000048b02d05a1c2\",\"plugin\":\"plugin-iio:0.4.2\",\"sensor\":\"bme680\",\"task\":\"iio-rpi\",\"vsn\":\"W02C\"}}\n"
     ]
    }
   ],
   "source": [
    "            \n",
    "encoding = 'utf-8'\n",
    "for line in response.iter_lines():\n",
    "    if line: print (line.decode(encoding))        \n"
   ]
  },
  {
   "cell_type": "code",
   "execution_count": 11,
   "id": "231d7037",
   "metadata": {},
   "outputs": [
    {
     "name": "stdout",
     "output_type": "stream",
     "text": [
      "{\"timestamp\":\"2021-09-22T19:53:20.386799049Z\",\"name\":\"env.pressure\",\"value\":99414,\"meta\":{\"host\":\"0000dca632a305be.ws-rpi\",\"job\":\"sage\",\"node\":\"000048b02d15bda5\",\"plugin\":\"plugin-iio:0.3.0\",\"sensor\":\"bme680\",\"task\":\"plugin-iio\",\"vsn\":\"W022\"}}\n",
      "{\"timestamp\":\"2021-09-22T19:53:29.750831611Z\",\"name\":\"env.pressure\",\"value\":99180,\"meta\":{\"host\":\"0000dca632a3061a.ws-rpi\",\"job\":\"sage\",\"node\":\"000048b02d15bc72\",\"plugin\":\"plugin-iio:0.4.2\",\"sensor\":\"bme680\",\"task\":\"iio-rpi\",\"vsn\":\"W018\"}}\n",
      "{\"timestamp\":\"2021-09-22T19:53:21.162644962Z\",\"name\":\"env.pressure\",\"value\":100169,\"meta\":{\"host\":\"0000dca632a30642.ws-rpi\",\"job\":\"sage\",\"node\":\"000048b02d0766d2\",\"plugin\":\"plugin-iio:0.4.2\",\"sensor\":\"bme680\",\"task\":\"iio-rpi\",\"vsn\":\"W000\"}}\n",
      "{\"timestamp\":\"2021-09-22T19:53:25.998772128Z\",\"name\":\"env.pressure\",\"value\":99026,\"meta\":{\"host\":\"0000dca632a307bf.ws-rpi\",\"job\":\"sage\",\"node\":\"000048b02d15bc7d\",\"plugin\":\"plugin-iio:0.3.0\",\"sensor\":\"bme680\",\"task\":\"plugin-iio\",\"vsn\":\"W028\"}}\n",
      "{\"timestamp\":\"2021-09-22T19:53:22.59278752Z\",\"name\":\"env.pressure\",\"value\":99374,\"meta\":{\"host\":\"0000dca632a307e6.ws-rpi\",\"job\":\"sage\",\"node\":\"000048b02d05a1c2\",\"plugin\":\"plugin-iio:0.4.2\",\"sensor\":\"bme680\",\"task\":\"iio-rpi\",\"vsn\":\"W02C\"}}\n",
      "{\"timestamp\":\"2021-09-22T19:53:20.384686779Z\",\"name\":\"env.relative_humidity\",\"value\":66.556,\"meta\":{\"host\":\"0000dca632a305be.ws-rpi\",\"job\":\"sage\",\"node\":\"000048b02d15bda5\",\"plugin\":\"plugin-iio:0.3.0\",\"sensor\":\"bme680\",\"task\":\"plugin-iio\",\"vsn\":\"W022\"}}\n",
      "{\"timestamp\":\"2021-09-22T19:53:29.748297575Z\",\"name\":\"env.relative_humidity\",\"value\":28.747,\"meta\":{\"host\":\"0000dca632a3061a.ws-rpi\",\"job\":\"sage\",\"node\":\"000048b02d15bc72\",\"plugin\":\"plugin-iio:0.4.2\",\"sensor\":\"bme680\",\"task\":\"iio-rpi\",\"vsn\":\"W018\"}}\n",
      "{\"timestamp\":\"2021-09-22T19:53:21.167708186Z\",\"name\":\"env.relative_humidity\",\"value\":26.282,\"meta\":{\"host\":\"0000dca632a30642.ws-rpi\",\"job\":\"sage\",\"node\":\"000048b02d0766d2\",\"plugin\":\"plugin-iio:0.4.2\",\"sensor\":\"bme680\",\"task\":\"iio-rpi\",\"vsn\":\"W000\"}}\n",
      "{\"timestamp\":\"2021-09-22T19:53:26.007954321Z\",\"name\":\"env.relative_humidity\",\"value\":37.13,\"meta\":{\"host\":\"0000dca632a307bf.ws-rpi\",\"job\":\"sage\",\"node\":\"000048b02d15bc7d\",\"plugin\":\"plugin-iio:0.3.0\",\"sensor\":\"bme680\",\"task\":\"plugin-iio\",\"vsn\":\"W028\"}}\n",
      "{\"timestamp\":\"2021-09-22T19:53:22.588083093Z\",\"name\":\"env.relative_humidity\",\"value\":61.58,\"meta\":{\"host\":\"0000dca632a307e6.ws-rpi\",\"job\":\"sage\",\"node\":\"000048b02d05a1c2\",\"plugin\":\"plugin-iio:0.4.2\",\"sensor\":\"bme680\",\"task\":\"iio-rpi\",\"vsn\":\"W02C\"}}\n",
      "{\"timestamp\":\"2021-09-22T19:53:20.378400487Z\",\"name\":\"env.temperature\",\"value\":18.86,\"meta\":{\"host\":\"0000dca632a305be.ws-rpi\",\"job\":\"sage\",\"node\":\"000048b02d15bda5\",\"plugin\":\"plugin-iio:0.3.0\",\"sensor\":\"bme680\",\"task\":\"plugin-iio\",\"vsn\":\"W022\"}}\n",
      "{\"timestamp\":\"2021-09-22T19:53:29.744964015Z\",\"name\":\"env.temperature\",\"value\":28.37,\"meta\":{\"host\":\"0000dca632a3061a.ws-rpi\",\"job\":\"sage\",\"node\":\"000048b02d15bc72\",\"plugin\":\"plugin-iio:0.4.2\",\"sensor\":\"bme680\",\"task\":\"iio-rpi\",\"vsn\":\"W018\"}}\n",
      "{\"timestamp\":\"2021-09-22T19:53:21.170146622Z\",\"name\":\"env.temperature\",\"value\":29.46,\"meta\":{\"host\":\"0000dca632a30642.ws-rpi\",\"job\":\"sage\",\"node\":\"000048b02d0766d2\",\"plugin\":\"plugin-iio:0.4.2\",\"sensor\":\"bme680\",\"task\":\"iio-rpi\",\"vsn\":\"W000\"}}\n",
      "{\"timestamp\":\"2021-09-22T19:53:26.000967483Z\",\"name\":\"env.temperature\",\"value\":19.93,\"meta\":{\"host\":\"0000dca632a307bf.ws-rpi\",\"job\":\"sage\",\"node\":\"000048b02d15bc7d\",\"plugin\":\"plugin-iio:0.3.0\",\"sensor\":\"bme680\",\"task\":\"plugin-iio\",\"vsn\":\"W028\"}}\n",
      "{\"timestamp\":\"2021-09-22T19:53:22.584373002Z\",\"name\":\"env.temperature\",\"value\":19.28,\"meta\":{\"host\":\"0000dca632a307e6.ws-rpi\",\"job\":\"sage\",\"node\":\"000048b02d05a1c2\",\"plugin\":\"plugin-iio:0.4.2\",\"sensor\":\"bme680\",\"task\":\"iio-rpi\",\"vsn\":\"W02C\"}}\n",
      "{\"timestamp\":\"2021-09-22T19:53:20.384620613Z\",\"name\":\"iio.in_humidityrelative_input\",\"value\":66.556,\"meta\":{\"host\":\"0000dca632a305be.ws-rpi\",\"job\":\"sage\",\"node\":\"000048b02d15bda5\",\"plugin\":\"plugin-iio:0.3.0\",\"sensor\":\"bme680\",\"task\":\"plugin-iio\",\"vsn\":\"W022\"}}\n",
      "{\"timestamp\":\"2021-09-22T19:53:29.748091745Z\",\"name\":\"iio.in_humidityrelative_input\",\"value\":28.747,\"meta\":{\"host\":\"0000dca632a3061a.ws-rpi\",\"job\":\"sage\",\"node\":\"000048b02d15bc72\",\"plugin\":\"plugin-iio:0.4.2\",\"sensor\":\"bme680\",\"task\":\"iio-rpi\",\"vsn\":\"W018\"}}\n",
      "{\"timestamp\":\"2021-09-22T19:53:21.167596704Z\",\"name\":\"iio.in_humidityrelative_input\",\"value\":26.282,\"meta\":{\"host\":\"0000dca632a30642.ws-rpi\",\"job\":\"sage\",\"node\":\"000048b02d0766d2\",\"plugin\":\"plugin-iio:0.4.2\",\"sensor\":\"bme680\",\"task\":\"iio-rpi\",\"vsn\":\"W000\"}}\n",
      "{\"timestamp\":\"2021-09-22T19:53:26.007787639Z\",\"name\":\"iio.in_humidityrelative_input\",\"value\":37.13,\"meta\":{\"host\":\"0000dca632a307bf.ws-rpi\",\"job\":\"sage\",\"node\":\"000048b02d15bc7d\",\"plugin\":\"plugin-iio:0.3.0\",\"sensor\":\"bme680\",\"task\":\"plugin-iio\",\"vsn\":\"W028\"}}\n",
      "{\"timestamp\":\"2021-09-22T19:53:22.587683895Z\",\"name\":\"iio.in_humidityrelative_input\",\"value\":61.58,\"meta\":{\"host\":\"0000dca632a307e6.ws-rpi\",\"job\":\"sage\",\"node\":\"000048b02d05a1c2\",\"plugin\":\"plugin-iio:0.4.2\",\"sensor\":\"bme680\",\"task\":\"iio-rpi\",\"vsn\":\"W02C\"}}\n",
      "{\"timestamp\":\"2021-09-22T19:53:20.386687921Z\",\"name\":\"iio.in_pressure_input\",\"value\":994.14,\"meta\":{\"host\":\"0000dca632a305be.ws-rpi\",\"job\":\"sage\",\"node\":\"000048b02d15bda5\",\"plugin\":\"plugin-iio:0.3.0\",\"sensor\":\"bme680\",\"task\":\"plugin-iio\",\"vsn\":\"W022\"}}\n",
      "{\"timestamp\":\"2021-09-22T19:53:29.75068302Z\",\"name\":\"iio.in_pressure_input\",\"value\":991.8,\"meta\":{\"host\":\"0000dca632a3061a.ws-rpi\",\"job\":\"sage\",\"node\":\"000048b02d15bc72\",\"plugin\":\"plugin-iio:0.4.2\",\"sensor\":\"bme680\",\"task\":\"iio-rpi\",\"vsn\":\"W018\"}}\n",
      "{\"timestamp\":\"2021-09-22T19:53:21.162534758Z\",\"name\":\"iio.in_pressure_input\",\"value\":1001.69,\"meta\":{\"host\":\"0000dca632a30642.ws-rpi\",\"job\":\"sage\",\"node\":\"000048b02d0766d2\",\"plugin\":\"plugin-iio:0.4.2\",\"sensor\":\"bme680\",\"task\":\"iio-rpi\",\"vsn\":\"W000\"}}\n",
      "{\"timestamp\":\"2021-09-22T19:53:25.998669537Z\",\"name\":\"iio.in_pressure_input\",\"value\":990.26,\"meta\":{\"host\":\"0000dca632a307bf.ws-rpi\",\"job\":\"sage\",\"node\":\"000048b02d15bc7d\",\"plugin\":\"plugin-iio:0.3.0\",\"sensor\":\"bme680\",\"task\":\"plugin-iio\",\"vsn\":\"W028\"}}\n",
      "{\"timestamp\":\"2021-09-22T19:53:22.592324231Z\",\"name\":\"iio.in_pressure_input\",\"value\":993.74,\"meta\":{\"host\":\"0000dca632a307e6.ws-rpi\",\"job\":\"sage\",\"node\":\"000048b02d05a1c2\",\"plugin\":\"plugin-iio:0.4.2\",\"sensor\":\"bme680\",\"task\":\"iio-rpi\",\"vsn\":\"W02C\"}}\n",
      "{\"timestamp\":\"2021-09-22T19:53:20.381420246Z\",\"name\":\"iio.in_resistance_input\",\"value\":158161,\"meta\":{\"host\":\"0000dca632a305be.ws-rpi\",\"job\":\"sage\",\"node\":\"000048b02d15bda5\",\"plugin\":\"plugin-iio:0.3.0\",\"sensor\":\"bme680\",\"task\":\"plugin-iio\",\"vsn\":\"W022\"}}\n",
      "{\"timestamp\":\"2021-09-22T19:53:29.754001118Z\",\"name\":\"iio.in_resistance_input\",\"value\":195795,\"meta\":{\"host\":\"0000dca632a3061a.ws-rpi\",\"job\":\"sage\",\"node\":\"000048b02d15bc72\",\"plugin\":\"plugin-iio:0.4.2\",\"sensor\":\"bme680\",\"task\":\"iio-rpi\",\"vsn\":\"W018\"}}\n",
      "{\"timestamp\":\"2021-09-22T19:53:21.1656059Z\",\"name\":\"iio.in_resistance_input\",\"value\":61081,\"meta\":{\"host\":\"0000dca632a30642.ws-rpi\",\"job\":\"sage\",\"node\":\"000048b02d0766d2\",\"plugin\":\"plugin-iio:0.4.2\",\"sensor\":\"bme680\",\"task\":\"iio-rpi\",\"vsn\":\"W000\"}}\n",
      "{\"timestamp\":\"2021-09-22T19:53:26.004011715Z\",\"name\":\"iio.in_resistance_input\",\"value\":717716,\"meta\":{\"host\":\"0000dca632a307bf.ws-rpi\",\"job\":\"sage\",\"node\":\"000048b02d15bc7d\",\"plugin\":\"plugin-iio:0.3.0\",\"sensor\":\"bme680\",\"task\":\"plugin-iio\",\"vsn\":\"W028\"}}\n",
      "{\"timestamp\":\"2021-09-22T19:53:22.597338246Z\",\"name\":\"iio.in_resistance_input\",\"value\":275548,\"meta\":{\"host\":\"0000dca632a307e6.ws-rpi\",\"job\":\"sage\",\"node\":\"000048b02d05a1c2\",\"plugin\":\"plugin-iio:0.4.2\",\"sensor\":\"bme680\",\"task\":\"iio-rpi\",\"vsn\":\"W02C\"}}\n",
      "{\"timestamp\":\"2021-09-22T19:53:20.378211249Z\",\"name\":\"iio.in_temp_input\",\"value\":18860,\"meta\":{\"host\":\"0000dca632a305be.ws-rpi\",\"job\":\"sage\",\"node\":\"000048b02d15bda5\",\"plugin\":\"plugin-iio:0.3.0\",\"sensor\":\"bme680\",\"task\":\"plugin-iio\",\"vsn\":\"W022\"}}\n",
      "{\"timestamp\":\"2021-09-22T19:53:29.744769129Z\",\"name\":\"iio.in_temp_input\",\"value\":28370,\"meta\":{\"host\":\"0000dca632a3061a.ws-rpi\",\"job\":\"sage\",\"node\":\"000048b02d15bc72\",\"plugin\":\"plugin-iio:0.4.2\",\"sensor\":\"bme680\",\"task\":\"iio-rpi\",\"vsn\":\"W018\"}}\n",
      "{\"timestamp\":\"2021-09-22T19:53:21.170029066Z\",\"name\":\"iio.in_temp_input\",\"value\":29460,\"meta\":{\"host\":\"0000dca632a30642.ws-rpi\",\"job\":\"sage\",\"node\":\"000048b02d0766d2\",\"plugin\":\"plugin-iio:0.4.2\",\"sensor\":\"bme680\",\"task\":\"iio-rpi\",\"vsn\":\"W000\"}}\n",
      "{\"timestamp\":\"2021-09-22T19:53:26.000780838Z\",\"name\":\"iio.in_temp_input\",\"value\":19930,\"meta\":{\"host\":\"0000dca632a307bf.ws-rpi\",\"job\":\"sage\",\"node\":\"000048b02d15bc7d\",\"plugin\":\"plugin-iio:0.3.0\",\"sensor\":\"bme680\",\"task\":\"plugin-iio\",\"vsn\":\"W028\"}}\n",
      "{\"timestamp\":\"2021-09-22T19:53:22.584270929Z\",\"name\":\"iio.in_temp_input\",\"value\":19280,\"meta\":{\"host\":\"0000dca632a307e6.ws-rpi\",\"job\":\"sage\",\"node\":\"000048b02d05a1c2\",\"plugin\":\"plugin-iio:0.4.2\",\"sensor\":\"bme680\",\"task\":\"iio-rpi\",\"vsn\":\"W02C\"}}\n"
     ]
    }
   ],
   "source": [
    "\n",
    "encoding = 'utf-8'\n",
    "for line in response.iter_lines():\n",
    "    if line: \n",
    "        line = line.decode(encoding)\n",
    "        # print(type(line))\n",
    "        print(line)\n",
    "        "
   ]
  },
  {
   "cell_type": "code",
   "execution_count": 12,
   "id": "cf14e249",
   "metadata": {},
   "outputs": [
    {
     "name": "stdout",
     "output_type": "stream",
     "text": [
      "{\"timestamp\":\"2021-09-22T19:53:20.386799049Z\",\"name\":\"env.pressure\",\"value\":99414,\"meta\":{\"host\":\"0000dca632a305be.ws-rpi\",\"job\":\"sage\",\"node\":\"000048b02d15bda5\",\"plugin\":\"plugin-iio:0.3.0\",\"sensor\":\"bme680\",\"task\":\"plugin-iio\",\"vsn\":\"W022\"}}\n",
      "<class 'dict'>\n",
      "{\"timestamp\":\"2021-09-22T19:53:29.750831611Z\",\"name\":\"env.pressure\",\"value\":99180,\"meta\":{\"host\":\"0000dca632a3061a.ws-rpi\",\"job\":\"sage\",\"node\":\"000048b02d15bc72\",\"plugin\":\"plugin-iio:0.4.2\",\"sensor\":\"bme680\",\"task\":\"iio-rpi\",\"vsn\":\"W018\"}}\n",
      "<class 'dict'>\n",
      "{\"timestamp\":\"2021-09-22T19:53:21.162644962Z\",\"name\":\"env.pressure\",\"value\":100169,\"meta\":{\"host\":\"0000dca632a30642.ws-rpi\",\"job\":\"sage\",\"node\":\"000048b02d0766d2\",\"plugin\":\"plugin-iio:0.4.2\",\"sensor\":\"bme680\",\"task\":\"iio-rpi\",\"vsn\":\"W000\"}}\n",
      "<class 'dict'>\n",
      "{\"timestamp\":\"2021-09-22T19:53:25.998772128Z\",\"name\":\"env.pressure\",\"value\":99026,\"meta\":{\"host\":\"0000dca632a307bf.ws-rpi\",\"job\":\"sage\",\"node\":\"000048b02d15bc7d\",\"plugin\":\"plugin-iio:0.3.0\",\"sensor\":\"bme680\",\"task\":\"plugin-iio\",\"vsn\":\"W028\"}}\n",
      "<class 'dict'>\n",
      "{\"timestamp\":\"2021-09-22T19:53:22.59278752Z\",\"name\":\"env.pressure\",\"value\":99374,\"meta\":{\"host\":\"0000dca632a307e6.ws-rpi\",\"job\":\"sage\",\"node\":\"000048b02d05a1c2\",\"plugin\":\"plugin-iio:0.4.2\",\"sensor\":\"bme680\",\"task\":\"iio-rpi\",\"vsn\":\"W02C\"}}\n",
      "<class 'dict'>\n",
      "{\"timestamp\":\"2021-09-22T19:53:20.384686779Z\",\"name\":\"env.relative_humidity\",\"value\":66.556,\"meta\":{\"host\":\"0000dca632a305be.ws-rpi\",\"job\":\"sage\",\"node\":\"000048b02d15bda5\",\"plugin\":\"plugin-iio:0.3.0\",\"sensor\":\"bme680\",\"task\":\"plugin-iio\",\"vsn\":\"W022\"}}\n",
      "<class 'dict'>\n",
      "{\"timestamp\":\"2021-09-22T19:53:29.748297575Z\",\"name\":\"env.relative_humidity\",\"value\":28.747,\"meta\":{\"host\":\"0000dca632a3061a.ws-rpi\",\"job\":\"sage\",\"node\":\"000048b02d15bc72\",\"plugin\":\"plugin-iio:0.4.2\",\"sensor\":\"bme680\",\"task\":\"iio-rpi\",\"vsn\":\"W018\"}}\n",
      "<class 'dict'>\n",
      "{\"timestamp\":\"2021-09-22T19:53:21.167708186Z\",\"name\":\"env.relative_humidity\",\"value\":26.282,\"meta\":{\"host\":\"0000dca632a30642.ws-rpi\",\"job\":\"sage\",\"node\":\"000048b02d0766d2\",\"plugin\":\"plugin-iio:0.4.2\",\"sensor\":\"bme680\",\"task\":\"iio-rpi\",\"vsn\":\"W000\"}}\n",
      "<class 'dict'>\n",
      "{\"timestamp\":\"2021-09-22T19:53:26.007954321Z\",\"name\":\"env.relative_humidity\",\"value\":37.13,\"meta\":{\"host\":\"0000dca632a307bf.ws-rpi\",\"job\":\"sage\",\"node\":\"000048b02d15bc7d\",\"plugin\":\"plugin-iio:0.3.0\",\"sensor\":\"bme680\",\"task\":\"plugin-iio\",\"vsn\":\"W028\"}}\n",
      "<class 'dict'>\n",
      "{\"timestamp\":\"2021-09-22T19:53:22.588083093Z\",\"name\":\"env.relative_humidity\",\"value\":61.58,\"meta\":{\"host\":\"0000dca632a307e6.ws-rpi\",\"job\":\"sage\",\"node\":\"000048b02d05a1c2\",\"plugin\":\"plugin-iio:0.4.2\",\"sensor\":\"bme680\",\"task\":\"iio-rpi\",\"vsn\":\"W02C\"}}\n",
      "<class 'dict'>\n",
      "{\"timestamp\":\"2021-09-22T19:53:20.378400487Z\",\"name\":\"env.temperature\",\"value\":18.86,\"meta\":{\"host\":\"0000dca632a305be.ws-rpi\",\"job\":\"sage\",\"node\":\"000048b02d15bda5\",\"plugin\":\"plugin-iio:0.3.0\",\"sensor\":\"bme680\",\"task\":\"plugin-iio\",\"vsn\":\"W022\"}}\n",
      "<class 'dict'>\n",
      "{\"timestamp\":\"2021-09-22T19:53:29.744964015Z\",\"name\":\"env.temperature\",\"value\":28.37,\"meta\":{\"host\":\"0000dca632a3061a.ws-rpi\",\"job\":\"sage\",\"node\":\"000048b02d15bc72\",\"plugin\":\"plugin-iio:0.4.2\",\"sensor\":\"bme680\",\"task\":\"iio-rpi\",\"vsn\":\"W018\"}}\n",
      "<class 'dict'>\n",
      "{\"timestamp\":\"2021-09-22T19:53:21.170146622Z\",\"name\":\"env.temperature\",\"value\":29.46,\"meta\":{\"host\":\"0000dca632a30642.ws-rpi\",\"job\":\"sage\",\"node\":\"000048b02d0766d2\",\"plugin\":\"plugin-iio:0.4.2\",\"sensor\":\"bme680\",\"task\":\"iio-rpi\",\"vsn\":\"W000\"}}\n",
      "<class 'dict'>\n",
      "{\"timestamp\":\"2021-09-22T19:53:26.000967483Z\",\"name\":\"env.temperature\",\"value\":19.93,\"meta\":{\"host\":\"0000dca632a307bf.ws-rpi\",\"job\":\"sage\",\"node\":\"000048b02d15bc7d\",\"plugin\":\"plugin-iio:0.3.0\",\"sensor\":\"bme680\",\"task\":\"plugin-iio\",\"vsn\":\"W028\"}}\n",
      "<class 'dict'>\n",
      "{\"timestamp\":\"2021-09-22T19:53:22.584373002Z\",\"name\":\"env.temperature\",\"value\":19.28,\"meta\":{\"host\":\"0000dca632a307e6.ws-rpi\",\"job\":\"sage\",\"node\":\"000048b02d05a1c2\",\"plugin\":\"plugin-iio:0.4.2\",\"sensor\":\"bme680\",\"task\":\"iio-rpi\",\"vsn\":\"W02C\"}}\n",
      "<class 'dict'>\n",
      "{\"timestamp\":\"2021-09-22T19:53:20.384620613Z\",\"name\":\"iio.in_humidityrelative_input\",\"value\":66.556,\"meta\":{\"host\":\"0000dca632a305be.ws-rpi\",\"job\":\"sage\",\"node\":\"000048b02d15bda5\",\"plugin\":\"plugin-iio:0.3.0\",\"sensor\":\"bme680\",\"task\":\"plugin-iio\",\"vsn\":\"W022\"}}\n",
      "<class 'dict'>\n",
      "{\"timestamp\":\"2021-09-22T19:53:29.748091745Z\",\"name\":\"iio.in_humidityrelative_input\",\"value\":28.747,\"meta\":{\"host\":\"0000dca632a3061a.ws-rpi\",\"job\":\"sage\",\"node\":\"000048b02d15bc72\",\"plugin\":\"plugin-iio:0.4.2\",\"sensor\":\"bme680\",\"task\":\"iio-rpi\",\"vsn\":\"W018\"}}\n",
      "<class 'dict'>\n",
      "{\"timestamp\":\"2021-09-22T19:53:21.167596704Z\",\"name\":\"iio.in_humidityrelative_input\",\"value\":26.282,\"meta\":{\"host\":\"0000dca632a30642.ws-rpi\",\"job\":\"sage\",\"node\":\"000048b02d0766d2\",\"plugin\":\"plugin-iio:0.4.2\",\"sensor\":\"bme680\",\"task\":\"iio-rpi\",\"vsn\":\"W000\"}}\n",
      "<class 'dict'>\n",
      "{\"timestamp\":\"2021-09-22T19:53:26.007787639Z\",\"name\":\"iio.in_humidityrelative_input\",\"value\":37.13,\"meta\":{\"host\":\"0000dca632a307bf.ws-rpi\",\"job\":\"sage\",\"node\":\"000048b02d15bc7d\",\"plugin\":\"plugin-iio:0.3.0\",\"sensor\":\"bme680\",\"task\":\"plugin-iio\",\"vsn\":\"W028\"}}\n",
      "<class 'dict'>\n",
      "{\"timestamp\":\"2021-09-22T19:53:22.587683895Z\",\"name\":\"iio.in_humidityrelative_input\",\"value\":61.58,\"meta\":{\"host\":\"0000dca632a307e6.ws-rpi\",\"job\":\"sage\",\"node\":\"000048b02d05a1c2\",\"plugin\":\"plugin-iio:0.4.2\",\"sensor\":\"bme680\",\"task\":\"iio-rpi\",\"vsn\":\"W02C\"}}\n",
      "<class 'dict'>\n",
      "{\"timestamp\":\"2021-09-22T19:53:20.386687921Z\",\"name\":\"iio.in_pressure_input\",\"value\":994.14,\"meta\":{\"host\":\"0000dca632a305be.ws-rpi\",\"job\":\"sage\",\"node\":\"000048b02d15bda5\",\"plugin\":\"plugin-iio:0.3.0\",\"sensor\":\"bme680\",\"task\":\"plugin-iio\",\"vsn\":\"W022\"}}\n",
      "<class 'dict'>\n",
      "{\"timestamp\":\"2021-09-22T19:53:29.75068302Z\",\"name\":\"iio.in_pressure_input\",\"value\":991.8,\"meta\":{\"host\":\"0000dca632a3061a.ws-rpi\",\"job\":\"sage\",\"node\":\"000048b02d15bc72\",\"plugin\":\"plugin-iio:0.4.2\",\"sensor\":\"bme680\",\"task\":\"iio-rpi\",\"vsn\":\"W018\"}}\n",
      "<class 'dict'>\n",
      "{\"timestamp\":\"2021-09-22T19:53:21.162534758Z\",\"name\":\"iio.in_pressure_input\",\"value\":1001.69,\"meta\":{\"host\":\"0000dca632a30642.ws-rpi\",\"job\":\"sage\",\"node\":\"000048b02d0766d2\",\"plugin\":\"plugin-iio:0.4.2\",\"sensor\":\"bme680\",\"task\":\"iio-rpi\",\"vsn\":\"W000\"}}\n",
      "<class 'dict'>\n",
      "{\"timestamp\":\"2021-09-22T19:53:25.998669537Z\",\"name\":\"iio.in_pressure_input\",\"value\":990.26,\"meta\":{\"host\":\"0000dca632a307bf.ws-rpi\",\"job\":\"sage\",\"node\":\"000048b02d15bc7d\",\"plugin\":\"plugin-iio:0.3.0\",\"sensor\":\"bme680\",\"task\":\"plugin-iio\",\"vsn\":\"W028\"}}\n",
      "<class 'dict'>\n",
      "{\"timestamp\":\"2021-09-22T19:53:22.592324231Z\",\"name\":\"iio.in_pressure_input\",\"value\":993.74,\"meta\":{\"host\":\"0000dca632a307e6.ws-rpi\",\"job\":\"sage\",\"node\":\"000048b02d05a1c2\",\"plugin\":\"plugin-iio:0.4.2\",\"sensor\":\"bme680\",\"task\":\"iio-rpi\",\"vsn\":\"W02C\"}}\n",
      "<class 'dict'>\n",
      "{\"timestamp\":\"2021-09-22T19:53:20.381420246Z\",\"name\":\"iio.in_resistance_input\",\"value\":158161,\"meta\":{\"host\":\"0000dca632a305be.ws-rpi\",\"job\":\"sage\",\"node\":\"000048b02d15bda5\",\"plugin\":\"plugin-iio:0.3.0\",\"sensor\":\"bme680\",\"task\":\"plugin-iio\",\"vsn\":\"W022\"}}\n",
      "<class 'dict'>\n",
      "{\"timestamp\":\"2021-09-22T19:53:29.754001118Z\",\"name\":\"iio.in_resistance_input\",\"value\":195795,\"meta\":{\"host\":\"0000dca632a3061a.ws-rpi\",\"job\":\"sage\",\"node\":\"000048b02d15bc72\",\"plugin\":\"plugin-iio:0.4.2\",\"sensor\":\"bme680\",\"task\":\"iio-rpi\",\"vsn\":\"W018\"}}\n",
      "<class 'dict'>\n",
      "{\"timestamp\":\"2021-09-22T19:53:21.1656059Z\",\"name\":\"iio.in_resistance_input\",\"value\":61081,\"meta\":{\"host\":\"0000dca632a30642.ws-rpi\",\"job\":\"sage\",\"node\":\"000048b02d0766d2\",\"plugin\":\"plugin-iio:0.4.2\",\"sensor\":\"bme680\",\"task\":\"iio-rpi\",\"vsn\":\"W000\"}}\n",
      "<class 'dict'>\n",
      "{\"timestamp\":\"2021-09-22T19:53:26.004011715Z\",\"name\":\"iio.in_resistance_input\",\"value\":717716,\"meta\":{\"host\":\"0000dca632a307bf.ws-rpi\",\"job\":\"sage\",\"node\":\"000048b02d15bc7d\",\"plugin\":\"plugin-iio:0.3.0\",\"sensor\":\"bme680\",\"task\":\"plugin-iio\",\"vsn\":\"W028\"}}\n",
      "<class 'dict'>\n",
      "{\"timestamp\":\"2021-09-22T19:53:22.597338246Z\",\"name\":\"iio.in_resistance_input\",\"value\":275548,\"meta\":{\"host\":\"0000dca632a307e6.ws-rpi\",\"job\":\"sage\",\"node\":\"000048b02d05a1c2\",\"plugin\":\"plugin-iio:0.4.2\",\"sensor\":\"bme680\",\"task\":\"iio-rpi\",\"vsn\":\"W02C\"}}\n",
      "<class 'dict'>\n",
      "{\"timestamp\":\"2021-09-22T19:53:20.378211249Z\",\"name\":\"iio.in_temp_input\",\"value\":18860,\"meta\":{\"host\":\"0000dca632a305be.ws-rpi\",\"job\":\"sage\",\"node\":\"000048b02d15bda5\",\"plugin\":\"plugin-iio:0.3.0\",\"sensor\":\"bme680\",\"task\":\"plugin-iio\",\"vsn\":\"W022\"}}\n",
      "<class 'dict'>\n",
      "{\"timestamp\":\"2021-09-22T19:53:29.744769129Z\",\"name\":\"iio.in_temp_input\",\"value\":28370,\"meta\":{\"host\":\"0000dca632a3061a.ws-rpi\",\"job\":\"sage\",\"node\":\"000048b02d15bc72\",\"plugin\":\"plugin-iio:0.4.2\",\"sensor\":\"bme680\",\"task\":\"iio-rpi\",\"vsn\":\"W018\"}}\n",
      "<class 'dict'>\n",
      "{\"timestamp\":\"2021-09-22T19:53:21.170029066Z\",\"name\":\"iio.in_temp_input\",\"value\":29460,\"meta\":{\"host\":\"0000dca632a30642.ws-rpi\",\"job\":\"sage\",\"node\":\"000048b02d0766d2\",\"plugin\":\"plugin-iio:0.4.2\",\"sensor\":\"bme680\",\"task\":\"iio-rpi\",\"vsn\":\"W000\"}}\n",
      "<class 'dict'>\n",
      "{\"timestamp\":\"2021-09-22T19:53:26.000780838Z\",\"name\":\"iio.in_temp_input\",\"value\":19930,\"meta\":{\"host\":\"0000dca632a307bf.ws-rpi\",\"job\":\"sage\",\"node\":\"000048b02d15bc7d\",\"plugin\":\"plugin-iio:0.3.0\",\"sensor\":\"bme680\",\"task\":\"plugin-iio\",\"vsn\":\"W028\"}}\n",
      "<class 'dict'>\n",
      "{\"timestamp\":\"2021-09-22T19:53:22.584270929Z\",\"name\":\"iio.in_temp_input\",\"value\":19280,\"meta\":{\"host\":\"0000dca632a307e6.ws-rpi\",\"job\":\"sage\",\"node\":\"000048b02d05a1c2\",\"plugin\":\"plugin-iio:0.4.2\",\"sensor\":\"bme680\",\"task\":\"iio-rpi\",\"vsn\":\"W02C\"}}\n",
      "<class 'dict'>\n"
     ]
    }
   ],
   "source": [
    "\n",
    "encoding = 'utf-8'\n",
    "for line in response.iter_lines():\n",
    "    if line: \n",
    "        line = line.decode(encoding)\n",
    "        # print(type(line))\n",
    "        print(line)\n",
    "        # using json.loads()\n",
    "        # convert dictionary string to dictionary\n",
    "        line = json.loads(line)\n",
    "        print(type(line))\n",
    "        "
   ]
  },
  {
   "cell_type": "code",
   "execution_count": 13,
   "id": "0474fbf8",
   "metadata": {},
   "outputs": [
    {
     "name": "stdout",
     "output_type": "stream",
     "text": [
      "dict_keys(['timestamp', 'name', 'value', 'meta'])\n",
      "dict_keys(['timestamp', 'name', 'value', 'meta'])\n",
      "dict_keys(['timestamp', 'name', 'value', 'meta'])\n",
      "dict_keys(['timestamp', 'name', 'value', 'meta'])\n",
      "dict_keys(['timestamp', 'name', 'value', 'meta'])\n",
      "dict_keys(['timestamp', 'name', 'value', 'meta'])\n",
      "dict_keys(['timestamp', 'name', 'value', 'meta'])\n",
      "dict_keys(['timestamp', 'name', 'value', 'meta'])\n",
      "dict_keys(['timestamp', 'name', 'value', 'meta'])\n",
      "dict_keys(['timestamp', 'name', 'value', 'meta'])\n",
      "dict_keys(['timestamp', 'name', 'value', 'meta'])\n",
      "dict_keys(['timestamp', 'name', 'value', 'meta'])\n",
      "dict_keys(['timestamp', 'name', 'value', 'meta'])\n",
      "dict_keys(['timestamp', 'name', 'value', 'meta'])\n",
      "dict_keys(['timestamp', 'name', 'value', 'meta'])\n",
      "dict_keys(['timestamp', 'name', 'value', 'meta'])\n",
      "dict_keys(['timestamp', 'name', 'value', 'meta'])\n",
      "dict_keys(['timestamp', 'name', 'value', 'meta'])\n",
      "dict_keys(['timestamp', 'name', 'value', 'meta'])\n",
      "dict_keys(['timestamp', 'name', 'value', 'meta'])\n",
      "dict_keys(['timestamp', 'name', 'value', 'meta'])\n",
      "dict_keys(['timestamp', 'name', 'value', 'meta'])\n",
      "dict_keys(['timestamp', 'name', 'value', 'meta'])\n",
      "dict_keys(['timestamp', 'name', 'value', 'meta'])\n",
      "dict_keys(['timestamp', 'name', 'value', 'meta'])\n",
      "dict_keys(['timestamp', 'name', 'value', 'meta'])\n",
      "dict_keys(['timestamp', 'name', 'value', 'meta'])\n",
      "dict_keys(['timestamp', 'name', 'value', 'meta'])\n",
      "dict_keys(['timestamp', 'name', 'value', 'meta'])\n",
      "dict_keys(['timestamp', 'name', 'value', 'meta'])\n",
      "dict_keys(['timestamp', 'name', 'value', 'meta'])\n",
      "dict_keys(['timestamp', 'name', 'value', 'meta'])\n",
      "dict_keys(['timestamp', 'name', 'value', 'meta'])\n",
      "dict_keys(['timestamp', 'name', 'value', 'meta'])\n",
      "dict_keys(['timestamp', 'name', 'value', 'meta'])\n"
     ]
    }
   ],
   "source": [
    "\n",
    "encoding = 'utf-8'\n",
    "for line in response.iter_lines():\n",
    "    if line:    \n",
    "        line = line.decode(encoding)\n",
    "        \n",
    "        # using json.loads()\n",
    "        # convert dictionary string to dictionary\n",
    "        line = json.loads(line)\n",
    "        print(line.keys())\n",
    "        "
   ]
  },
  {
   "cell_type": "code",
   "execution_count": 14,
   "id": "cd4de736",
   "metadata": {},
   "outputs": [
    {
     "name": "stdout",
     "output_type": "stream",
     "text": [
      "2021-09-22T19:53:20.386799049Z\n",
      "2021-09-22T19:53:29.750831611Z\n",
      "2021-09-22T19:53:21.162644962Z\n",
      "2021-09-22T19:53:25.998772128Z\n",
      "2021-09-22T19:53:22.59278752Z\n",
      "2021-09-22T19:53:20.384686779Z\n",
      "2021-09-22T19:53:29.748297575Z\n",
      "2021-09-22T19:53:21.167708186Z\n",
      "2021-09-22T19:53:26.007954321Z\n",
      "2021-09-22T19:53:22.588083093Z\n",
      "2021-09-22T19:53:20.378400487Z\n",
      "2021-09-22T19:53:29.744964015Z\n",
      "2021-09-22T19:53:21.170146622Z\n",
      "2021-09-22T19:53:26.000967483Z\n",
      "2021-09-22T19:53:22.584373002Z\n",
      "2021-09-22T19:53:20.384620613Z\n",
      "2021-09-22T19:53:29.748091745Z\n",
      "2021-09-22T19:53:21.167596704Z\n",
      "2021-09-22T19:53:26.007787639Z\n",
      "2021-09-22T19:53:22.587683895Z\n",
      "2021-09-22T19:53:20.386687921Z\n",
      "2021-09-22T19:53:29.75068302Z\n",
      "2021-09-22T19:53:21.162534758Z\n",
      "2021-09-22T19:53:25.998669537Z\n",
      "2021-09-22T19:53:22.592324231Z\n",
      "2021-09-22T19:53:20.381420246Z\n",
      "2021-09-22T19:53:29.754001118Z\n",
      "2021-09-22T19:53:21.1656059Z\n",
      "2021-09-22T19:53:26.004011715Z\n",
      "2021-09-22T19:53:22.597338246Z\n",
      "2021-09-22T19:53:20.378211249Z\n",
      "2021-09-22T19:53:29.744769129Z\n",
      "2021-09-22T19:53:21.170029066Z\n",
      "2021-09-22T19:53:26.000780838Z\n",
      "2021-09-22T19:53:22.584270929Z\n"
     ]
    }
   ],
   "source": [
    "\n",
    "encoding = 'utf-8'\n",
    "for line in response.iter_lines():\n",
    "    if line:    \n",
    "        line = line.decode(encoding)\n",
    "        \n",
    "        # using json.loads()\n",
    "        # convert dictionary string to dictionary\n",
    "        line = json.loads(line)\n",
    "        print(line['timestamp'])\n",
    "        "
   ]
  },
  {
   "cell_type": "code",
   "execution_count": 15,
   "id": "f17cbff2",
   "metadata": {
    "scrolled": false
   },
   "outputs": [
    {
     "name": "stdout",
     "output_type": "stream",
     "text": [
      "2021-09-22T19:53:20.386799049Z   99414\n",
      "2021-09-22T19:53:29.750831611Z   99180\n",
      "2021-09-22T19:53:21.162644962Z   100169\n",
      "2021-09-22T19:53:25.998772128Z   99026\n",
      "2021-09-22T19:53:22.59278752Z   99374\n",
      "2021-09-22T19:53:20.384686779Z   66.556\n",
      "2021-09-22T19:53:29.748297575Z   28.747\n",
      "2021-09-22T19:53:21.167708186Z   26.282\n",
      "2021-09-22T19:53:26.007954321Z   37.13\n",
      "2021-09-22T19:53:22.588083093Z   61.58\n",
      "2021-09-22T19:53:20.378400487Z   18.86\n",
      "2021-09-22T19:53:29.744964015Z   28.37\n",
      "2021-09-22T19:53:21.170146622Z   29.46\n",
      "2021-09-22T19:53:26.000967483Z   19.93\n",
      "2021-09-22T19:53:22.584373002Z   19.28\n",
      "2021-09-22T19:53:20.384620613Z   66.556\n",
      "2021-09-22T19:53:29.748091745Z   28.747\n",
      "2021-09-22T19:53:21.167596704Z   26.282\n",
      "2021-09-22T19:53:26.007787639Z   37.13\n",
      "2021-09-22T19:53:22.587683895Z   61.58\n",
      "2021-09-22T19:53:20.386687921Z   994.14\n",
      "2021-09-22T19:53:29.75068302Z   991.8\n",
      "2021-09-22T19:53:21.162534758Z   1001.69\n",
      "2021-09-22T19:53:25.998669537Z   990.26\n",
      "2021-09-22T19:53:22.592324231Z   993.74\n",
      "2021-09-22T19:53:20.381420246Z   158161\n",
      "2021-09-22T19:53:29.754001118Z   195795\n",
      "2021-09-22T19:53:21.1656059Z   61081\n",
      "2021-09-22T19:53:26.004011715Z   717716\n",
      "2021-09-22T19:53:22.597338246Z   275548\n",
      "2021-09-22T19:53:20.378211249Z   18860\n",
      "2021-09-22T19:53:29.744769129Z   28370\n",
      "2021-09-22T19:53:21.170029066Z   29460\n",
      "2021-09-22T19:53:26.000780838Z   19930\n",
      "2021-09-22T19:53:22.584270929Z   19280\n"
     ]
    }
   ],
   "source": [
    "\n",
    "encoding = 'utf-8'\n",
    "for line in response.iter_lines():\n",
    "    if line:    \n",
    "        line = line.decode(encoding)\n",
    "        \n",
    "        # using json.loads()\n",
    "        # convert dictionary string to dictionary\n",
    "        line = json.loads(line)\n",
    "        print(line['timestamp'], \" \",  line['value'])\n",
    "        "
   ]
  },
  {
   "cell_type": "code",
   "execution_count": 28,
   "id": "17c9f50c",
   "metadata": {},
   "outputs": [],
   "source": [
    "# now you can do anything you want, like push into a pandas dataframe ! "
   ]
  },
  {
   "cell_type": "code",
   "execution_count": null,
   "id": "b19ed57b",
   "metadata": {},
   "outputs": [],
   "source": []
  },
  {
   "cell_type": "code",
   "execution_count": null,
   "id": "8372ecf6",
   "metadata": {},
   "outputs": [],
   "source": []
  },
  {
   "cell_type": "code",
   "execution_count": null,
   "id": "0340681e",
   "metadata": {},
   "outputs": [],
   "source": []
  },
  {
   "cell_type": "markdown",
   "id": "3aa02f6c",
   "metadata": {},
   "source": [
    "<br><br>"
   ]
  },
  {
   "cell_type": "markdown",
   "id": "976069ea",
   "metadata": {},
   "source": [
    "<br><br>"
   ]
  },
  {
   "cell_type": "markdown",
   "id": "a2f2694d",
   "metadata": {},
   "source": [
    "### - Query 2 -"
   ]
  },
  {
   "cell_type": "markdown",
   "id": "fea7d209",
   "metadata": {},
   "source": [
    "``` \n",
    "import requests\n",
    "\n",
    "headers = {\n",
    "    'Content-Type': 'application/json',\n",
    "}\n",
    "\n",
    "data = '{ \"start\": \"2021-09-10T12:51:36.246454082Z\", \"end\":\"2021-09-10T13:51:36.246454082Z\", \"filter\": { \"name\":\"upload\", \"plugin\":\"imagesampler-left:0.2.3\" } }'\n",
    "\n",
    "response = requests.post('https://data.sagecontinuum.org/api/v1/query', headers=headers, data=data)\n",
    "\n",
    "```"
   ]
  },
  {
   "cell_type": "code",
   "execution_count": 17,
   "id": "46584511",
   "metadata": {},
   "outputs": [],
   "source": [
    "\n",
    "import requests\n",
    "\n",
    "headers = {\n",
    "    'Content-Type': 'application/json',\n",
    "}\n",
    "\n",
    "data = '{ \"start\": \"2021-09-10T12:51:36.246454082Z\", \"end\":\"2021-09-10T13:51:36.246454082Z\", \"filter\": { \"name\":\"upload\", \"plugin\":\"imagesampler-left:0.2.3\" } }'\n",
    "\n",
    "response = requests.post('https://data.sagecontinuum.org/api/v1/query', headers=headers, data=data)\n"
   ]
  },
  {
   "cell_type": "code",
   "execution_count": 18,
   "id": "0b8307f2",
   "metadata": {},
   "outputs": [
    {
     "name": "stdout",
     "output_type": "stream",
     "text": [
      "{\"timestamp\":\"2021-09-10T13:19:27.237651354Z\",\"name\":\"upload\",\"value\":\"https://storage.sagecontinuum.org/api/v1/data/sage/sage-imagesampler-left-0.2.3/000048b02d05a0a4/1631279967237651354-2021-09-10T13:19:26+0000.jpg\",\"meta\":{\"job\":\"sage\",\"node\":\"000048b02d05a0a4\",\"plugin\":\"imagesampler-left:0.2.3\",\"task\":\"imagesampler-left:0.2.3\"}}\n",
      "{\"timestamp\":\"2021-09-10T13:50:32.29028603Z\",\"name\":\"upload\",\"value\":\"https://storage.sagecontinuum.org/api/v1/data/sage/sage-imagesampler-left-0.2.3/000048b02d15bc3d/1631281832290286030-2021-09-10T13:50:32+0000.jpg\",\"meta\":{\"job\":\"sage\",\"node\":\"000048b02d15bc3d\",\"plugin\":\"imagesampler-left:0.2.3\",\"task\":\"imagesampler-left:0.2.3\"}}\n",
      "{\"timestamp\":\"2021-09-10T12:52:59.782262376Z\",\"name\":\"upload\",\"value\":\"https://storage.sagecontinuum.org/api/v1/data/sage/sage-imagesampler-left-0.2.3/000048b02d15bdc2/1631278379782262376-2021-09-10T12:52:59+0000.jpg\",\"meta\":{\"job\":\"sage\",\"node\":\"000048b02d15bdc2\",\"plugin\":\"imagesampler-left:0.2.3\",\"task\":\"imagesampler-left:0.2.3\"}}\n",
      "{\"timestamp\":\"2021-09-10T13:49:49.084350086Z\",\"name\":\"upload\",\"value\":\"https://storage.sagecontinuum.org/api/v1/data/sage/sage-imagesampler-left-0.2.3/000048b02d15bdd2/1631281789084350086-2021-09-10T13:49:48+0000.jpg\",\"meta\":{\"job\":\"sage\",\"node\":\"000048b02d15bdd2\",\"plugin\":\"imagesampler-left:0.2.3\",\"task\":\"imagesampler-left:0.2.3\"}}\n"
     ]
    }
   ],
   "source": [
    "\n",
    "encoding = 'utf-8'\n",
    "for line in response.iter_lines():\n",
    "    if line:    \n",
    "        line = line.decode(encoding)\n",
    "        print(line)\n",
    "        \n",
    "        # using json.loads()\n",
    "        # convert dictionary string to dictionary\n",
    "        #line = json.loads(line)\n",
    "        #print(line['timestamp'], \" \",  line['value'])\n",
    "        "
   ]
  },
  {
   "cell_type": "markdown",
   "id": "f6c8f6a7",
   "metadata": {},
   "source": [
    "<br><br>"
   ]
  },
  {
   "cell_type": "markdown",
   "id": "3002381b",
   "metadata": {},
   "source": [
    "<br><br>"
   ]
  },
  {
   "cell_type": "markdown",
   "id": "fcfa827d",
   "metadata": {},
   "source": [
    "#  Addendum (This approach no longer works, SAGE replaced):"
   ]
  },
  {
   "cell_type": "code",
   "execution_count": 19,
   "id": "5599a22e",
   "metadata": {},
   "outputs": [],
   "source": [
    "# import requests\n",
    "# r = requests.get('https://api.arrayofthings.org/api/nodes?size=&format=&project=')\n",
    "# print (r.text)"
   ]
  },
  {
   "cell_type": "code",
   "execution_count": 20,
   "id": "a30132f9",
   "metadata": {},
   "outputs": [],
   "source": [
    "# requests.get('https://api.arrayofthings.org/api/nodes?size=&format=&project=')"
   ]
  },
  {
   "cell_type": "code",
   "execution_count": 21,
   "id": "99777582",
   "metadata": {},
   "outputs": [
    {
     "data": {
      "text/plain": [
       "<Response [200]>"
      ]
     },
     "execution_count": 21,
     "metadata": {},
     "output_type": "execute_result"
    }
   ],
   "source": [
    "response # requests.get('https://api.arrayofthings.org/api/nodes?order=&page=&format=&location=&project=&size=5')"
   ]
  },
  {
   "cell_type": "code",
   "execution_count": 22,
   "id": "f5bb0fda",
   "metadata": {},
   "outputs": [],
   "source": [
    "# response.status_code"
   ]
  },
  {
   "cell_type": "code",
   "execution_count": 23,
   "id": "018e679b",
   "metadata": {},
   "outputs": [],
   "source": [
    "# response.content"
   ]
  },
  {
   "cell_type": "markdown",
   "id": "7c0ef8b0",
   "metadata": {},
   "source": [
    "<br><br>"
   ]
  }
 ],
 "metadata": {
  "kernelspec": {
   "display_name": "Python 3 (ipykernel)",
   "language": "python",
   "name": "python3"
  },
  "language_info": {
   "codemirror_mode": {
    "name": "ipython",
    "version": 3
   },
   "file_extension": ".py",
   "mimetype": "text/x-python",
   "name": "python",
   "nbconvert_exporter": "python",
   "pygments_lexer": "ipython3",
   "version": "3.8.8"
  }
 },
 "nbformat": 4,
 "nbformat_minor": 5
}
