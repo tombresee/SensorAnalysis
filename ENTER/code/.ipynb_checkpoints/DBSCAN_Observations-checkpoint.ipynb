{
 "cells": [
  {
   "cell_type": "markdown",
   "id": "b838e9af",
   "metadata": {},
   "source": [
    "---\n",
    "\n",
    "# DBSCAN Observations\n",
    "\n",
    "---"
   ]
  },
  {
   "cell_type": "markdown",
   "id": "2b0defa5",
   "metadata": {},
   "source": [
    "It does't matter how you tune, as long as you are seeing good results"
   ]
  },
  {
   "cell_type": "markdown",
   "id": "bb3839ae",
   "metadata": {},
   "source": [
    "For time series data mining, there is nothing wrong with using DBSCAN to determine multiple clusters, **especially** when the data is relatively random, and not typical sequential stationary, etc "
   ]
  },
  {
   "cell_type": "markdown",
   "id": "6937de51",
   "metadata": {},
   "source": [
    "This algorithm groups together the points that are closely packed together and marks the low density points far apart as outliers"
   ]
  },
  {
   "cell_type": "markdown",
   "id": "d7ef7750",
   "metadata": {},
   "source": [
    "eps: the minimum distance between two points. It means that if the distance between two points is lower or equal to this value (eps), these points are considered neighbors.\n",
    "\n",
    "min_samples: the minimum number of points to form a cluster. For eg: if the value of this parameter is set to 8, then there must be at least 8 points to form a cluster."
   ]
  },
  {
   "cell_type": "markdown",
   "id": "950f9bb6",
   "metadata": {},
   "source": [
    "You should do standard scaler prior to doing DBSCAN ! "
   ]
  },
  {
   "cell_type": "code",
   "execution_count": null,
   "id": "88ce855d",
   "metadata": {},
   "outputs": [],
   "source": []
  },
  {
   "cell_type": "code",
   "execution_count": null,
   "id": "5c1ac4e5",
   "metadata": {},
   "outputs": [],
   "source": []
  }
 ],
 "metadata": {
  "kernelspec": {
   "display_name": "Python 3 (ipykernel)",
   "language": "python",
   "name": "python3"
  },
  "language_info": {
   "codemirror_mode": {
    "name": "ipython",
    "version": 3
   },
   "file_extension": ".py",
   "mimetype": "text/x-python",
   "name": "python",
   "nbconvert_exporter": "python",
   "pygments_lexer": "ipython3",
   "version": "3.8.8"
  }
 },
 "nbformat": 4,
 "nbformat_minor": 5
}
